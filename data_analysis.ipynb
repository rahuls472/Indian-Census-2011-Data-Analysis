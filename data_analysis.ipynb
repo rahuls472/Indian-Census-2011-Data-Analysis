{
 "cells": [
  {
   "cell_type": "code",
   "execution_count": 1,
   "metadata": {},
   "outputs": [],
   "source": [
    "import pandas as pd\n",
    "import numpy as np\n",
    "import plotly.graph_objects as go\n",
    "import plotly.express as px\n",
    "from plotly.subplots import make_subplots\n",
    "\n"
   ]
  },
  {
   "cell_type": "code",
   "execution_count": 2,
   "metadata": {},
   "outputs": [
    {
     "data": {
      "text/html": [
       "<div>\n",
       "<style scoped>\n",
       "    .dataframe tbody tr th:only-of-type {\n",
       "        vertical-align: middle;\n",
       "    }\n",
       "\n",
       "    .dataframe tbody tr th {\n",
       "        vertical-align: top;\n",
       "    }\n",
       "\n",
       "    .dataframe thead th {\n",
       "        text-align: right;\n",
       "    }\n",
       "</style>\n",
       "<table border=\"1\" class=\"dataframe\">\n",
       "  <thead>\n",
       "    <tr style=\"text-align: right;\">\n",
       "      <th></th>\n",
       "      <th>District code</th>\n",
       "      <th>State name</th>\n",
       "      <th>District name</th>\n",
       "      <th>Population</th>\n",
       "      <th>Male</th>\n",
       "      <th>Female</th>\n",
       "      <th>Literate</th>\n",
       "      <th>Male_Literate</th>\n",
       "      <th>Female_Literate</th>\n",
       "      <th>SC</th>\n",
       "      <th>...</th>\n",
       "      <th>Power_Parity_Rs_90000_150000</th>\n",
       "      <th>Power_Parity_Rs_45000_150000</th>\n",
       "      <th>Power_Parity_Rs_150000_240000</th>\n",
       "      <th>Power_Parity_Rs_240000_330000</th>\n",
       "      <th>Power_Parity_Rs_150000_330000</th>\n",
       "      <th>Power_Parity_Rs_330000_425000</th>\n",
       "      <th>Power_Parity_Rs_425000_545000</th>\n",
       "      <th>Power_Parity_Rs_330000_545000</th>\n",
       "      <th>Power_Parity_Above_Rs_545000</th>\n",
       "      <th>Total_Power_Parity</th>\n",
       "    </tr>\n",
       "  </thead>\n",
       "  <tbody>\n",
       "    <tr>\n",
       "      <th>0</th>\n",
       "      <td>1</td>\n",
       "      <td>JAMMU AND KASHMIR</td>\n",
       "      <td>Kupwara</td>\n",
       "      <td>870354</td>\n",
       "      <td>474190</td>\n",
       "      <td>396164</td>\n",
       "      <td>439654</td>\n",
       "      <td>282823</td>\n",
       "      <td>156831</td>\n",
       "      <td>1048</td>\n",
       "      <td>...</td>\n",
       "      <td>94</td>\n",
       "      <td>588</td>\n",
       "      <td>71</td>\n",
       "      <td>101</td>\n",
       "      <td>172</td>\n",
       "      <td>74</td>\n",
       "      <td>10</td>\n",
       "      <td>84</td>\n",
       "      <td>15</td>\n",
       "      <td>1119</td>\n",
       "    </tr>\n",
       "    <tr>\n",
       "      <th>1</th>\n",
       "      <td>2</td>\n",
       "      <td>JAMMU AND KASHMIR</td>\n",
       "      <td>Badgam</td>\n",
       "      <td>753745</td>\n",
       "      <td>398041</td>\n",
       "      <td>355704</td>\n",
       "      <td>335649</td>\n",
       "      <td>207741</td>\n",
       "      <td>127908</td>\n",
       "      <td>368</td>\n",
       "      <td>...</td>\n",
       "      <td>126</td>\n",
       "      <td>562</td>\n",
       "      <td>72</td>\n",
       "      <td>89</td>\n",
       "      <td>161</td>\n",
       "      <td>96</td>\n",
       "      <td>28</td>\n",
       "      <td>124</td>\n",
       "      <td>18</td>\n",
       "      <td>1066</td>\n",
       "    </tr>\n",
       "    <tr>\n",
       "      <th>2</th>\n",
       "      <td>3</td>\n",
       "      <td>JAMMU AND KASHMIR</td>\n",
       "      <td>Leh(Ladakh)</td>\n",
       "      <td>133487</td>\n",
       "      <td>78971</td>\n",
       "      <td>54516</td>\n",
       "      <td>93770</td>\n",
       "      <td>62834</td>\n",
       "      <td>30936</td>\n",
       "      <td>488</td>\n",
       "      <td>...</td>\n",
       "      <td>46</td>\n",
       "      <td>122</td>\n",
       "      <td>15</td>\n",
       "      <td>22</td>\n",
       "      <td>37</td>\n",
       "      <td>20</td>\n",
       "      <td>14</td>\n",
       "      <td>34</td>\n",
       "      <td>17</td>\n",
       "      <td>242</td>\n",
       "    </tr>\n",
       "    <tr>\n",
       "      <th>3</th>\n",
       "      <td>4</td>\n",
       "      <td>JAMMU AND KASHMIR</td>\n",
       "      <td>Kargil</td>\n",
       "      <td>140802</td>\n",
       "      <td>77785</td>\n",
       "      <td>63017</td>\n",
       "      <td>86236</td>\n",
       "      <td>56301</td>\n",
       "      <td>29935</td>\n",
       "      <td>18</td>\n",
       "      <td>...</td>\n",
       "      <td>27</td>\n",
       "      <td>114</td>\n",
       "      <td>12</td>\n",
       "      <td>18</td>\n",
       "      <td>30</td>\n",
       "      <td>19</td>\n",
       "      <td>3</td>\n",
       "      <td>22</td>\n",
       "      <td>7</td>\n",
       "      <td>214</td>\n",
       "    </tr>\n",
       "    <tr>\n",
       "      <th>4</th>\n",
       "      <td>5</td>\n",
       "      <td>JAMMU AND KASHMIR</td>\n",
       "      <td>Punch</td>\n",
       "      <td>476835</td>\n",
       "      <td>251899</td>\n",
       "      <td>224936</td>\n",
       "      <td>261724</td>\n",
       "      <td>163333</td>\n",
       "      <td>98391</td>\n",
       "      <td>556</td>\n",
       "      <td>...</td>\n",
       "      <td>78</td>\n",
       "      <td>346</td>\n",
       "      <td>35</td>\n",
       "      <td>50</td>\n",
       "      <td>85</td>\n",
       "      <td>59</td>\n",
       "      <td>8</td>\n",
       "      <td>67</td>\n",
       "      <td>12</td>\n",
       "      <td>629</td>\n",
       "    </tr>\n",
       "  </tbody>\n",
       "</table>\n",
       "<p>5 rows × 118 columns</p>\n",
       "</div>"
      ],
      "text/plain": [
       "   District code         State name District name  Population    Male  Female  \\\n",
       "0              1  JAMMU AND KASHMIR       Kupwara      870354  474190  396164   \n",
       "1              2  JAMMU AND KASHMIR        Badgam      753745  398041  355704   \n",
       "2              3  JAMMU AND KASHMIR   Leh(Ladakh)      133487   78971   54516   \n",
       "3              4  JAMMU AND KASHMIR        Kargil      140802   77785   63017   \n",
       "4              5  JAMMU AND KASHMIR         Punch      476835  251899  224936   \n",
       "\n",
       "   Literate  Male_Literate  Female_Literate    SC  ...  \\\n",
       "0    439654         282823           156831  1048  ...   \n",
       "1    335649         207741           127908   368  ...   \n",
       "2     93770          62834            30936   488  ...   \n",
       "3     86236          56301            29935    18  ...   \n",
       "4    261724         163333            98391   556  ...   \n",
       "\n",
       "   Power_Parity_Rs_90000_150000  Power_Parity_Rs_45000_150000  \\\n",
       "0                            94                           588   \n",
       "1                           126                           562   \n",
       "2                            46                           122   \n",
       "3                            27                           114   \n",
       "4                            78                           346   \n",
       "\n",
       "   Power_Parity_Rs_150000_240000  Power_Parity_Rs_240000_330000  \\\n",
       "0                             71                            101   \n",
       "1                             72                             89   \n",
       "2                             15                             22   \n",
       "3                             12                             18   \n",
       "4                             35                             50   \n",
       "\n",
       "   Power_Parity_Rs_150000_330000  Power_Parity_Rs_330000_425000  \\\n",
       "0                            172                             74   \n",
       "1                            161                             96   \n",
       "2                             37                             20   \n",
       "3                             30                             19   \n",
       "4                             85                             59   \n",
       "\n",
       "   Power_Parity_Rs_425000_545000  Power_Parity_Rs_330000_545000  \\\n",
       "0                             10                             84   \n",
       "1                             28                            124   \n",
       "2                             14                             34   \n",
       "3                              3                             22   \n",
       "4                              8                             67   \n",
       "\n",
       "   Power_Parity_Above_Rs_545000  Total_Power_Parity  \n",
       "0                            15                1119  \n",
       "1                            18                1066  \n",
       "2                            17                 242  \n",
       "3                             7                 214  \n",
       "4                            12                 629  \n",
       "\n",
       "[5 rows x 118 columns]"
      ]
     },
     "execution_count": 2,
     "metadata": {},
     "output_type": "execute_result"
    }
   ],
   "source": [
    "df = pd.read_csv('/home/ghost/Python DS/Indian census data/india-districts-census-2011.csv')\n",
    "df.head()\n",
    "\n",
    "DistrictWiseCentriods = pd.read_csv('/home/ghost/Python DS/Indian census data/district wise centroids.csv')\n",
    "\n",
    "df.head()"
   ]
  },
  {
   "cell_type": "code",
   "execution_count": 3,
   "metadata": {},
   "outputs": [],
   "source": [
    "DistrictWiseCentriods.head()\n",
    "\n",
    "NewDf = df.merge(DistrictWiseCentriods,left_on='District name',right_on='District').drop(columns=['District','State'])\n"
   ]
  },
  {
   "cell_type": "code",
   "execution_count": 4,
   "metadata": {},
   "outputs": [
    {
     "data": {
      "text/html": [
       "<div>\n",
       "<style scoped>\n",
       "    .dataframe tbody tr th:only-of-type {\n",
       "        vertical-align: middle;\n",
       "    }\n",
       "\n",
       "    .dataframe tbody tr th {\n",
       "        vertical-align: top;\n",
       "    }\n",
       "\n",
       "    .dataframe thead th {\n",
       "        text-align: right;\n",
       "    }\n",
       "</style>\n",
       "<table border=\"1\" class=\"dataframe\">\n",
       "  <thead>\n",
       "    <tr style=\"text-align: right;\">\n",
       "      <th></th>\n",
       "      <th>State name</th>\n",
       "      <th>Population</th>\n",
       "    </tr>\n",
       "  </thead>\n",
       "  <tbody>\n",
       "    <tr>\n",
       "      <th>0</th>\n",
       "      <td>UTTAR PRADESH</td>\n",
       "      <td>177691218</td>\n",
       "    </tr>\n",
       "    <tr>\n",
       "      <th>1</th>\n",
       "      <td>BIHAR</td>\n",
       "      <td>104312298</td>\n",
       "    </tr>\n",
       "    <tr>\n",
       "      <th>2</th>\n",
       "      <td>MAHARASHTRA</td>\n",
       "      <td>100651341</td>\n",
       "    </tr>\n",
       "    <tr>\n",
       "      <th>3</th>\n",
       "      <td>ANDHRA PRADESH</td>\n",
       "      <td>69147421</td>\n",
       "    </tr>\n",
       "    <tr>\n",
       "      <th>4</th>\n",
       "      <td>RAJASTHAN</td>\n",
       "      <td>68548437</td>\n",
       "    </tr>\n",
       "    <tr>\n",
       "      <th>5</th>\n",
       "      <td>MADHYA PRADESH</td>\n",
       "      <td>66444576</td>\n",
       "    </tr>\n",
       "    <tr>\n",
       "      <th>6</th>\n",
       "      <td>GUJARAT</td>\n",
       "      <td>60248666</td>\n",
       "    </tr>\n",
       "    <tr>\n",
       "      <th>7</th>\n",
       "      <td>WEST BENGAL</td>\n",
       "      <td>59275955</td>\n",
       "    </tr>\n",
       "    <tr>\n",
       "      <th>8</th>\n",
       "      <td>TAMIL NADU</td>\n",
       "      <td>56044203</td>\n",
       "    </tr>\n",
       "    <tr>\n",
       "      <th>9</th>\n",
       "      <td>KARNATAKA</td>\n",
       "      <td>43414126</td>\n",
       "    </tr>\n",
       "    <tr>\n",
       "      <th>10</th>\n",
       "      <td>KERALA</td>\n",
       "      <td>32208649</td>\n",
       "    </tr>\n",
       "    <tr>\n",
       "      <th>11</th>\n",
       "      <td>ORISSA</td>\n",
       "      <td>30219438</td>\n",
       "    </tr>\n",
       "    <tr>\n",
       "      <th>12</th>\n",
       "      <td>PUNJAB</td>\n",
       "      <td>24421246</td>\n",
       "    </tr>\n",
       "    <tr>\n",
       "      <th>13</th>\n",
       "      <td>CHHATTISGARH</td>\n",
       "      <td>24301046</td>\n",
       "    </tr>\n",
       "    <tr>\n",
       "      <th>14</th>\n",
       "      <td>JHARKHAND</td>\n",
       "      <td>24194739</td>\n",
       "    </tr>\n",
       "    <tr>\n",
       "      <th>15</th>\n",
       "      <td>ASSAM</td>\n",
       "      <td>23415900</td>\n",
       "    </tr>\n",
       "    <tr>\n",
       "      <th>16</th>\n",
       "      <td>HARYANA</td>\n",
       "      <td>20555285</td>\n",
       "    </tr>\n",
       "    <tr>\n",
       "      <th>17</th>\n",
       "      <td>HIMACHAL PRADESH</td>\n",
       "      <td>7669762</td>\n",
       "    </tr>\n",
       "    <tr>\n",
       "      <th>18</th>\n",
       "      <td>JAMMU AND KASHMIR</td>\n",
       "      <td>5526220</td>\n",
       "    </tr>\n",
       "    <tr>\n",
       "      <th>19</th>\n",
       "      <td>UTTARAKHAND</td>\n",
       "      <td>4615015</td>\n",
       "    </tr>\n",
       "    <tr>\n",
       "      <th>20</th>\n",
       "      <td>TRIPURA</td>\n",
       "      <td>3673917</td>\n",
       "    </tr>\n",
       "    <tr>\n",
       "      <th>21</th>\n",
       "      <td>MEGHALAYA</td>\n",
       "      <td>2708049</td>\n",
       "    </tr>\n",
       "    <tr>\n",
       "      <th>22</th>\n",
       "      <td>MANIPUR</td>\n",
       "      <td>1881689</td>\n",
       "    </tr>\n",
       "    <tr>\n",
       "      <th>23</th>\n",
       "      <td>NAGALAND</td>\n",
       "      <td>1758795</td>\n",
       "    </tr>\n",
       "    <tr>\n",
       "      <th>24</th>\n",
       "      <td>NCT OF DELHI</td>\n",
       "      <td>1709346</td>\n",
       "    </tr>\n",
       "    <tr>\n",
       "      <th>25</th>\n",
       "      <td>GOA</td>\n",
       "      <td>1458545</td>\n",
       "    </tr>\n",
       "    <tr>\n",
       "      <th>26</th>\n",
       "      <td>ARUNACHAL PRADESH</td>\n",
       "      <td>1354556</td>\n",
       "    </tr>\n",
       "    <tr>\n",
       "      <th>27</th>\n",
       "      <td>MIZORAM</td>\n",
       "      <td>1097206</td>\n",
       "    </tr>\n",
       "    <tr>\n",
       "      <th>28</th>\n",
       "      <td>CHANDIGARH</td>\n",
       "      <td>1055450</td>\n",
       "    </tr>\n",
       "    <tr>\n",
       "      <th>29</th>\n",
       "      <td>PONDICHERRY</td>\n",
       "      <td>297664</td>\n",
       "    </tr>\n",
       "    <tr>\n",
       "      <th>30</th>\n",
       "      <td>DAMAN AND DIU</td>\n",
       "      <td>191173</td>\n",
       "    </tr>\n",
       "  </tbody>\n",
       "</table>\n",
       "</div>"
      ],
      "text/plain": [
       "           State name  Population\n",
       "0       UTTAR PRADESH   177691218\n",
       "1               BIHAR   104312298\n",
       "2         MAHARASHTRA   100651341\n",
       "3      ANDHRA PRADESH    69147421\n",
       "4           RAJASTHAN    68548437\n",
       "5      MADHYA PRADESH    66444576\n",
       "6             GUJARAT    60248666\n",
       "7         WEST BENGAL    59275955\n",
       "8          TAMIL NADU    56044203\n",
       "9           KARNATAKA    43414126\n",
       "10             KERALA    32208649\n",
       "11             ORISSA    30219438\n",
       "12             PUNJAB    24421246\n",
       "13       CHHATTISGARH    24301046\n",
       "14          JHARKHAND    24194739\n",
       "15              ASSAM    23415900\n",
       "16            HARYANA    20555285\n",
       "17   HIMACHAL PRADESH     7669762\n",
       "18  JAMMU AND KASHMIR     5526220\n",
       "19        UTTARAKHAND     4615015\n",
       "20            TRIPURA     3673917\n",
       "21          MEGHALAYA     2708049\n",
       "22            MANIPUR     1881689\n",
       "23           NAGALAND     1758795\n",
       "24       NCT OF DELHI     1709346\n",
       "25                GOA     1458545\n",
       "26  ARUNACHAL PRADESH     1354556\n",
       "27            MIZORAM     1097206\n",
       "28         CHANDIGARH     1055450\n",
       "29        PONDICHERRY      297664\n",
       "30      DAMAN AND DIU      191173"
      ]
     },
     "execution_count": 4,
     "metadata": {},
     "output_type": "execute_result"
    }
   ],
   "source": [
    "statesWisePOp = NewDf.groupby('State name')['Population'].sum().sort_values(ascending=False).reset_index()\n",
    "statesWisePOp"
   ]
  },
  {
   "cell_type": "code",
   "execution_count": 5,
   "metadata": {},
   "outputs": [
    {
     "name": "stdout",
     "output_type": "stream",
     "text": [
      "<class 'pandas.core.frame.DataFrame'>\n",
      "RangeIndex: 640 entries, 0 to 639\n",
      "Columns: 118 entries, District code to Total_Power_Parity\n",
      "dtypes: int64(116), object(2)\n",
      "memory usage: 590.1+ KB\n"
     ]
    }
   ],
   "source": [
    "df.info()"
   ]
  },
  {
   "cell_type": "code",
   "execution_count": 7,
   "metadata": {},
   "outputs": [
    {
     "data": {
      "text/html": [
       "<div>\n",
       "<style scoped>\n",
       "    .dataframe tbody tr th:only-of-type {\n",
       "        vertical-align: middle;\n",
       "    }\n",
       "\n",
       "    .dataframe tbody tr th {\n",
       "        vertical-align: top;\n",
       "    }\n",
       "\n",
       "    .dataframe thead th {\n",
       "        text-align: right;\n",
       "    }\n",
       "</style>\n",
       "<table border=\"1\" class=\"dataframe\">\n",
       "  <thead>\n",
       "    <tr style=\"text-align: right;\">\n",
       "      <th></th>\n",
       "      <th>State name</th>\n",
       "      <th>District name</th>\n",
       "      <th>Latitude</th>\n",
       "      <th>Longitude</th>\n",
       "      <th>Population</th>\n",
       "    </tr>\n",
       "  </thead>\n",
       "  <tbody>\n",
       "    <tr>\n",
       "      <th>0</th>\n",
       "      <td>MAHARASHTRA</td>\n",
       "      <td>Thane</td>\n",
       "      <td>19.698768</td>\n",
       "      <td>72.798827</td>\n",
       "      <td>11060148</td>\n",
       "    </tr>\n",
       "    <tr>\n",
       "      <th>1</th>\n",
       "      <td>MAHARASHTRA</td>\n",
       "      <td>Pune</td>\n",
       "      <td>18.516962</td>\n",
       "      <td>74.129229</td>\n",
       "      <td>9429408</td>\n",
       "    </tr>\n",
       "    <tr>\n",
       "      <th>2</th>\n",
       "      <td>WEST BENGAL</td>\n",
       "      <td>Barddhaman</td>\n",
       "      <td>23.444454</td>\n",
       "      <td>87.815058</td>\n",
       "      <td>7717563</td>\n",
       "    </tr>\n",
       "    <tr>\n",
       "      <th>3</th>\n",
       "      <td>GUJARAT</td>\n",
       "      <td>Ahmadabad</td>\n",
       "      <td>22.605426</td>\n",
       "      <td>72.238981</td>\n",
       "      <td>7214225</td>\n",
       "    </tr>\n",
       "    <tr>\n",
       "      <th>4</th>\n",
       "      <td>WEST BENGAL</td>\n",
       "      <td>Murshidabad</td>\n",
       "      <td>24.259507</td>\n",
       "      <td>88.168169</td>\n",
       "      <td>7103807</td>\n",
       "    </tr>\n",
       "    <tr>\n",
       "      <th>...</th>\n",
       "      <td>...</td>\n",
       "      <td>...</td>\n",
       "      <td>...</td>\n",
       "      <td>...</td>\n",
       "      <td>...</td>\n",
       "    </tr>\n",
       "    <tr>\n",
       "      <th>512</th>\n",
       "      <td>PONDICHERRY</td>\n",
       "      <td>Yanam</td>\n",
       "      <td>16.707696</td>\n",
       "      <td>82.261873</td>\n",
       "      <td>55626</td>\n",
       "    </tr>\n",
       "    <tr>\n",
       "      <th>513</th>\n",
       "      <td>ARUNACHAL PRADESH</td>\n",
       "      <td>Lower Dibang Valley</td>\n",
       "      <td>28.326517</td>\n",
       "      <td>95.765673</td>\n",
       "      <td>54080</td>\n",
       "    </tr>\n",
       "    <tr>\n",
       "      <th>514</th>\n",
       "      <td>ARUNACHAL PRADESH</td>\n",
       "      <td>Tawang</td>\n",
       "      <td>27.680684</td>\n",
       "      <td>91.825042</td>\n",
       "      <td>49977</td>\n",
       "    </tr>\n",
       "    <tr>\n",
       "      <th>515</th>\n",
       "      <td>PONDICHERRY</td>\n",
       "      <td>Mahe</td>\n",
       "      <td>12.006421</td>\n",
       "      <td>75.282750</td>\n",
       "      <td>41816</td>\n",
       "    </tr>\n",
       "    <tr>\n",
       "      <th>516</th>\n",
       "      <td>ARUNACHAL PRADESH</td>\n",
       "      <td>Upper Siang</td>\n",
       "      <td>28.830924</td>\n",
       "      <td>95.001558</td>\n",
       "      <td>35320</td>\n",
       "    </tr>\n",
       "  </tbody>\n",
       "</table>\n",
       "<p>517 rows × 5 columns</p>\n",
       "</div>"
      ],
      "text/plain": [
       "            State name        District name   Latitude  Longitude  Population\n",
       "0          MAHARASHTRA                Thane  19.698768  72.798827    11060148\n",
       "1          MAHARASHTRA                 Pune  18.516962  74.129229     9429408\n",
       "2          WEST BENGAL           Barddhaman  23.444454  87.815058     7717563\n",
       "3              GUJARAT            Ahmadabad  22.605426  72.238981     7214225\n",
       "4          WEST BENGAL          Murshidabad  24.259507  88.168169     7103807\n",
       "..                 ...                  ...        ...        ...         ...\n",
       "512        PONDICHERRY                Yanam  16.707696  82.261873       55626\n",
       "513  ARUNACHAL PRADESH  Lower Dibang Valley  28.326517  95.765673       54080\n",
       "514  ARUNACHAL PRADESH               Tawang  27.680684  91.825042       49977\n",
       "515        PONDICHERRY                 Mahe  12.006421  75.282750       41816\n",
       "516  ARUNACHAL PRADESH          Upper Siang  28.830924  95.001558       35320\n",
       "\n",
       "[517 rows x 5 columns]"
      ]
     },
     "execution_count": 7,
     "metadata": {},
     "output_type": "execute_result"
    }
   ],
   "source": [
    "# State-wise and district-wise population distribution.\n",
    "#State wise\n",
    "\n",
    "stateWise = NewDf.groupby(['State name','District name','Latitude','Longitude'])['Population'].sum().sort_values(ascending=False).reset_index()\n",
    "\n",
    "stateWise\n"
   ]
  },
  {
   "cell_type": "code",
   "execution_count": 8,
   "metadata": {},
   "outputs": [
    {
     "data": {
      "application/vnd.plotly.v1+json": {
       "config": {
        "plotlyServerURL": "https://plot.ly"
       },
       "data": [
        {
         "hovertemplate": "<b>%{hovertext}</b><br><br>District name=Thane<br>Population=%{marker.size}<br>Latitude=%{lat}<br>Longitude=%{lon}<extra></extra>",
         "hovertext": [
          "MAHARASHTRA"
         ],
         "lat": [
          19.698767747440264
         ],
         "legendgroup": "Thane",
         "lon": [
          72.79882742564581
         ],
         "marker": {
          "color": "#636efa",
          "size": [
           11060148
          ],
          "sizemode": "area",
          "sizeref": 27650.37
         },
         "mode": "markers",
         "name": "Thane",
         "showlegend": true,
         "subplot": "mapbox",
         "type": "scattermapbox"
        },
        {
         "hovertemplate": "<b>%{hovertext}</b><br><br>District name=Pune<br>Population=%{marker.size}<br>Latitude=%{lat}<br>Longitude=%{lon}<extra></extra>",
         "hovertext": [
          "MAHARASHTRA"
         ],
         "lat": [
          18.51696171428573
         ],
         "legendgroup": "Pune",
         "lon": [
          74.12922881632647
         ],
         "marker": {
          "color": "#EF553B",
          "size": [
           9429408
          ],
          "sizemode": "area",
          "sizeref": 27650.37
         },
         "mode": "markers",
         "name": "Pune",
         "showlegend": true,
         "subplot": "mapbox",
         "type": "scattermapbox"
        },
        {
         "hovertemplate": "<b>%{hovertext}</b><br><br>District name=Barddhaman<br>Population=%{marker.size}<br>Latitude=%{lat}<br>Longitude=%{lon}<extra></extra>",
         "hovertext": [
          "WEST BENGAL"
         ],
         "lat": [
          23.444453888888884
         ],
         "legendgroup": "Barddhaman",
         "lon": [
          87.8150581111111
         ],
         "marker": {
          "color": "#00cc96",
          "size": [
           7717563
          ],
          "sizemode": "area",
          "sizeref": 27650.37
         },
         "mode": "markers",
         "name": "Barddhaman",
         "showlegend": true,
         "subplot": "mapbox",
         "type": "scattermapbox"
        },
        {
         "hovertemplate": "<b>%{hovertext}</b><br><br>District name=Ahmadabad<br>Population=%{marker.size}<br>Latitude=%{lat}<br>Longitude=%{lon}<extra></extra>",
         "hovertext": [
          "GUJARAT"
         ],
         "lat": [
          22.605425564971743
         ],
         "legendgroup": "Ahmadabad",
         "lon": [
          72.23898135593227
         ],
         "marker": {
          "color": "#ab63fa",
          "size": [
           7214225
          ],
          "sizemode": "area",
          "sizeref": 27650.37
         },
         "mode": "markers",
         "name": "Ahmadabad",
         "showlegend": true,
         "subplot": "mapbox",
         "type": "scattermapbox"
        },
        {
         "hovertemplate": "<b>%{hovertext}</b><br><br>District name=Murshidabad<br>Population=%{marker.size}<br>Latitude=%{lat}<br>Longitude=%{lon}<extra></extra>",
         "hovertext": [
          "WEST BENGAL"
         ],
         "lat": [
          24.25950655391121
         ],
         "legendgroup": "Murshidabad",
         "lon": [
          88.16816860465121
         ],
         "marker": {
          "color": "#FFA15A",
          "size": [
           7103807
          ],
          "sizemode": "area",
          "sizeref": 27650.37
         },
         "mode": "markers",
         "name": "Murshidabad",
         "showlegend": true,
         "subplot": "mapbox",
         "type": "scattermapbox"
        },
        {
         "hovertemplate": "<b>%{hovertext}</b><br><br>District name=Jaipur<br>Population=%{marker.size}<br>Latitude=%{lat}<br>Longitude=%{lon}<extra></extra>",
         "hovertext": [
          "RAJASTHAN"
         ],
         "lat": [
          27.033459290187885
         ],
         "legendgroup": "Jaipur",
         "lon": [
          75.77117286012533
         ],
         "marker": {
          "color": "#19d3f3",
          "size": [
           6626178
          ],
          "sizemode": "area",
          "sizeref": 27650.37
         },
         "mode": "markers",
         "name": "Jaipur",
         "showlegend": true,
         "subplot": "mapbox",
         "type": "scattermapbox"
        },
        {
         "hovertemplate": "<b>%{hovertext}</b><br><br>District name=Nashik<br>Population=%{marker.size}<br>Latitude=%{lat}<br>Longitude=%{lon}<extra></extra>",
         "hovertext": [
          "MAHARASHTRA"
         ],
         "lat": [
          20.266912871287143
         ],
         "legendgroup": "Nashik",
         "lon": [
          74.03824168316828
         ],
         "marker": {
          "color": "#FF6692",
          "size": [
           6107187
          ],
          "sizemode": "area",
          "sizeref": 27650.37
         },
         "mode": "markers",
         "name": "Nashik",
         "showlegend": true,
         "subplot": "mapbox",
         "type": "scattermapbox"
        },
        {
         "hovertemplate": "<b>%{hovertext}</b><br><br>District name=Surat<br>Population=%{marker.size}<br>Latitude=%{lat}<br>Longitude=%{lon}<extra></extra>",
         "hovertext": [
          "GUJARAT"
         ],
         "lat": [
          21.25761372772093
         ],
         "legendgroup": "Surat",
         "lon": [
          72.93488716344339
         ],
         "marker": {
          "color": "#B6E880",
          "size": [
           6081322
          ],
          "sizemode": "area",
          "sizeref": 27650.37
         },
         "mode": "markers",
         "name": "Surat",
         "showlegend": true,
         "subplot": "mapbox",
         "type": "scattermapbox"
        },
        {
         "hovertemplate": "<b>%{hovertext}</b><br><br>District name=Allahabad<br>Population=%{marker.size}<br>Latitude=%{lat}<br>Longitude=%{lon}<extra></extra>",
         "hovertext": [
          "UTTAR PRADESH"
         ],
         "lat": [
          25.392038662316445
         ],
         "legendgroup": "Allahabad",
         "lon": [
          82.05172446982063
         ],
         "marker": {
          "color": "#FF97FF",
          "size": [
           5954391
          ],
          "sizemode": "area",
          "sizeref": 27650.37
         },
         "mode": "markers",
         "name": "Allahabad",
         "showlegend": true,
         "subplot": "mapbox",
         "type": "scattermapbox"
        },
        {
         "hovertemplate": "<b>%{hovertext}</b><br><br>District name=Patna<br>Population=%{marker.size}<br>Latitude=%{lat}<br>Longitude=%{lon}<extra></extra>",
         "hovertext": [
          "BIHAR"
         ],
         "lat": [
          25.40297114503818
         ],
         "legendgroup": "Patna",
         "lon": [
          85.3198433587787
         ],
         "marker": {
          "color": "#FECB52",
          "size": [
           5838465
          ],
          "sizemode": "area",
          "sizeref": 27650.37
         },
         "mode": "markers",
         "name": "Patna",
         "showlegend": true,
         "subplot": "mapbox",
         "type": "scattermapbox"
        },
        {
         "hovertemplate": "<b>%{hovertext}</b><br><br>District name=Hugli<br>Population=%{marker.size}<br>Latitude=%{lat}<br>Longitude=%{lon}<extra></extra>",
         "hovertext": [
          "WEST BENGAL"
         ],
         "lat": [
          22.87929264705881
         ],
         "legendgroup": "Hugli",
         "lon": [
          88.00010264705891
         ],
         "marker": {
          "color": "#636efa",
          "size": [
           5519145
          ],
          "sizemode": "area",
          "sizeref": 27650.37
         },
         "mode": "markers",
         "name": "Hugli",
         "showlegend": true,
         "subplot": "mapbox",
         "type": "scattermapbox"
        },
        {
         "hovertemplate": "<b>%{hovertext}</b><br><br>District name=Nadia<br>Population=%{marker.size}<br>Latitude=%{lat}<br>Longitude=%{lon}<extra></extra>",
         "hovertext": [
          "WEST BENGAL"
         ],
         "lat": [
          23.56410971055088
         ],
         "legendgroup": "Nadia",
         "lon": [
          88.58293034547152
         ],
         "marker": {
          "color": "#EF553B",
          "size": [
           5167600
          ],
          "sizemode": "area",
          "sizeref": 27650.37
         },
         "mode": "markers",
         "name": "Nadia",
         "showlegend": true,
         "subplot": "mapbox",
         "type": "scattermapbox"
        },
        {
         "hovertemplate": "<b>%{hovertext}</b><br><br>District name=East Godavari<br>Population=%{marker.size}<br>Latitude=%{lat}<br>Longitude=%{lon}<extra></extra>",
         "hovertext": [
          "ANDHRA PRADESH"
         ],
         "lat": [
          16.782718320784902
         ],
         "legendgroup": "East Godavari",
         "lon": [
          82.2432074720511
         ],
         "marker": {
          "color": "#00cc96",
          "size": [
           5154296
          ],
          "sizemode": "area",
          "sizeref": 27650.37
         },
         "mode": "markers",
         "name": "East Godavari",
         "showlegend": true,
         "subplot": "mapbox",
         "type": "scattermapbox"
        },
        {
         "hovertemplate": "<b>%{hovertext}</b><br><br>District name=Purba Champaran<br>Population=%{marker.size}<br>Latitude=%{lat}<br>Longitude=%{lon}<extra></extra>",
         "hovertext": [
          "BIHAR"
         ],
         "lat": [
          26.68129336734693
         ],
         "legendgroup": "Purba Champaran",
         "lon": [
          85.00382155612242
         ],
         "marker": {
          "color": "#ab63fa",
          "size": [
           5099371
          ],
          "sizemode": "area",
          "sizeref": 27650.37
         },
         "mode": "markers",
         "name": "Purba Champaran",
         "showlegend": true,
         "subplot": "mapbox",
         "type": "scattermapbox"
        },
        {
         "hovertemplate": "<b>%{hovertext}</b><br><br>District name=Guntur<br>Population=%{marker.size}<br>Latitude=%{lat}<br>Longitude=%{lon}<extra></extra>",
         "hovertext": [
          "ANDHRA PRADESH"
         ],
         "lat": [
          15.884925767634847
         ],
         "legendgroup": "Guntur",
         "lon": [
          80.58657614107885
         ],
         "marker": {
          "color": "#FFA15A",
          "size": [
           4887813
          ],
          "sizemode": "area",
          "sizeref": 27650.37
         },
         "mode": "markers",
         "name": "Guntur",
         "showlegend": true,
         "subplot": "mapbox",
         "type": "scattermapbox"
        },
        {
         "hovertemplate": "<b>%{hovertext}</b><br><br>District name=Haora<br>Population=%{marker.size}<br>Latitude=%{lat}<br>Longitude=%{lon}<extra></extra>",
         "hovertext": [
          "WEST BENGAL"
         ],
         "lat": [
          22.401674174428507
         ],
         "legendgroup": "Haora",
         "lon": [
          87.99421176968654
         ],
         "marker": {
          "color": "#19d3f3",
          "size": [
           4850029
          ],
          "sizemode": "area",
          "sizeref": 27650.37
         },
         "mode": "markers",
         "name": "Haora",
         "showlegend": true,
         "subplot": "mapbox",
         "type": "scattermapbox"
        },
        {
         "hovertemplate": "<b>%{hovertext}</b><br><br>District name=Muzaffarpur<br>Population=%{marker.size}<br>Latitude=%{lat}<br>Longitude=%{lon}<extra></extra>",
         "hovertext": [
          "BIHAR"
         ],
         "lat": [
          26.18664417177915
         ],
         "legendgroup": "Muzaffarpur",
         "lon": [
          85.32745092024543
         ],
         "marker": {
          "color": "#FF6692",
          "size": [
           4801062
          ],
          "sizemode": "area",
          "sizeref": 27650.37
         },
         "mode": "markers",
         "name": "Muzaffarpur",
         "showlegend": true,
         "subplot": "mapbox",
         "type": "scattermapbox"
        },
        {
         "hovertemplate": "<b>%{hovertext}</b><br><br>District name=Belgaum<br>Population=%{marker.size}<br>Latitude=%{lat}<br>Longitude=%{lon}<extra></extra>",
         "hovertext": [
          "KARNATAKA"
         ],
         "lat": [
          16.16107219152853
         ],
         "legendgroup": "Belgaum",
         "lon": [
          74.72329042357275
         ],
         "marker": {
          "color": "#B6E880",
          "size": [
           4779661
          ],
          "sizemode": "area",
          "sizeref": 27650.37
         },
         "mode": "markers",
         "name": "Belgaum",
         "showlegend": true,
         "subplot": "mapbox",
         "type": "scattermapbox"
        },
        {
         "hovertemplate": "<b>%{hovertext}</b><br><br>District name=Moradabad<br>Population=%{marker.size}<br>Latitude=%{lat}<br>Longitude=%{lon}<extra></extra>",
         "hovertext": [
          "UTTAR PRADESH"
         ],
         "lat": [
          28.851770406189537
         ],
         "legendgroup": "Moradabad",
         "lon": [
          78.73580193423597
         ],
         "marker": {
          "color": "#FF97FF",
          "size": [
           4772006
          ],
          "sizemode": "area",
          "sizeref": 27650.37
         },
         "mode": "markers",
         "name": "Moradabad",
         "showlegend": true,
         "subplot": "mapbox",
         "type": "scattermapbox"
        },
        {
         "hovertemplate": "<b>%{hovertext}</b><br><br>District name=Ghaziabad<br>Population=%{marker.size}<br>Latitude=%{lat}<br>Longitude=%{lon}<extra></extra>",
         "hovertext": [
          "UTTAR PRADESH"
         ],
         "lat": [
          28.74997308584685
         ],
         "legendgroup": "Ghaziabad",
         "lon": [
          77.67441879350343
         ],
         "marker": {
          "color": "#FECB52",
          "size": [
           4681645
          ],
          "sizemode": "area",
          "sizeref": 27650.37
         },
         "mode": "markers",
         "name": "Ghaziabad",
         "showlegend": true,
         "subplot": "mapbox",
         "type": "scattermapbox"
        },
        {
         "hovertemplate": "<b>%{hovertext}</b><br><br>District name=Nagpur<br>Population=%{marker.size}<br>Latitude=%{lat}<br>Longitude=%{lon}<extra></extra>",
         "hovertext": [
          "MAHARASHTRA"
         ],
         "lat": [
          21.196556862745105
         ],
         "legendgroup": "Nagpur",
         "lon": [
          79.02166176470584
         ],
         "marker": {
          "color": "#636efa",
          "size": [
           4653570
          ],
          "sizemode": "area",
          "sizeref": 27650.37
         },
         "mode": "markers",
         "name": "Nagpur",
         "showlegend": true,
         "subplot": "mapbox",
         "type": "scattermapbox"
        },
        {
         "hovertemplate": "<b>%{hovertext}</b><br><br>District name=Chennai<br>Population=%{marker.size}<br>Latitude=%{lat}<br>Longitude=%{lon}<extra></extra>",
         "hovertext": [
          "TAMIL NADU"
         ],
         "lat": [
          13.058098905608748
         ],
         "legendgroup": "Chennai",
         "lon": [
          80.28139151846806
         ],
         "marker": {
          "color": "#EF553B",
          "size": [
           4646732
          ],
          "sizemode": "area",
          "sizeref": 27650.37
         },
         "mode": "markers",
         "name": "Chennai",
         "showlegend": true,
         "subplot": "mapbox",
         "type": "scattermapbox"
        },
        {
         "hovertemplate": "<b>%{hovertext}</b><br><br>District name=Azamgarh<br>Population=%{marker.size}<br>Latitude=%{lat}<br>Longitude=%{lon}<extra></extra>",
         "hovertext": [
          "UTTAR PRADESH"
         ],
         "lat": [
          26.008290954773837
         ],
         "legendgroup": "Azamgarh",
         "lon": [
          83.01220251256285
         ],
         "marker": {
          "color": "#00cc96",
          "size": [
           4613913
          ],
          "sizemode": "area",
          "sizeref": 27650.37
         },
         "mode": "markers",
         "name": "Azamgarh",
         "showlegend": true,
         "subplot": "mapbox",
         "type": "scattermapbox"
        },
        {
         "hovertemplate": "<b>%{hovertext}</b><br><br>District name=Lucknow<br>Population=%{marker.size}<br>Latitude=%{lat}<br>Longitude=%{lon}<extra></extra>",
         "hovertext": [
          "UTTAR PRADESH"
         ],
         "lat": [
          26.838233589251463
         ],
         "legendgroup": "Lucknow",
         "lon": [
          80.89706026871404
         ],
         "marker": {
          "color": "#ab63fa",
          "size": [
           4589838
          ],
          "sizemode": "area",
          "sizeref": 27650.37
         },
         "mode": "markers",
         "name": "Lucknow",
         "showlegend": true,
         "subplot": "mapbox",
         "type": "scattermapbox"
        },
        {
         "hovertemplate": "<b>%{hovertext}</b><br><br>District name=Krishna<br>Population=%{marker.size}<br>Latitude=%{lat}<br>Longitude=%{lon}<extra></extra>",
         "hovertext": [
          "ANDHRA PRADESH"
         ],
         "lat": [
          16.143872753151673
         ],
         "legendgroup": "Krishna",
         "lon": [
          81.14805061000413
         ],
         "marker": {
          "color": "#FFA15A",
          "size": [
           4517398
          ],
          "sizemode": "area",
          "sizeref": 27650.37
         },
         "mode": "markers",
         "name": "Krishna",
         "showlegend": true,
         "subplot": "mapbox",
         "type": "scattermapbox"
        },
        {
         "hovertemplate": "<b>%{hovertext}</b><br><br>District name=Kolkata<br>Population=%{marker.size}<br>Latitude=%{lat}<br>Longitude=%{lon}<extra></extra>",
         "hovertext": [
          "WEST BENGAL"
         ],
         "lat": [
          22.550581481481483
         ],
         "legendgroup": "Kolkata",
         "lon": [
          88.3527648148148
         ],
         "marker": {
          "color": "#19d3f3",
          "size": [
           4496694
          ],
          "sizemode": "area",
          "sizeref": 27650.37
         },
         "mode": "markers",
         "name": "Kolkata",
         "showlegend": true,
         "subplot": "mapbox",
         "type": "scattermapbox"
        },
        {
         "hovertemplate": "<b>%{hovertext}</b><br><br>District name=Jaunpur<br>Population=%{marker.size}<br>Latitude=%{lat}<br>Longitude=%{lon}<extra></extra>",
         "hovertext": [
          "UTTAR PRADESH"
         ],
         "lat": [
          25.70141280913127
         ],
         "legendgroup": "Jaunpur",
         "lon": [
          82.54315351934063
         ],
         "marker": {
          "color": "#FF6692",
          "size": [
           4494204
          ],
          "sizemode": "area",
          "sizeref": 27650.37
         },
         "mode": "markers",
         "name": "Jaunpur",
         "showlegend": true,
         "subplot": "mapbox",
         "type": "scattermapbox"
        },
        {
         "hovertemplate": "<b>%{hovertext}</b><br><br>District name=Madhubani<br>Population=%{marker.size}<br>Latitude=%{lat}<br>Longitude=%{lon}<extra></extra>",
         "hovertext": [
          "BIHAR"
         ],
         "lat": [
          26.41380538172716
         ],
         "legendgroup": "Madhubani",
         "lon": [
          86.16328360450552
         ],
         "marker": {
          "color": "#B6E880",
          "size": [
           4487379
          ],
          "sizemode": "area",
          "sizeref": 27650.37
         },
         "mode": "markers",
         "name": "Madhubani",
         "showlegend": true,
         "subplot": "mapbox",
         "type": "scattermapbox"
        },
        {
         "hovertemplate": "<b>%{hovertext}</b><br><br>District name=Sitapur<br>Population=%{marker.size}<br>Latitude=%{lat}<br>Longitude=%{lon}<extra></extra>",
         "hovertext": [
          "UTTAR PRADESH"
         ],
         "lat": [
          27.501995963091108
         ],
         "legendgroup": "Sitapur",
         "lon": [
          80.85288881199547
         ],
         "marker": {
          "color": "#FF97FF",
          "size": [
           4483992
          ],
          "sizemode": "area",
          "sizeref": 27650.37
         },
         "mode": "markers",
         "name": "Sitapur",
         "showlegend": true,
         "subplot": "mapbox",
         "type": "scattermapbox"
        },
        {
         "hovertemplate": "<b>%{hovertext}</b><br><br>District name=Bareilly<br>Population=%{marker.size}<br>Latitude=%{lat}<br>Longitude=%{lon}<extra></extra>",
         "hovertext": [
          "UTTAR PRADESH"
         ],
         "lat": [
          28.51101940789474
         ],
         "legendgroup": "Bareilly",
         "lon": [
          79.43187072368416
         ],
         "marker": {
          "color": "#FECB52",
          "size": [
           4448359
          ],
          "sizemode": "area",
          "sizeref": 27650.37
         },
         "mode": "markers",
         "name": "Bareilly",
         "showlegend": true,
         "subplot": "mapbox",
         "type": "scattermapbox"
        },
        {
         "hovertemplate": "<b>%{hovertext}</b><br><br>District name=Gorakhpur<br>Population=%{marker.size}<br>Latitude=%{lat}<br>Longitude=%{lon}<extra></extra>",
         "hovertext": [
          "UTTAR PRADESH"
         ],
         "lat": [
          26.63315886792452
         ],
         "legendgroup": "Gorakhpur",
         "lon": [
          83.3549560377358
         ],
         "marker": {
          "color": "#636efa",
          "size": [
           4440895
          ],
          "sizemode": "area",
          "sizeref": 27650.37
         },
         "mode": "markers",
         "name": "Gorakhpur",
         "showlegend": true,
         "subplot": "mapbox",
         "type": "scattermapbox"
        },
        {
         "hovertemplate": "<b>%{hovertext}</b><br><br>District name=Agra<br>Population=%{marker.size}<br>Latitude=%{lat}<br>Longitude=%{lon}<extra></extra>",
         "hovertext": [
          "UTTAR PRADESH"
         ],
         "lat": [
          26.99512974910393
         ],
         "legendgroup": "Agra",
         "lon": [
          78.05278291517321
         ],
         "marker": {
          "color": "#EF553B",
          "size": [
           4418797
          ],
          "sizemode": "area",
          "sizeref": 27650.37
         },
         "mode": "markers",
         "name": "Agra",
         "showlegend": true,
         "subplot": "mapbox",
         "type": "scattermapbox"
        },
        {
         "hovertemplate": "<b>%{hovertext}</b><br><br>District name=Gaya<br>Population=%{marker.size}<br>Latitude=%{lat}<br>Longitude=%{lon}<extra></extra>",
         "hovertext": [
          "BIHAR"
         ],
         "lat": [
          24.7266541547278
         ],
         "legendgroup": "Gaya",
         "lon": [
          84.94291217765044
         ],
         "marker": {
          "color": "#00cc96",
          "size": [
           4391418
          ],
          "sizemode": "area",
          "sizeref": 27650.37
         },
         "mode": "markers",
         "name": "Gaya",
         "showlegend": true,
         "subplot": "mapbox",
         "type": "scattermapbox"
        },
        {
         "hovertemplate": "<b>%{hovertext}</b><br><br>District name=Solapur<br>Population=%{marker.size}<br>Latitude=%{lat}<br>Longitude=%{lon}<extra></extra>",
         "hovertext": [
          "MAHARASHTRA"
         ],
         "lat": [
          17.837357937584812
         ],
         "legendgroup": "Solapur",
         "lon": [
          75.42394823609216
         ],
         "marker": {
          "color": "#ab63fa",
          "size": [
           4317756
          ],
          "sizemode": "area",
          "sizeref": 27650.37
         },
         "mode": "markers",
         "name": "Solapur",
         "showlegend": true,
         "subplot": "mapbox",
         "type": "scattermapbox"
        },
        {
         "hovertemplate": "<b>%{hovertext}</b><br><br>District name=Samastipur<br>Population=%{marker.size}<br>Latitude=%{lat}<br>Longitude=%{lon}<extra></extra>",
         "hovertext": [
          "BIHAR"
         ],
         "lat": [
          25.793205563909765
         ],
         "legendgroup": "Samastipur",
         "lon": [
          85.94833323308269
         ],
         "marker": {
          "color": "#FFA15A",
          "size": [
           4261566
          ],
          "sizemode": "area",
          "sizeref": 27650.37
         },
         "mode": "markers",
         "name": "Samastipur",
         "showlegend": true,
         "subplot": "mapbox",
         "type": "scattermapbox"
        },
        {
         "hovertemplate": "<b>%{hovertext}</b><br><br>District name=Jalgaon<br>Population=%{marker.size}<br>Latitude=%{lat}<br>Longitude=%{lon}<extra></extra>",
         "hovertext": [
          "MAHARASHTRA"
         ],
         "lat": [
          20.8828943415638
         ],
         "legendgroup": "Jalgaon",
         "lon": [
          75.55140421810695
         ],
         "marker": {
          "color": "#19d3f3",
          "size": [
           4229917
          ],
          "sizemode": "area",
          "sizeref": 27650.37
         },
         "mode": "markers",
         "name": "Jalgaon",
         "showlegend": true,
         "subplot": "mapbox",
         "type": "scattermapbox"
        },
        {
         "hovertemplate": "<b>%{hovertext}</b><br><br>District name=Chittoor<br>Population=%{marker.size}<br>Latitude=%{lat}<br>Longitude=%{lon}<extra></extra>",
         "hovertext": [
          "ANDHRA PRADESH"
         ],
         "lat": [
          13.33109263067696
         ],
         "legendgroup": "Chittoor",
         "lon": [
          78.92763898886037
         ],
         "marker": {
          "color": "#FF6692",
          "size": [
           4174064
          ],
          "sizemode": "area",
          "sizeref": 27650.37
         },
         "mode": "markers",
         "name": "Chittoor",
         "showlegend": true,
         "subplot": "mapbox",
         "type": "scattermapbox"
        },
        {
         "hovertemplate": "<b>%{hovertext}</b><br><br>District name=Vadodara<br>Population=%{marker.size}<br>Latitude=%{lat}<br>Longitude=%{lon}<extra></extra>",
         "hovertext": [
          "GUJARAT"
         ],
         "lat": [
          22.26133739279589
         ],
         "legendgroup": "Vadodara",
         "lon": [
          73.49433010291594
         ],
         "marker": {
          "color": "#B6E880",
          "size": [
           4165626
          ],
          "sizemode": "area",
          "sizeref": 27650.37
         },
         "mode": "markers",
         "name": "Vadodara",
         "showlegend": true,
         "subplot": "mapbox",
         "type": "scattermapbox"
        },
        {
         "hovertemplate": "<b>%{hovertext}</b><br><br>District name=Muzaffarnagar<br>Population=%{marker.size}<br>Latitude=%{lat}<br>Longitude=%{lon}<extra></extra>",
         "hovertext": [
          "UTTAR PRADESH"
         ],
         "lat": [
          29.470507977736563
         ],
         "legendgroup": "Muzaffarnagar",
         "lon": [
          77.64017847866423
         ],
         "marker": {
          "color": "#FF97FF",
          "size": [
           4143512
          ],
          "sizemode": "area",
          "sizeref": 27650.37
         },
         "mode": "markers",
         "name": "Muzaffarnagar",
         "showlegend": true,
         "subplot": "mapbox",
         "type": "scattermapbox"
        },
        {
         "hovertemplate": "<b>%{hovertext}</b><br><br>District name=Malappuram<br>Population=%{marker.size}<br>Latitude=%{lat}<br>Longitude=%{lon}<extra></extra>",
         "hovertext": [
          "KERALA"
         ],
         "lat": [
          10.97329875666072
         ],
         "legendgroup": "Malappuram",
         "lon": [
          75.93910775606876
         ],
         "marker": {
          "color": "#FECB52",
          "size": [
           4112920
          ],
          "sizemode": "area",
          "sizeref": 27650.37
         },
         "mode": "markers",
         "name": "Malappuram",
         "showlegend": true,
         "subplot": "mapbox",
         "type": "scattermapbox"
        },
        {
         "hovertemplate": "<b>%{hovertext}</b><br><br>District name=Hardoi<br>Population=%{marker.size}<br>Latitude=%{lat}<br>Longitude=%{lon}<extra></extra>",
         "hovertext": [
          "UTTAR PRADESH"
         ],
         "lat": [
          27.337409090909137
         ],
         "legendgroup": "Hardoi",
         "lon": [
          80.26411767676768
         ],
         "marker": {
          "color": "#636efa",
          "size": [
           4092845
          ],
          "sizemode": "area",
          "sizeref": 27650.37
         },
         "mode": "markers",
         "name": "Hardoi",
         "showlegend": true,
         "subplot": "mapbox",
         "type": "scattermapbox"
        },
        {
         "hovertemplate": "<b>%{hovertext}</b><br><br>District name=Anantapur<br>Population=%{marker.size}<br>Latitude=%{lat}<br>Longitude=%{lon}<extra></extra>",
         "hovertext": [
          "ANDHRA PRADESH"
         ],
         "lat": [
          14.312065561843148
         ],
         "legendgroup": "Anantapur",
         "lon": [
          77.4601584478577
         ],
         "marker": {
          "color": "#EF553B",
          "size": [
           4081148
          ],
          "sizemode": "area",
          "sizeref": 27650.37
         },
         "mode": "markers",
         "name": "Anantapur",
         "showlegend": true,
         "subplot": "mapbox",
         "type": "scattermapbox"
        },
        {
         "hovertemplate": "<b>%{hovertext}</b><br><br>District name=Raipur<br>Population=%{marker.size}<br>Latitude=%{lat}<br>Longitude=%{lon}<extra></extra>",
         "hovertext": [
          "CHHATTISGARH"
         ],
         "lat": [
          20.88603153846152
         ],
         "legendgroup": "Raipur",
         "lon": [
          82.20032759615388
         ],
         "marker": {
          "color": "#00cc96",
          "size": [
           4063872
          ],
          "sizemode": "area",
          "sizeref": 27650.37
         },
         "mode": "markers",
         "name": "Raipur",
         "showlegend": true,
         "subplot": "mapbox",
         "type": "scattermapbox"
        },
        {
         "hovertemplate": "<b>%{hovertext}</b><br><br>District name=Kurnool<br>Population=%{marker.size}<br>Latitude=%{lat}<br>Longitude=%{lon}<extra></extra>",
         "hovertext": [
          "ANDHRA PRADESH"
         ],
         "lat": [
          15.43759715142429
         ],
         "legendgroup": "Kurnool",
         "lon": [
          77.90086836581717
         ],
         "marker": {
          "color": "#ab63fa",
          "size": [
           4053463
          ],
          "sizemode": "area",
          "sizeref": 27650.37
         },
         "mode": "markers",
         "name": "Kurnool",
         "showlegend": true,
         "subplot": "mapbox",
         "type": "scattermapbox"
        },
        {
         "hovertemplate": "<b>%{hovertext}</b><br><br>District name=Mahbubnagar<br>Population=%{marker.size}<br>Latitude=%{lat}<br>Longitude=%{lon}<extra></extra>",
         "hovertext": [
          "ANDHRA PRADESH"
         ],
         "lat": [
          16.639546224256293
         ],
         "legendgroup": "Mahbubnagar",
         "lon": [
          77.98933089244859
         ],
         "marker": {
          "color": "#FFA15A",
          "size": [
           4053028
          ],
          "sizemode": "area",
          "sizeref": 27650.37
         },
         "mode": "markers",
         "name": "Mahbubnagar",
         "showlegend": true,
         "subplot": "mapbox",
         "type": "scattermapbox"
        },
        {
         "hovertemplate": "<b>%{hovertext}</b><br><br>District name=Kancheepuram<br>Population=%{marker.size}<br>Latitude=%{lat}<br>Longitude=%{lon}<extra></extra>",
         "hovertext": [
          "TAMIL NADU"
         ],
         "lat": [
          12.496424756511884
         ],
         "legendgroup": "Kancheepuram",
         "lon": [
          80.08820360135913
         ],
         "marker": {
          "color": "#19d3f3",
          "size": [
           3998252
          ],
          "sizemode": "area",
          "sizeref": 27650.37
         },
         "mode": "markers",
         "name": "Kancheepuram",
         "showlegend": true,
         "subplot": "mapbox",
         "type": "scattermapbox"
        },
        {
         "hovertemplate": "<b>%{hovertext}</b><br><br>District name=Maldah<br>Population=%{marker.size}<br>Latitude=%{lat}<br>Longitude=%{lon}<extra></extra>",
         "hovertext": [
          "WEST BENGAL"
         ],
         "lat": [
          25.08026802575105
         ],
         "legendgroup": "Maldah",
         "lon": [
          88.17191684549356
         ],
         "marker": {
          "color": "#FF6692",
          "size": [
           3988845
          ],
          "sizemode": "area",
          "sizeref": 27650.37
         },
         "mode": "markers",
         "name": "Maldah",
         "showlegend": true,
         "subplot": "mapbox",
         "type": "scattermapbox"
        },
        {
         "hovertemplate": "<b>%{hovertext}</b><br><br>District name=Saran<br>Population=%{marker.size}<br>Latitude=%{lat}<br>Longitude=%{lon}<extra></extra>",
         "hovertext": [
          "BIHAR"
         ],
         "lat": [
          25.89656077844312
         ],
         "legendgroup": "Saran",
         "lon": [
          84.82266287425155
         ],
         "marker": {
          "color": "#B6E880",
          "size": [
           3951862
          ],
          "sizemode": "area",
          "sizeref": 27650.37
         },
         "mode": "markers",
         "name": "Saran",
         "showlegend": true,
         "subplot": "mapbox",
         "type": "scattermapbox"
        },
        {
         "hovertemplate": "<b>%{hovertext}</b><br><br>District name=Hyderabad<br>Population=%{marker.size}<br>Latitude=%{lat}<br>Longitude=%{lon}<extra></extra>",
         "hovertext": [
          "ANDHRA PRADESH"
         ],
         "lat": [
          17.38971555555556
         ],
         "legendgroup": "Hyderabad",
         "lon": [
          78.46668888888888
         ],
         "marker": {
          "color": "#FF97FF",
          "size": [
           3943323
          ],
          "sizemode": "area",
          "sizeref": 27650.37
         },
         "mode": "markers",
         "name": "Hyderabad",
         "showlegend": true,
         "subplot": "mapbox",
         "type": "scattermapbox"
        },
        {
         "hovertemplate": "<b>%{hovertext}</b><br><br>District name=Darbhanga<br>Population=%{marker.size}<br>Latitude=%{lat}<br>Longitude=%{lon}<extra></extra>",
         "hovertext": [
          "BIHAR"
         ],
         "lat": [
          26.146187719298258
         ],
         "legendgroup": "Darbhanga",
         "lon": [
          85.97387352472099
         ],
         "marker": {
          "color": "#FECB52",
          "size": [
           3937385
          ],
          "sizemode": "area",
          "sizeref": 27650.37
         },
         "mode": "markers",
         "name": "Darbhanga",
         "showlegend": true,
         "subplot": "mapbox",
         "type": "scattermapbox"
        },
        {
         "hovertemplate": "<b>%{hovertext}</b><br><br>District name=West Godavari<br>Population=%{marker.size}<br>Latitude=%{lat}<br>Longitude=%{lon}<extra></extra>",
         "hovertext": [
          "ANDHRA PRADESH"
         ],
         "lat": [
          16.63297943925236
         ],
         "legendgroup": "West Godavari",
         "lon": [
          81.45912990654196
         ],
         "marker": {
          "color": "#636efa",
          "size": [
           3936966
          ],
          "sizemode": "area",
          "sizeref": 27650.37
         },
         "mode": "markers",
         "name": "West Godavari",
         "showlegend": true,
         "subplot": "mapbox",
         "type": "scattermapbox"
        },
        {
         "hovertemplate": "<b>%{hovertext}</b><br><br>District name=Vellore<br>Population=%{marker.size}<br>Latitude=%{lat}<br>Longitude=%{lon}<extra></extra>",
         "hovertext": [
          "TAMIL NADU"
         ],
         "lat": [
          12.784882632293078
         ],
         "legendgroup": "Vellore",
         "lon": [
          79.02643283582084
         ],
         "marker": {
          "color": "#EF553B",
          "size": [
           3936331
          ],
          "sizemode": "area",
          "sizeref": 27650.37
         },
         "mode": "markers",
         "name": "Vellore",
         "showlegend": true,
         "subplot": "mapbox",
         "type": "scattermapbox"
        },
        {
         "hovertemplate": "<b>%{hovertext}</b><br><br>District name=Pashchim Champaran<br>Population=%{marker.size}<br>Latitude=%{lat}<br>Longitude=%{lon}<extra></extra>",
         "hovertext": [
          "BIHAR"
         ],
         "lat": [
          27.16064352201258
         ],
         "legendgroup": "Pashchim Champaran",
         "lon": [
          84.30265911949685
         ],
         "marker": {
          "color": "#00cc96",
          "size": [
           3935042
          ],
          "sizemode": "area",
          "sizeref": 27650.37
         },
         "mode": "markers",
         "name": "Pashchim Champaran",
         "showlegend": true,
         "subplot": "mapbox",
         "type": "scattermapbox"
        },
        {
         "hovertemplate": "<b>%{hovertext}</b><br><br>District name=Kolhapur<br>Population=%{marker.size}<br>Latitude=%{lat}<br>Longitude=%{lon}<extra></extra>",
         "hovertext": [
          "MAHARASHTRA"
         ],
         "lat": [
          16.44881301587301
         ],
         "legendgroup": "Kolhapur",
         "lon": [
          74.12897150793648
         ],
         "marker": {
          "color": "#ab63fa",
          "size": [
           3876001
          ],
          "sizemode": "area",
          "sizeref": 27650.37
         },
         "mode": "markers",
         "name": "Kolhapur",
         "showlegend": true,
         "subplot": "mapbox",
         "type": "scattermapbox"
        },
        {
         "hovertemplate": "<b>%{hovertext}</b><br><br>District name=Jalpaiguri<br>Population=%{marker.size}<br>Latitude=%{lat}<br>Longitude=%{lon}<extra></extra>",
         "hovertext": [
          "WEST BENGAL"
         ],
         "lat": [
          26.62642031250004
         ],
         "legendgroup": "Jalpaiguri",
         "lon": [
          89.04154375000003
         ],
         "marker": {
          "color": "#FFA15A",
          "size": [
           3872846
          ],
          "sizemode": "area",
          "sizeref": 27650.37
         },
         "mode": "markers",
         "name": "Jalpaiguri",
         "showlegend": true,
         "subplot": "mapbox",
         "type": "scattermapbox"
        },
        {
         "hovertemplate": "<b>%{hovertext}</b><br><br>District name=Rajkot<br>Population=%{marker.size}<br>Latitude=%{lat}<br>Longitude=%{lon}<extra></extra>",
         "hovertext": [
          "GUJARAT"
         ],
         "lat": [
          22.40603377715488
         ],
         "legendgroup": "Rajkot",
         "lon": [
          70.83679439383323
         ],
         "marker": {
          "color": "#19d3f3",
          "size": [
           3804558
          ],
          "sizemode": "area",
          "sizeref": 27650.37
         },
         "mode": "markers",
         "name": "Rajkot",
         "showlegend": true,
         "subplot": "mapbox",
         "type": "scattermapbox"
        },
        {
         "hovertemplate": "<b>%{hovertext}</b><br><br>District name=Sultanpur<br>Population=%{marker.size}<br>Latitude=%{lat}<br>Longitude=%{lon}<extra></extra>",
         "hovertext": [
          "UTTAR PRADESH"
         ],
         "lat": [
          26.2846386419753
         ],
         "legendgroup": "Sultanpur",
         "lon": [
          82.05710456790123
         ],
         "marker": {
          "color": "#FF6692",
          "size": [
           3797117
          ],
          "sizemode": "area",
          "sizeref": 27650.37
         },
         "mode": "markers",
         "name": "Sultanpur",
         "showlegend": true,
         "subplot": "mapbox",
         "type": "scattermapbox"
        },
        {
         "hovertemplate": "<b>%{hovertext}</b><br><br>District name=Karimnagar<br>Population=%{marker.size}<br>Latitude=%{lat}<br>Longitude=%{lon}<extra></extra>",
         "hovertext": [
          "ANDHRA PRADESH"
         ],
         "lat": [
          18.515483193277312
         ],
         "legendgroup": "Karimnagar",
         "lon": [
          79.43765428571413
         ],
         "marker": {
          "color": "#B6E880",
          "size": [
           3776269
          ],
          "sizemode": "area",
          "sizeref": 27650.37
         },
         "mode": "markers",
         "name": "Karimnagar",
         "showlegend": true,
         "subplot": "mapbox",
         "type": "scattermapbox"
        },
        {
         "hovertemplate": "<b>%{hovertext}</b><br><br>District name=Thiruvallur<br>Population=%{marker.size}<br>Latitude=%{lat}<br>Longitude=%{lon}<extra></extra>",
         "hovertext": [
          "TAMIL NADU"
         ],
         "lat": [
          13.275858101752885
         ],
         "legendgroup": "Thiruvallur",
         "lon": [
          80.19724702864492
         ],
         "marker": {
          "color": "#FF97FF",
          "size": [
           3728104
          ],
          "sizemode": "area",
          "sizeref": 27650.37
         },
         "mode": "markers",
         "name": "Thiruvallur",
         "showlegend": true,
         "subplot": "mapbox",
         "type": "scattermapbox"
        },
        {
         "hovertemplate": "<b>%{hovertext}</b><br><br>District name=Aurangabad<br>Population=%{marker.size}<br>Latitude=%{lat}<br>Longitude=%{lon}<extra></extra>",
         "hovertext": [
          "MAHARASHTRA",
          "MAHARASHTRA",
          "BIHAR",
          "BIHAR"
         ],
         "lat": [
          24.774291867469877,
          20.0979228832952,
          24.774291867469877,
          20.0979228832952
         ],
         "legendgroup": "Aurangabad",
         "lon": [
          84.45986024096379,
          75.32072196796334,
          84.45986024096379,
          75.32072196796334
         ],
         "marker": {
          "color": "#FECB52",
          "size": [
           3701282,
           3701282,
           2540073,
           2540073
          ],
          "sizemode": "area",
          "sizeref": 27650.37
         },
         "mode": "markers",
         "name": "Aurangabad",
         "showlegend": true,
         "subplot": "mapbox",
         "type": "scattermapbox"
        },
        {
         "hovertemplate": "<b>%{hovertext}</b><br><br>District name=Jodhpur<br>Population=%{marker.size}<br>Latitude=%{lat}<br>Longitude=%{lon}<extra></extra>",
         "hovertext": [
          "RAJASTHAN"
         ],
         "lat": [
          26.678460838536967
         ],
         "legendgroup": "Jodhpur",
         "lon": [
          73.00450847457628
         ],
         "marker": {
          "color": "#636efa",
          "size": [
           3687165
          ],
          "sizemode": "area",
          "sizeref": 27650.37
         },
         "mode": "markers",
         "name": "Jodhpur",
         "showlegend": true,
         "subplot": "mapbox",
         "type": "scattermapbox"
        },
        {
         "hovertemplate": "<b>%{hovertext}</b><br><br>District name=Bijnor<br>Population=%{marker.size}<br>Latitude=%{lat}<br>Longitude=%{lon}<extra></extra>",
         "hovertext": [
          "UTTAR PRADESH"
         ],
         "lat": [
          29.313974259681096
         ],
         "legendgroup": "Bijnor",
         "lon": [
          78.45098815489754
         ],
         "marker": {
          "color": "#EF553B",
          "size": [
           3682713
          ],
          "sizemode": "area",
          "sizeref": 27650.37
         },
         "mode": "markers",
         "name": "Bijnor",
         "showlegend": true,
         "subplot": "mapbox",
         "type": "scattermapbox"
        },
        {
         "hovertemplate": "<b>%{hovertext}</b><br><br>District name=Varanasi<br>Population=%{marker.size}<br>Latitude=%{lat}<br>Longitude=%{lon}<extra></extra>",
         "hovertext": [
          "UTTAR PRADESH"
         ],
         "lat": [
          25.36057088888889
         ],
         "legendgroup": "Varanasi",
         "lon": [
          82.82529666666672
         ],
         "marker": {
          "color": "#00cc96",
          "size": [
           3676841
          ],
          "sizemode": "area",
          "sizeref": 27650.37
         },
         "mode": "markers",
         "name": "Varanasi",
         "showlegend": true,
         "subplot": "mapbox",
         "type": "scattermapbox"
        },
        {
         "hovertemplate": "<b>%{hovertext}</b><br><br>District name=Alwar<br>Population=%{marker.size}<br>Latitude=%{lat}<br>Longitude=%{lon}<extra></extra>",
         "hovertext": [
          "RAJASTHAN"
         ],
         "lat": [
          27.55271738035265
         ],
         "legendgroup": "Alwar",
         "lon": [
          76.65359630562563
         ],
         "marker": {
          "color": "#ab63fa",
          "size": [
           3674179
          ],
          "sizemode": "area",
          "sizeref": 27650.37
         },
         "mode": "markers",
         "name": "Alwar",
         "showlegend": true,
         "subplot": "mapbox",
         "type": "scattermapbox"
        },
        {
         "hovertemplate": "<b>%{hovertext}</b><br><br>District name=Aligarh<br>Population=%{marker.size}<br>Latitude=%{lat}<br>Longitude=%{lon}<extra></extra>",
         "hovertext": [
          "UTTAR PRADESH"
         ],
         "lat": [
          27.93748576850093
         ],
         "legendgroup": "Aligarh",
         "lon": [
          78.00146831119557
         ],
         "marker": {
          "color": "#FFA15A",
          "size": [
           3673889
          ],
          "sizemode": "area",
          "sizeref": 27650.37
         },
         "mode": "markers",
         "name": "Aligarh",
         "showlegend": true,
         "subplot": "mapbox",
         "type": "scattermapbox"
        },
        {
         "hovertemplate": "<b>%{hovertext}</b><br><br>District name=Ghazipur<br>Population=%{marker.size}<br>Latitude=%{lat}<br>Longitude=%{lon}<extra></extra>",
         "hovertext": [
          "UTTAR PRADESH"
         ],
         "lat": [
          25.624724775583484
         ],
         "legendgroup": "Ghazipur",
         "lon": [
          83.5360854578097
         ],
         "marker": {
          "color": "#19d3f3",
          "size": [
           3620268
          ],
          "sizemode": "area",
          "sizeref": 27650.37
         },
         "mode": "markers",
         "name": "Ghazipur",
         "showlegend": true,
         "subplot": "mapbox",
         "type": "scattermapbox"
        },
        {
         "hovertemplate": "<b>%{hovertext}</b><br><br>District name=Bankura<br>Population=%{marker.size}<br>Latitude=%{lat}<br>Longitude=%{lon}<extra></extra>",
         "hovertext": [
          "WEST BENGAL"
         ],
         "lat": [
          23.081280892857155
         ],
         "legendgroup": "Bankura",
         "lon": [
          87.12640053571437
         ],
         "marker": {
          "color": "#FF6692",
          "size": [
           3596674
          ],
          "sizemode": "area",
          "sizeref": 27650.37
         },
         "mode": "markers",
         "name": "Bankura",
         "showlegend": true,
         "subplot": "mapbox",
         "type": "scattermapbox"
        },
        {
         "hovertemplate": "<b>%{hovertext}</b><br><br>District name=Kushinagar<br>Population=%{marker.size}<br>Latitude=%{lat}<br>Longitude=%{lon}<extra></extra>",
         "hovertext": [
          "UTTAR PRADESH"
         ],
         "lat": [
          26.892530675909864
         ],
         "legendgroup": "Kushinagar",
         "lon": [
          83.92261542461007
         ],
         "marker": {
          "color": "#B6E880",
          "size": [
           3564544
          ],
          "sizemode": "area",
          "sizeref": 27650.37
         },
         "mode": "markers",
         "name": "Kushinagar",
         "showlegend": true,
         "subplot": "mapbox",
         "type": "scattermapbox"
        },
        {
         "hovertemplate": "<b>%{hovertext}</b><br><br>District name=Ganjam<br>Population=%{marker.size}<br>Latitude=%{lat}<br>Longitude=%{lon}<extra></extra>",
         "hovertext": [
          "ORISSA"
         ],
         "lat": [
          19.2632617564534
         ],
         "legendgroup": "Ganjam",
         "lon": [
          84.80297710437702
         ],
         "marker": {
          "color": "#FF97FF",
          "size": [
           3529031
          ],
          "sizemode": "area",
          "sizeref": 27650.37
         },
         "mode": "markers",
         "name": "Ganjam",
         "showlegend": true,
         "subplot": "mapbox",
         "type": "scattermapbox"
        },
        {
         "hovertemplate": "<b>%{hovertext}</b><br><br>District name=Warangal<br>Population=%{marker.size}<br>Latitude=%{lat}<br>Longitude=%{lon}<extra></extra>",
         "hovertext": [
          "ANDHRA PRADESH"
         ],
         "lat": [
          18.01752608695651
         ],
         "legendgroup": "Warangal",
         "lon": [
          79.87422028985509
         ],
         "marker": {
          "color": "#FECB52",
          "size": [
           3512576
          ],
          "sizemode": "area",
          "sizeref": 27650.37
         },
         "mode": "markers",
         "name": "Warangal",
         "showlegend": true,
         "subplot": "mapbox",
         "type": "scattermapbox"
        },
        {
         "hovertemplate": "<b>%{hovertext}</b><br><br>District name=Birbhum<br>Population=%{marker.size}<br>Latitude=%{lat}<br>Longitude=%{lon}<extra></extra>",
         "hovertext": [
          "WEST BENGAL"
         ],
         "lat": [
          24.06389342723
         ],
         "legendgroup": "Birbhum",
         "lon": [
          87.65153089201888
         ],
         "marker": {
          "color": "#636efa",
          "size": [
           3502404
          ],
          "sizemode": "area",
          "sizeref": 27650.37
         },
         "mode": "markers",
         "name": "Birbhum",
         "showlegend": true,
         "subplot": "mapbox",
         "type": "scattermapbox"
        },
        {
         "hovertemplate": "<b>%{hovertext}</b><br><br>District name=Bulandshahr<br>Population=%{marker.size}<br>Latitude=%{lat}<br>Longitude=%{lon}<extra></extra>",
         "hovertext": [
          "UTTAR PRADESH"
         ],
         "lat": [
          28.34875862068968
         ],
         "legendgroup": "Bulandshahr",
         "lon": [
          78.01082758620684
         ],
         "marker": {
          "color": "#EF553B",
          "size": [
           3499171
          ],
          "sizemode": "area",
          "sizeref": 27650.37
         },
         "mode": "markers",
         "name": "Bulandshahr",
         "showlegend": true,
         "subplot": "mapbox",
         "type": "scattermapbox"
        },
        {
         "hovertemplate": "<b>%{hovertext}</b><br><br>District name=Ludhiana<br>Population=%{marker.size}<br>Latitude=%{lat}<br>Longitude=%{lon}<extra></extra>",
         "hovertext": [
          "PUNJAB"
         ],
         "lat": [
          30.76596397379912
         ],
         "legendgroup": "Ludhiana",
         "lon": [
          75.83110851528383
         ],
         "marker": {
          "color": "#00cc96",
          "size": [
           3498739
          ],
          "sizemode": "area",
          "sizeref": 27650.37
         },
         "mode": "markers",
         "name": "Ludhiana",
         "showlegend": true,
         "subplot": "mapbox",
         "type": "scattermapbox"
        },
        {
         "hovertemplate": "<b>%{hovertext}</b><br><br>District name=Vaishali<br>Population=%{marker.size}<br>Latitude=%{lat}<br>Longitude=%{lon}<extra></extra>",
         "hovertext": [
          "BIHAR"
         ],
         "lat": [
          25.8134703180212
         ],
         "legendgroup": "Vaishali",
         "lon": [
          85.39247597173153
         ],
         "marker": {
          "color": "#ab63fa",
          "size": [
           3495021
          ],
          "sizemode": "area",
          "sizeref": 27650.37
         },
         "mode": "markers",
         "name": "Vaishali",
         "showlegend": true,
         "subplot": "mapbox",
         "type": "scattermapbox"
        },
        {
         "hovertemplate": "<b>%{hovertext}</b><br><br>District name=Nalgonda<br>Population=%{marker.size}<br>Latitude=%{lat}<br>Longitude=%{lon}<extra></extra>",
         "hovertext": [
          "ANDHRA PRADESH"
         ],
         "lat": [
          17.113250515463907
         ],
         "legendgroup": "Nalgonda",
         "lon": [
          79.16984453608244
         ],
         "marker": {
          "color": "#FFA15A",
          "size": [
           3488809
          ],
          "sizemode": "area",
          "sizeref": 27650.37
         },
         "mode": "markers",
         "name": "Nalgonda",
         "showlegend": true,
         "subplot": "mapbox",
         "type": "scattermapbox"
        },
        {
         "hovertemplate": "<b>%{hovertext}</b><br><br>District name=Bahraich<br>Population=%{marker.size}<br>Latitude=%{lat}<br>Longitude=%{lon}<extra></extra>",
         "hovertext": [
          "UTTAR PRADESH"
         ],
         "lat": [
          27.691776300578027
         ],
         "legendgroup": "Bahraich",
         "lon": [
          81.46779783237004
         ],
         "marker": {
          "color": "#19d3f3",
          "size": [
           3487731
          ],
          "sizemode": "area",
          "sizeref": 27650.37
         },
         "mode": "markers",
         "name": "Bahraich",
         "showlegend": true,
         "subplot": "mapbox",
         "type": "scattermapbox"
        },
        {
         "hovertemplate": "<b>%{hovertext}</b><br><br>District name=Salem<br>Population=%{marker.size}<br>Latitude=%{lat}<br>Longitude=%{lon}<extra></extra>",
         "hovertext": [
          "TAMIL NADU"
         ],
         "lat": [
          11.629324202127655
         ],
         "legendgroup": "Salem",
         "lon": [
          78.2478257978723
         ],
         "marker": {
          "color": "#FF6692",
          "size": [
           3482056
          ],
          "sizemode": "area",
          "sizeref": 27650.37
         },
         "mode": "markers",
         "name": "Salem",
         "showlegend": true,
         "subplot": "mapbox",
         "type": "scattermapbox"
        },
        {
         "hovertemplate": "<b>%{hovertext}</b><br><br>District name=Saharanpur<br>Population=%{marker.size}<br>Latitude=%{lat}<br>Longitude=%{lon}<extra></extra>",
         "hovertext": [
          "UTTAR PRADESH"
         ],
         "lat": [
          30.03381165217392
         ],
         "legendgroup": "Saharanpur",
         "lon": [
          77.59905147826095
         ],
         "marker": {
          "color": "#B6E880",
          "size": [
           3466382
          ],
          "sizemode": "area",
          "sizeref": 27650.37
         },
         "mode": "markers",
         "name": "Saharanpur",
         "showlegend": true,
         "subplot": "mapbox",
         "type": "scattermapbox"
        },
        {
         "hovertemplate": "<b>%{hovertext}</b><br><br>District name=Coimbatore<br>Population=%{marker.size}<br>Latitude=%{lat}<br>Longitude=%{lon}<extra></extra>",
         "hovertext": [
          "TAMIL NADU"
         ],
         "lat": [
          10.871376995940452
         ],
         "legendgroup": "Coimbatore",
         "lon": [
          77.07619012178621
         ],
         "marker": {
          "color": "#FF97FF",
          "size": [
           3458045
          ],
          "sizemode": "area",
          "sizeref": 27650.37
         },
         "mode": "markers",
         "name": "Coimbatore",
         "showlegend": true,
         "subplot": "mapbox",
         "type": "scattermapbox"
        },
        {
         "hovertemplate": "<b>%{hovertext}</b><br><br>District name=Meerut<br>Population=%{marker.size}<br>Latitude=%{lat}<br>Longitude=%{lon}<extra></extra>",
         "hovertext": [
          "UTTAR PRADESH"
         ],
         "lat": [
          29.02957625698323
         ],
         "legendgroup": "Meerut",
         "lon": [
          77.80611005586593
         ],
         "marker": {
          "color": "#FECB52",
          "size": [
           3443689
          ],
          "sizemode": "area",
          "sizeref": 27650.37
         },
         "mode": "markers",
         "name": "Meerut",
         "showlegend": true,
         "subplot": "mapbox",
         "type": "scattermapbox"
        },
        {
         "hovertemplate": "<b>%{hovertext}</b><br><br>District name=Gonda<br>Population=%{marker.size}<br>Latitude=%{lat}<br>Longitude=%{lon}<extra></extra>",
         "hovertext": [
          "UTTAR PRADESH"
         ],
         "lat": [
          27.157215552099505
         ],
         "legendgroup": "Gonda",
         "lon": [
          82.0226888024882
         ],
         "marker": {
          "color": "#636efa",
          "size": [
           3433919
          ],
          "sizemode": "area",
          "sizeref": 27650.37
         },
         "mode": "markers",
         "name": "Gonda",
         "showlegend": true,
         "subplot": "mapbox",
         "type": "scattermapbox"
        },
        {
         "hovertemplate": "<b>%{hovertext}</b><br><br>District name=Sitamarhi<br>Population=%{marker.size}<br>Latitude=%{lat}<br>Longitude=%{lon}<extra></extra>",
         "hovertext": [
          "BIHAR"
         ],
         "lat": [
          26.56570069686413
         ],
         "legendgroup": "Sitamarhi",
         "lon": [
          85.61172491289203
         ],
         "marker": {
          "color": "#EF553B",
          "size": [
           3423574
          ],
          "sizemode": "area",
          "sizeref": 27650.37
         },
         "mode": "markers",
         "name": "Sitamarhi",
         "showlegend": true,
         "subplot": "mapbox",
         "type": "scattermapbox"
        },
        {
         "hovertemplate": "<b>%{hovertext}</b><br><br>District name=Rae Bareli<br>Population=%{marker.size}<br>Latitude=%{lat}<br>Longitude=%{lon}<extra></extra>",
         "hovertext": [
          "UTTAR PRADESH"
         ],
         "lat": [
          26.253902840059787
         ],
         "legendgroup": "Rae Bareli",
         "lon": [
          81.22260463378181
         ],
         "marker": {
          "color": "#00cc96",
          "size": [
           3405559
          ],
          "sizemode": "area",
          "sizeref": 27650.37
         },
         "mode": "markers",
         "name": "Rae Bareli",
         "showlegend": true,
         "subplot": "mapbox",
         "type": "scattermapbox"
        },
        {
         "hovertemplate": "<b>%{hovertext}</b><br><br>District name=Prakasam<br>Population=%{marker.size}<br>Latitude=%{lat}<br>Longitude=%{lon}<extra></extra>",
         "hovertext": [
          "ANDHRA PRADESH"
         ],
         "lat": [
          15.489039001601704
         ],
         "legendgroup": "Prakasam",
         "lon": [
          80.11665790176184
         ],
         "marker": {
          "color": "#ab63fa",
          "size": [
           3397448
          ],
          "sizemode": "area",
          "sizeref": 27650.37
         },
         "mode": "markers",
         "name": "Prakasam",
         "showlegend": true,
         "subplot": "mapbox",
         "type": "scattermapbox"
        },
        {
         "hovertemplate": "<b>%{hovertext}</b><br><br>District name=Nanded<br>Population=%{marker.size}<br>Latitude=%{lat}<br>Longitude=%{lon}<extra></extra>",
         "hovertext": [
          "MAHARASHTRA"
         ],
         "lat": [
          19.209316983017
         ],
         "legendgroup": "Nanded",
         "lon": [
          77.6829048951049
         ],
         "marker": {
          "color": "#FFA15A",
          "size": [
           3361292
          ],
          "sizemode": "area",
          "sizeref": 27650.37
         },
         "mode": "markers",
         "name": "Nanded",
         "showlegend": true,
         "subplot": "mapbox",
         "type": "scattermapbox"
        },
        {
         "hovertemplate": "<b>%{hovertext}</b><br><br>District name=Durg<br>Population=%{marker.size}<br>Latitude=%{lat}<br>Longitude=%{lon}<extra></extra>",
         "hovertext": [
          "CHHATTISGARH"
         ],
         "lat": [
          21.194463849287164
         ],
         "legendgroup": "Durg",
         "lon": [
          81.33181639511197
         ],
         "marker": {
          "color": "#19d3f3",
          "size": [
           3343872
          ],
          "sizemode": "area",
          "sizeref": 27650.37
         },
         "mode": "markers",
         "name": "Durg",
         "showlegend": true,
         "subplot": "mapbox",
         "type": "scattermapbox"
        },
        {
         "hovertemplate": "<b>%{hovertext}</b><br><br>District name=Siwan<br>Population=%{marker.size}<br>Latitude=%{lat}<br>Longitude=%{lon}<extra></extra>",
         "hovertext": [
          "BIHAR"
         ],
         "lat": [
          26.1736372013652
         ],
         "legendgroup": "Siwan",
         "lon": [
          84.33766552901022
         ],
         "marker": {
          "color": "#FF6692",
          "size": [
           3330464
          ],
          "sizemode": "area",
          "sizeref": 27650.37
         },
         "mode": "markers",
         "name": "Siwan",
         "showlegend": true,
         "subplot": "mapbox",
         "type": "scattermapbox"
        },
        {
         "hovertemplate": "<b>%{hovertext}</b><br><br>District name=Nagaur<br>Population=%{marker.size}<br>Latitude=%{lat}<br>Longitude=%{lon}<extra></extra>",
         "hovertext": [
          "RAJASTHAN"
         ],
         "lat": [
          27.07862016048146
         ],
         "legendgroup": "Nagaur",
         "lon": [
          74.14215667001012
         ],
         "marker": {
          "color": "#B6E880",
          "size": [
           3307743
          ],
          "sizemode": "area",
          "sizeref": 27650.37
         },
         "mode": "markers",
         "name": "Nagaur",
         "showlegend": true,
         "subplot": "mapbox",
         "type": "scattermapbox"
        },
        {
         "hovertemplate": "<b>%{hovertext}</b><br><br>District name=Thiruvananthapuram<br>Population=%{marker.size}<br>Latitude=%{lat}<br>Longitude=%{lon}<extra></extra>",
         "hovertext": [
          "KERALA"
         ],
         "lat": [
          8.537101759082221
         ],
         "legendgroup": "Thiruvananthapuram",
         "lon": [
          76.88711502868073
         ],
         "marker": {
          "color": "#FF97FF",
          "size": [
           3301427
          ],
          "sizemode": "area",
          "sizeref": 27650.37
         },
         "mode": "markers",
         "name": "Thiruvananthapuram",
         "showlegend": true,
         "subplot": "mapbox",
         "type": "scattermapbox"
        },
        {
         "hovertemplate": "<b>%{hovertext}</b><br><br>District name=Ernakulam<br>Population=%{marker.size}<br>Latitude=%{lat}<br>Longitude=%{lon}<extra></extra>",
         "hovertext": [
          "KERALA"
         ],
         "lat": [
          10.004879301987431
         ],
         "legendgroup": "Ernakulam",
         "lon": [
          76.26957729035381
         ],
         "marker": {
          "color": "#FECB52",
          "size": [
           3282388
          ],
          "sizemode": "area",
          "sizeref": 27650.37
         },
         "mode": "markers",
         "name": "Ernakulam",
         "showlegend": true,
         "subplot": "mapbox",
         "type": "scattermapbox"
        },
        {
         "hovertemplate": "<b>%{hovertext}</b><br><br>District name=Indore<br>Population=%{marker.size}<br>Latitude=%{lat}<br>Longitude=%{lon}<extra></extra>",
         "hovertext": [
          "MADHYA PRADESH"
         ],
         "lat": [
          22.680265752128648
         ],
         "legendgroup": "Indore",
         "lon": [
          75.9133801324502
         ],
         "marker": {
          "color": "#636efa",
          "size": [
           3276697
          ],
          "sizemode": "area",
          "sizeref": 27650.37
         },
         "mode": "markers",
         "name": "Indore",
         "showlegend": true,
         "subplot": "mapbox",
         "type": "scattermapbox"
        },
        {
         "hovertemplate": "<b>%{hovertext}</b><br><br>District name=Purnia<br>Population=%{marker.size}<br>Latitude=%{lat}<br>Longitude=%{lon}<extra></extra>",
         "hovertext": [
          "BIHAR"
         ],
         "lat": [
          25.81714801901739
         ],
         "legendgroup": "Purnia",
         "lon": [
          87.40447606973065
         ],
         "marker": {
          "color": "#EF553B",
          "size": [
           3264619
          ],
          "sizemode": "area",
          "sizeref": 27650.37
         },
         "mode": "markers",
         "name": "Purnia",
         "showlegend": true,
         "subplot": "mapbox",
         "type": "scattermapbox"
        },
        {
         "hovertemplate": "<b>%{hovertext}</b><br><br>District name=Bara Banki<br>Population=%{marker.size}<br>Latitude=%{lat}<br>Longitude=%{lon}<extra></extra>",
         "hovertext": [
          "UTTAR PRADESH"
         ],
         "lat": [
          26.922777025232424
         ],
         "legendgroup": "Bara Banki",
         "lon": [
          81.35762350597606
         ],
         "marker": {
          "color": "#00cc96",
          "size": [
           3260699
          ],
          "sizemode": "area",
          "sizeref": 27650.37
         },
         "mode": "markers",
         "name": "Bara Banki",
         "showlegend": true,
         "subplot": "mapbox",
         "type": "scattermapbox"
        },
        {
         "hovertemplate": "<b>%{hovertext}</b><br><br>District name=Ballia<br>Population=%{marker.size}<br>Latitude=%{lat}<br>Longitude=%{lon}<extra></extra>",
         "hovertext": [
          "UTTAR PRADESH"
         ],
         "lat": [
          25.86075638297873
         ],
         "legendgroup": "Ballia",
         "lon": [
          84.03651978723408
         ],
         "marker": {
          "color": "#ab63fa",
          "size": [
           3239774
          ],
          "sizemode": "area",
          "sizeref": 27650.37
         },
         "mode": "markers",
         "name": "Ballia",
         "showlegend": true,
         "subplot": "mapbox",
         "type": "scattermapbox"
        },
        {
         "hovertemplate": "<b>%{hovertext}</b><br><br>District name=Pratapgarh<br>Population=%{marker.size}<br>Latitude=%{lat}<br>Longitude=%{lon}<extra></extra>",
         "hovertext": [
          "UTTAR PRADESH",
          "RAJASTHAN"
         ],
         "lat": [
          25.864842731707316,
          25.864842731707316
         ],
         "legendgroup": "Pratapgarh",
         "lon": [
          81.93530048780492,
          81.93530048780492
         ],
         "marker": {
          "color": "#FFA15A",
          "size": [
           3209141,
           867848
          ],
          "sizemode": "area",
          "sizeref": 27650.37
         },
         "mode": "markers",
         "name": "Pratapgarh",
         "showlegend": true,
         "subplot": "mapbox",
         "type": "scattermapbox"
        },
        {
         "hovertemplate": "<b>%{hovertext}</b><br><br>District name=Thrissur<br>Population=%{marker.size}<br>Latitude=%{lat}<br>Longitude=%{lon}<extra></extra>",
         "hovertext": [
          "KERALA"
         ],
         "lat": [
          10.458932647907687
         ],
         "legendgroup": "Thrissur",
         "lon": [
          76.12321940836945
         ],
         "marker": {
          "color": "#19d3f3",
          "size": [
           3121200
          ],
          "sizemode": "area",
          "sizeref": 27650.37
         },
         "mode": "markers",
         "name": "Thrissur",
         "showlegend": true,
         "subplot": "mapbox",
         "type": "scattermapbox"
        },
        {
         "hovertemplate": "<b>%{hovertext}</b><br><br>District name=Banas Kantha<br>Population=%{marker.size}<br>Latitude=%{lat}<br>Longitude=%{lon}<extra></extra>",
         "hovertext": [
          "GUJARAT"
         ],
         "lat": [
          24.258538965517253
         ],
         "legendgroup": "Banas Kantha",
         "lon": [
          71.93205252873561
         ],
         "marker": {
          "color": "#FF6692",
          "size": [
           3120506
          ],
          "sizemode": "area",
          "sizeref": 27650.37
         },
         "mode": "markers",
         "name": "Banas Kantha",
         "showlegend": true,
         "subplot": "mapbox",
         "type": "scattermapbox"
        },
        {
         "hovertemplate": "<b>%{hovertext}</b><br><br>District name=Unnao<br>Population=%{marker.size}<br>Latitude=%{lat}<br>Longitude=%{lon}<extra></extra>",
         "hovertext": [
          "UTTAR PRADESH"
         ],
         "lat": [
          26.63163990895297
         ],
         "legendgroup": "Unnao",
         "lon": [
          80.636773292868
         ],
         "marker": {
          "color": "#B6E880",
          "size": [
           3108367
          ],
          "sizemode": "area",
          "sizeref": 27650.37
         },
         "mode": "markers",
         "name": "Unnao",
         "showlegend": true,
         "subplot": "mapbox",
         "type": "scattermapbox"
        },
        {
         "hovertemplate": "<b>%{hovertext}</b><br><br>District name=Deoria<br>Population=%{marker.size}<br>Latitude=%{lat}<br>Longitude=%{lon}<extra></extra>",
         "hovertext": [
          "UTTAR PRADESH"
         ],
         "lat": [
          26.42218856548857
         ],
         "legendgroup": "Deoria",
         "lon": [
          83.8244070686071
         ],
         "marker": {
          "color": "#FF97FF",
          "size": [
           3100946
          ],
          "sizemode": "area",
          "sizeref": 27650.37
         },
         "mode": "markers",
         "name": "Deoria",
         "showlegend": true,
         "subplot": "mapbox",
         "type": "scattermapbox"
        },
        {
         "hovertemplate": "<b>%{hovertext}</b><br><br>District name=Kozhikode<br>Population=%{marker.size}<br>Latitude=%{lat}<br>Longitude=%{lon}<extra></extra>",
         "hovertext": [
          "KERALA"
         ],
         "lat": [
          11.392924270557026
         ],
         "legendgroup": "Kozhikode",
         "lon": [
          75.71158720159153
         ],
         "marker": {
          "color": "#FECB52",
          "size": [
           3086293
          ],
          "sizemode": "area",
          "sizeref": 27650.37
         },
         "mode": "markers",
         "name": "Kozhikode",
         "showlegend": true,
         "subplot": "mapbox",
         "type": "scattermapbox"
        },
        {
         "hovertemplate": "<b>%{hovertext}</b><br><br>District name=Katihar<br>Population=%{marker.size}<br>Latitude=%{lat}<br>Longitude=%{lon}<extra></extra>",
         "hovertext": [
          "BIHAR"
         ],
         "lat": [
          25.56565356037151
         ],
         "legendgroup": "Katihar",
         "lon": [
          87.70466083591326
         ],
         "marker": {
          "color": "#636efa",
          "size": [
           3071029
          ],
          "sizemode": "area",
          "sizeref": 27650.37
         },
         "mode": "markers",
         "name": "Katihar",
         "showlegend": true,
         "subplot": "mapbox",
         "type": "scattermapbox"
        },
        {
         "hovertemplate": "<b>%{hovertext}</b><br><br>District name=Udaipur<br>Population=%{marker.size}<br>Latitude=%{lat}<br>Longitude=%{lon}<extra></extra>",
         "hovertext": [
          "RAJASTHAN"
         ],
         "lat": [
          24.44076752136749
         ],
         "legendgroup": "Udaipur",
         "lon": [
          73.84029839743584
         ],
         "marker": {
          "color": "#EF553B",
          "size": [
           3068420
          ],
          "sizemode": "area",
          "sizeref": 27650.37
         },
         "mode": "markers",
         "name": "Udaipur",
         "showlegend": true,
         "subplot": "mapbox",
         "type": "scattermapbox"
        },
        {
         "hovertemplate": "<b>%{hovertext}</b><br><br>District name=Madurai<br>Population=%{marker.size}<br>Latitude=%{lat}<br>Longitude=%{lon}<extra></extra>",
         "hovertext": [
          "TAMIL NADU"
         ],
         "lat": [
          9.904313833333331
         ],
         "legendgroup": "Madurai",
         "lon": [
          78.01366033333332
         ],
         "marker": {
          "color": "#00cc96",
          "size": [
           3038252
          ],
          "sizemode": "area",
          "sizeref": 27650.37
         },
         "mode": "markers",
         "name": "Madurai",
         "showlegend": true,
         "subplot": "mapbox",
         "type": "scattermapbox"
        },
        {
         "hovertemplate": "<b>%{hovertext}</b><br><br>District name=Bhagalpur<br>Population=%{marker.size}<br>Latitude=%{lat}<br>Longitude=%{lon}<extra></extra>",
         "hovertext": [
          "BIHAR"
         ],
         "lat": [
          25.277192885375477
         ],
         "legendgroup": "Bhagalpur",
         "lon": [
          87.04213814229242
         ],
         "marker": {
          "color": "#ab63fa",
          "size": [
           3037766
          ],
          "sizemode": "area",
          "sizeref": 27650.37
         },
         "mode": "markers",
         "name": "Bhagalpur",
         "showlegend": true,
         "subplot": "mapbox",
         "type": "scattermapbox"
        },
        {
         "hovertemplate": "<b>%{hovertext}</b><br><br>District name=Medak<br>Population=%{marker.size}<br>Latitude=%{lat}<br>Longitude=%{lon}<extra></extra>",
         "hovertext": [
          "ANDHRA PRADESH"
         ],
         "lat": [
          17.889304978038055
         ],
         "legendgroup": "Medak",
         "lon": [
          78.13778901903379
         ],
         "marker": {
          "color": "#FFA15A",
          "size": [
           3033288
          ],
          "sizemode": "area",
          "sizeref": 27650.37
         },
         "mode": "markers",
         "name": "Medak",
         "showlegend": true,
         "subplot": "mapbox",
         "type": "scattermapbox"
        },
        {
         "hovertemplate": "<b>%{hovertext}</b><br><br>District name=Uttar Dinajpur<br>Population=%{marker.size}<br>Latitude=%{lat}<br>Longitude=%{lon}<extra></extra>",
         "hovertext": [
          "WEST BENGAL"
         ],
         "lat": [
          26.044619165196977
         ],
         "legendgroup": "Uttar Dinajpur",
         "lon": [
          88.23595232216337
         ],
         "marker": {
          "color": "#19d3f3",
          "size": [
           3007134
          ],
          "sizemode": "area",
          "sizeref": 27650.37
         },
         "mode": "markers",
         "name": "Uttar Dinajpur",
         "showlegend": true,
         "subplot": "mapbox",
         "type": "scattermapbox"
        },
        {
         "hovertemplate": "<b>%{hovertext}</b><br><br>District name=Shahjahanpur<br>Population=%{marker.size}<br>Latitude=%{lat}<br>Longitude=%{lon}<extra></extra>",
         "hovertext": [
          "UTTAR PRADESH"
         ],
         "lat": [
          27.991389350649328
         ],
         "legendgroup": "Shahjahanpur",
         "lon": [
          79.8302275324675
         ],
         "marker": {
          "color": "#FF6692",
          "size": [
           3006538
          ],
          "sizemode": "area",
          "sizeref": 27650.37
         },
         "mode": "markers",
         "name": "Shahjahanpur",
         "showlegend": true,
         "subplot": "mapbox",
         "type": "scattermapbox"
        },
        {
         "hovertemplate": "<b>%{hovertext}</b><br><br>District name=Satara<br>Population=%{marker.size}<br>Latitude=%{lat}<br>Longitude=%{lon}<extra></extra>",
         "hovertext": [
          "MAHARASHTRA"
         ],
         "lat": [
          17.6737908974359
         ],
         "legendgroup": "Satara",
         "lon": [
          74.18052064102558
         ],
         "marker": {
          "color": "#B6E880",
          "size": [
           3003741
          ],
          "sizemode": "area",
          "sizeref": 27650.37
         },
         "mode": "markers",
         "name": "Satara",
         "showlegend": true,
         "subplot": "mapbox",
         "type": "scattermapbox"
        },
        {
         "hovertemplate": "<b>%{hovertext}</b><br><br>District name=Mysore<br>Population=%{marker.size}<br>Latitude=%{lat}<br>Longitude=%{lon}<extra></extra>",
         "hovertext": [
          "KARNATAKA"
         ],
         "lat": [
          12.248100259403367
         ],
         "legendgroup": "Mysore",
         "lon": [
          76.52881802853437
         ],
         "marker": {
          "color": "#FF97FF",
          "size": [
           3001127
          ],
          "sizemode": "area",
          "sizeref": 27650.37
         },
         "mode": "markers",
         "name": "Mysore",
         "showlegend": true,
         "subplot": "mapbox",
         "type": "scattermapbox"
        },
        {
         "hovertemplate": "<b>%{hovertext}</b><br><br>District name=Begusarai<br>Population=%{marker.size}<br>Latitude=%{lat}<br>Longitude=%{lon}<extra></extra>",
         "hovertext": [
          "BIHAR"
         ],
         "lat": [
          25.54302613168723
         ],
         "legendgroup": "Begusarai",
         "lon": [
          86.12560144032932
         ],
         "marker": {
          "color": "#FECB52",
          "size": [
           2970541
          ],
          "sizemode": "area",
          "sizeref": 27650.37
         },
         "mode": "markers",
         "name": "Begusarai",
         "showlegend": true,
         "subplot": "mapbox",
         "type": "scattermapbox"
        },
        {
         "hovertemplate": "<b>%{hovertext}</b><br><br>District name=Rohtas<br>Population=%{marker.size}<br>Latitude=%{lat}<br>Longitude=%{lon}<extra></extra>",
         "hovertext": [
          "BIHAR"
         ],
         "lat": [
          24.99170460829495
         ],
         "legendgroup": "Rohtas",
         "lon": [
          83.9350762672811
         ],
         "marker": {
          "color": "#636efa",
          "size": [
           2959918
          ],
          "sizemode": "area",
          "sizeref": 27650.37
         },
         "mode": "markers",
         "name": "Rohtas",
         "showlegend": true,
         "subplot": "mapbox",
         "type": "scattermapbox"
        },
        {
         "hovertemplate": "<b>%{hovertext}</b><br><br>District name=Puruliya<br>Population=%{marker.size}<br>Latitude=%{lat}<br>Longitude=%{lon}<extra></extra>",
         "hovertext": [
          "WEST BENGAL"
         ],
         "lat": [
          23.254192328767108
         ],
         "legendgroup": "Puruliya",
         "lon": [
          86.3968532876713
         ],
         "marker": {
          "color": "#EF553B",
          "size": [
           2930115
          ],
          "sizemode": "area",
          "sizeref": 27650.37
         },
         "mode": "markers",
         "name": "Puruliya",
         "showlegend": true,
         "subplot": "mapbox",
         "type": "scattermapbox"
        },
        {
         "hovertemplate": "<b>%{hovertext}</b><br><br>District name=Ranchi<br>Population=%{marker.size}<br>Latitude=%{lat}<br>Longitude=%{lon}<extra></extra>",
         "hovertext": [
          "JHARKHAND"
         ],
         "lat": [
          23.184235061391547
         ],
         "legendgroup": "Ranchi",
         "lon": [
          85.31781937244203
         ],
         "marker": {
          "color": "#00cc96",
          "size": [
           2914253
          ],
          "sizemode": "area",
          "sizeref": 27650.37
         },
         "mode": "markers",
         "name": "Ranchi",
         "showlegend": true,
         "subplot": "mapbox",
         "type": "scattermapbox"
        },
        {
         "hovertemplate": "<b>%{hovertext}</b><br><br>District name=Amravati<br>Population=%{marker.size}<br>Latitude=%{lat}<br>Longitude=%{lon}<extra></extra>",
         "hovertext": [
          "MAHARASHTRA"
         ],
         "lat": [
          21.16520991810736
         ],
         "legendgroup": "Amravati",
         "lon": [
          77.67583503184723
         ],
         "marker": {
          "color": "#ab63fa",
          "size": [
           2888445
          ],
          "sizemode": "area",
          "sizeref": 27650.37
         },
         "mode": "markers",
         "name": "Amravati",
         "showlegend": true,
         "subplot": "mapbox",
         "type": "scattermapbox"
        },
        {
         "hovertemplate": "<b>%{hovertext}</b><br><br>District name=Bhavnagar<br>Population=%{marker.size}<br>Latitude=%{lat}<br>Longitude=%{lon}<extra></extra>",
         "hovertext": [
          "GUJARAT"
         ],
         "lat": [
          21.70219390341736
         ],
         "legendgroup": "Bhavnagar",
         "lon": [
          72.16272632761141
         ],
         "marker": {
          "color": "#FFA15A",
          "size": [
           2880365
          ],
          "sizemode": "area",
          "sizeref": 27650.37
         },
         "mode": "markers",
         "name": "Bhavnagar",
         "showlegend": true,
         "subplot": "mapbox",
         "type": "scattermapbox"
        },
        {
         "hovertemplate": "<b>%{hovertext}</b><br><br>District name=Nalanda<br>Population=%{marker.size}<br>Latitude=%{lat}<br>Longitude=%{lon}<extra></extra>",
         "hovertext": [
          "BIHAR"
         ],
         "lat": [
          25.229345508982053
         ],
         "legendgroup": "Nalanda",
         "lon": [
          85.48053113772461
         ],
         "marker": {
          "color": "#19d3f3",
          "size": [
           2877653
          ],
          "sizemode": "area",
          "sizeref": 27650.37
         },
         "mode": "markers",
         "name": "Nalanda",
         "showlegend": true,
         "subplot": "mapbox",
         "type": "scattermapbox"
        },
        {
         "hovertemplate": "<b>%{hovertext}</b><br><br>District name=Nagaon<br>Population=%{marker.size}<br>Latitude=%{lat}<br>Longitude=%{lon}<extra></extra>",
         "hovertext": [
          "ASSAM"
         ],
         "lat": [
          26.26462170626351
         ],
         "legendgroup": "Nagaon",
         "lon": [
          92.9306191144708
         ],
         "marker": {
          "color": "#FF6692",
          "size": [
           2823768
          ],
          "sizemode": "area",
          "sizeref": 27650.37
         },
         "mode": "markers",
         "name": "Nagaon",
         "showlegend": true,
         "subplot": "mapbox",
         "type": "scattermapbox"
        },
        {
         "hovertemplate": "<b>%{hovertext}</b><br><br>District name=Sangli<br>Population=%{marker.size}<br>Latitude=%{lat}<br>Longitude=%{lon}<extra></extra>",
         "hovertext": [
          "MAHARASHTRA"
         ],
         "lat": [
          17.154930181086502
         ],
         "legendgroup": "Sangli",
         "lon": [
          74.70713822937628
         ],
         "marker": {
          "color": "#B6E880",
          "size": [
           2822143
          ],
          "sizemode": "area",
          "sizeref": 27650.37
         },
         "mode": "markers",
         "name": "Sangli",
         "showlegend": true,
         "subplot": "mapbox",
         "type": "scattermapbox"
        },
        {
         "hovertemplate": "<b>%{hovertext}</b><br><br>District name=Araria<br>Population=%{marker.size}<br>Latitude=%{lat}<br>Longitude=%{lon}<extra></extra>",
         "hovertext": [
          "BIHAR"
         ],
         "lat": [
          26.211528119180603
         ],
         "legendgroup": "Araria",
         "lon": [
          87.30766554934816
         ],
         "marker": {
          "color": "#FF97FF",
          "size": [
           2811569
          ],
          "sizemode": "area",
          "sizeref": 27650.37
         },
         "mode": "markers",
         "name": "Araria",
         "showlegend": true,
         "subplot": "mapbox",
         "type": "scattermapbox"
        },
        {
         "hovertemplate": "<b>%{hovertext}</b><br><br>District name=Palakkad<br>Population=%{marker.size}<br>Latitude=%{lat}<br>Longitude=%{lon}<extra></extra>",
         "hovertext": [
          "KERALA"
         ],
         "lat": [
          10.784926903553291
         ],
         "legendgroup": "Palakkad",
         "lon": [
          76.49980490693744
         ],
         "marker": {
          "color": "#FECB52",
          "size": [
           2809934
          ],
          "sizemode": "area",
          "sizeref": 27650.37
         },
         "mode": "markers",
         "name": "Palakkad",
         "showlegend": true,
         "subplot": "mapbox",
         "type": "scattermapbox"
        },
        {
         "hovertemplate": "<b>%{hovertext}</b><br><br>District name=Khammam<br>Population=%{marker.size}<br>Latitude=%{lat}<br>Longitude=%{lon}<extra></extra>",
         "hovertext": [
          "ANDHRA PRADESH"
         ],
         "lat": [
          17.683921325051784
         ],
         "legendgroup": "Khammam",
         "lon": [
          80.67008643892335
         ],
         "marker": {
          "color": "#636efa",
          "size": [
           2797370
          ],
          "sizemode": "area",
          "sizeref": 27650.37
         },
         "mode": "markers",
         "name": "Khammam",
         "showlegend": true,
         "subplot": "mapbox",
         "type": "scattermapbox"
        },
        {
         "hovertemplate": "<b>%{hovertext}</b><br><br>District name=Yavatmal<br>Population=%{marker.size}<br>Latitude=%{lat}<br>Longitude=%{lon}<extra></extra>",
         "hovertext": [
          "MAHARASHTRA"
         ],
         "lat": [
          20.04258346738159
         ],
         "legendgroup": "Yavatmal",
         "lon": [
          78.05326371760479
         ],
         "marker": {
          "color": "#EF553B",
          "size": [
           2772348
          ],
          "sizemode": "area",
          "sizeref": 27650.37
         },
         "mode": "markers",
         "name": "Yavatmal",
         "showlegend": true,
         "subplot": "mapbox",
         "type": "scattermapbox"
        },
        {
         "hovertemplate": "<b>%{hovertext}</b><br><br>District name=Junagadh<br>Population=%{marker.size}<br>Latitude=%{lat}<br>Longitude=%{lon}<extra></extra>",
         "hovertext": [
          "GUJARAT",
          "GUJARAT"
         ],
         "lat": [
          20.72568199498111,
          20.929523011609785
         ],
         "legendgroup": "Junagadh",
         "lon": [
          70.83985639899612,
          70.54733890140345
         ],
         "marker": {
          "color": "#00cc96",
          "size": [
           2743082,
           2743082
          ],
          "sizemode": "area",
          "sizeref": 27650.37
         },
         "mode": "markers",
         "name": "Junagadh",
         "showlegend": true,
         "subplot": "mapbox",
         "type": "scattermapbox"
        },
        {
         "hovertemplate": "<b>%{hovertext}</b><br><br>District name=Adilabad<br>Population=%{marker.size}<br>Latitude=%{lat}<br>Longitude=%{lon}<extra></extra>",
         "hovertext": [
          "ANDHRA PRADESH"
         ],
         "lat": [
          19.284513950073435
         ],
         "legendgroup": "Adilabad",
         "lon": [
          78.81321233480176
         ],
         "marker": {
          "color": "#ab63fa",
          "size": [
           2741239
          ],
          "sizemode": "area",
          "sizeref": 27650.37
         },
         "mode": "markers",
         "name": "Adilabad",
         "showlegend": true,
         "subplot": "mapbox",
         "type": "scattermapbox"
        },
        {
         "hovertemplate": "<b>%{hovertext}</b><br><br>District name=Bhojpur<br>Population=%{marker.size}<br>Latitude=%{lat}<br>Longitude=%{lon}<extra></extra>",
         "hovertext": [
          "BIHAR"
         ],
         "lat": [
          25.50666439393939
         ],
         "legendgroup": "Bhojpur",
         "lon": [
          84.49407803030304
         ],
         "marker": {
          "color": "#FFA15A",
          "size": [
           2728407
          ],
          "sizemode": "area",
          "sizeref": 27650.37
         },
         "mode": "markers",
         "name": "Bhojpur",
         "showlegend": true,
         "subplot": "mapbox",
         "type": "scattermapbox"
        },
        {
         "hovertemplate": "<b>%{hovertext}</b><br><br>District name=Srikakulam<br>Population=%{marker.size}<br>Latitude=%{lat}<br>Longitude=%{lon}<extra></extra>",
         "hovertext": [
          "ANDHRA PRADESH"
         ],
         "lat": [
          18.570900998697432
         ],
         "legendgroup": "Srikakulam",
         "lon": [
          84.25874814010675
         ],
         "marker": {
          "color": "#19d3f3",
          "size": [
           2703114
          ],
          "sizemode": "area",
          "sizeref": 27650.37
         },
         "mode": "markers",
         "name": "Srikakulam",
         "showlegend": true,
         "subplot": "mapbox",
         "type": "scattermapbox"
        },
        {
         "hovertemplate": "<b>%{hovertext}</b><br><br>District name=Dhanbad<br>Population=%{marker.size}<br>Latitude=%{lat}<br>Longitude=%{lon}<extra></extra>",
         "hovertext": [
          "JHARKHAND"
         ],
         "lat": [
          23.854509090909097
         ],
         "legendgroup": "Dhanbad",
         "lon": [
          86.40372924901185
         ],
         "marker": {
          "color": "#FF6692",
          "size": [
           2684487
          ],
          "sizemode": "area",
          "sizeref": 27650.37
         },
         "mode": "markers",
         "name": "Dhanbad",
         "showlegend": true,
         "subplot": "mapbox",
         "type": "scattermapbox"
        },
        {
         "hovertemplate": "<b>%{hovertext}</b><br><br>District name=Tumkur<br>Population=%{marker.size}<br>Latitude=%{lat}<br>Longitude=%{lon}<extra></extra>",
         "hovertext": [
          "KARNATAKA"
         ],
         "lat": [
          13.592467760074973
         ],
         "legendgroup": "Tumkur",
         "lon": [
          77.02297966260545
         ],
         "marker": {
          "color": "#B6E880",
          "size": [
           2678980
          ],
          "sizemode": "area",
          "sizeref": 27650.37
         },
         "mode": "markers",
         "name": "Tumkur",
         "showlegend": true,
         "subplot": "mapbox",
         "type": "scattermapbox"
        },
        {
         "hovertemplate": "<b>%{hovertext}</b><br><br>District name=Sikar<br>Population=%{marker.size}<br>Latitude=%{lat}<br>Longitude=%{lon}<extra></extra>",
         "hovertext": [
          "RAJASTHAN"
         ],
         "lat": [
          27.64644058641976
         ],
         "legendgroup": "Sikar",
         "lon": [
          75.29317422839503
         ],
         "marker": {
          "color": "#FF97FF",
          "size": [
           2677333
          ],
          "sizemode": "area",
          "sizeref": 27650.37
         },
         "mode": "markers",
         "name": "Sikar",
         "showlegend": true,
         "subplot": "mapbox",
         "type": "scattermapbox"
        },
        {
         "hovertemplate": "<b>%{hovertext}</b><br><br>District name=Bilaspur<br>Population=%{marker.size}<br>Latitude=%{lat}<br>Longitude=%{lon}<extra></extra>",
         "hovertext": [
          "CHHATTISGARH",
          "CHHATTISGARH",
          "HIMACHAL PRADESH",
          "HIMACHAL PRADESH"
         ],
         "lat": [
          22.356942982456143,
          31.3780422907489,
          22.356942982456143,
          31.3780422907489
         ],
         "legendgroup": "Bilaspur",
         "lon": [
          81.99770350877188,
          76.65316079295157,
          81.99770350877188,
          76.65316079295157
         ],
         "marker": {
          "color": "#FECB52",
          "size": [
           2663629,
           2663629,
           381956,
           381956
          ],
          "sizemode": "area",
          "sizeref": 27650.37
         },
         "mode": "markers",
         "name": "Bilaspur",
         "showlegend": true,
         "subplot": "mapbox",
         "type": "scattermapbox"
        },
        {
         "hovertemplate": "<b>%{hovertext}</b><br><br>District name=Kollam<br>Population=%{marker.size}<br>Latitude=%{lat}<br>Longitude=%{lon}<extra></extra>",
         "hovertext": [
          "KERALA"
         ],
         "lat": [
          8.929388820570157
         ],
         "legendgroup": "Kollam",
         "lon": [
          76.6360775852431
         ],
         "marker": {
          "color": "#636efa",
          "size": [
           2635375
          ],
          "sizemode": "area",
          "sizeref": 27650.37
         },
         "mode": "markers",
         "name": "Kollam",
         "showlegend": true,
         "subplot": "mapbox",
         "type": "scattermapbox"
        },
        {
         "hovertemplate": "<b>%{hovertext}</b><br><br>District name=Raigarh<br>Population=%{marker.size}<br>Latitude=%{lat}<br>Longitude=%{lon}<extra></extra>",
         "hovertext": [
          "MAHARASHTRA",
          "MAHARASHTRA",
          "CHHATTISGARH",
          "CHHATTISGARH"
         ],
         "lat": [
          18.453257637845976,
          22.008265068493166,
          22.008265068493166,
          18.453257637845976
         ],
         "legendgroup": "Raigarh",
         "lon": [
          73.0090609418579,
          83.27797698630134,
          83.27797698630134,
          73.0090609418579
         ],
         "marker": {
          "color": "#EF553B",
          "size": [
           2634200,
           2634200,
           1493984,
           1493984
          ],
          "sizemode": "area",
          "sizeref": 27650.37
         },
         "mode": "markers",
         "name": "Raigarh",
         "showlegend": true,
         "subplot": "mapbox",
         "type": "scattermapbox"
        },
        {
         "hovertemplate": "<b>%{hovertext}</b><br><br>District name=Fatehpur<br>Population=%{marker.size}<br>Latitude=%{lat}<br>Longitude=%{lon}<extra></extra>",
         "hovertext": [
          "UTTAR PRADESH"
         ],
         "lat": [
          25.8374362030905
         ],
         "legendgroup": "Fatehpur",
         "lon": [
          80.85416203090509
         ],
         "marker": {
          "color": "#00cc96",
          "size": [
           2632733
          ],
          "sizemode": "area",
          "sizeref": 27650.37
         },
         "mode": "markers",
         "name": "Fatehpur",
         "showlegend": true,
         "subplot": "mapbox",
         "type": "scattermapbox"
        },
        {
         "hovertemplate": "<b>%{hovertext}</b><br><br>District name=Cuttack<br>Population=%{marker.size}<br>Latitude=%{lat}<br>Longitude=%{lon}<extra></extra>",
         "hovertext": [
          "ORISSA"
         ],
         "lat": [
          20.407640646029623
         ],
         "legendgroup": "Cuttack",
         "lon": [
          85.7776810228802
         ],
         "marker": {
          "color": "#ab63fa",
          "size": [
           2624470
          ],
          "sizemode": "area",
          "sizeref": 27650.37
         },
         "mode": "markers",
         "name": "Cuttack",
         "showlegend": true,
         "subplot": "mapbox",
         "type": "scattermapbox"
        },
        {
         "hovertemplate": "<b>%{hovertext}</b><br><br>District name=Cuddalore<br>Population=%{marker.size}<br>Latitude=%{lat}<br>Longitude=%{lon}<extra></extra>",
         "hovertext": [
          "TAMIL NADU"
         ],
         "lat": [
          11.57587300613498
         ],
         "legendgroup": "Cuddalore",
         "lon": [
          79.63002365371497
         ],
         "marker": {
          "color": "#FFA15A",
          "size": [
           2605914
          ],
          "sizemode": "area",
          "sizeref": 27650.37
         },
         "mode": "markers",
         "name": "Cuddalore",
         "showlegend": true,
         "subplot": "mapbox",
         "type": "scattermapbox"
        },
        {
         "hovertemplate": "<b>%{hovertext}</b><br><br>District name=Barmer<br>Population=%{marker.size}<br>Latitude=%{lat}<br>Longitude=%{lon}<extra></extra>",
         "hovertext": [
          "RAJASTHAN"
         ],
         "lat": [
          25.77070908045978
         ],
         "legendgroup": "Barmer",
         "lon": [
          71.50297126436782
         ],
         "marker": {
          "color": "#19d3f3",
          "size": [
           2603751
          ],
          "sizemode": "area",
          "sizeref": 27650.37
         },
         "mode": "markers",
         "name": "Barmer",
         "showlegend": true,
         "subplot": "mapbox",
         "type": "scattermapbox"
        },
        {
         "hovertemplate": "<b>%{hovertext}</b><br><br>District name=Buldana<br>Population=%{marker.size}<br>Latitude=%{lat}<br>Longitude=%{lon}<extra></extra>",
         "hovertext": [
          "MAHARASHTRA"
         ],
         "lat": [
          20.56680611183355
         ],
         "legendgroup": "Buldana",
         "lon": [
          76.39017880364096
         ],
         "marker": {
          "color": "#FF6692",
          "size": [
           2586258
          ],
          "sizemode": "area",
          "sizeref": 27650.37
         },
         "mode": "markers",
         "name": "Buldana",
         "showlegend": true,
         "subplot": "mapbox",
         "type": "scattermapbox"
        },
        {
         "hovertemplate": "<b>%{hovertext}</b><br><br>District name=Bid<br>Population=%{marker.size}<br>Latitude=%{lat}<br>Longitude=%{lon}<extra></extra>",
         "hovertext": [
          "MAHARASHTRA"
         ],
         "lat": [
          18.952353340080982
         ],
         "legendgroup": "Bid",
         "lon": [
          75.69319706477731
         ],
         "marker": {
          "color": "#B6E880",
          "size": [
           2585049
          ],
          "sizemode": "area",
          "sizeref": 27650.37
         },
         "mode": "markers",
         "name": "Bid",
         "showlegend": true,
         "subplot": "mapbox",
         "type": "scattermapbox"
        },
        {
         "hovertemplate": "<b>%{hovertext}</b><br><br>District name=Ajmer<br>Population=%{marker.size}<br>Latitude=%{lat}<br>Longitude=%{lon}<extra></extra>",
         "hovertext": [
          "RAJASTHAN"
         ],
         "lat": [
          26.199300378787903
         ],
         "legendgroup": "Ajmer",
         "lon": [
          74.6990419191919
         ],
         "marker": {
          "color": "#FF97FF",
          "size": [
           2583052
          ],
          "sizemode": "area",
          "sizeref": 27650.37
         },
         "mode": "markers",
         "name": "Ajmer",
         "showlegend": true,
         "subplot": "mapbox",
         "type": "scattermapbox"
        },
        {
         "hovertemplate": "<b>%{hovertext}</b><br><br>District name=Gulbarga<br>Population=%{marker.size}<br>Latitude=%{lat}<br>Longitude=%{lon}<extra></extra>",
         "hovertext": [
          "KARNATAKA"
         ],
         "lat": [
          17.070459515951594
         ],
         "legendgroup": "Gulbarga",
         "lon": [
          76.87503850385033
         ],
         "marker": {
          "color": "#FECB52",
          "size": [
           2566326
          ],
          "sizemode": "area",
          "sizeref": 27650.37
         },
         "mode": "markers",
         "name": "Gulbarga",
         "showlegend": true,
         "subplot": "mapbox",
         "type": "scattermapbox"
        },
        {
         "hovertemplate": "<b>%{hovertext}</b><br><br>District name=Gopalganj<br>Population=%{marker.size}<br>Latitude=%{lat}<br>Longitude=%{lon}<extra></extra>",
         "hovertext": [
          "BIHAR"
         ],
         "lat": [
          26.44874364161851
         ],
         "legendgroup": "Gopalganj",
         "lon": [
          84.34636127167629
         ],
         "marker": {
          "color": "#636efa",
          "size": [
           2562012
          ],
          "sizemode": "area",
          "sizeref": 27650.37
         },
         "mode": "markers",
         "name": "Gopalganj",
         "showlegend": true,
         "subplot": "mapbox",
         "type": "scattermapbox"
        },
        {
         "hovertemplate": "<b>%{hovertext}</b><br><br>District name=Nizamabad<br>Population=%{marker.size}<br>Latitude=%{lat}<br>Longitude=%{lon}<extra></extra>",
         "hovertext": [
          "ANDHRA PRADESH"
         ],
         "lat": [
          18.429485849056604
         ],
         "legendgroup": "Nizamabad",
         "lon": [
          78.07523490566035
         ],
         "marker": {
          "color": "#EF553B",
          "size": [
           2551335
          ],
          "sizemode": "area",
          "sizeref": 27650.37
         },
         "mode": "markers",
         "name": "Nizamabad",
         "showlegend": true,
         "subplot": "mapbox",
         "type": "scattermapbox"
        },
        {
         "hovertemplate": "<b>%{hovertext}</b><br><br>District name=Bharatpur<br>Population=%{marker.size}<br>Latitude=%{lat}<br>Longitude=%{lon}<extra></extra>",
         "hovertext": [
          "RAJASTHAN"
         ],
         "lat": [
          27.32411858037578
         ],
         "legendgroup": "Bharatpur",
         "lon": [
          77.21752077244258
         ],
         "marker": {
          "color": "#00cc96",
          "size": [
           2548462
          ],
          "sizemode": "area",
          "sizeref": 27650.37
         },
         "mode": "markers",
         "name": "Bharatpur",
         "showlegend": true,
         "subplot": "mapbox",
         "type": "scattermapbox"
        },
        {
         "hovertemplate": "<b>%{hovertext}</b><br><br>District name=Mathura<br>Population=%{marker.size}<br>Latitude=%{lat}<br>Longitude=%{lon}<extra></extra>",
         "hovertext": [
          "UTTAR PRADESH"
         ],
         "lat": [
          27.59390432801821
         ],
         "legendgroup": "Mathura",
         "lon": [
          77.62153416856502
         ],
         "marker": {
          "color": "#ab63fa",
          "size": [
           2547184
          ],
          "sizemode": "area",
          "sizeref": 27650.37
         },
         "mode": "markers",
         "name": "Mathura",
         "showlegend": true,
         "subplot": "mapbox",
         "type": "scattermapbox"
        },
        {
         "hovertemplate": "<b>%{hovertext}</b><br><br>District name=Kannur<br>Population=%{marker.size}<br>Latitude=%{lat}<br>Longitude=%{lon}<extra></extra>",
         "hovertext": [
          "KERALA"
         ],
         "lat": [
          11.941523076923056
         ],
         "legendgroup": "Kannur",
         "lon": [
          75.35209891725934
         ],
         "marker": {
          "color": "#FFA15A",
          "size": [
           2523003
          ],
          "sizemode": "area",
          "sizeref": 27650.37
         },
         "mode": "markers",
         "name": "Kannur",
         "showlegend": true,
         "subplot": "mapbox",
         "type": "scattermapbox"
        },
        {
         "hovertemplate": "<b>%{hovertext}</b><br><br>District name=Mayurbhanj<br>Population=%{marker.size}<br>Latitude=%{lat}<br>Longitude=%{lon}<extra></extra>",
         "hovertext": [
          "ORISSA"
         ],
         "lat": [
          21.897621545157754
         ],
         "legendgroup": "Mayurbhanj",
         "lon": [
          86.4030408052231
         ],
         "marker": {
          "color": "#19d3f3",
          "size": [
           2519738
          ],
          "sizemode": "area",
          "sizeref": 27650.37
         },
         "mode": "markers",
         "name": "Mayurbhanj",
         "showlegend": true,
         "subplot": "mapbox",
         "type": "scattermapbox"
        },
        {
         "hovertemplate": "<b>%{hovertext}</b><br><br>District name=Firozabad<br>Population=%{marker.size}<br>Latitude=%{lat}<br>Longitude=%{lon}<extra></extra>",
         "hovertext": [
          "UTTAR PRADESH"
         ],
         "lat": [
          27.20963993055552
         ],
         "legendgroup": "Firozabad",
         "lon": [
          78.42660624999998
         ],
         "marker": {
          "color": "#FF6692",
          "size": [
           2498156
          ],
          "sizemode": "area",
          "sizeref": 27650.37
         },
         "mode": "markers",
         "name": "Firozabad",
         "showlegend": true,
         "subplot": "mapbox",
         "type": "scattermapbox"
        },
        {
         "hovertemplate": "<b>%{hovertext}</b><br><br>District name=Mirzapur<br>Population=%{marker.size}<br>Latitude=%{lat}<br>Longitude=%{lon}<extra></extra>",
         "hovertext": [
          "UTTAR PRADESH"
         ],
         "lat": [
          25.10207959183675
         ],
         "legendgroup": "Mirzapur",
         "lon": [
          82.60126628571429
         ],
         "marker": {
          "color": "#B6E880",
          "size": [
           2496970
          ],
          "sizemode": "area",
          "sizeref": 27650.37
         },
         "mode": "markers",
         "name": "Mirzapur",
         "showlegend": true,
         "subplot": "mapbox",
         "type": "scattermapbox"
        },
        {
         "hovertemplate": "<b>%{hovertext}</b><br><br>District name=Amritsar<br>Population=%{marker.size}<br>Latitude=%{lat}<br>Longitude=%{lon}<extra></extra>",
         "hovertext": [
          "PUNJAB"
         ],
         "lat": [
          31.548679820627772
         ],
         "legendgroup": "Amritsar",
         "lon": [
          74.79883856502238
         ],
         "marker": {
          "color": "#FF97FF",
          "size": [
           2490656
          ],
          "sizemode": "area",
          "sizeref": 27650.37
         },
         "mode": "markers",
         "name": "Amritsar",
         "showlegend": true,
         "subplot": "mapbox",
         "type": "scattermapbox"
        },
        {
         "hovertemplate": "<b>%{hovertext}</b><br><br>District name=Faizabad<br>Population=%{marker.size}<br>Latitude=%{lat}<br>Longitude=%{lon}<extra></extra>",
         "hovertext": [
          "UTTAR PRADESH"
         ],
         "lat": [
          26.60589185185181
         ],
         "legendgroup": "Faizabad",
         "lon": [
          82.00783530864202
         ],
         "marker": {
          "color": "#FECB52",
          "size": [
           2470996
          ],
          "sizemode": "area",
          "sizeref": 27650.37
         },
         "mode": "markers",
         "name": "Faizabad",
         "showlegend": true,
         "subplot": "mapbox",
         "type": "scattermapbox"
        },
        {
         "hovertemplate": "<b>%{hovertext}</b><br><br>District name=Tiruvannamalai<br>Population=%{marker.size}<br>Latitude=%{lat}<br>Longitude=%{lon}<extra></extra>",
         "hovertext": [
          "TAMIL NADU"
         ],
         "lat": [
          12.419318947368414
         ],
         "legendgroup": "Tiruvannamalai",
         "lon": [
          79.23265631578953
         ],
         "marker": {
          "color": "#636efa",
          "size": [
           2464875
          ],
          "sizemode": "area",
          "sizeref": 27650.37
         },
         "mode": "markers",
         "name": "Tiruvannamalai",
         "showlegend": true,
         "subplot": "mapbox",
         "type": "scattermapbox"
        },
        {
         "hovertemplate": "<b>%{hovertext}</b><br><br>District name=Basti<br>Population=%{marker.size}<br>Latitude=%{lat}<br>Longitude=%{lon}<extra></extra>",
         "hovertext": [
          "UTTAR PRADESH"
         ],
         "lat": [
          26.833880454545447
         ],
         "legendgroup": "Basti",
         "lon": [
          82.69790590909092
         ],
         "marker": {
          "color": "#EF553B",
          "size": [
           2464464
          ],
          "sizemode": "area",
          "sizeref": 27650.37
         },
         "mode": "markers",
         "name": "Basti",
         "showlegend": true,
         "subplot": "mapbox",
         "type": "scattermapbox"
        },
        {
         "hovertemplate": "<b>%{hovertext}</b><br><br>District name=Jabalpur<br>Population=%{marker.size}<br>Latitude=%{lat}<br>Longitude=%{lon}<extra></extra>",
         "hovertext": [
          "MADHYA PRADESH"
         ],
         "lat": [
          23.18525572327043
         ],
         "legendgroup": "Jabalpur",
         "lon": [
          79.98328754716981
         ],
         "marker": {
          "color": "#00cc96",
          "size": [
           2463289
          ],
          "sizemode": "area",
          "sizeref": 27650.37
         },
         "mode": "markers",
         "name": "Jabalpur",
         "showlegend": true,
         "subplot": "mapbox",
         "type": "scattermapbox"
        },
        {
         "hovertemplate": "<b>%{hovertext}</b><br><br>District name=Latur<br>Population=%{marker.size}<br>Latitude=%{lat}<br>Longitude=%{lon}<extra></extra>",
         "hovertext": [
          "MAHARASHTRA"
         ],
         "lat": [
          18.348687268993856
         ],
         "legendgroup": "Latur",
         "lon": [
          76.75812607802874
         ],
         "marker": {
          "color": "#ab63fa",
          "size": [
           2454196
          ],
          "sizemode": "area",
          "sizeref": 27650.37
         },
         "mode": "markers",
         "name": "Latur",
         "showlegend": true,
         "subplot": "mapbox",
         "type": "scattermapbox"
        },
        {
         "hovertemplate": "<b>%{hovertext}</b><br><br>District name=Bellary<br>Population=%{marker.size}<br>Latitude=%{lat}<br>Longitude=%{lon}<extra></extra>",
         "hovertext": [
          "KARNATAKA"
         ],
         "lat": [
          15.074377548209377
         ],
         "legendgroup": "Bellary",
         "lon": [
          76.47228471074374
         ],
         "marker": {
          "color": "#FFA15A",
          "size": [
           2452595
          ],
          "sizemode": "area",
          "sizeref": 27650.37
         },
         "mode": "markers",
         "name": "Bellary",
         "showlegend": true,
         "subplot": "mapbox",
         "type": "scattermapbox"
        },
        {
         "hovertemplate": "<b>%{hovertext}</b><br><br>District name=Giridih<br>Population=%{marker.size}<br>Latitude=%{lat}<br>Longitude=%{lon}<extra></extra>",
         "hovertext": [
          "JHARKHAND"
         ],
         "lat": [
          24.30578509874329
         ],
         "legendgroup": "Giridih",
         "lon": [
          86.08710915619386
         ],
         "marker": {
          "color": "#19d3f3",
          "size": [
           2445474
          ],
          "sizemode": "area",
          "sizeref": 27650.37
         },
         "mode": "markers",
         "name": "Giridih",
         "showlegend": true,
         "subplot": "mapbox",
         "type": "scattermapbox"
        },
        {
         "hovertemplate": "<b>%{hovertext}</b><br><br>District name=Sabar Kantha<br>Population=%{marker.size}<br>Latitude=%{lat}<br>Longitude=%{lon}<extra></extra>",
         "hovertext": [
          "GUJARAT"
         ],
         "lat": [
          23.71803594548552
         ],
         "legendgroup": "Sabar Kantha",
         "lon": [
          73.13638790459964
         ],
         "marker": {
          "color": "#FF6692",
          "size": [
           2428589
          ],
          "sizemode": "area",
          "sizeref": 27650.37
         },
         "mode": "markers",
         "name": "Sabar Kantha",
         "showlegend": true,
         "subplot": "mapbox",
         "type": "scattermapbox"
        },
        {
         "hovertemplate": "<b>%{hovertext}</b><br><br>District name=Bhilwara<br>Population=%{marker.size}<br>Latitude=%{lat}<br>Longitude=%{lon}<extra></extra>",
         "hovertext": [
          "RAJASTHAN"
         ],
         "lat": [
          25.45119767759564
         ],
         "legendgroup": "Bhilwara",
         "lon": [
          74.63947595628417
         ],
         "marker": {
          "color": "#B6E880",
          "size": [
           2408523
          ],
          "sizemode": "area",
          "sizeref": 27650.37
         },
         "mode": "markers",
         "name": "Bhilwara",
         "showlegend": true,
         "subplot": "mapbox",
         "type": "scattermapbox"
        },
        {
         "hovertemplate": "<b>%{hovertext}</b><br><br>District name=Thanjavur<br>Population=%{marker.size}<br>Latitude=%{lat}<br>Longitude=%{lon}<extra></extra>",
         "hovertext": [
          "TAMIL NADU"
         ],
         "lat": [
          10.387692255892237
         ],
         "legendgroup": "Thanjavur",
         "lon": [
          79.3194869107745
         ],
         "marker": {
          "color": "#FF97FF",
          "size": [
           2405890
          ],
          "sizemode": "area",
          "sizeref": 27650.37
         },
         "mode": "markers",
         "name": "Thanjavur",
         "showlegend": true,
         "subplot": "mapbox",
         "type": "scattermapbox"
        },
        {
         "hovertemplate": "<b>%{hovertext}</b><br><br>District name=Ambedkar Nagar<br>Population=%{marker.size}<br>Latitude=%{lat}<br>Longitude=%{lon}<extra></extra>",
         "hovertext": [
          "UTTAR PRADESH"
         ],
         "lat": [
          26.39119025974028
         ],
         "legendgroup": "Ambedkar Nagar",
         "lon": [
          82.68282142857147
         ],
         "marker": {
          "color": "#FECB52",
          "size": [
           2397888
          ],
          "sizemode": "area",
          "sizeref": 27650.37
         },
         "mode": "markers",
         "name": "Ambedkar Nagar",
         "showlegend": true,
         "subplot": "mapbox",
         "type": "scattermapbox"
        },
        {
         "hovertemplate": "<b>%{hovertext}</b><br><br>District name=Panch Mahals<br>Population=%{marker.size}<br>Latitude=%{lat}<br>Longitude=%{lon}<extra></extra>",
         "hovertext": [
          "GUJARAT"
         ],
         "lat": [
          22.80435606837605
         ],
         "legendgroup": "Panch Mahals",
         "lon": [
          73.61984598290586
         ],
         "marker": {
          "color": "#636efa",
          "size": [
           2390776
          ],
          "sizemode": "area",
          "sizeref": 27650.37
         },
         "mode": "markers",
         "name": "Panch Mahals",
         "showlegend": true,
         "subplot": "mapbox",
         "type": "scattermapbox"
        },
        {
         "hovertemplate": "<b>%{hovertext}</b><br><br>District name=Sagar<br>Population=%{marker.size}<br>Latitude=%{lat}<br>Longitude=%{lon}<extra></extra>",
         "hovertext": [
          "MADHYA PRADESH"
         ],
         "lat": [
          23.800318709677374
         ],
         "legendgroup": "Sagar",
         "lon": [
          78.71940357771273
         ],
         "marker": {
          "color": "#EF553B",
          "size": [
           2378458
          ],
          "sizemode": "area",
          "sizeref": 27650.37
         },
         "mode": "markers",
         "name": "Sagar",
         "showlegend": true,
         "subplot": "mapbox",
         "type": "scattermapbox"
        },
        {
         "hovertemplate": "<b>%{hovertext}</b><br><br>District name=Bhopal<br>Population=%{marker.size}<br>Latitude=%{lat}<br>Longitude=%{lon}<extra></extra>",
         "hovertext": [
          "MADHYA PRADESH"
         ],
         "lat": [
          23.480726143790854
         ],
         "legendgroup": "Bhopal",
         "lon": [
          77.39246623093679
         ],
         "marker": {
          "color": "#00cc96",
          "size": [
           2371061
          ],
          "sizemode": "area",
          "sizeref": 27650.37
         },
         "mode": "markers",
         "name": "Bhopal",
         "showlegend": true,
         "subplot": "mapbox",
         "type": "scattermapbox"
        },
        {
         "hovertemplate": "<b>%{hovertext}</b><br><br>District name=Rewa<br>Population=%{marker.size}<br>Latitude=%{lat}<br>Longitude=%{lon}<extra></extra>",
         "hovertext": [
          "MADHYA PRADESH"
         ],
         "lat": [
          24.861184625158856
         ],
         "legendgroup": "Rewa",
         "lon": [
          81.57572465057183
         ],
         "marker": {
          "color": "#ab63fa",
          "size": [
           2365106
          ],
          "sizemode": "area",
          "sizeref": 27650.37
         },
         "mode": "markers",
         "name": "Rewa",
         "showlegend": true,
         "subplot": "mapbox",
         "type": "scattermapbox"
        },
        {
         "hovertemplate": "<b>%{hovertext}</b><br><br>District name=Bikaner<br>Population=%{marker.size}<br>Latitude=%{lat}<br>Longitude=%{lon}<extra></extra>",
         "hovertext": [
          "RAJASTHAN"
         ],
         "lat": [
          28.12489068322981
         ],
         "legendgroup": "Bikaner",
         "lon": [
          73.26943322981371
         ],
         "marker": {
          "color": "#FFA15A",
          "size": [
           2363937
          ],
          "sizemode": "area",
          "sizeref": 27650.37
         },
         "mode": "markers",
         "name": "Bikaner",
         "showlegend": true,
         "subplot": "mapbox",
         "type": "scattermapbox"
        },
        {
         "hovertemplate": "<b>%{hovertext}</b><br><br>District name=Surguja<br>Population=%{marker.size}<br>Latitude=%{lat}<br>Longitude=%{lon}<extra></extra>",
         "hovertext": [
          "CHHATTISGARH"
         ],
         "lat": [
          23.32719278728607
         ],
         "legendgroup": "Surguja",
         "lon": [
          83.23582493887531
         ],
         "marker": {
          "color": "#19d3f3",
          "size": [
           2359886
          ],
          "sizemode": "area",
          "sizeref": 27650.37
         },
         "mode": "markers",
         "name": "Surguja",
         "showlegend": true,
         "subplot": "mapbox",
         "type": "scattermapbox"
        },
        {
         "hovertemplate": "<b>%{hovertext}</b><br><br>District name=Vizianagaram<br>Population=%{marker.size}<br>Latitude=%{lat}<br>Longitude=%{lon}<extra></extra>",
         "hovertext": [
          "ANDHRA PRADESH"
         ],
         "lat": [
          18.28329696032972
         ],
         "legendgroup": "Vizianagaram",
         "lon": [
          83.45982854198873
         ],
         "marker": {
          "color": "#FF6692",
          "size": [
           2344474
          ],
          "sizemode": "area",
          "sizeref": 27650.37
         },
         "mode": "markers",
         "name": "Vizianagaram",
         "showlegend": true,
         "subplot": "mapbox",
         "type": "scattermapbox"
        },
        {
         "hovertemplate": "<b>%{hovertext}</b><br><br>District name=Rampur<br>Population=%{marker.size}<br>Latitude=%{lat}<br>Longitude=%{lon}<extra></extra>",
         "hovertext": [
          "UTTAR PRADESH"
         ],
         "lat": [
          28.83244727272725
         ],
         "legendgroup": "Rampur",
         "lon": [
          79.10977333333337
         ],
         "marker": {
          "color": "#B6E880",
          "size": [
           2335819
          ],
          "sizemode": "area",
          "sizeref": 27650.37
         },
         "mode": "markers",
         "name": "Rampur",
         "showlegend": true,
         "subplot": "mapbox",
         "type": "scattermapbox"
        },
        {
         "hovertemplate": "<b>%{hovertext}</b><br><br>District name=Baleshwar<br>Population=%{marker.size}<br>Latitude=%{lat}<br>Longitude=%{lon}<extra></extra>",
         "hovertext": [
          "ORISSA"
         ],
         "lat": [
          21.48570932311624
         ],
         "legendgroup": "Baleshwar",
         "lon": [
          87.08085828011933
         ],
         "marker": {
          "color": "#FF97FF",
          "size": [
           2320529
          ],
          "sizemode": "area",
          "sizeref": 27650.37
         },
         "mode": "markers",
         "name": "Baleshwar",
         "showlegend": true,
         "subplot": "mapbox",
         "type": "scattermapbox"
        },
        {
         "hovertemplate": "<b>%{hovertext}</b><br><br>District name=Kheda<br>Population=%{marker.size}<br>Latitude=%{lat}<br>Longitude=%{lon}<extra></extra>",
         "hovertext": [
          "GUJARAT"
         ],
         "lat": [
          22.88765312500002
         ],
         "legendgroup": "Kheda",
         "lon": [
          73.018803515625
         ],
         "marker": {
          "color": "#FECB52",
          "size": [
           2299885
          ],
          "sizemode": "area",
          "sizeref": 27650.37
         },
         "mode": "markers",
         "name": "Kheda",
         "showlegend": true,
         "subplot": "mapbox",
         "type": "scattermapbox"
        },
        {
         "hovertemplate": "<b>%{hovertext}</b><br><br>District name=Gurdaspur<br>Population=%{marker.size}<br>Latitude=%{lat}<br>Longitude=%{lon}<extra></extra>",
         "hovertext": [
          "PUNJAB"
         ],
         "lat": [
          32.04283371212125
         ],
         "legendgroup": "Gurdaspur",
         "lon": [
          75.3204064393939
         ],
         "marker": {
          "color": "#636efa",
          "size": [
           2298323
          ],
          "sizemode": "area",
          "sizeref": 27650.37
         },
         "mode": "markers",
         "name": "Gurdaspur",
         "showlegend": true,
         "subplot": "mapbox",
         "type": "scattermapbox"
        },
        {
         "hovertemplate": "<b>%{hovertext}</b><br><br>District name=Erode<br>Population=%{marker.size}<br>Latitude=%{lat}<br>Longitude=%{lon}<extra></extra>",
         "hovertext": [
          "TAMIL NADU"
         ],
         "lat": [
          11.267012155963302
         ],
         "legendgroup": "Erode",
         "lon": [
          77.42034334862392
         ],
         "marker": {
          "color": "#EF553B",
          "size": [
           2251744
          ],
          "sizemode": "area",
          "sizeref": 27650.37
         },
         "mode": "markers",
         "name": "Erode",
         "showlegend": true,
         "subplot": "mapbox",
         "type": "scattermapbox"
        },
        {
         "hovertemplate": "<b>%{hovertext}</b><br><br>District name=Khordha<br>Population=%{marker.size}<br>Latitude=%{lat}<br>Longitude=%{lon}<extra></extra>",
         "hovertext": [
          "ORISSA"
         ],
         "lat": [
          20.054162322274863
         ],
         "legendgroup": "Khordha",
         "lon": [
          85.52234834123229
         ],
         "marker": {
          "color": "#00cc96",
          "size": [
           2251673
          ],
          "sizemode": "area",
          "sizeref": 27650.37
         },
         "mode": "markers",
         "name": "Khordha",
         "showlegend": true,
         "subplot": "mapbox",
         "type": "scattermapbox"
        },
        {
         "hovertemplate": "<b>%{hovertext}</b><br><br>District name=Supaul<br>Population=%{marker.size}<br>Latitude=%{lat}<br>Longitude=%{lon}<extra></extra>",
         "hovertext": [
          "BIHAR"
         ],
         "lat": [
          26.28157893772896
         ],
         "legendgroup": "Supaul",
         "lon": [
          86.78496465201461
         ],
         "marker": {
          "color": "#ab63fa",
          "size": [
           2229076
          ],
          "sizemode": "area",
          "sizeref": 27650.37
         },
         "mode": "markers",
         "name": "Supaul",
         "showlegend": true,
         "subplot": "mapbox",
         "type": "scattermapbox"
        },
        {
         "hovertemplate": "<b>%{hovertext}</b><br><br>District name=Satna<br>Population=%{marker.size}<br>Latitude=%{lat}<br>Longitude=%{lon}<extra></extra>",
         "hovertext": [
          "MADHYA PRADESH"
         ],
         "lat": [
          24.62777621776502
         ],
         "legendgroup": "Satna",
         "lon": [
          80.75547048710598
         ],
         "marker": {
          "color": "#FFA15A",
          "size": [
           2228935
          ],
          "sizemode": "area",
          "sizeref": 27650.37
         },
         "mode": "markers",
         "name": "Satna",
         "showlegend": true,
         "subplot": "mapbox",
         "type": "scattermapbox"
        },
        {
         "hovertemplate": "<b>%{hovertext}</b><br><br>District name=Nawada<br>Population=%{marker.size}<br>Latitude=%{lat}<br>Longitude=%{lon}<extra></extra>",
         "hovertext": [
          "BIHAR"
         ],
         "lat": [
          24.825708836206903
         ],
         "legendgroup": "Nawada",
         "lon": [
          85.61594568965519
         ],
         "marker": {
          "color": "#19d3f3",
          "size": [
           2219146
          ],
          "sizemode": "area",
          "sizeref": 27650.37
         },
         "mode": "markers",
         "name": "Nawada",
         "showlegend": true,
         "subplot": "mapbox",
         "type": "scattermapbox"
        },
        {
         "hovertemplate": "<b>%{hovertext}</b><br><br>District name=Mau<br>Population=%{marker.size}<br>Latitude=%{lat}<br>Longitude=%{lon}<extra></extra>",
         "hovertext": [
          "UTTAR PRADESH"
         ],
         "lat": [
          26.01082203791469
         ],
         "legendgroup": "Mau",
         "lon": [
          83.50582654028433
         ],
         "marker": {
          "color": "#FF6692",
          "size": [
           2205968
          ],
          "sizemode": "area",
          "sizeref": 27650.37
         },
         "mode": "markers",
         "name": "Mau",
         "showlegend": true,
         "subplot": "mapbox",
         "type": "scattermapbox"
        },
        {
         "hovertemplate": "<b>%{hovertext}</b><br><br>District name=Chandrapur<br>Population=%{marker.size}<br>Latitude=%{lat}<br>Longitude=%{lon}<extra></extra>",
         "hovertext": [
          "MAHARASHTRA"
         ],
         "lat": [
          20.095609090909075
         ],
         "legendgroup": "Chandrapur",
         "lon": [
          79.31556380471388
         ],
         "marker": {
          "color": "#B6E880",
          "size": [
           2204307
          ],
          "sizemode": "area",
          "sizeref": 27650.37
         },
         "mode": "markers",
         "name": "Chandrapur",
         "showlegend": true,
         "subplot": "mapbox",
         "type": "scattermapbox"
        },
        {
         "hovertemplate": "<b>%{hovertext}</b><br><br>District name=Jalandhar<br>Population=%{marker.size}<br>Latitude=%{lat}<br>Longitude=%{lon}<extra></extra>",
         "hovertext": [
          "PUNJAB"
         ],
         "lat": [
          31.250336907216507
         ],
         "legendgroup": "Jalandhar",
         "lon": [
          75.54400350515463
         ],
         "marker": {
          "color": "#FF97FF",
          "size": [
           2193590
          ],
          "sizemode": "area",
          "sizeref": 27650.37
         },
         "mode": "markers",
         "name": "Jalandhar",
         "showlegend": true,
         "subplot": "mapbox",
         "type": "scattermapbox"
        },
        {
         "hovertemplate": "<b>%{hovertext}</b><br><br>District name=Dhar<br>Population=%{marker.size}<br>Latitude=%{lat}<br>Longitude=%{lon}<extra></extra>",
         "hovertext": [
          "MADHYA PRADESH"
         ],
         "lat": [
          22.572681718963157
         ],
         "legendgroup": "Dhar",
         "lon": [
          75.1105620736698
         ],
         "marker": {
          "color": "#FECB52",
          "size": [
           2185793
          ],
          "sizemode": "area",
          "sizeref": 27650.37
         },
         "mode": "markers",
         "name": "Dhar",
         "showlegend": true,
         "subplot": "mapbox",
         "type": "scattermapbox"
        },
        {
         "hovertemplate": "<b>%{hovertext}</b><br><br>District name=Bijapur<br>Population=%{marker.size}<br>Latitude=%{lat}<br>Longitude=%{lon}<extra></extra>",
         "hovertext": [
          "KARNATAKA",
          "CHHATTISGARH"
         ],
         "lat": [
          16.84015316666667,
          16.84015316666667
         ],
         "legendgroup": "Bijapur",
         "lon": [
          75.95909166666665,
          75.95909166666665
         ],
         "marker": {
          "color": "#636efa",
          "size": [
           2177331,
           255230
          ],
          "sizemode": "area",
          "sizeref": 27650.37
         },
         "mode": "markers",
         "name": "Bijapur",
         "showlegend": true,
         "subplot": "mapbox",
         "type": "scattermapbox"
        },
        {
         "hovertemplate": "<b>%{hovertext}</b><br><br>District name=Jamnagar<br>Population=%{marker.size}<br>Latitude=%{lat}<br>Longitude=%{lon}<extra></extra>",
         "hovertext": [
          "GUJARAT"
         ],
         "lat": [
          22.410600414263328
         ],
         "legendgroup": "Jamnagar",
         "lon": [
          69.62062005768233
         ],
         "marker": {
          "color": "#EF553B",
          "size": [
           2160119
          ],
          "sizemode": "area",
          "sizeref": 27650.37
         },
         "mode": "markers",
         "name": "Jamnagar",
         "showlegend": true,
         "subplot": "mapbox",
         "type": "scattermapbox"
        },
        {
         "hovertemplate": "<b>%{hovertext}</b><br><br>District name=Dindigul<br>Population=%{marker.size}<br>Latitude=%{lat}<br>Longitude=%{lon}<extra></extra>",
         "hovertext": [
          "TAMIL NADU"
         ],
         "lat": [
          10.377801390820574
         ],
         "legendgroup": "Dindigul",
         "lon": [
          77.78011279554937
         ],
         "marker": {
          "color": "#00cc96",
          "size": [
           2159775
          ],
          "sizemode": "area",
          "sizeref": 27650.37
         },
         "mode": "markers",
         "name": "Dindigul",
         "showlegend": true,
         "subplot": "mapbox",
         "type": "scattermapbox"
        },
        {
         "hovertemplate": "<b>%{hovertext}</b><br><br>District name=Balrampur<br>Population=%{marker.size}<br>Latitude=%{lat}<br>Longitude=%{lon}<extra></extra>",
         "hovertext": [
          "UTTAR PRADESH"
         ],
         "lat": [
          27.449076537911324
         ],
         "legendgroup": "Balrampur",
         "lon": [
          82.47158326180256
         ],
         "marker": {
          "color": "#ab63fa",
          "size": [
           2148665
          ],
          "sizemode": "area",
          "sizeref": 27650.37
         },
         "mode": "markers",
         "name": "Balrampur",
         "showlegend": true,
         "subplot": "mapbox",
         "type": "scattermapbox"
        },
        {
         "hovertemplate": "<b>%{hovertext}</b><br><br>District name=Jhunjhunun<br>Population=%{marker.size}<br>Latitude=%{lat}<br>Longitude=%{lon}<extra></extra>",
         "hovertext": [
          "RAJASTHAN"
         ],
         "lat": [
          28.13517401247401
         ],
         "legendgroup": "Jhunjhunun",
         "lon": [
          75.52840893970894
         ],
         "marker": {
          "color": "#FFA15A",
          "size": [
           2137045
          ],
          "sizemode": "area",
          "sizeref": 27650.37
         },
         "mode": "markers",
         "name": "Jhunjhunun",
         "showlegend": true,
         "subplot": "mapbox",
         "type": "scattermapbox"
        },
        {
         "hovertemplate": "<b>%{hovertext}</b><br><br>District name=Alappuzha<br>Population=%{marker.size}<br>Latitude=%{lat}<br>Longitude=%{lon}<extra></extra>",
         "hovertext": [
          "KERALA"
         ],
         "lat": [
          9.542602965599087
         ],
         "legendgroup": "Alappuzha",
         "lon": [
          76.38010796263319
         ],
         "marker": {
          "color": "#19d3f3",
          "size": [
           2127789
          ],
          "sizemode": "area",
          "sizeref": 27650.37
         },
         "mode": "markers",
         "name": "Alappuzha",
         "showlegend": true,
         "subplot": "mapbox",
         "type": "scattermapbox"
        },
        {
         "hovertemplate": "<b>%{hovertext}</b><br><br>District name=Sundargarh<br>Population=%{marker.size}<br>Latitude=%{lat}<br>Longitude=%{lon}<extra></extra>",
         "hovertext": [
          "ORISSA"
         ],
         "lat": [
          22.06354819277107
         ],
         "legendgroup": "Sundargarh",
         "lon": [
          84.50524819277099
         ],
         "marker": {
          "color": "#FF6692",
          "size": [
           2093437
          ],
          "sizemode": "area",
          "sizeref": 27650.37
         },
         "mode": "markers",
         "name": "Sundargarh",
         "showlegend": true,
         "subplot": "mapbox",
         "type": "scattermapbox"
        },
        {
         "hovertemplate": "<b>%{hovertext}</b><br><br>District name=Anand<br>Population=%{marker.size}<br>Latitude=%{lat}<br>Longitude=%{lon}<extra></extra>",
         "hovertext": [
          "GUJARAT"
         ],
         "lat": [
          22.282718206229863
         ],
         "legendgroup": "Anand",
         "lon": [
          72.57782051557454
         ],
         "marker": {
          "color": "#B6E880",
          "size": [
           2092745
          ],
          "sizemode": "area",
          "sizeref": 27650.37
         },
         "mode": "markers",
         "name": "Anand",
         "showlegend": true,
         "subplot": "mapbox",
         "type": "scattermapbox"
        },
        {
         "hovertemplate": "<b>%{hovertext}</b><br><br>District name=Kachchh<br>Population=%{marker.size}<br>Latitude=%{lat}<br>Longitude=%{lon}<extra></extra>",
         "hovertext": [
          "GUJARAT"
         ],
         "lat": [
          23.48057203301311
         ],
         "legendgroup": "Kachchh",
         "lon": [
          68.82192301497916
         ],
         "marker": {
          "color": "#FF97FF",
          "size": [
           2092371
          ],
          "sizemode": "area",
          "sizeref": 27650.37
         },
         "mode": "markers",
         "name": "Kachchh",
         "showlegend": true,
         "subplot": "mapbox",
         "type": "scattermapbox"
        },
        {
         "hovertemplate": "<b>%{hovertext}</b><br><br>District name=Chhindwara<br>Population=%{marker.size}<br>Latitude=%{lat}<br>Longitude=%{lon}<extra></extra>",
         "hovertext": [
          "MADHYA PRADESH"
         ],
         "lat": [
          22.227966971713823
         ],
         "legendgroup": "Chhindwara",
         "lon": [
          78.76413136439254
         ],
         "marker": {
          "color": "#FECB52",
          "size": [
           2090922
          ],
          "sizemode": "area",
          "sizeref": 27650.37
         },
         "mode": "markers",
         "name": "Chhindwara",
         "showlegend": true,
         "subplot": "mapbox",
         "type": "scattermapbox"
        },
        {
         "hovertemplate": "<b>%{hovertext}</b><br><br>District name=Bokaro<br>Population=%{marker.size}<br>Latitude=%{lat}<br>Longitude=%{lon}<extra></extra>",
         "hovertext": [
          "JHARKHAND"
         ],
         "lat": [
          23.6814965034965
         ],
         "legendgroup": "Bokaro",
         "lon": [
          85.98398374125864
         ],
         "marker": {
          "color": "#636efa",
          "size": [
           2062330
          ],
          "sizemode": "area",
          "sizeref": 27650.37
         },
         "mode": "markers",
         "name": "Bokaro",
         "showlegend": true,
         "subplot": "mapbox",
         "type": "scattermapbox"
        },
        {
         "hovertemplate": "<b>%{hovertext}</b><br><br>District name=Dhule<br>Population=%{marker.size}<br>Latitude=%{lat}<br>Longitude=%{lon}<extra></extra>",
         "hovertext": [
          "MAHARASHTRA"
         ],
         "lat": [
          21.274018690400517
         ],
         "legendgroup": "Dhule",
         "lon": [
          74.58719071837263
         ],
         "marker": {
          "color": "#EF553B",
          "size": [
           2050862
          ],
          "sizemode": "area",
          "sizeref": 27650.37
         },
         "mode": "markers",
         "name": "Dhule",
         "showlegend": true,
         "subplot": "mapbox",
         "type": "scattermapbox"
        },
        {
         "hovertemplate": "<b>%{hovertext}</b><br><br>District name=Churu<br>Population=%{marker.size}<br>Latitude=%{lat}<br>Longitude=%{lon}<extra></extra>",
         "hovertext": [
          "RAJASTHAN"
         ],
         "lat": [
          28.29330375536484
         ],
         "legendgroup": "Churu",
         "lon": [
          74.65846427038629
         ],
         "marker": {
          "color": "#00cc96",
          "size": [
           2039547
          ],
          "sizemode": "area",
          "sizeref": 27650.37
         },
         "mode": "markers",
         "name": "Churu",
         "showlegend": true,
         "subplot": "mapbox",
         "type": "scattermapbox"
        },
        {
         "hovertemplate": "<b>%{hovertext}</b><br><br>District name=Pali<br>Population=%{marker.size}<br>Latitude=%{lat}<br>Longitude=%{lon}<extra></extra>",
         "hovertext": [
          "RAJASTHAN"
         ],
         "lat": [
          25.80490393541874
         ],
         "legendgroup": "Pali",
         "lon": [
          73.55285640766907
         ],
         "marker": {
          "color": "#ab63fa",
          "size": [
           2037573
          ],
          "sizemode": "area",
          "sizeref": 27650.37
         },
         "mode": "markers",
         "name": "Pali",
         "showlegend": true,
         "subplot": "mapbox",
         "type": "scattermapbox"
        },
        {
         "hovertemplate": "<b>%{hovertext}</b><br><br>District name=Mahesana<br>Population=%{marker.size}<br>Latitude=%{lat}<br>Longitude=%{lon}<extra></extra>",
         "hovertext": [
          "GUJARAT"
         ],
         "lat": [
          23.529355452865065
         ],
         "legendgroup": "Mahesana",
         "lon": [
          72.45545194085031
         ],
         "marker": {
          "color": "#FFA15A",
          "size": [
           2035064
          ],
          "sizemode": "area",
          "sizeref": 27650.37
         },
         "mode": "markers",
         "name": "Mahesana",
         "showlegend": true,
         "subplot": "mapbox",
         "type": "scattermapbox"
        },
        {
         "hovertemplate": "<b>%{hovertext}</b><br><br>District name=Banka<br>Population=%{marker.size}<br>Latitude=%{lat}<br>Longitude=%{lon}<extra></extra>",
         "hovertext": [
          "BIHAR"
         ],
         "lat": [
          24.832355642023337
         ],
         "legendgroup": "Banka",
         "lon": [
          86.8664916342413
         ],
         "marker": {
          "color": "#19d3f3",
          "size": [
           2034763
          ],
          "sizemode": "area",
          "sizeref": 27650.37
         },
         "mode": "markers",
         "name": "Banka",
         "showlegend": true,
         "subplot": "mapbox",
         "type": "scattermapbox"
        },
        {
         "hovertemplate": "<b>%{hovertext}</b><br><br>District name=Gwalior<br>Population=%{marker.size}<br>Latitude=%{lat}<br>Longitude=%{lon}<extra></extra>",
         "hovertext": [
          "MADHYA PRADESH"
         ],
         "lat": [
          26.04074441964285
         ],
         "legendgroup": "Gwalior",
         "lon": [
          78.12782433035713
         ],
         "marker": {
          "color": "#FF6692",
          "size": [
           2032036
          ],
          "sizemode": "area",
          "sizeref": 27650.37
         },
         "mode": "markers",
         "name": "Gwalior",
         "showlegend": true,
         "subplot": "mapbox",
         "type": "scattermapbox"
        },
        {
         "hovertemplate": "<b>%{hovertext}</b><br><br>District name=Pilibhit<br>Population=%{marker.size}<br>Latitude=%{lat}<br>Longitude=%{lon}<extra></extra>",
         "hovertext": [
          "UTTAR PRADESH"
         ],
         "lat": [
          28.52024175035868
         ],
         "legendgroup": "Pilibhit",
         "lon": [
          79.90103974175037
         ],
         "marker": {
          "color": "#B6E880",
          "size": [
           2031007
          ],
          "sizemode": "area",
          "sizeref": 27650.37
         },
         "mode": "markers",
         "name": "Pilibhit",
         "showlegend": true,
         "subplot": "mapbox",
         "type": "scattermapbox"
        },
        {
         "hovertemplate": "<b>%{hovertext}</b><br><br>District name=Firozpur<br>Population=%{marker.size}<br>Latitude=%{lat}<br>Longitude=%{lon}<extra></extra>",
         "hovertext": [
          "PUNJAB"
         ],
         "lat": [
          30.63407535211269
         ],
         "legendgroup": "Firozpur",
         "lon": [
          74.40245732394365
         ],
         "marker": {
          "color": "#FF97FF",
          "size": [
           2029074
          ],
          "sizemode": "area",
          "sizeref": 27650.37
         },
         "mode": "markers",
         "name": "Firozpur",
         "showlegend": true,
         "subplot": "mapbox",
         "type": "scattermapbox"
        },
        {
         "hovertemplate": "<b>%{hovertext}</b><br><br>District name=Madhepura<br>Population=%{marker.size}<br>Latitude=%{lat}<br>Longitude=%{lon}<extra></extra>",
         "hovertext": [
          "BIHAR"
         ],
         "lat": [
          25.77341929460581
         ],
         "legendgroup": "Madhepura",
         "lon": [
          86.8978443983403
         ],
         "marker": {
          "color": "#FECB52",
          "size": [
           2001762
          ],
          "sizemode": "area",
          "sizeref": 27650.37
         },
         "mode": "markers",
         "name": "Madhepura",
         "showlegend": true,
         "subplot": "mapbox",
         "type": "scattermapbox"
        },
        {
         "hovertemplate": "<b>%{hovertext}</b><br><br>District name=Jhansi<br>Population=%{marker.size}<br>Latitude=%{lat}<br>Longitude=%{lon}<extra></extra>",
         "hovertext": [
          "UTTAR PRADESH"
         ],
         "lat": [
          25.45581535234902
         ],
         "legendgroup": "Jhansi",
         "lon": [
          78.89954580536917
         ],
         "marker": {
          "color": "#636efa",
          "size": [
           1998603
          ],
          "sizemode": "area",
          "sizeref": 27650.37
         },
         "mode": "markers",
         "name": "Jhansi",
         "showlegend": true,
         "subplot": "mapbox",
         "type": "scattermapbox"
        },
        {
         "hovertemplate": "<b>%{hovertext}</b><br><br>District name=Ujjain<br>Population=%{marker.size}<br>Latitude=%{lat}<br>Longitude=%{lon}<extra></extra>",
         "hovertext": [
          "MADHYA PRADESH"
         ],
         "lat": [
          23.319288862745065
         ],
         "legendgroup": "Ujjain",
         "lon": [
          75.80383717647058
         ],
         "marker": {
          "color": "#EF553B",
          "size": [
           1986864
          ],
          "sizemode": "area",
          "sizeref": 27650.37
         },
         "mode": "markers",
         "name": "Ujjain",
         "showlegend": true,
         "subplot": "mapbox",
         "type": "scattermapbox"
        },
        {
         "hovertemplate": "<b>%{hovertext}</b><br><br>District name=Kottayam<br>Population=%{marker.size}<br>Latitude=%{lat}<br>Longitude=%{lon}<extra></extra>",
         "hovertext": [
          "KERALA"
         ],
         "lat": [
          9.643701174068417
         ],
         "legendgroup": "Kottayam",
         "lon": [
          76.46059673302705
         ],
         "marker": {
          "color": "#00cc96",
          "size": [
           1974551
          ],
          "sizemode": "area",
          "sizeref": 27650.37
         },
         "mode": "markers",
         "name": "Kottayam",
         "showlegend": true,
         "subplot": "mapbox",
         "type": "scattermapbox"
        },
        {
         "hovertemplate": "<b>%{hovertext}</b><br><br>District name=Ganganagar<br>Population=%{marker.size}<br>Latitude=%{lat}<br>Longitude=%{lon}<extra></extra>",
         "hovertext": [
          "RAJASTHAN"
         ],
         "lat": [
          29.256785412667963
         ],
         "legendgroup": "Ganganagar",
         "lon": [
          73.56192303262948
         ],
         "marker": {
          "color": "#ab63fa",
          "size": [
           1969168
          ],
          "sizemode": "area",
          "sizeref": 27650.37
         },
         "mode": "markers",
         "name": "Ganganagar",
         "showlegend": true,
         "subplot": "mapbox",
         "type": "scattermapbox"
        },
        {
         "hovertemplate": "<b>%{hovertext}</b><br><br>District name=Morena<br>Population=%{marker.size}<br>Latitude=%{lat}<br>Longitude=%{lon}<extra></extra>",
         "hovertext": [
          "MADHYA PRADESH"
         ],
         "lat": [
          26.37313504531724
         ],
         "legendgroup": "Morena",
         "lon": [
          77.88447341389724
         ],
         "marker": {
          "color": "#FFA15A",
          "size": [
           1965970
          ],
          "sizemode": "area",
          "sizeref": 27650.37
         },
         "mode": "markers",
         "name": "Morena",
         "showlegend": true,
         "subplot": "mapbox",
         "type": "scattermapbox"
        },
        {
         "hovertemplate": "<b>%{hovertext}</b><br><br>District name=Jalna<br>Population=%{marker.size}<br>Latitude=%{lat}<br>Longitude=%{lon}<extra></extra>",
         "hovertext": [
          "MAHARASHTRA"
         ],
         "lat": [
          19.984612534818933
         ],
         "legendgroup": "Jalna",
         "lon": [
          75.98473607242339
         ],
         "marker": {
          "color": "#19d3f3",
          "size": [
           1959046
          ],
          "sizemode": "area",
          "sizeref": 27650.37
         },
         "mode": "markers",
         "name": "Jalna",
         "showlegend": true,
         "subplot": "mapbox",
         "type": "scattermapbox"
        },
        {
         "hovertemplate": "<b>%{hovertext}</b><br><br>District name=Chandauli<br>Population=%{marker.size}<br>Latitude=%{lat}<br>Longitude=%{lon}<extra></extra>",
         "hovertext": [
          "UTTAR PRADESH"
         ],
         "lat": [
          25.1180859611231
         ],
         "legendgroup": "Chandauli",
         "lon": [
          83.25307062634984
         ],
         "marker": {
          "color": "#FF6692",
          "size": [
           1952756
          ],
          "sizemode": "area",
          "sizeref": 27650.37
         },
         "mode": "markers",
         "name": "Chandauli",
         "showlegend": true,
         "subplot": "mapbox",
         "type": "scattermapbox"
        },
        {
         "hovertemplate": "<b>%{hovertext}</b><br><br>District name=Kota<br>Population=%{marker.size}<br>Latitude=%{lat}<br>Longitude=%{lon}<extra></extra>",
         "hovertext": [
          "RAJASTHAN"
         ],
         "lat": [
          25.175718080000014
         ],
         "legendgroup": "Kota",
         "lon": [
          76.18618928000001
         ],
         "marker": {
          "color": "#B6E880",
          "size": [
           1951014
          ],
          "sizemode": "area",
          "sizeref": 27650.37
         },
         "mode": "markers",
         "name": "Kota",
         "showlegend": true,
         "subplot": "mapbox",
         "type": "scattermapbox"
        },
        {
         "hovertemplate": "<b>%{hovertext}</b><br><br>District name=Davanagere<br>Population=%{marker.size}<br>Latitude=%{lat}<br>Longitude=%{lon}<extra></extra>",
         "hovertext": [
          "KARNATAKA"
         ],
         "lat": [
          14.330414586709884
         ],
         "legendgroup": "Davanagere",
         "lon": [
          75.91723841166937
         ],
         "marker": {
          "color": "#FF97FF",
          "size": [
           1945497
          ],
          "sizemode": "area",
          "sizeref": 27650.37
         },
         "mode": "markers",
         "name": "Davanagere",
         "showlegend": true,
         "subplot": "mapbox",
         "type": "scattermapbox"
        },
        {
         "hovertemplate": "<b>%{hovertext}</b><br><br>District name=Virudhunagar<br>Population=%{marker.size}<br>Latitude=%{lat}<br>Longitude=%{lon}<extra></extra>",
         "hovertext": [
          "TAMIL NADU"
         ],
         "lat": [
          9.468872195892564
         ],
         "legendgroup": "Virudhunagar",
         "lon": [
          77.87641469194315
         ],
         "marker": {
          "color": "#FECB52",
          "size": [
           1942288
          ],
          "sizemode": "area",
          "sizeref": 27650.37
         },
         "mode": "markers",
         "name": "Virudhunagar",
         "showlegend": true,
         "subplot": "mapbox",
         "type": "scattermapbox"
        },
        {
         "hovertemplate": "<b>%{hovertext}</b><br><br>District name=Palamu<br>Population=%{marker.size}<br>Latitude=%{lat}<br>Longitude=%{lon}<extra></extra>",
         "hovertext": [
          "JHARKHAND"
         ],
         "lat": [
          24.196925968109337
         ],
         "legendgroup": "Palamu",
         "lon": [
          84.20310842824594
         ],
         "marker": {
          "color": "#636efa",
          "size": [
           1939869
          ],
          "sizemode": "area",
          "sizeref": 27650.37
         },
         "mode": "markers",
         "name": "Palamu",
         "showlegend": true,
         "subplot": "mapbox",
         "type": "scattermapbox"
        },
        {
         "hovertemplate": "<b>%{hovertext}</b><br><br>District name=Raichur<br>Population=%{marker.size}<br>Latitude=%{lat}<br>Longitude=%{lon}<extra></extra>",
         "hovertext": [
          "KARNATAKA"
         ],
         "lat": [
          16.050795353982295
         ],
         "legendgroup": "Raichur",
         "lon": [
          76.87368606194688
         ],
         "marker": {
          "color": "#EF553B",
          "size": [
           1928812
          ],
          "sizemode": "area",
          "sizeref": 27650.37
         },
         "mode": "markers",
         "name": "Raichur",
         "showlegend": true,
         "subplot": "mapbox",
         "type": "scattermapbox"
        },
        {
         "hovertemplate": "<b>%{hovertext}</b><br><br>District name=Sonitpur<br>Population=%{marker.size}<br>Latitude=%{lat}<br>Longitude=%{lon}<extra></extra>",
         "hovertext": [
          "ASSAM"
         ],
         "lat": [
          26.73514926829268
         ],
         "legendgroup": "Sonitpur",
         "lon": [
          92.85197804878044
         ],
         "marker": {
          "color": "#00cc96",
          "size": [
           1924110
          ],
          "sizemode": "area",
          "sizeref": 27650.37
         },
         "mode": "markers",
         "name": "Sonitpur",
         "showlegend": true,
         "subplot": "mapbox",
         "type": "scattermapbox"
        },
        {
         "hovertemplate": "<b>%{hovertext}</b><br><br>District name=Saharsa<br>Population=%{marker.size}<br>Latitude=%{lat}<br>Longitude=%{lon}<extra></extra>",
         "hovertext": [
          "BIHAR"
         ],
         "lat": [
          25.821270696721303
         ],
         "legendgroup": "Saharsa",
         "lon": [
          86.54670819672135
         ],
         "marker": {
          "color": "#ab63fa",
          "size": [
           1900661
          ],
          "sizemode": "area",
          "sizeref": 27650.37
         },
         "mode": "markers",
         "name": "Saharsa",
         "showlegend": true,
         "subplot": "mapbox",
         "type": "scattermapbox"
        },
        {
         "hovertemplate": "<b>%{hovertext}</b><br><br>District name=Patiala<br>Population=%{marker.size}<br>Latitude=%{lat}<br>Longitude=%{lon}<extra></extra>",
         "hovertext": [
          "PUNJAB"
         ],
         "lat": [
          30.214540380693364
         ],
         "legendgroup": "Patiala",
         "lon": [
          76.27505893949697
         ],
         "marker": {
          "color": "#FFA15A",
          "size": [
           1895686
          ],
          "sizemode": "area",
          "sizeref": 27650.37
         },
         "mode": "markers",
         "name": "Patiala",
         "showlegend": true,
         "subplot": "mapbox",
         "type": "scattermapbox"
        },
        {
         "hovertemplate": "<b>%{hovertext}</b><br><br>District name=Bagalkot<br>Population=%{marker.size}<br>Latitude=%{lat}<br>Longitude=%{lon}<extra></extra>",
         "hovertext": [
          "KARNATAKA"
         ],
         "lat": [
          16.15860676328503
         ],
         "legendgroup": "Bagalkot",
         "lon": [
          75.64526070853468
         ],
         "marker": {
          "color": "#19d3f3",
          "size": [
           1889752
          ],
          "sizemode": "area",
          "sizeref": 27650.37
         },
         "mode": "markers",
         "name": "Bagalkot",
         "showlegend": true,
         "subplot": "mapbox",
         "type": "scattermapbox"
        },
        {
         "hovertemplate": "<b>%{hovertext}</b><br><br>District name=Farrukhabad<br>Population=%{marker.size}<br>Latitude=%{lat}<br>Longitude=%{lon}<extra></extra>",
         "hovertext": [
          "UTTAR PRADESH"
         ],
         "lat": [
          27.45063297872342
         ],
         "legendgroup": "Farrukhabad",
         "lon": [
          79.4406284574468
         ],
         "marker": {
          "color": "#FF6692",
          "size": [
           1885204
          ],
          "sizemode": "area",
          "sizeref": 27650.37
         },
         "mode": "markers",
         "name": "Farrukhabad",
         "showlegend": true,
         "subplot": "mapbox",
         "type": "scattermapbox"
        },
        {
         "hovertemplate": "<b>%{hovertext}</b><br><br>District name=Kanniyakumari<br>Population=%{marker.size}<br>Latitude=%{lat}<br>Longitude=%{lon}<extra></extra>",
         "hovertext": [
          "TAMIL NADU"
         ],
         "lat": [
          8.183466300191206
         ],
         "legendgroup": "Kanniyakumari",
         "lon": [
          77.32053064053538
         ],
         "marker": {
          "color": "#B6E880",
          "size": [
           1870374
          ],
          "sizemode": "area",
          "sizeref": 27650.37
         },
         "mode": "markers",
         "name": "Kanniyakumari",
         "showlegend": true,
         "subplot": "mapbox",
         "type": "scattermapbox"
        },
        {
         "hovertemplate": "<b>%{hovertext}</b><br><br>District name=Mainpuri<br>Population=%{marker.size}<br>Latitude=%{lat}<br>Longitude=%{lon}<extra></extra>",
         "hovertext": [
          "UTTAR PRADESH"
         ],
         "lat": [
          27.17386862302482
         ],
         "legendgroup": "Mainpuri",
         "lon": [
          79.03501851015807
         ],
         "marker": {
          "color": "#FF97FF",
          "size": [
           1868529
          ],
          "sizemode": "area",
          "sizeref": 27650.37
         },
         "mode": "markers",
         "name": "Mainpuri",
         "showlegend": true,
         "subplot": "mapbox",
         "type": "scattermapbox"
        },
        {
         "hovertemplate": "<b>%{hovertext}</b><br><br>District name=Sonbhadra<br>Population=%{marker.size}<br>Latitude=%{lat}<br>Longitude=%{lon}<extra></extra>",
         "hovertext": [
          "UTTAR PRADESH"
         ],
         "lat": [
          24.46693268858798
         ],
         "legendgroup": "Sonbhadra",
         "lon": [
          83.06816324951639
         ],
         "marker": {
          "color": "#FECB52",
          "size": [
           1862559
          ],
          "sizemode": "area",
          "sizeref": 27650.37
         },
         "mode": "markers",
         "name": "Sonbhadra",
         "showlegend": true,
         "subplot": "mapbox",
         "type": "scattermapbox"
        },
        {
         "hovertemplate": "<b>%{hovertext}</b><br><br>District name=Dharwad<br>Population=%{marker.size}<br>Latitude=%{lat}<br>Longitude=%{lon}<extra></extra>",
         "hovertext": [
          "KARNATAKA"
         ],
         "lat": [
          15.343831376975173
         ],
         "legendgroup": "Dharwad",
         "lon": [
          75.13831264108359
         ],
         "marker": {
          "color": "#636efa",
          "size": [
           1847023
          ],
          "sizemode": "area",
          "sizeref": 27650.37
         },
         "mode": "markers",
         "name": "Dharwad",
         "showlegend": true,
         "subplot": "mapbox",
         "type": "scattermapbox"
        },
        {
         "hovertemplate": "<b>%{hovertext}</b><br><br>District name=Darjiling<br>Population=%{marker.size}<br>Latitude=%{lat}<br>Longitude=%{lon}<extra></extra>",
         "hovertext": [
          "WEST BENGAL"
         ],
         "lat": [
          26.839619571045585
         ],
         "legendgroup": "Darjiling",
         "lon": [
          88.33145067024122
         ],
         "marker": {
          "color": "#EF553B",
          "size": [
           1846823
          ],
          "sizemode": "area",
          "sizeref": 27650.37
         },
         "mode": "markers",
         "name": "Darjiling",
         "showlegend": true,
         "subplot": "mapbox",
         "type": "scattermapbox"
        },
        {
         "hovertemplate": "<b>%{hovertext}</b><br><br>District name=Jyotiba Phule Nagar<br>Population=%{marker.size}<br>Latitude=%{lat}<br>Longitude=%{lon}<extra></extra>",
         "hovertext": [
          "UTTAR PRADESH"
         ],
         "lat": [
          28.870498984771597
         ],
         "legendgroup": "Jyotiba Phule Nagar",
         "lon": [
          78.39009365482241
         ],
         "marker": {
          "color": "#00cc96",
          "size": [
           1840221
          ],
          "sizemode": "area",
          "sizeref": 27650.37
         },
         "mode": "markers",
         "name": "Jyotiba Phule Nagar",
         "showlegend": true,
         "subplot": "mapbox",
         "type": "scattermapbox"
        },
        {
         "hovertemplate": "<b>%{hovertext}</b><br><br>District name=Parbhani<br>Population=%{marker.size}<br>Latitude=%{lat}<br>Longitude=%{lon}<extra></extra>",
         "hovertext": [
          "MAHARASHTRA"
         ],
         "lat": [
          19.31032425249168
         ],
         "legendgroup": "Parbhani",
         "lon": [
          76.70163338870431
         ],
         "marker": {
          "color": "#ab63fa",
          "size": [
           1836086
          ],
          "sizemode": "area",
          "sizeref": 27650.37
         },
         "mode": "markers",
         "name": "Parbhani",
         "showlegend": true,
         "subplot": "mapbox",
         "type": "scattermapbox"
        },
        {
         "hovertemplate": "<b>%{hovertext}</b><br><br>District name=Jalor<br>Population=%{marker.size}<br>Latitude=%{lat}<br>Longitude=%{lon}<extra></extra>",
         "hovertext": [
          "RAJASTHAN"
         ],
         "lat": [
          25.07578093797277
         ],
         "legendgroup": "Jalor",
         "lon": [
          72.18647261724662
         ],
         "marker": {
          "color": "#FFA15A",
          "size": [
           1828730
          ],
          "sizemode": "area",
          "sizeref": 27650.37
         },
         "mode": "markers",
         "name": "Jalor",
         "showlegend": true,
         "subplot": "mapbox",
         "type": "scattermapbox"
        },
        {
         "hovertemplate": "<b>%{hovertext}</b><br><br>District name=Akola<br>Population=%{marker.size}<br>Latitude=%{lat}<br>Longitude=%{lon}<extra></extra>",
         "hovertext": [
          "MAHARASHTRA"
         ],
         "lat": [
          20.746310479041902
         ],
         "legendgroup": "Akola",
         "lon": [
          77.12122320359276
         ],
         "marker": {
          "color": "#19d3f3",
          "size": [
           1813906
          ],
          "sizemode": "area",
          "sizeref": 27650.37
         },
         "mode": "markers",
         "name": "Akola",
         "showlegend": true,
         "subplot": "mapbox",
         "type": "scattermapbox"
        },
        {
         "hovertemplate": "<b>%{hovertext}</b><br><br>District name=Faridabad<br>Population=%{marker.size}<br>Latitude=%{lat}<br>Longitude=%{lon}<extra></extra>",
         "hovertext": [
          "HARYANA"
         ],
         "lat": [
          28.14873109756098
         ],
         "legendgroup": "Faridabad",
         "lon": [
          77.32718536585368
         ],
         "marker": {
          "color": "#FF6692",
          "size": [
           1809733
          ],
          "sizemode": "area",
          "sizeref": 27650.37
         },
         "mode": "markers",
         "name": "Faridabad",
         "showlegend": true,
         "subplot": "mapbox",
         "type": "scattermapbox"
        },
        {
         "hovertemplate": "<b>%{hovertext}</b><br><br>District name=Mandya<br>Population=%{marker.size}<br>Latitude=%{lat}<br>Longitude=%{lon}<extra></extra>",
         "hovertext": [
          "KARNATAKA"
         ],
         "lat": [
          12.574901806239744
         ],
         "legendgroup": "Mandya",
         "lon": [
          76.81570098522172
         ],
         "marker": {
          "color": "#B6E880",
          "size": [
           1805769
          ],
          "sizemode": "area",
          "sizeref": 27650.37
         },
         "mode": "markers",
         "name": "Mandya",
         "showlegend": true,
         "subplot": "mapbox",
         "type": "scattermapbox"
        },
        {
         "hovertemplate": "<b>%{hovertext}</b><br><br>District name=Banda<br>Population=%{marker.size}<br>Latitude=%{lat}<br>Longitude=%{lon}<extra></extra>",
         "hovertext": [
          "UTTAR PRADESH"
         ],
         "lat": [
          25.351885902503284
         ],
         "legendgroup": "Banda",
         "lon": [
          80.52487391304344
         ],
         "marker": {
          "color": "#FF97FF",
          "size": [
           1799410
          ],
          "sizemode": "area",
          "sizeref": 27650.37
         },
         "mode": "markers",
         "name": "Banda",
         "showlegend": true,
         "subplot": "mapbox",
         "type": "scattermapbox"
        },
        {
         "hovertemplate": "<b>%{hovertext}</b><br><br>District name=Banswara<br>Population=%{marker.size}<br>Latitude=%{lat}<br>Longitude=%{lon}<extra></extra>",
         "hovertext": [
          "RAJASTHAN"
         ],
         "lat": [
          23.453642032967014
         ],
         "legendgroup": "Banswara",
         "lon": [
          74.44246868131869
         ],
         "marker": {
          "color": "#FECB52",
          "size": [
           1797485
          ],
          "sizemode": "area",
          "sizeref": 27650.37
         },
         "mode": "markers",
         "name": "Banswara",
         "showlegend": true,
         "subplot": "mapbox",
         "type": "scattermapbox"
        },
        {
         "hovertemplate": "<b>%{hovertext}</b><br><br>District name=Kanpur Dehat<br>Population=%{marker.size}<br>Latitude=%{lat}<br>Longitude=%{lon}<extra></extra>",
         "hovertext": [
          "UTTAR PRADESH"
         ],
         "lat": [
          26.43047641196011
         ],
         "legendgroup": "Kanpur Dehat",
         "lon": [
          79.98710083056478
         ],
         "marker": {
          "color": "#636efa",
          "size": [
           1796184
          ],
          "sizemode": "area",
          "sizeref": 27650.37
         },
         "mode": "markers",
         "name": "Kanpur Dehat",
         "showlegend": true,
         "subplot": "mapbox",
         "type": "scattermapbox"
        },
        {
         "hovertemplate": "<b>%{hovertext}</b><br><br>District name=Hassan<br>Population=%{marker.size}<br>Latitude=%{lat}<br>Longitude=%{lon}<extra></extra>",
         "hovertext": [
          "KARNATAKA"
         ],
         "lat": [
          12.945098749999998
         ],
         "legendgroup": "Hassan",
         "lon": [
          76.11049549999997
         ],
         "marker": {
          "color": "#EF553B",
          "size": [
           1776421
          ],
          "sizemode": "area",
          "sizeref": 27650.37
         },
         "mode": "markers",
         "name": "Hassan",
         "showlegend": true,
         "subplot": "mapbox",
         "type": "scattermapbox"
        },
        {
         "hovertemplate": "<b>%{hovertext}</b><br><br>District name=Hanumangarh<br>Population=%{marker.size}<br>Latitude=%{lat}<br>Longitude=%{lon}<extra></extra>",
         "hovertext": [
          "RAJASTHAN"
         ],
         "lat": [
          29.1813351791531
         ],
         "legendgroup": "Hanumangarh",
         "lon": [
          74.74632573289902
         ],
         "marker": {
          "color": "#00cc96",
          "size": [
           1774692
          ],
          "sizemode": "area",
          "sizeref": 27650.37
         },
         "mode": "markers",
         "name": "Hanumangarh",
         "showlegend": true,
         "subplot": "mapbox",
         "type": "scattermapbox"
        },
        {
         "hovertemplate": "<b>%{hovertext}</b><br><br>District name=Etah<br>Population=%{marker.size}<br>Latitude=%{lat}<br>Longitude=%{lon}<extra></extra>",
         "hovertext": [
          "UTTAR PRADESH"
         ],
         "lat": [
          27.591155309734443
         ],
         "legendgroup": "Etah",
         "lon": [
          78.70021858407083
         ],
         "marker": {
          "color": "#ab63fa",
          "size": [
           1774480
          ],
          "sizemode": "area",
          "sizeref": 27650.37
         },
         "mode": "markers",
         "name": "Etah",
         "showlegend": true,
         "subplot": "mapbox",
         "type": "scattermapbox"
        },
        {
         "hovertemplate": "<b>%{hovertext}</b><br><br>District name=Chhatarpur<br>Population=%{marker.size}<br>Latitude=%{lat}<br>Longitude=%{lon}<extra></extra>",
         "hovertext": [
          "MADHYA PRADESH"
         ],
         "lat": [
          24.813637376460004
         ],
         "legendgroup": "Chhatarpur",
         "lon": [
          79.56449299191374
         ],
         "marker": {
          "color": "#FFA15A",
          "size": [
           1762375
          ],
          "sizemode": "area",
          "sizeref": 27650.37
         },
         "mode": "markers",
         "name": "Chhatarpur",
         "showlegend": true,
         "subplot": "mapbox",
         "type": "scattermapbox"
        },
        {
         "hovertemplate": "<b>%{hovertext}</b><br><br>District name=Jamui<br>Population=%{marker.size}<br>Latitude=%{lat}<br>Longitude=%{lon}<extra></extra>",
         "hovertext": [
          "BIHAR"
         ],
         "lat": [
          24.78418380462726
         ],
         "legendgroup": "Jamui",
         "lon": [
          86.26316298200514
         ],
         "marker": {
          "color": "#19d3f3",
          "size": [
           1760405
          ],
          "sizemode": "area",
          "sizeref": 27650.37
         },
         "mode": "markers",
         "name": "Jamui",
         "showlegend": true,
         "subplot": "mapbox",
         "type": "scattermapbox"
        },
        {
         "hovertemplate": "<b>%{hovertext}</b><br><br>District name=Surendranagar<br>Population=%{marker.size}<br>Latitude=%{lat}<br>Longitude=%{lon}<extra></extra>",
         "hovertext": [
          "GUJARAT"
         ],
         "lat": [
          22.82672007299272
         ],
         "legendgroup": "Surendranagar",
         "lon": [
          71.48358740875906
         ],
         "marker": {
          "color": "#FF6692",
          "size": [
           1756268
          ],
          "sizemode": "area",
          "sizeref": 27650.37
         },
         "mode": "markers",
         "name": "Surendranagar",
         "showlegend": true,
         "subplot": "mapbox",
         "type": "scattermapbox"
        },
        {
         "hovertemplate": "<b>%{hovertext}</b><br><br>District name=Shimoga<br>Population=%{marker.size}<br>Latitude=%{lat}<br>Longitude=%{lon}<extra></extra>",
         "hovertext": [
          "KARNATAKA"
         ],
         "lat": [
          14.063845885634592
         ],
         "legendgroup": "Shimoga",
         "lon": [
          75.17882078103197
         ],
         "marker": {
          "color": "#B6E880",
          "size": [
           1752753
          ],
          "sizemode": "area",
          "sizeref": 27650.37
         },
         "mode": "markers",
         "name": "Shimoga",
         "showlegend": true,
         "subplot": "mapbox",
         "type": "scattermapbox"
        },
        {
         "hovertemplate": "<b>%{hovertext}</b><br><br>District name=Hisar<br>Population=%{marker.size}<br>Latitude=%{lat}<br>Longitude=%{lon}<extra></extra>",
         "hovertext": [
          "HARYANA"
         ],
         "lat": [
          29.23628731117825
         ],
         "legendgroup": "Hisar",
         "lon": [
          75.84324682779452
         ],
         "marker": {
          "color": "#FF97FF",
          "size": [
           1743931
          ],
          "sizemode": "area",
          "sizeref": 27650.37
         },
         "mode": "markers",
         "name": "Hisar",
         "showlegend": true,
         "subplot": "mapbox",
         "type": "scattermapbox"
        },
        {
         "hovertemplate": "<b>%{hovertext}</b><br><br>District name=Cachar<br>Population=%{marker.size}<br>Latitude=%{lat}<br>Longitude=%{lon}<extra></extra>",
         "hovertext": [
          "ASSAM"
         ],
         "lat": [
          24.815570668693017
         ],
         "legendgroup": "Cachar",
         "lon": [
          92.86849650455927
         ],
         "marker": {
          "color": "#FECB52",
          "size": [
           1736617
          ],
          "sizemode": "area",
          "sizeref": 27650.37
         },
         "mode": "markers",
         "name": "Cachar",
         "showlegend": true,
         "subplot": "mapbox",
         "type": "scattermapbox"
        },
        {
         "hovertemplate": "<b>%{hovertext}</b><br><br>District name=Namakkal<br>Population=%{marker.size}<br>Latitude=%{lat}<br>Longitude=%{lon}<extra></extra>",
         "hovertext": [
          "TAMIL NADU"
         ],
         "lat": [
          11.33766638477801
         ],
         "legendgroup": "Namakkal",
         "lon": [
          78.14624841437633
         ],
         "marker": {
          "color": "#636efa",
          "size": [
           1726601
          ],
          "sizemode": "area",
          "sizeref": 27650.37
         },
         "mode": "markers",
         "name": "Namakkal",
         "showlegend": true,
         "subplot": "mapbox",
         "type": "scattermapbox"
        },
        {
         "hovertemplate": "<b>%{hovertext}</b><br><br>District name=Shivpuri<br>Population=%{marker.size}<br>Latitude=%{lat}<br>Longitude=%{lon}<extra></extra>",
         "hovertext": [
          "MADHYA PRADESH"
         ],
         "lat": [
          25.37802451874367
         ],
         "legendgroup": "Shivpuri",
         "lon": [
          77.74861600810549
         ],
         "marker": {
          "color": "#EF553B",
          "size": [
           1726050
          ],
          "sizemode": "area",
          "sizeref": 27650.37
         },
         "mode": "markers",
         "name": "Shivpuri",
         "showlegend": true,
         "subplot": "mapbox",
         "type": "scattermapbox"
        },
        {
         "hovertemplate": "<b>%{hovertext}</b><br><br>District name=West Tripura<br>Population=%{marker.size}<br>Latitude=%{lat}<br>Longitude=%{lon}<extra></extra>",
         "hovertext": [
          "TRIPURA"
         ],
         "lat": [
          23.780166241299337
         ],
         "legendgroup": "West Tripura",
         "lon": [
          91.41310788863107
         ],
         "marker": {
          "color": "#00cc96",
          "size": [
           1725739
          ],
          "sizemode": "area",
          "sizeref": 27650.37
         },
         "mode": "markers",
         "name": "West Tripura",
         "showlegend": true,
         "subplot": "mapbox",
         "type": "scattermapbox"
        },
        {
         "hovertemplate": "<b>%{hovertext}</b><br><br>District name=Sant Kabir Nagar<br>Population=%{marker.size}<br>Latitude=%{lat}<br>Longitude=%{lon}<extra></extra>",
         "hovertext": [
          "UTTAR PRADESH"
         ],
         "lat": [
          26.791596516393444
         ],
         "legendgroup": "Sant Kabir Nagar",
         "lon": [
          83.0387764344262
         ],
         "marker": {
          "color": "#ab63fa",
          "size": [
           1715183
          ],
          "sizemode": "area",
          "sizeref": 27650.37
         },
         "mode": "markers",
         "name": "Sant Kabir Nagar",
         "showlegend": true,
         "subplot": "mapbox",
         "type": "scattermapbox"
        },
        {
         "hovertemplate": "<b>%{hovertext}</b><br><br>District name=East<br>Population=%{marker.size}<br>Latitude=%{lat}<br>Longitude=%{lon}<extra></extra>",
         "hovertext": [
          "NCT OF DELHI"
         ],
         "lat": [
          27.29600352941175
         ],
         "legendgroup": "East",
         "lon": [
          88.74908392156858
         ],
         "marker": {
          "color": "#FFA15A",
          "size": [
           1709346
          ],
          "sizemode": "area",
          "sizeref": 27650.37
         },
         "mode": "markers",
         "name": "East",
         "showlegend": true,
         "subplot": "mapbox",
         "type": "scattermapbox"
        },
        {
         "hovertemplate": "<b>%{hovertext}</b><br><br>District name=Buxar<br>Population=%{marker.size}<br>Latitude=%{lat}<br>Longitude=%{lon}<extra></extra>",
         "hovertext": [
          "BIHAR"
         ],
         "lat": [
          25.48593018867924
         ],
         "legendgroup": "Buxar",
         "lon": [
          84.08808081760995
         ],
         "marker": {
          "color": "#19d3f3",
          "size": [
           1706352
          ],
          "sizemode": "area",
          "sizeref": 27650.37
         },
         "mode": "markers",
         "name": "Buxar",
         "showlegend": true,
         "subplot": "mapbox",
         "type": "scattermapbox"
        },
        {
         "hovertemplate": "<b>%{hovertext}</b><br><br>District name=Valsad<br>Population=%{marker.size}<br>Latitude=%{lat}<br>Longitude=%{lon}<extra></extra>",
         "hovertext": [
          "GUJARAT"
         ],
         "lat": [
          20.44238231644259
         ],
         "legendgroup": "Valsad",
         "lon": [
          72.9148584798345
         ],
         "marker": {
          "color": "#FF6692",
          "size": [
           1705678
          ],
          "sizemode": "area",
          "sizeref": 27650.37
         },
         "mode": "markers",
         "name": "Valsad",
         "showlegend": true,
         "subplot": "mapbox",
         "type": "scattermapbox"
        },
        {
         "hovertemplate": "<b>%{hovertext}</b><br><br>District name=Bidar<br>Population=%{marker.size}<br>Latitude=%{lat}<br>Longitude=%{lon}<extra></extra>",
         "hovertext": [
          "KARNATAKA"
         ],
         "lat": [
          17.950361730769224
         ],
         "legendgroup": "Bidar",
         "lon": [
          77.19459961538459
         ],
         "marker": {
          "color": "#B6E880",
          "size": [
           1703300
          ],
          "sizemode": "area",
          "sizeref": 27650.37
         },
         "mode": "markers",
         "name": "Bidar",
         "showlegend": true,
         "subplot": "mapbox",
         "type": "scattermapbox"
        },
        {
         "hovertemplate": "<b>%{hovertext}</b><br><br>District name=Bhind<br>Population=%{marker.size}<br>Latitude=%{lat}<br>Longitude=%{lon}<extra></extra>",
         "hovertext": [
          "MADHYA PRADESH"
         ],
         "lat": [
          26.35951126187245
         ],
         "legendgroup": "Bhind",
         "lon": [
          78.7618324287653
         ],
         "marker": {
          "color": "#FF97FF",
          "size": [
           1703005
          ],
          "sizemode": "area",
          "sizeref": 27650.37
         },
         "mode": "markers",
         "name": "Bhind",
         "showlegend": true,
         "subplot": "mapbox",
         "type": "scattermapbox"
        },
        {
         "hovertemplate": "<b>%{hovertext}</b><br><br>District name=Balaghat<br>Population=%{marker.size}<br>Latitude=%{lat}<br>Longitude=%{lon}<extra></extra>",
         "hovertext": [
          "MADHYA PRADESH"
         ],
         "lat": [
          21.80020720640569
         ],
         "legendgroup": "Balaghat",
         "lon": [
          80.42170053380796
         ],
         "marker": {
          "color": "#FECB52",
          "size": [
           1701698
          ],
          "sizemode": "area",
          "sizeref": 27650.37
         },
         "mode": "markers",
         "name": "Balaghat",
         "showlegend": true,
         "subplot": "mapbox",
         "type": "scattermapbox"
        },
        {
         "hovertemplate": "<b>%{hovertext}</b><br><br>District name=Puri<br>Population=%{marker.size}<br>Latitude=%{lat}<br>Longitude=%{lon}<extra></extra>",
         "hovertext": [
          "ORISSA"
         ],
         "lat": [
          19.83509174603177
         ],
         "legendgroup": "Puri",
         "lon": [
          85.86698989898981
         ],
         "marker": {
          "color": "#636efa",
          "size": [
           1698730
          ],
          "sizemode": "area",
          "sizeref": 27650.37
         },
         "mode": "markers",
         "name": "Puri",
         "showlegend": true,
         "subplot": "mapbox",
         "type": "scattermapbox"
        },
        {
         "hovertemplate": "<b>%{hovertext}</b><br><br>District name=Barpeta<br>Population=%{marker.size}<br>Latitude=%{lat}<br>Longitude=%{lon}<extra></extra>",
         "hovertext": [
          "ASSAM"
         ],
         "lat": [
          26.427872264631056
         ],
         "legendgroup": "Barpeta",
         "lon": [
          90.97912010178116
         ],
         "marker": {
          "color": "#EF553B",
          "size": [
           1693622
          ],
          "sizemode": "area",
          "sizeref": 27650.37
         },
         "mode": "markers",
         "name": "Barpeta",
         "showlegend": true,
         "subplot": "mapbox",
         "type": "scattermapbox"
        },
        {
         "hovertemplate": "<b>%{hovertext}</b><br><br>District name=Kishanganj<br>Population=%{marker.size}<br>Latitude=%{lat}<br>Longitude=%{lon}<extra></extra>",
         "hovertext": [
          "BIHAR"
         ],
         "lat": [
          26.324336758321294
         ],
         "legendgroup": "Kishanganj",
         "lon": [
          87.95045007235886
         ],
         "marker": {
          "color": "#00cc96",
          "size": [
           1690400
          ],
          "sizemode": "area",
          "sizeref": 27650.37
         },
         "mode": "markers",
         "name": "Kishanganj",
         "showlegend": true,
         "subplot": "mapbox",
         "type": "scattermapbox"
        },
        {
         "hovertemplate": "<b>%{hovertext}</b><br><br>District name=Jalaun<br>Population=%{marker.size}<br>Latitude=%{lat}<br>Longitude=%{lon}<extra></extra>",
         "hovertext": [
          "UTTAR PRADESH"
         ],
         "lat": [
          26.067954587155988
         ],
         "legendgroup": "Jalaun",
         "lon": [
          79.36686911314993
         ],
         "marker": {
          "color": "#ab63fa",
          "size": [
           1689974
          ],
          "sizemode": "area",
          "sizeref": 27650.37
         },
         "mode": "markers",
         "name": "Jalaun",
         "showlegend": true,
         "subplot": "mapbox",
         "type": "scattermapbox"
        },
        {
         "hovertemplate": "<b>%{hovertext}</b><br><br>District name=Dakshin Dinajpur<br>Population=%{marker.size}<br>Latitude=%{lat}<br>Longitude=%{lon}<extra></extra>",
         "hovertext": [
          "WEST BENGAL"
         ],
         "lat": [
          25.342094363021435
         ],
         "legendgroup": "Dakshin Dinajpur",
         "lon": [
          88.69821679819614
         ],
         "marker": {
          "color": "#FFA15A",
          "size": [
           1676276
          ],
          "sizemode": "area",
          "sizeref": 27650.37
         },
         "mode": "markers",
         "name": "Dakshin Dinajpur",
         "showlegend": true,
         "subplot": "mapbox",
         "type": "scattermapbox"
        },
        {
         "hovertemplate": "<b>%{hovertext}</b><br><br>District name=Khagaria<br>Population=%{marker.size}<br>Latitude=%{lat}<br>Longitude=%{lon}<extra></extra>",
         "hovertext": [
          "BIHAR"
         ],
         "lat": [
          25.53558891454964
         ],
         "legendgroup": "Khagaria",
         "lon": [
          86.56593256351037
         ],
         "marker": {
          "color": "#19d3f3",
          "size": [
           1666886
          ],
          "sizemode": "area",
          "sizeref": 27650.37
         },
         "mode": "markers",
         "name": "Khagaria",
         "showlegend": true,
         "subplot": "mapbox",
         "type": "scattermapbox"
        },
        {
         "hovertemplate": "<b>%{hovertext}</b><br><br>District name=Chitradurga<br>Population=%{marker.size}<br>Latitude=%{lat}<br>Longitude=%{lon}<extra></extra>",
         "hovertext": [
          "KARNATAKA"
         ],
         "lat": [
          14.29102220394736
         ],
         "legendgroup": "Chitradurga",
         "lon": [
          76.57821957236843
         ],
         "marker": {
          "color": "#FF6692",
          "size": [
           1659456
          ],
          "sizemode": "area",
          "sizeref": 27650.37
         },
         "mode": "markers",
         "name": "Chitradurga",
         "showlegend": true,
         "subplot": "mapbox",
         "type": "scattermapbox"
        },
        {
         "hovertemplate": "<b>%{hovertext}</b><br><br>District name=Osmanabad<br>Population=%{marker.size}<br>Latitude=%{lat}<br>Longitude=%{lon}<extra></extra>",
         "hovertext": [
          "MAHARASHTRA"
         ],
         "lat": [
          18.19459456066944
         ],
         "legendgroup": "Osmanabad",
         "lon": [
          75.99495575313809
         ],
         "marker": {
          "color": "#B6E880",
          "size": [
           1657576
          ],
          "sizemode": "area",
          "sizeref": 27650.37
         },
         "mode": "markers",
         "name": "Osmanabad",
         "showlegend": true,
         "subplot": "mapbox",
         "type": "scattermapbox"
        },
        {
         "hovertemplate": "<b>%{hovertext}</b><br><br>District name=Kannauj<br>Population=%{marker.size}<br>Latitude=%{lat}<br>Longitude=%{lon}<extra></extra>",
         "hovertext": [
          "UTTAR PRADESH"
         ],
         "lat": [
          26.993988617886185
         ],
         "legendgroup": "Kannauj",
         "lon": [
          79.64437940379408
         ],
         "marker": {
          "color": "#FF97FF",
          "size": [
           1656616
          ],
          "sizemode": "area",
          "sizeref": 27650.37
         },
         "mode": "markers",
         "name": "Kannauj",
         "showlegend": true,
         "subplot": "mapbox",
         "type": "scattermapbox"
        },
        {
         "hovertemplate": "<b>%{hovertext}</b><br><br>District name=Sangrur<br>Population=%{marker.size}<br>Latitude=%{lat}<br>Longitude=%{lon}<extra></extra>",
         "hovertext": [
          "PUNJAB"
         ],
         "lat": [
          30.185045204336895
         ],
         "legendgroup": "Sangrur",
         "lon": [
          75.89437014178496
         ],
         "marker": {
          "color": "#FECB52",
          "size": [
           1655169
          ],
          "sizemode": "area",
          "sizeref": 27650.37
         },
         "mode": "markers",
         "name": "Sangrur",
         "showlegend": true,
         "subplot": "mapbox",
         "type": "scattermapbox"
        },
        {
         "hovertemplate": "<b>%{hovertext}</b><br><br>District name=Udham Singh Nagar<br>Population=%{marker.size}<br>Latitude=%{lat}<br>Longitude=%{lon}<extra></extra>",
         "hovertext": [
          "UTTARAKHAND"
         ],
         "lat": [
          29.02779577677222
         ],
         "legendgroup": "Udham Singh Nagar",
         "lon": [
          79.45629004524895
         ],
         "marker": {
          "color": "#636efa",
          "size": [
           1648902
          ],
          "sizemode": "area",
          "sizeref": 27650.37
         },
         "mode": "markers",
         "name": "Udham Singh Nagar",
         "showlegend": true,
         "subplot": "mapbox",
         "type": "scattermapbox"
        },
        {
         "hovertemplate": "<b>%{hovertext}</b><br><br>District name=Nandurbar<br>Population=%{marker.size}<br>Latitude=%{lat}<br>Longitude=%{lon}<extra></extra>",
         "hovertext": [
          "MAHARASHTRA"
         ],
         "lat": [
          21.523175625248147
         ],
         "legendgroup": "Nandurbar",
         "lon": [
          74.32638757443429
         ],
         "marker": {
          "color": "#EF553B",
          "size": [
           1648295
          ],
          "sizemode": "area",
          "sizeref": 27650.37
         },
         "mode": "markers",
         "name": "Nandurbar",
         "showlegend": true,
         "subplot": "mapbox",
         "type": "scattermapbox"
        },
        {
         "hovertemplate": "<b>%{hovertext}</b><br><br>District name=Gautam Buddha Nagar<br>Population=%{marker.size}<br>Latitude=%{lat}<br>Longitude=%{lon}<extra></extra>",
         "hovertext": [
          "UTTAR PRADESH"
         ],
         "lat": [
          28.393311038961038
         ],
         "legendgroup": "Gautam Buddha Nagar",
         "lon": [
          77.52462467532465
         ],
         "marker": {
          "color": "#00cc96",
          "size": [
           1648115
          ],
          "sizemode": "area",
          "sizeref": 27650.37
         },
         "mode": "markers",
         "name": "Gautam Buddha Nagar",
         "showlegend": true,
         "subplot": "mapbox",
         "type": "scattermapbox"
        },
        {
         "hovertemplate": "<b>%{hovertext}</b><br><br>District name=Bhiwani<br>Population=%{marker.size}<br>Latitude=%{lat}<br>Longitude=%{lon}<extra></extra>",
         "hovertext": [
          "HARYANA"
         ],
         "lat": [
          28.728868064516128
         ],
         "legendgroup": "Bhiwani",
         "lon": [
          76.02110225806452
         ],
         "marker": {
          "color": "#ab63fa",
          "size": [
           1634445
          ],
          "sizemode": "area",
          "sizeref": 27650.37
         },
         "mode": "markers",
         "name": "Bhiwani",
         "showlegend": true,
         "subplot": "mapbox",
         "type": "scattermapbox"
        },
        {
         "hovertemplate": "<b>%{hovertext}</b><br><br>District name=Dausa<br>Population=%{marker.size}<br>Latitude=%{lat}<br>Longitude=%{lon}<extra></extra>",
         "hovertext": [
          "RAJASTHAN"
         ],
         "lat": [
          26.91234817629181
         ],
         "legendgroup": "Dausa",
         "lon": [
          76.57342097264443
         ],
         "marker": {
          "color": "#FFA15A",
          "size": [
           1634409
          ],
          "sizemode": "area",
          "sizeref": 27650.37
         },
         "mode": "markers",
         "name": "Dausa",
         "showlegend": true,
         "subplot": "mapbox",
         "type": "scattermapbox"
        },
        {
         "hovertemplate": "<b>%{hovertext}</b><br><br>District name=Pudukkottai<br>Population=%{marker.size}<br>Latitude=%{lat}<br>Longitude=%{lon}<extra></extra>",
         "hovertext": [
          "TAMIL NADU"
         ],
         "lat": [
          10.130514816433578
         ],
         "legendgroup": "Pudukkottai",
         "lon": [
          79.05444484265728
         ],
         "marker": {
          "color": "#19d3f3",
          "size": [
           1618345
          ],
          "sizemode": "area",
          "sizeref": 27650.37
         },
         "mode": "markers",
         "name": "Pudukkottai",
         "showlegend": true,
         "subplot": "mapbox",
         "type": "scattermapbox"
        },
        {
         "hovertemplate": "<b>%{hovertext}</b><br><br>District name=Nagapattinam<br>Population=%{marker.size}<br>Latitude=%{lat}<br>Longitude=%{lon}<extra></extra>",
         "hovertext": [
          "TAMIL NADU"
         ],
         "lat": [
          10.789468161718286
         ],
         "legendgroup": "Nagapattinam",
         "lon": [
          79.79437299431483
         ],
         "marker": {
          "color": "#FF6692",
          "size": [
           1616450
          ],
          "sizemode": "area",
          "sizeref": 27650.37
         },
         "mode": "markers",
         "name": "Nagapattinam",
         "showlegend": true,
         "subplot": "mapbox",
         "type": "scattermapbox"
        },
        {
         "hovertemplate": "<b>%{hovertext}</b><br><br>District name=Ratnagiri<br>Population=%{marker.size}<br>Latitude=%{lat}<br>Longitude=%{lon}<extra></extra>",
         "hovertext": [
          "MAHARASHTRA"
         ],
         "lat": [
          17.210195070127703
         ],
         "legendgroup": "Ratnagiri",
         "lon": [
          73.25725893866404
         ],
         "marker": {
          "color": "#B6E880",
          "size": [
           1615069
          ],
          "sizemode": "area",
          "sizeref": 27650.37
         },
         "mode": "markers",
         "name": "Ratnagiri",
         "showlegend": true,
         "subplot": "mapbox",
         "type": "scattermapbox"
        },
        {
         "hovertemplate": "<b>%{hovertext}</b><br><br>District name=Kaushambi<br>Population=%{marker.size}<br>Latitude=%{lat}<br>Longitude=%{lon}<extra></extra>",
         "hovertext": [
          "UTTAR PRADESH"
         ],
         "lat": [
          25.53587532051282
         ],
         "legendgroup": "Kaushambi",
         "lon": [
          81.41811282051287
         ],
         "marker": {
          "color": "#FF97FF",
          "size": [
           1599596
          ],
          "sizemode": "area",
          "sizeref": 27650.37
         },
         "mode": "markers",
         "name": "Kaushambi",
         "showlegend": true,
         "subplot": "mapbox",
         "type": "scattermapbox"
        },
        {
         "hovertemplate": "<b>%{hovertext}</b><br><br>District name=Haveri<br>Population=%{marker.size}<br>Latitude=%{lat}<br>Longitude=%{lon}<extra></extra>",
         "hovertext": [
          "KARNATAKA"
         ],
         "lat": [
          14.737582809224318
         ],
         "legendgroup": "Haveri",
         "lon": [
          75.3961230607966
         ],
         "marker": {
          "color": "#FECB52",
          "size": [
           1597668
          ],
          "sizemode": "area",
          "sizeref": 27650.37
         },
         "mode": "markers",
         "name": "Haveri",
         "showlegend": true,
         "subplot": "mapbox",
         "type": "scattermapbox"
        },
        {
         "hovertemplate": "<b>%{hovertext}</b><br><br>District name=Hoshiarpur<br>Population=%{marker.size}<br>Latitude=%{lat}<br>Longitude=%{lon}<extra></extra>",
         "hovertext": [
          "PUNJAB"
         ],
         "lat": [
          31.55157169811319
         ],
         "legendgroup": "Hoshiarpur",
         "lon": [
          75.8469857442349
         ],
         "marker": {
          "color": "#636efa",
          "size": [
           1586625
          ],
          "sizemode": "area",
          "sizeref": 27650.37
         },
         "mode": "markers",
         "name": "Hoshiarpur",
         "showlegend": true,
         "subplot": "mapbox",
         "type": "scattermapbox"
        },
        {
         "hovertemplate": "<b>%{hovertext}</b><br><br>District name=Etawah<br>Population=%{marker.size}<br>Latitude=%{lat}<br>Longitude=%{lon}<extra></extra>",
         "hovertext": [
          "UTTAR PRADESH"
         ],
         "lat": [
          26.78817670157068
         ],
         "legendgroup": "Etawah",
         "lon": [
          79.07621806282728
         ],
         "marker": {
          "color": "#EF553B",
          "size": [
           1581810
          ],
          "sizemode": "area",
          "sizeref": 27650.37
         },
         "mode": "markers",
         "name": "Etawah",
         "showlegend": true,
         "subplot": "mapbox",
         "type": "scattermapbox"
        },
        {
         "hovertemplate": "<b>%{hovertext}</b><br><br>District name=Kalahandi<br>Population=%{marker.size}<br>Latitude=%{lat}<br>Longitude=%{lon}<extra></extra>",
         "hovertext": [
          "ORISSA"
         ],
         "lat": [
          19.784253092783523
         ],
         "legendgroup": "Kalahandi",
         "lon": [
          83.1124043814433
         ],
         "marker": {
          "color": "#00cc96",
          "size": [
           1576869
          ],
          "sizemode": "area",
          "sizeref": 27650.37
         },
         "mode": "markers",
         "name": "Kalahandi",
         "showlegend": true,
         "subplot": "mapbox",
         "type": "scattermapbox"
        },
        {
         "hovertemplate": "<b>%{hovertext}</b><br><br>District name=Betul<br>Population=%{marker.size}<br>Latitude=%{lat}<br>Longitude=%{lon}<extra></extra>",
         "hovertext": [
          "MADHYA PRADESH"
         ],
         "lat": [
          21.964626315789477
         ],
         "legendgroup": "Betul",
         "lon": [
          77.7873428189117
         ],
         "marker": {
          "color": "#ab63fa",
          "size": [
           1575362
          ],
          "sizemode": "area",
          "sizeref": 27650.37
         },
         "mode": "markers",
         "name": "Betul",
         "showlegend": true,
         "subplot": "mapbox",
         "type": "scattermapbox"
        },
        {
         "hovertemplate": "<b>%{hovertext}</b><br><br>District name=Dewas<br>Population=%{marker.size}<br>Latitude=%{lat}<br>Longitude=%{lon}<extra></extra>",
         "hovertext": [
          "MADHYA PRADESH"
         ],
         "lat": [
          22.7851110021322
         ],
         "legendgroup": "Dewas",
         "lon": [
          76.46088805970157
         ],
         "marker": {
          "color": "#FFA15A",
          "size": [
           1563715
          ],
          "sizemode": "area",
          "sizeref": 27650.37
         },
         "mode": "markers",
         "name": "Dewas",
         "showlegend": true,
         "subplot": "mapbox",
         "type": "scattermapbox"
        },
        {
         "hovertemplate": "<b>%{hovertext}</b><br><br>District name=Bharuch<br>Population=%{marker.size}<br>Latitude=%{lat}<br>Longitude=%{lon}<extra></extra>",
         "hovertext": [
          "GUJARAT"
         ],
         "lat": [
          21.75787276237761
         ],
         "legendgroup": "Bharuch",
         "lon": [
          72.67326346710801
         ],
         "marker": {
          "color": "#19d3f3",
          "size": [
           1551019
          ],
          "sizemode": "area",
          "sizeref": 27650.37
         },
         "mode": "markers",
         "name": "Bharuch",
         "showlegend": true,
         "subplot": "mapbox",
         "type": "scattermapbox"
        },
        {
         "hovertemplate": "<b>%{hovertext}</b><br><br>District name=Rajgarh<br>Population=%{marker.size}<br>Latitude=%{lat}<br>Longitude=%{lon}<extra></extra>",
         "hovertext": [
          "MADHYA PRADESH"
         ],
         "lat": [
          23.785499026425583
         ],
         "legendgroup": "Rajgarh",
         "lon": [
          76.66431223922116
         ],
         "marker": {
          "color": "#FF6692",
          "size": [
           1545814
          ],
          "sizemode": "area",
          "sizeref": 27650.37
         },
         "mode": "markers",
         "name": "Rajgarh",
         "showlegend": true,
         "subplot": "mapbox",
         "type": "scattermapbox"
        },
        {
         "hovertemplate": "<b>%{hovertext}</b><br><br>District name=Chittaurgarh<br>Population=%{marker.size}<br>Latitude=%{lat}<br>Longitude=%{lon}<extra></extra>",
         "hovertext": [
          "RAJASTHAN"
         ],
         "lat": [
          24.631623761665463
         ],
         "legendgroup": "Chittaurgarh",
         "lon": [
          74.80010997846382
         ],
         "marker": {
          "color": "#B6E880",
          "size": [
           1544338
          ],
          "sizemode": "area",
          "sizeref": 27650.37
         },
         "mode": "markers",
         "name": "Chittaurgarh",
         "showlegend": true,
         "subplot": "mapbox",
         "type": "scattermapbox"
        },
        {
         "hovertemplate": "<b>%{hovertext}</b><br><br>District name=Kolar<br>Population=%{marker.size}<br>Latitude=%{lat}<br>Longitude=%{lon}<extra></extra>",
         "hovertext": [
          "KARNATAKA"
         ],
         "lat": [
          13.312799881235172
         ],
         "legendgroup": "Kolar",
         "lon": [
          78.01376947743476
         ],
         "marker": {
          "color": "#FF97FF",
          "size": [
           1536401
          ],
          "sizemode": "area",
          "sizeref": 27650.37
         },
         "mode": "markers",
         "name": "Kolar",
         "showlegend": true,
         "subplot": "mapbox",
         "type": "scattermapbox"
        },
        {
         "hovertemplate": "<b>%{hovertext}</b><br><br>District name=Jammu<br>Population=%{marker.size}<br>Latitude=%{lat}<br>Longitude=%{lon}<extra></extra>",
         "hovertext": [
          "JAMMU AND KASHMIR"
         ],
         "lat": [
          32.713199095022645
         ],
         "legendgroup": "Jammu",
         "lon": [
          74.8477520361991
         ],
         "marker": {
          "color": "#FECB52",
          "size": [
           1529958
          ],
          "sizemode": "area",
          "sizeref": 27650.37
         },
         "mode": "markers",
         "name": "Jammu",
         "showlegend": true,
         "subplot": "mapbox",
         "type": "scattermapbox"
        },
        {
         "hovertemplate": "<b>%{hovertext}</b><br><br>District name=Kamrup<br>Population=%{marker.size}<br>Latitude=%{lat}<br>Longitude=%{lon}<extra></extra>",
         "hovertext": [
          "ASSAM"
         ],
         "lat": [
          26.170939452054807
         ],
         "legendgroup": "Kamrup",
         "lon": [
          91.58863273972592
         ],
         "marker": {
          "color": "#636efa",
          "size": [
           1517542
          ],
          "sizemode": "area",
          "sizeref": 27650.37
         },
         "mode": "markers",
         "name": "Kamrup",
         "showlegend": true,
         "subplot": "mapbox",
         "type": "scattermapbox"
        },
        {
         "hovertemplate": "<b>%{hovertext}</b><br><br>District name=Gurgaon<br>Population=%{marker.size}<br>Latitude=%{lat}<br>Longitude=%{lon}<extra></extra>",
         "hovertext": [
          "HARYANA"
         ],
         "lat": [
          28.043894789579163
         ],
         "legendgroup": "Gurgaon",
         "lon": [
          77.01935130260523
         ],
         "marker": {
          "color": "#EF553B",
          "size": [
           1514432
          ],
          "sizemode": "area",
          "sizeref": 27650.37
         },
         "mode": "markers",
         "name": "Gurgaon",
         "showlegend": true,
         "subplot": "mapbox",
         "type": "scattermapbox"
        },
        {
         "hovertemplate": "<b>%{hovertext}</b><br><br>District name=Amreli<br>Population=%{marker.size}<br>Latitude=%{lat}<br>Longitude=%{lon}<extra></extra>",
         "hovertext": [
          "GUJARAT"
         ],
         "lat": [
          21.04832649310872
         ],
         "legendgroup": "Amreli",
         "lon": [
          71.43457637825426
         ],
         "marker": {
          "color": "#00cc96",
          "size": [
           1514190
          ],
          "sizemode": "area",
          "sizeref": 27650.37
         },
         "mode": "markers",
         "name": "Amreli",
         "showlegend": true,
         "subplot": "mapbox",
         "type": "scattermapbox"
        },
        {
         "hovertemplate": "<b>%{hovertext}</b><br><br>District name=Shajapur<br>Population=%{marker.size}<br>Latitude=%{lat}<br>Longitude=%{lon}<extra></extra>",
         "hovertext": [
          "MADHYA PRADESH"
         ],
         "lat": [
          23.566620317220547
         ],
         "legendgroup": "Shajapur",
         "lon": [
          76.33555181268885
         ],
         "marker": {
          "color": "#ab63fa",
          "size": [
           1512681
          ],
          "sizemode": "area",
          "sizeref": 27650.37
         },
         "mode": "markers",
         "name": "Shajapur",
         "showlegend": true,
         "subplot": "mapbox",
         "type": "scattermapbox"
        },
        {
         "hovertemplate": "<b>%{hovertext}</b><br><br>District name=Kangra<br>Population=%{marker.size}<br>Latitude=%{lat}<br>Longitude=%{lon}<extra></extra>",
         "hovertext": [
          "HIMACHAL PRADESH"
         ],
         "lat": [
          32.14093603238864
         ],
         "legendgroup": "Kangra",
         "lon": [
          76.41205910931173
         ],
         "marker": {
          "color": "#FFA15A",
          "size": [
           1510075
          ],
          "sizemode": "area",
          "sizeref": 27650.37
         },
         "mode": "markers",
         "name": "Kangra",
         "showlegend": true,
         "subplot": "mapbox",
         "type": "scattermapbox"
        },
        {
         "hovertemplate": "<b>%{hovertext}</b><br><br>District name=Dharmapuri<br>Population=%{marker.size}<br>Latitude=%{lat}<br>Longitude=%{lon}<extra></extra>",
         "hovertext": [
          "TAMIL NADU"
         ],
         "lat": [
          12.300141200000006
         ],
         "legendgroup": "Dharmapuri",
         "lon": [
          78.11509813333339
         ],
         "marker": {
          "color": "#19d3f3",
          "size": [
           1506843
          ],
          "sizemode": "area",
          "sizeref": 27650.37
         },
         "mode": "markers",
         "name": "Dharmapuri",
         "showlegend": true,
         "subplot": "mapbox",
         "type": "scattermapbox"
        },
        {
         "hovertemplate": "<b>%{hovertext}</b><br><br>District name=Bhadrak<br>Population=%{marker.size}<br>Latitude=%{lat}<br>Longitude=%{lon}<extra></extra>",
         "hovertext": [
          "ORISSA"
         ],
         "lat": [
          20.95262735257214
         ],
         "legendgroup": "Bhadrak",
         "lon": [
          86.81496204516931
         ],
         "marker": {
          "color": "#FF6692",
          "size": [
           1506337
          ],
          "sizemode": "area",
          "sizeref": 27650.37
         },
         "mode": "markers",
         "name": "Bhadrak",
         "showlegend": true,
         "subplot": "mapbox",
         "type": "scattermapbox"
        },
        {
         "hovertemplate": "<b>%{hovertext}</b><br><br>District name=Karnal<br>Population=%{marker.size}<br>Latitude=%{lat}<br>Longitude=%{lon}<extra></extra>",
         "hovertext": [
          "HARYANA"
         ],
         "lat": [
          29.703200647249204
         ],
         "legendgroup": "Karnal",
         "lon": [
          76.87488025889972
         ],
         "marker": {
          "color": "#B6E880",
          "size": [
           1505324
          ],
          "sizemode": "area",
          "sizeref": 27650.37
         },
         "mode": "markers",
         "name": "Karnal",
         "showlegend": true,
         "subplot": "mapbox",
         "type": "scattermapbox"
        },
        {
         "hovertemplate": "<b>%{hovertext}</b><br><br>District name=Deoghar<br>Population=%{marker.size}<br>Latitude=%{lat}<br>Longitude=%{lon}<extra></extra>",
         "hovertext": [
          "JHARKHAND"
         ],
         "lat": [
          24.33070100755672
         ],
         "legendgroup": "Deoghar",
         "lon": [
          86.75697632241814
         ],
         "marker": {
          "color": "#FF97FF",
          "size": [
           1492073
          ],
          "sizemode": "area",
          "sizeref": 27650.37
         },
         "mode": "markers",
         "name": "Deoghar",
         "showlegend": true,
         "subplot": "mapbox",
         "type": "scattermapbox"
        },
        {
         "hovertemplate": "<b>%{hovertext}</b><br><br>District name=Vidisha<br>Population=%{marker.size}<br>Latitude=%{lat}<br>Longitude=%{lon}<extra></extra>",
         "hovertext": [
          "MADHYA PRADESH"
         ],
         "lat": [
          23.82838307984792
         ],
         "legendgroup": "Vidisha",
         "lon": [
          77.9013507604563
         ],
         "marker": {
          "color": "#FECB52",
          "size": [
           1458875
          ],
          "sizemode": "area",
          "sizeref": 27650.37
         },
         "mode": "markers",
         "name": "Vidisha",
         "showlegend": true,
         "subplot": "mapbox",
         "type": "scattermapbox"
        },
        {
         "hovertemplate": "<b>%{hovertext}</b><br><br>District name=Karauli<br>Population=%{marker.size}<br>Latitude=%{lat}<br>Longitude=%{lon}<extra></extra>",
         "hovertext": [
          "RAJASTHAN"
         ],
         "lat": [
          26.51901555555556
         ],
         "legendgroup": "Karauli",
         "lon": [
          76.96081818181815
         ],
         "marker": {
          "color": "#636efa",
          "size": [
           1458248
          ],
          "sizemode": "area",
          "sizeref": 27650.37
         },
         "mode": "markers",
         "name": "Karauli",
         "showlegend": true,
         "subplot": "mapbox",
         "type": "scattermapbox"
        },
        {
         "hovertemplate": "<b>%{hovertext}</b><br><br>District name=Ratlam<br>Population=%{marker.size}<br>Latitude=%{lat}<br>Longitude=%{lon}<extra></extra>",
         "hovertext": [
          "MADHYA PRADESH"
         ],
         "lat": [
          23.503562290502792
         ],
         "legendgroup": "Ratlam",
         "lon": [
          75.14895782122909
         ],
         "marker": {
          "color": "#EF553B",
          "size": [
           1455069
          ],
          "sizemode": "area",
          "sizeref": 27650.37
         },
         "mode": "markers",
         "name": "Ratlam",
         "showlegend": true,
         "subplot": "mapbox",
         "type": "scattermapbox"
        },
        {
         "hovertemplate": "<b>%{hovertext}</b><br><br>District name=Tikamgarh<br>Population=%{marker.size}<br>Latitude=%{lat}<br>Longitude=%{lon}<extra></extra>",
         "hovertext": [
          "MADHYA PRADESH"
         ],
         "lat": [
          25.14099852104666
         ],
         "legendgroup": "Tikamgarh",
         "lon": [
          78.89357064846428
         ],
         "marker": {
          "color": "#00cc96",
          "size": [
           1445166
          ],
          "sizemode": "area",
          "sizeref": 27650.37
         },
         "mode": "markers",
         "name": "Tikamgarh",
         "showlegend": true,
         "subplot": "mapbox",
         "type": "scattermapbox"
        },
        {
         "hovertemplate": "<b>%{hovertext}</b><br><br>District name=Kendrapara<br>Population=%{marker.size}<br>Latitude=%{lat}<br>Longitude=%{lon}<extra></extra>",
         "hovertext": [
          "ORISSA"
         ],
         "lat": [
          20.606319815982264
         ],
         "legendgroup": "Kendrapara",
         "lon": [
          86.83763247572003
         ],
         "marker": {
          "color": "#ab63fa",
          "size": [
           1440361
          ],
          "sizemode": "area",
          "sizeref": 27650.37
         },
         "mode": "markers",
         "name": "Kendrapara",
         "showlegend": true,
         "subplot": "mapbox",
         "type": "scattermapbox"
        },
        {
         "hovertemplate": "<b>%{hovertext}</b><br><br>District name=Tonk<br>Population=%{marker.size}<br>Latitude=%{lat}<br>Longitude=%{lon}<extra></extra>",
         "hovertext": [
          "RAJASTHAN"
         ],
         "lat": [
          26.153935071707927
         ],
         "legendgroup": "Tonk",
         "lon": [
          75.79192216427637
         ],
         "marker": {
          "color": "#FFA15A",
          "size": [
           1421326
          ],
          "sizemode": "area",
          "sizeref": 27650.37
         },
         "mode": "markers",
         "name": "Tonk",
         "showlegend": true,
         "subplot": "mapbox",
         "type": "scattermapbox"
        },
        {
         "hovertemplate": "<b>%{hovertext}</b><br><br>District name=Bastar<br>Population=%{marker.size}<br>Latitude=%{lat}<br>Longitude=%{lon}<extra></extra>",
         "hovertext": [
          "CHHATTISGARH"
         ],
         "lat": [
          19.393866751269048
         ],
         "legendgroup": "Bastar",
         "lon": [
          81.52895126903546
         ],
         "marker": {
          "color": "#19d3f3",
          "size": [
           1413199
          ],
          "sizemode": "area",
          "sizeref": 27650.37
         },
         "mode": "markers",
         "name": "Bastar",
         "showlegend": true,
         "subplot": "mapbox",
         "type": "scattermapbox"
        },
        {
         "hovertemplate": "<b>%{hovertext}</b><br><br>District name=Jhalawar<br>Population=%{marker.size}<br>Latitude=%{lat}<br>Longitude=%{lon}<extra></extra>",
         "hovertext": [
          "RAJASTHAN"
         ],
         "lat": [
          24.24725541474657
         ],
         "legendgroup": "Jhalawar",
         "lon": [
          76.11242891705065
         ],
         "marker": {
          "color": "#FF6692",
          "size": [
           1411129
          ],
          "sizemode": "area",
          "sizeref": 27650.37
         },
         "mode": "markers",
         "name": "Jhalawar",
         "showlegend": true,
         "subplot": "mapbox",
         "type": "scattermapbox"
        },
        {
         "hovertemplate": "<b>%{hovertext}</b><br><br>District name=Gandhinagar<br>Population=%{marker.size}<br>Latitude=%{lat}<br>Longitude=%{lon}<extra></extra>",
         "hovertext": [
          "GUJARAT"
         ],
         "lat": [
          23.193679790026252
         ],
         "legendgroup": "Gandhinagar",
         "lon": [
          72.67221679790026
         ],
         "marker": {
          "color": "#B6E880",
          "size": [
           1391753
          ],
          "sizemode": "area",
          "sizeref": 27650.37
         },
         "mode": "markers",
         "name": "Gandhinagar",
         "showlegend": true,
         "subplot": "mapbox",
         "type": "scattermapbox"
        },
        {
         "hovertemplate": "<b>%{hovertext}</b><br><br>District name=Koppal<br>Population=%{marker.size}<br>Latitude=%{lat}<br>Longitude=%{lon}<extra></extra>",
         "hovertext": [
          "KARNATAKA"
         ],
         "lat": [
          15.651253271028034
         ],
         "legendgroup": "Koppal",
         "lon": [
          76.1617048598131
         ],
         "marker": {
          "color": "#FF97FF",
          "size": [
           1389920
          ],
          "sizemode": "area",
          "sizeref": 27650.37
         },
         "mode": "markers",
         "name": "Koppal",
         "showlegend": true,
         "subplot": "mapbox",
         "type": "scattermapbox"
        },
        {
         "hovertemplate": "<b>%{hovertext}</b><br><br>District name=Dungarpur<br>Population=%{marker.size}<br>Latitude=%{lat}<br>Longitude=%{lon}<extra></extra>",
         "hovertext": [
          "RAJASTHAN"
         ],
         "lat": [
          23.75104807692308
         ],
         "legendgroup": "Dungarpur",
         "lon": [
          73.84765641025645
         ],
         "marker": {
          "color": "#FECB52",
          "size": [
           1388552
          ],
          "sizemode": "area",
          "sizeref": 27650.37
         },
         "mode": "markers",
         "name": "Dungarpur",
         "showlegend": true,
         "subplot": "mapbox",
         "type": "scattermapbox"
        },
        {
         "hovertemplate": "<b>%{hovertext}</b><br><br>District name=Bathinda<br>Population=%{marker.size}<br>Latitude=%{lat}<br>Longitude=%{lon}<extra></extra>",
         "hovertext": [
          "PUNJAB"
         ],
         "lat": [
          30.190524611973352
         ],
         "legendgroup": "Bathinda",
         "lon": [
          75.05685898004438
         ],
         "marker": {
          "color": "#636efa",
          "size": [
           1388525
          ],
          "sizemode": "area",
          "sizeref": 27650.37
         },
         "mode": "markers",
         "name": "Bathinda",
         "showlegend": true,
         "subplot": "mapbox",
         "type": "scattermapbox"
        },
        {
         "hovertemplate": "<b>%{hovertext}</b><br><br>District name=Barwani<br>Population=%{marker.size}<br>Latitude=%{lat}<br>Longitude=%{lon}<extra></extra>",
         "hovertext": [
          "MADHYA PRADESH"
         ],
         "lat": [
          21.702135714285724
         ],
         "legendgroup": "Barwani",
         "lon": [
          74.91004719710673
         ],
         "marker": {
          "color": "#EF553B",
          "size": [
           1385881
          ],
          "sizemode": "area",
          "sizeref": 27650.37
         },
         "mode": "markers",
         "name": "Barwani",
         "showlegend": true,
         "subplot": "mapbox",
         "type": "scattermapbox"
        },
        {
         "hovertemplate": "<b>%{hovertext}</b><br><br>District name=Koraput<br>Population=%{marker.size}<br>Latitude=%{lat}<br>Longitude=%{lon}<extra></extra>",
         "hovertext": [
          "ORISSA"
         ],
         "lat": [
          18.82627794779476
         ],
         "legendgroup": "Koraput",
         "lon": [
          82.81278469846964
         ],
         "marker": {
          "color": "#00cc96",
          "size": [
           1379647
          ],
          "sizemode": "area",
          "sizeref": 27650.37
         },
         "mode": "markers",
         "name": "Koraput",
         "showlegend": true,
         "subplot": "mapbox",
         "type": "scattermapbox"
        },
        {
         "hovertemplate": "<b>%{hovertext}</b><br><br>District name=Auraiya<br>Population=%{marker.size}<br>Latitude=%{lat}<br>Longitude=%{lon}<extra></extra>",
         "hovertext": [
          "UTTAR PRADESH"
         ],
         "lat": [
          26.66892394014961
         ],
         "legendgroup": "Auraiya",
         "lon": [
          79.42637057356607
         ],
         "marker": {
          "color": "#ab63fa",
          "size": [
           1379545
          ],
          "sizemode": "area",
          "sizeref": 27650.37
         },
         "mode": "markers",
         "name": "Auraiya",
         "showlegend": true,
         "subplot": "mapbox",
         "type": "scattermapbox"
        },
        {
         "hovertemplate": "<b>%{hovertext}</b><br><br>District name=Seoni<br>Population=%{marker.size}<br>Latitude=%{lat}<br>Longitude=%{lon}<extra></extra>",
         "hovertext": [
          "MADHYA PRADESH"
         ],
         "lat": [
          22.33230487804874
         ],
         "legendgroup": "Seoni",
         "lon": [
          79.66053863928111
         ],
         "marker": {
          "color": "#FFA15A",
          "size": [
           1379131
          ],
          "sizemode": "area",
          "sizeref": 27650.37
         },
         "mode": "markers",
         "name": "Seoni",
         "showlegend": true,
         "subplot": "mapbox",
         "type": "scattermapbox"
        },
        {
         "hovertemplate": "<b>%{hovertext}</b><br><br>District name=Munger<br>Population=%{marker.size}<br>Latitude=%{lat}<br>Longitude=%{lon}<extra></extra>",
         "hovertext": [
          "BIHAR"
         ],
         "lat": [
          25.198537962962963
         ],
         "legendgroup": "Munger",
         "lon": [
          86.54173672839504
         ],
         "marker": {
          "color": "#19d3f3",
          "size": [
           1367765
          ],
          "sizemode": "area",
          "sizeref": 27650.37
         },
         "mode": "markers",
         "name": "Munger",
         "showlegend": true,
         "subplot": "mapbox",
         "type": "scattermapbox"
        },
        {
         "hovertemplate": "<b>%{hovertext}</b><br><br>District name=Ramanathapuram<br>Population=%{marker.size}<br>Latitude=%{lat}<br>Longitude=%{lon}<extra></extra>",
         "hovertext": [
          "TAMIL NADU"
         ],
         "lat": [
          9.31286995153476
         ],
         "legendgroup": "Ramanathapuram",
         "lon": [
          78.99185362412462
         ],
         "marker": {
          "color": "#FF6692",
          "size": [
           1353445
          ],
          "sizemode": "area",
          "sizeref": 27650.37
         },
         "mode": "markers",
         "name": "Ramanathapuram",
         "showlegend": true,
         "subplot": "mapbox",
         "type": "scattermapbox"
        },
        {
         "hovertemplate": "<b>%{hovertext}</b><br><br>District name=Patan<br>Population=%{marker.size}<br>Latitude=%{lat}<br>Longitude=%{lon}<extra></extra>",
         "hovertext": [
          "GUJARAT"
         ],
         "lat": [
          23.80634198473284
         ],
         "legendgroup": "Patan",
         "lon": [
          71.75162977099237
         ],
         "marker": {
          "color": "#B6E880",
          "size": [
           1343734
          ],
          "sizemode": "area",
          "sizeref": 27650.37
         },
         "mode": "markers",
         "name": "Patan",
         "showlegend": true,
         "subplot": "mapbox",
         "type": "scattermapbox"
        },
        {
         "hovertemplate": "<b>%{hovertext}</b><br><br>District name=Mandsaur<br>Population=%{marker.size}<br>Latitude=%{lat}<br>Longitude=%{lon}<extra></extra>",
         "hovertext": [
          "MADHYA PRADESH"
         ],
         "lat": [
          24.19278764044944
         ],
         "legendgroup": "Mandsaur",
         "lon": [
          75.43588667736759
         ],
         "marker": {
          "color": "#FF97FF",
          "size": [
           1340411
          ],
          "sizemode": "area",
          "sizeref": 27650.37
         },
         "mode": "markers",
         "name": "Mandsaur",
         "showlegend": true,
         "subplot": "mapbox",
         "type": "scattermapbox"
        },
        {
         "hovertemplate": "<b>%{hovertext}</b><br><br>District name=Sivaganga<br>Population=%{marker.size}<br>Latitude=%{lat}<br>Longitude=%{lon}<extra></extra>",
         "hovertext": [
          "TAMIL NADU"
         ],
         "lat": [
          9.960306580645158
         ],
         "legendgroup": "Sivaganga",
         "lon": [
          78.56535729032255
         ],
         "marker": {
          "color": "#FECB52",
          "size": [
           1339101
          ],
          "sizemode": "area",
          "sizeref": 27650.37
         },
         "mode": "markers",
         "name": "Sivaganga",
         "showlegend": true,
         "subplot": "mapbox",
         "type": "scattermapbox"
        },
        {
         "hovertemplate": "<b>%{hovertext}</b><br><br>District name=Sawai Madhopur<br>Population=%{marker.size}<br>Latitude=%{lat}<br>Longitude=%{lon}<extra></extra>",
         "hovertext": [
          "RAJASTHAN"
         ],
         "lat": [
          26.251081180223288
         ],
         "legendgroup": "Sawai Madhopur",
         "lon": [
          76.4219283891548
         ],
         "marker": {
          "color": "#636efa",
          "size": [
           1335551
          ],
          "sizemode": "area",
          "sizeref": 27650.37
         },
         "mode": "markers",
         "name": "Sawai Madhopur",
         "showlegend": true,
         "subplot": "mapbox",
         "type": "scattermapbox"
        },
        {
         "hovertemplate": "<b>%{hovertext}</b><br><br>District name=Jind<br>Population=%{marker.size}<br>Latitude=%{lat}<br>Longitude=%{lon}<extra></extra>",
         "hovertext": [
          "HARYANA"
         ],
         "lat": [
          29.45149821958457
         ],
         "legendgroup": "Jind",
         "lon": [
          76.29598575667653
         ],
         "marker": {
          "color": "#EF553B",
          "size": [
           1334152
          ],
          "sizemode": "area",
          "sizeref": 27650.37
         },
         "mode": "markers",
         "name": "Jind",
         "showlegend": true,
         "subplot": "mapbox",
         "type": "scattermapbox"
        },
        {
         "hovertemplate": "<b>%{hovertext}</b><br><br>District name=Raisen<br>Population=%{marker.size}<br>Latitude=%{lat}<br>Longitude=%{lon}<extra></extra>",
         "hovertext": [
          "MADHYA PRADESH"
         ],
         "lat": [
          23.292518206521724
         ],
         "legendgroup": "Raisen",
         "lon": [
          78.16305495923909
         ],
         "marker": {
          "color": "#00cc96",
          "size": [
           1331597
          ],
          "sizemode": "area",
          "sizeref": 27650.37
         },
         "mode": "markers",
         "name": "Raisen",
         "showlegend": true,
         "subplot": "mapbox",
         "type": "scattermapbox"
        },
        {
         "hovertemplate": "<b>%{hovertext}</b><br><br>District name=Navsari<br>Population=%{marker.size}<br>Latitude=%{lat}<br>Longitude=%{lon}<extra></extra>",
         "hovertext": [
          "GUJARAT"
         ],
         "lat": [
          20.866973318871995
         ],
         "legendgroup": "Navsari",
         "lon": [
          72.86184869848157
         ],
         "marker": {
          "color": "#ab63fa",
          "size": [
           1329672
          ],
          "sizemode": "area",
          "sizeref": 27650.37
         },
         "mode": "markers",
         "name": "Navsari",
         "showlegend": true,
         "subplot": "mapbox",
         "type": "scattermapbox"
        },
        {
         "hovertemplate": "<b>%{hovertext}</b><br><br>District name=Tinsukia<br>Population=%{marker.size}<br>Latitude=%{lat}<br>Longitude=%{lon}<extra></extra>",
         "hovertext": [
          "ASSAM"
         ],
         "lat": [
          27.53549291139241
         ],
         "legendgroup": "Tinsukia",
         "lon": [
          95.69055949367085
         ],
         "marker": {
          "color": "#FFA15A",
          "size": [
           1327929
          ],
          "sizemode": "area",
          "sizeref": 27650.37
         },
         "mode": "markers",
         "name": "Tinsukia",
         "showlegend": true,
         "subplot": "mapbox",
         "type": "scattermapbox"
        },
        {
         "hovertemplate": "<b>%{hovertext}</b><br><br>District name=Dibrugarh<br>Population=%{marker.size}<br>Latitude=%{lat}<br>Longitude=%{lon}<extra></extra>",
         "hovertext": [
          "ASSAM"
         ],
         "lat": [
          27.30612284482757
         ],
         "legendgroup": "Dibrugarh",
         "lon": [
          95.0998282327587
         ],
         "marker": {
          "color": "#19d3f3",
          "size": [
           1326335
          ],
          "sizemode": "area",
          "sizeref": 27650.37
         },
         "mode": "markers",
         "name": "Dibrugarh",
         "showlegend": true,
         "subplot": "mapbox",
         "type": "scattermapbox"
        },
        {
         "hovertemplate": "<b>%{hovertext}</b><br><br>District name=Garhwa<br>Population=%{marker.size}<br>Latitude=%{lat}<br>Longitude=%{lon}<extra></extra>",
         "hovertext": [
          "JHARKHAND"
         ],
         "lat": [
          24.082114689265527
         ],
         "legendgroup": "Garhwa",
         "lon": [
          83.68664265536722
         ],
         "marker": {
          "color": "#FF6692",
          "size": [
           1322784
          ],
          "sizemode": "area",
          "sizeref": 27650.37
         },
         "mode": "markers",
         "name": "Garhwa",
         "showlegend": true,
         "subplot": "mapbox",
         "type": "scattermapbox"
        },
        {
         "hovertemplate": "<b>%{hovertext}</b><br><br>District name=Gondiya<br>Population=%{marker.size}<br>Latitude=%{lat}<br>Longitude=%{lon}<extra></extra>",
         "hovertext": [
          "MAHARASHTRA"
         ],
         "lat": [
          21.225008411214997
         ],
         "legendgroup": "Gondiya",
         "lon": [
          80.17522698598128
         ],
         "marker": {
          "color": "#B6E880",
          "size": [
           1322507
          ],
          "sizemode": "area",
          "sizeref": 27650.37
         },
         "mode": "markers",
         "name": "Gondiya",
         "showlegend": true,
         "subplot": "mapbox",
         "type": "scattermapbox"
        },
        {
         "hovertemplate": "<b>%{hovertext}</b><br><br>District name=Dumka<br>Population=%{marker.size}<br>Latitude=%{lat}<br>Longitude=%{lon}<extra></extra>",
         "hovertext": [
          "JHARKHAND"
         ],
         "lat": [
          24.275006125574265
         ],
         "legendgroup": "Dumka",
         "lon": [
          87.27662450229711
         ],
         "marker": {
          "color": "#FF97FF",
          "size": [
           1321442
          ],
          "sizemode": "area",
          "sizeref": 27650.37
         },
         "mode": "markers",
         "name": "Dumka",
         "showlegend": true,
         "subplot": "mapbox",
         "type": "scattermapbox"
        },
        {
         "hovertemplate": "<b>%{hovertext}</b><br><br>District name=Godda<br>Population=%{marker.size}<br>Latitude=%{lat}<br>Longitude=%{lon}<extra></extra>",
         "hovertext": [
          "JHARKHAND"
         ],
         "lat": [
          24.8189
         ],
         "legendgroup": "Godda",
         "lon": [
          87.2941735483871
         ],
         "marker": {
          "color": "#FECB52",
          "size": [
           1313551
          ],
          "sizemode": "area",
          "sizeref": 27650.37
         },
         "mode": "markers",
         "name": "Godda",
         "showlegend": true,
         "subplot": "mapbox",
         "type": "scattermapbox"
        },
        {
         "hovertemplate": "<b>%{hovertext}</b><br><br>District name=Sehore<br>Population=%{marker.size}<br>Latitude=%{lat}<br>Longitude=%{lon}<extra></extra>",
         "hovertext": [
          "MADHYA PRADESH"
         ],
         "lat": [
          22.9297199679658
         ],
         "legendgroup": "Sehore",
         "lon": [
          77.06780202883085
         ],
         "marker": {
          "color": "#636efa",
          "size": [
           1311332
          ],
          "sizemode": "area",
          "sizeref": 27650.37
         },
         "mode": "markers",
         "name": "Sehore",
         "showlegend": true,
         "subplot": "mapbox",
         "type": "scattermapbox"
        },
        {
         "hovertemplate": "<b>%{hovertext}</b><br><br>District name=Kasaragod<br>Population=%{marker.size}<br>Latitude=%{lat}<br>Longitude=%{lon}<extra></extra>",
         "hovertext": [
          "KERALA"
         ],
         "lat": [
          12.33310309912974
         ],
         "legendgroup": "Kasaragod",
         "lon": [
          75.07768497134369
         ],
         "marker": {
          "color": "#EF553B",
          "size": [
           1307375
          ],
          "sizemode": "area",
          "sizeref": 27650.37
         },
         "mode": "markers",
         "name": "Kasaragod",
         "showlegend": true,
         "subplot": "mapbox",
         "type": "scattermapbox"
        },
        {
         "hovertemplate": "<b>%{hovertext}</b><br><br>District name=Baghpat<br>Population=%{marker.size}<br>Latitude=%{lat}<br>Longitude=%{lon}<extra></extra>",
         "hovertext": [
          "UTTAR PRADESH"
         ],
         "lat": [
          29.045793499999988
         ],
         "legendgroup": "Baghpat",
         "lon": [
          77.30266300000001
         ],
         "marker": {
          "color": "#00cc96",
          "size": [
           1303048
          ],
          "sizemode": "area",
          "sizeref": 27650.37
         },
         "mode": "markers",
         "name": "Baghpat",
         "showlegend": true,
         "subplot": "mapbox",
         "type": "scattermapbox"
        },
        {
         "hovertemplate": "<b>%{hovertext}</b><br><br>District name=Wardha<br>Population=%{marker.size}<br>Latitude=%{lat}<br>Longitude=%{lon}<extra></extra>",
         "hovertext": [
          "MAHARASHTRA"
         ],
         "lat": [
          20.80743024390242
         ],
         "legendgroup": "Wardha",
         "lon": [
          78.57259105691062
         ],
         "marker": {
          "color": "#ab63fa",
          "size": [
           1300774
          ],
          "sizemode": "area",
          "sizeref": 27650.37
         },
         "mode": "markers",
         "name": "Wardha",
         "showlegend": true,
         "subplot": "mapbox",
         "type": "scattermapbox"
        },
        {
         "hovertemplate": "<b>%{hovertext}</b><br><br>District name=Sirsa<br>Population=%{marker.size}<br>Latitude=%{lat}<br>Longitude=%{lon}<extra></extra>",
         "hovertext": [
          "HARYANA"
         ],
         "lat": [
          29.63583446327684
         ],
         "legendgroup": "Sirsa",
         "lon": [
          74.90970480225988
         ],
         "marker": {
          "color": "#FFA15A",
          "size": [
           1295189
          ],
          "sizemode": "area",
          "sizeref": 27650.37
         },
         "mode": "markers",
         "name": "Sirsa",
         "showlegend": true,
         "subplot": "mapbox",
         "type": "scattermapbox"
        },
        {
         "hovertemplate": "<b>%{hovertext}</b><br><br>District name=Katni<br>Population=%{marker.size}<br>Latitude=%{lat}<br>Longitude=%{lon}<extra></extra>",
         "hovertext": [
          "MADHYA PRADESH"
         ],
         "lat": [
          23.724416229116937
         ],
         "legendgroup": "Katni",
         "lon": [
          80.33819665871127
         ],
         "marker": {
          "color": "#19d3f3",
          "size": [
           1292042
          ],
          "sizemode": "area",
          "sizeref": 27650.37
         },
         "mode": "markers",
         "name": "Katni",
         "showlegend": true,
         "subplot": "mapbox",
         "type": "scattermapbox"
        },
        {
         "hovertemplate": "<b>%{hovertext}</b><br><br>District name=Thiruvarur<br>Population=%{marker.size}<br>Latitude=%{lat}<br>Longitude=%{lon}<extra></extra>",
         "hovertext": [
          "TAMIL NADU"
         ],
         "lat": [
          10.368927409395978
         ],
         "legendgroup": "Thiruvarur",
         "lon": [
          79.60322893959727
         ],
         "marker": {
          "color": "#FF6692",
          "size": [
           1264277
          ],
          "sizemode": "area",
          "sizeref": 27650.37
         },
         "mode": "markers",
         "name": "Thiruvarur",
         "showlegend": true,
         "subplot": "mapbox",
         "type": "scattermapbox"
        },
        {
         "hovertemplate": "<b>%{hovertext}</b><br><br>District name=Damoh<br>Population=%{marker.size}<br>Latitude=%{lat}<br>Longitude=%{lon}<extra></extra>",
         "hovertext": [
          "MADHYA PRADESH"
         ],
         "lat": [
          23.76624407960196
         ],
         "legendgroup": "Damoh",
         "lon": [
          79.47049303482588
         ],
         "marker": {
          "color": "#B6E880",
          "size": [
           1264219
          ],
          "sizemode": "area",
          "sizeref": 27650.37
         },
         "mode": "markers",
         "name": "Damoh",
         "showlegend": true,
         "subplot": "mapbox",
         "type": "scattermapbox"
        },
        {
         "hovertemplate": "<b>%{hovertext}</b><br><br>District name=Theni<br>Population=%{marker.size}<br>Latitude=%{lat}<br>Longitude=%{lon}<extra></extra>",
         "hovertext": [
          "TAMIL NADU"
         ],
         "lat": [
          9.924066666666668
         ],
         "legendgroup": "Theni",
         "lon": [
          77.43458833333332
         ],
         "marker": {
          "color": "#FF97FF",
          "size": [
           1245899
          ],
          "sizemode": "area",
          "sizeref": 27650.37
         },
         "mode": "markers",
         "name": "Theni",
         "showlegend": true,
         "subplot": "mapbox",
         "type": "scattermapbox"
        },
        {
         "hovertemplate": "<b>%{hovertext}</b><br><br>District name=Guna<br>Population=%{marker.size}<br>Latitude=%{lat}<br>Longitude=%{lon}<extra></extra>",
         "hovertext": [
          "MADHYA PRADESH"
         ],
         "lat": [
          24.49043927178156
         ],
         "legendgroup": "Guna",
         "lon": [
          77.2235895968791
         ],
         "marker": {
          "color": "#FECB52",
          "size": [
           1241519
          ],
          "sizemode": "area",
          "sizeref": 27650.37
         },
         "mode": "markers",
         "name": "Guna",
         "showlegend": true,
         "subplot": "mapbox",
         "type": "scattermapbox"
        },
        {
         "hovertemplate": "<b>%{hovertext}</b><br><br>District name=Hoshangabad<br>Population=%{marker.size}<br>Latitude=%{lat}<br>Longitude=%{lon}<extra></extra>",
         "hovertext": [
          "MADHYA PRADESH"
         ],
         "lat": [
          22.595268801996703
         ],
         "legendgroup": "Hoshangabad",
         "lon": [
          78.02168094841929
         ],
         "marker": {
          "color": "#636efa",
          "size": [
           1241350
          ],
          "sizemode": "area",
          "sizeref": 27650.37
         },
         "mode": "markers",
         "name": "Hoshangabad",
         "showlegend": true,
         "subplot": "mapbox",
         "type": "scattermapbox"
        },
        {
         "hovertemplate": "<b>%{hovertext}</b><br><br>District name=Srinagar<br>Population=%{marker.size}<br>Latitude=%{lat}<br>Longitude=%{lon}<extra></extra>",
         "hovertext": [
          "JAMMU AND KASHMIR"
         ],
         "lat": [
          34.27312898550724
         ],
         "legendgroup": "Srinagar",
         "lon": [
          75.11021159420288
         ],
         "marker": {
          "color": "#EF553B",
          "size": [
           1236829
          ],
          "sizemode": "area",
          "sizeref": 27650.37
         },
         "mode": "markers",
         "name": "Srinagar",
         "showlegend": true,
         "subplot": "mapbox",
         "type": "scattermapbox"
        },
        {
         "hovertemplate": "<b>%{hovertext}</b><br><br>District name=Karimganj<br>Population=%{marker.size}<br>Latitude=%{lat}<br>Longitude=%{lon}<extra></extra>",
         "hovertext": [
          "ASSAM"
         ],
         "lat": [
          24.69660712250711
         ],
         "legendgroup": "Karimganj",
         "lon": [
          92.3679498575498
         ],
         "marker": {
          "color": "#00cc96",
          "size": [
           1228686
          ],
          "sizemode": "area",
          "sizeref": 27650.37
         },
         "mode": "markers",
         "name": "Karimganj",
         "showlegend": true,
         "subplot": "mapbox",
         "type": "scattermapbox"
        },
        {
         "hovertemplate": "<b>%{hovertext}</b><br><br>District name=Baran<br>Population=%{marker.size}<br>Latitude=%{lat}<br>Longitude=%{lon}<extra></extra>",
         "hovertext": [
          "RAJASTHAN"
         ],
         "lat": [
          24.98023243243244
         ],
         "legendgroup": "Baran",
         "lon": [
          76.86210651828291
         ],
         "marker": {
          "color": "#ab63fa",
          "size": [
           1222755
          ],
          "sizemode": "area",
          "sizeref": 27650.37
         },
         "mode": "markers",
         "name": "Baran",
         "showlegend": true,
         "subplot": "mapbox",
         "type": "scattermapbox"
        },
        {
         "hovertemplate": "<b>%{hovertext}</b><br><br>District name=Lalitpur<br>Population=%{marker.size}<br>Latitude=%{lat}<br>Longitude=%{lon}<extra></extra>",
         "hovertext": [
          "UTTAR PRADESH"
         ],
         "lat": [
          24.58877161016945
         ],
         "legendgroup": "Lalitpur",
         "lon": [
          78.60082330508473
         ],
         "marker": {
          "color": "#FFA15A",
          "size": [
           1221592
          ],
          "sizemode": "area",
          "sizeref": 27650.37
         },
         "mode": "markers",
         "name": "Lalitpur",
         "showlegend": true,
         "subplot": "mapbox",
         "type": "scattermapbox"
        },
        {
         "hovertemplate": "<b>%{hovertext}</b><br><br>District name=Korba<br>Population=%{marker.size}<br>Latitude=%{lat}<br>Longitude=%{lon}<extra></extra>",
         "hovertext": [
          "CHHATTISGARH"
         ],
         "lat": [
          22.491712499999995
         ],
         "legendgroup": "Korba",
         "lon": [
          82.57604326923074
         ],
         "marker": {
          "color": "#19d3f3",
          "size": [
           1206640
          ],
          "sizemode": "area",
          "sizeref": 27650.37
         },
         "mode": "markers",
         "name": "Korba",
         "showlegend": true,
         "subplot": "mapbox",
         "type": "scattermapbox"
        },
        {
         "hovertemplate": "<b>%{hovertext}</b><br><br>District name=Dhaulpur<br>Population=%{marker.size}<br>Latitude=%{lat}<br>Longitude=%{lon}<extra></extra>",
         "hovertext": [
          "RAJASTHAN"
         ],
         "lat": [
          26.72397054945053
         ],
         "legendgroup": "Dhaulpur",
         "lon": [
          77.74476219780222
         ],
         "marker": {
          "color": "#FF6692",
          "size": [
           1206516
          ],
          "sizemode": "area",
          "sizeref": 27650.37
         },
         "mode": "markers",
         "name": "Dhaulpur",
         "showlegend": true,
         "subplot": "mapbox",
         "type": "scattermapbox"
        },
        {
         "hovertemplate": "<b>%{hovertext}</b><br><br>District name=Panipat<br>Population=%{marker.size}<br>Latitude=%{lat}<br>Longitude=%{lon}<extra></extra>",
         "hovertext": [
          "HARYANA"
         ],
         "lat": [
          29.34352134146342
         ],
         "legendgroup": "Panipat",
         "lon": [
          76.92895914634147
         ],
         "marker": {
          "color": "#B6E880",
          "size": [
           1205437
          ],
          "sizemode": "area",
          "sizeref": 27650.37
         },
         "mode": "markers",
         "name": "Panipat",
         "showlegend": true,
         "subplot": "mapbox",
         "type": "scattermapbox"
        },
        {
         "hovertemplate": "<b>%{hovertext}</b><br><br>District name=Bhandara<br>Population=%{marker.size}<br>Latitude=%{lat}<br>Longitude=%{lon}<extra></extra>",
         "hovertext": [
          "MAHARASHTRA"
         ],
         "lat": [
          21.211792649727748
         ],
         "legendgroup": "Bhandara",
         "lon": [
          80.10950199637024
         ],
         "marker": {
          "color": "#FF97FF",
          "size": [
           1200334
          ],
          "sizemode": "area",
          "sizeref": 27650.37
         },
         "mode": "markers",
         "name": "Bhandara",
         "showlegend": true,
         "subplot": "mapbox",
         "type": "scattermapbox"
        },
        {
         "hovertemplate": "<b>%{hovertext}</b><br><br>District name=Washim<br>Population=%{marker.size}<br>Latitude=%{lat}<br>Longitude=%{lon}<extra></extra>",
         "hovertext": [
          "MAHARASHTRA"
         ],
         "lat": [
          20.282282394366213
         ],
         "legendgroup": "Washim",
         "lon": [
          77.25502394366208
         ],
         "marker": {
          "color": "#FECB52",
          "size": [
           1197160
          ],
          "sizemode": "area",
          "sizeref": 27650.37
         },
         "mode": "markers",
         "name": "Washim",
         "showlegend": true,
         "subplot": "mapbox",
         "type": "scattermapbox"
        },
        {
         "hovertemplate": "<b>%{hovertext}</b><br><br>District name=Dhenkanal<br>Population=%{marker.size}<br>Latitude=%{lat}<br>Longitude=%{lon}<extra></extra>",
         "hovertext": [
          "ORISSA"
         ],
         "lat": [
          20.79887159353349
         ],
         "legendgroup": "Dhenkanal",
         "lon": [
          85.53226836027711
         ],
         "marker": {
          "color": "#636efa",
          "size": [
           1192811
          ],
          "sizemode": "area",
          "sizeref": 27650.37
         },
         "mode": "markers",
         "name": "Dhenkanal",
         "showlegend": true,
         "subplot": "mapbox",
         "type": "scattermapbox"
        },
        {
         "hovertemplate": "<b>%{hovertext}</b><br><br>District name=Udupi<br>Population=%{marker.size}<br>Latitude=%{lat}<br>Longitude=%{lon}<extra></extra>",
         "hovertext": [
          "KARNATAKA"
         ],
         "lat": [
          13.450404228534568
         ],
         "legendgroup": "Udupi",
         "lon": [
          74.72009990316337
         ],
         "marker": {
          "color": "#EF553B",
          "size": [
           1177361
          ],
          "sizemode": "area",
          "sizeref": 27650.37
         },
         "mode": "markers",
         "name": "Udupi",
         "showlegend": true,
         "subplot": "mapbox",
         "type": "scattermapbox"
        },
        {
         "hovertemplate": "<b>%{hovertext}</b><br><br>District name=Hingoli<br>Population=%{marker.size}<br>Latitude=%{lat}<br>Longitude=%{lon}<extra></extra>",
         "hovertext": [
          "MAHARASHTRA"
         ],
         "lat": [
          19.59525302245251
         ],
         "legendgroup": "Hingoli",
         "lon": [
          77.09239412780653
         ],
         "marker": {
          "color": "#00cc96",
          "size": [
           1177345
          ],
          "sizemode": "area",
          "sizeref": 27650.37
         },
         "mode": "markers",
         "name": "Hingoli",
         "showlegend": true,
         "subplot": "mapbox",
         "type": "scattermapbox"
        },
        {
         "hovertemplate": "<b>%{hovertext}</b><br><br>District name=Rajsamand<br>Population=%{marker.size}<br>Latitude=%{lat}<br>Longitude=%{lon}<extra></extra>",
         "hovertext": [
          "RAJASTHAN"
         ],
         "lat": [
          25.24894767441859
         ],
         "legendgroup": "Rajsamand",
         "lon": [
          73.96570215946844
         ],
         "marker": {
          "color": "#ab63fa",
          "size": [
           1156597
          ],
          "sizemode": "area",
          "sizeref": 27650.37
         },
         "mode": "markers",
         "name": "Rajsamand",
         "showlegend": true,
         "subplot": "mapbox",
         "type": "scattermapbox"
        },
        {
         "hovertemplate": "<b>%{hovertext}</b><br><br>District name=Sahibganj<br>Population=%{marker.size}<br>Latitude=%{lat}<br>Longitude=%{lon}<extra></extra>",
         "hovertext": [
          "JHARKHAND"
         ],
         "lat": [
          24.93667989690721
         ],
         "legendgroup": "Sahibganj",
         "lon": [
          87.68264097938142
         ],
         "marker": {
          "color": "#FFA15A",
          "size": [
           1150567
          ],
          "sizemode": "area",
          "sizeref": 27650.37
         },
         "mode": "markers",
         "name": "Sahibganj",
         "showlegend": true,
         "subplot": "mapbox",
         "type": "scattermapbox"
        },
        {
         "hovertemplate": "<b>%{hovertext}</b><br><br>District name=Chikmagalur<br>Population=%{marker.size}<br>Latitude=%{lat}<br>Longitude=%{lon}<extra></extra>",
         "hovertext": [
          "KARNATAKA"
         ],
         "lat": [
          13.425288289676422
         ],
         "legendgroup": "Chikmagalur",
         "lon": [
          75.67626502311249
         ],
         "marker": {
          "color": "#19d3f3",
          "size": [
           1137961
          ],
          "sizemode": "area",
          "sizeref": 27650.37
         },
         "mode": "markers",
         "name": "Chikmagalur",
         "showlegend": true,
         "subplot": "mapbox",
         "type": "scattermapbox"
        },
        {
         "hovertemplate": "<b>%{hovertext}</b><br><br>District name=Ambala<br>Population=%{marker.size}<br>Latitude=%{lat}<br>Longitude=%{lon}<extra></extra>",
         "hovertext": [
          "HARYANA"
         ],
         "lat": [
          30.3503672316384
         ],
         "legendgroup": "Ambala",
         "lon": [
          76.94970310734456
         ],
         "marker": {
          "color": "#FF6692",
          "size": [
           1128350
          ],
          "sizemode": "area",
          "sizeref": 27650.37
         },
         "mode": "markers",
         "name": "Ambala",
         "showlegend": true,
         "subplot": "mapbox",
         "type": "scattermapbox"
        },
        {
         "hovertemplate": "<b>%{hovertext}</b><br><br>District name=Sidhi<br>Population=%{marker.size}<br>Latitude=%{lat}<br>Longitude=%{lon}<extra></extra>",
         "hovertext": [
          "MADHYA PRADESH"
         ],
         "lat": [
          24.17547189952905
         ],
         "legendgroup": "Sidhi",
         "lon": [
          82.1053783359498
         ],
         "marker": {
          "color": "#B6E880",
          "size": [
           1127033
          ],
          "sizemode": "area",
          "sizeref": 27650.37
         },
         "mode": "markers",
         "name": "Sidhi",
         "showlegend": true,
         "subplot": "mapbox",
         "type": "scattermapbox"
        },
        {
         "hovertemplate": "<b>%{hovertext}</b><br><br>District name=Jehanabad<br>Population=%{marker.size}<br>Latitude=%{lat}<br>Longitude=%{lon}<extra></extra>",
         "hovertext": [
          "BIHAR"
         ],
         "lat": [
          25.155679045643165
         ],
         "legendgroup": "Jehanabad",
         "lon": [
          84.9208124481328
         ],
         "marker": {
          "color": "#FF97FF",
          "size": [
           1125313
          ],
          "sizemode": "area",
          "sizeref": 27650.37
         },
         "mode": "markers",
         "name": "Jehanabad",
         "showlegend": true,
         "subplot": "mapbox",
         "type": "scattermapbox"
        },
        {
         "hovertemplate": "<b>%{hovertext}</b><br><br>District name=Bundi<br>Population=%{marker.size}<br>Latitude=%{lat}<br>Longitude=%{lon}<extra></extra>",
         "hovertext": [
          "RAJASTHAN"
         ],
         "lat": [
          25.48580716049379
         ],
         "legendgroup": "Bundi",
         "lon": [
          75.79984074074079
         ],
         "marker": {
          "color": "#FECB52",
          "size": [
           1110906
          ],
          "sizemode": "area",
          "sizeref": 27650.37
         },
         "mode": "markers",
         "name": "Bundi",
         "showlegend": true,
         "subplot": "mapbox",
         "type": "scattermapbox"
        },
        {
         "hovertemplate": "<b>%{hovertext}</b><br><br>District name=Idukki<br>Population=%{marker.size}<br>Latitude=%{lat}<br>Longitude=%{lon}<extra></extra>",
         "hovertext": [
          "KERALA"
         ],
         "lat": [
          9.80480963855423
         ],
         "legendgroup": "Idukki",
         "lon": [
          77.04586641566264
         ],
         "marker": {
          "color": "#636efa",
          "size": [
           1108974
          ],
          "sizemode": "area",
          "sizeref": 27650.37
         },
         "mode": "markers",
         "name": "Idukki",
         "showlegend": true,
         "subplot": "mapbox",
         "type": "scattermapbox"
        },
        {
         "hovertemplate": "<b>%{hovertext}</b><br><br>District name=Hamirpur<br>Population=%{marker.size}<br>Latitude=%{lat}<br>Longitude=%{lon}<extra></extra>",
         "hovertext": [
          "UTTAR PRADESH",
          "UTTAR PRADESH",
          "HIMACHAL PRADESH",
          "HIMACHAL PRADESH"
         ],
         "lat": [
          31.67668481012659,
          25.738158381502892,
          25.738158381502892,
          31.67668481012659
         ],
         "legendgroup": "Hamirpur",
         "lon": [
          76.49767088607594,
          79.82619479768789,
          79.82619479768789,
          76.49767088607594
         ],
         "marker": {
          "color": "#EF553B",
          "size": [
           1104285,
           1104285,
           454768,
           454768
          ],
          "sizemode": "area",
          "sizeref": 27650.37
         },
         "mode": "markers",
         "name": "Hamirpur",
         "showlegend": true,
         "subplot": "mapbox",
         "type": "scattermapbox"
        },
        {
         "hovertemplate": "<b>%{hovertext}</b><br><br>District name=Jorhat<br>Population=%{marker.size}<br>Latitude=%{lat}<br>Longitude=%{lon}<extra></extra>",
         "hovertext": [
          "ASSAM"
         ],
         "lat": [
          26.76244824016563
         ],
         "legendgroup": "Jorhat",
         "lon": [
          94.30197722567289
         ],
         "marker": {
          "color": "#00cc96",
          "size": [
           1092256
          ],
          "sizemode": "area",
          "sizeref": 27650.37
         },
         "mode": "markers",
         "name": "Jorhat",
         "showlegend": true,
         "subplot": "mapbox",
         "type": "scattermapbox"
        },
        {
         "hovertemplate": "<b>%{hovertext}</b><br><br>District name=Kaithal<br>Population=%{marker.size}<br>Latitude=%{lat}<br>Longitude=%{lon}<extra></extra>",
         "hovertext": [
          "HARYANA"
         ],
         "lat": [
          29.96068539094649
         ],
         "legendgroup": "Kaithal",
         "lon": [
          76.37698930041155
         ],
         "marker": {
          "color": "#ab63fa",
          "size": [
           1074304
          ],
          "sizemode": "area",
          "sizeref": 27650.37
         },
         "mode": "markers",
         "name": "Kaithal",
         "showlegend": true,
         "subplot": "mapbox",
         "type": "scattermapbox"
        },
        {
         "hovertemplate": "<b>%{hovertext}</b><br><br>District name=Golaghat<br>Population=%{marker.size}<br>Latitude=%{lat}<br>Longitude=%{lon}<extra></extra>",
         "hovertext": [
          "ASSAM"
         ],
         "lat": [
          26.377219709794485
         ],
         "legendgroup": "Golaghat",
         "lon": [
          93.82583397823468
         ],
         "marker": {
          "color": "#FFA15A",
          "size": [
           1066888
          ],
          "sizemode": "area",
          "sizeref": 27650.37
         },
         "mode": "markers",
         "name": "Golaghat",
         "showlegend": true,
         "subplot": "mapbox",
         "type": "scattermapbox"
        },
        {
         "hovertemplate": "<b>%{hovertext}</b><br><br>District name=Shahdol<br>Population=%{marker.size}<br>Latitude=%{lat}<br>Longitude=%{lon}<extra></extra>",
         "hovertext": [
          "MADHYA PRADESH"
         ],
         "lat": [
          23.44859864559819
         ],
         "legendgroup": "Shahdol",
         "lon": [
          81.4596831828442
         ],
         "marker": {
          "color": "#19d3f3",
          "size": [
           1066063
          ],
          "sizemode": "area",
          "sizeref": 27650.37
         },
         "mode": "markers",
         "name": "Shahdol",
         "showlegend": true,
         "subplot": "mapbox",
         "type": "scattermapbox"
        },
        {
         "hovertemplate": "<b>%{hovertext}</b><br><br>District name=Gadag<br>Population=%{marker.size}<br>Latitude=%{lat}<br>Longitude=%{lon}<extra></extra>",
         "hovertext": [
          "KARNATAKA"
         ],
         "lat": [
          15.507128256880746
         ],
         "legendgroup": "Gadag",
         "lon": [
          75.64861302752298
         ],
         "marker": {
          "color": "#FF6692",
          "size": [
           1064570
          ],
          "sizemode": "area",
          "sizeref": 27650.37
         },
         "mode": "markers",
         "name": "Gadag",
         "showlegend": true,
         "subplot": "mapbox",
         "type": "scattermapbox"
        },
        {
         "hovertemplate": "<b>%{hovertext}</b><br><br>District name=Karur<br>Population=%{marker.size}<br>Latitude=%{lat}<br>Longitude=%{lon}<extra></extra>",
         "hovertext": [
          "TAMIL NADU"
         ],
         "lat": [
          10.79532776617955
         ],
         "legendgroup": "Karur",
         "lon": [
          78.08749686847604
         ],
         "marker": {
          "color": "#B6E880",
          "size": [
           1064493
          ],
          "sizemode": "area",
          "sizeref": 27650.37
         },
         "mode": "markers",
         "name": "Karur",
         "showlegend": true,
         "subplot": "mapbox",
         "type": "scattermapbox"
        },
        {
         "hovertemplate": "<b>%{hovertext}</b><br><br>District name=Rohtak<br>Population=%{marker.size}<br>Latitude=%{lat}<br>Longitude=%{lon}<extra></extra>",
         "hovertext": [
          "HARYANA"
         ],
         "lat": [
          28.892517647058817
         ],
         "legendgroup": "Rohtak",
         "lon": [
          76.53123235294117
         ],
         "marker": {
          "color": "#FF97FF",
          "size": [
           1061204
          ],
          "sizemode": "area",
          "sizeref": 27650.37
         },
         "mode": "markers",
         "name": "Rohtak",
         "showlegend": true,
         "subplot": "mapbox",
         "type": "scattermapbox"
        },
        {
         "hovertemplate": "<b>%{hovertext}</b><br><br>District name=Chandigarh<br>Population=%{marker.size}<br>Latitude=%{lat}<br>Longitude=%{lon}<extra></extra>",
         "hovertext": [
          "CHANDIGARH"
         ],
         "lat": [
          30.7426
         ],
         "legendgroup": "Chandigarh",
         "lon": [
          76.75872465753424
         ],
         "marker": {
          "color": "#FECB52",
          "size": [
           1055450
          ],
          "sizemode": "area",
          "sizeref": 27650.37
         },
         "mode": "markers",
         "name": "Chandigarh",
         "showlegend": true,
         "subplot": "mapbox",
         "type": "scattermapbox"
        },
        {
         "hovertemplate": "<b>%{hovertext}</b><br><br>District name=Mandla<br>Population=%{marker.size}<br>Latitude=%{lat}<br>Longitude=%{lon}<extra></extra>",
         "hovertext": [
          "MADHYA PRADESH"
         ],
         "lat": [
          22.70348712446353
         ],
         "legendgroup": "Mandla",
         "lon": [
          80.38600543633753
         ],
         "marker": {
          "color": "#636efa",
          "size": [
           1054905
          ],
          "sizemode": "area",
          "sizeref": 27650.37
         },
         "mode": "markers",
         "name": "Mandla",
         "showlegend": true,
         "subplot": "mapbox",
         "type": "scattermapbox"
        },
        {
         "hovertemplate": "<b>%{hovertext}</b><br><br>District name=Chatra<br>Population=%{marker.size}<br>Latitude=%{lat}<br>Longitude=%{lon}<extra></extra>",
         "hovertext": [
          "JHARKHAND"
         ],
         "lat": [
          24.11619945750453
         ],
         "legendgroup": "Chatra",
         "lon": [
          84.93295804701627
         ],
         "marker": {
          "color": "#EF553B",
          "size": [
           1042886
          ],
          "sizemode": "area",
          "sizeref": 27650.37
         },
         "mode": "markers",
         "name": "Chatra",
         "showlegend": true,
         "subplot": "mapbox",
         "type": "scattermapbox"
        },
        {
         "hovertemplate": "<b>%{hovertext}</b><br><br>District name=Lakhimpur<br>Population=%{marker.size}<br>Latitude=%{lat}<br>Longitude=%{lon}<extra></extra>",
         "hovertext": [
          "ASSAM"
         ],
         "lat": [
          27.14128805970149
         ],
         "legendgroup": "Lakhimpur",
         "lon": [
          94.0775949253732
         ],
         "marker": {
          "color": "#00cc96",
          "size": [
           1042137
          ],
          "sizemode": "area",
          "sizeref": 27650.37
         },
         "mode": "markers",
         "name": "Lakhimpur",
         "showlegend": true,
         "subplot": "mapbox",
         "type": "scattermapbox"
        },
        {
         "hovertemplate": "<b>%{hovertext}</b><br><br>District name=Sambalpur<br>Population=%{marker.size}<br>Latitude=%{lat}<br>Longitude=%{lon}<extra></extra>",
         "hovertext": [
          "ORISSA"
         ],
         "lat": [
          21.515752380952385
         ],
         "legendgroup": "Sambalpur",
         "lon": [
          84.34958483245157
         ],
         "marker": {
          "color": "#ab63fa",
          "size": [
           1041099
          ],
          "sizemode": "area",
          "sizeref": 27650.37
         },
         "mode": "markers",
         "name": "Sambalpur",
         "showlegend": true,
         "subplot": "mapbox",
         "type": "scattermapbox"
        },
        {
         "hovertemplate": "<b>%{hovertext}</b><br><br>District name=Sirohi<br>Population=%{marker.size}<br>Latitude=%{lat}<br>Longitude=%{lon}<extra></extra>",
         "hovertext": [
          "RAJASTHAN"
         ],
         "lat": [
          24.7976905263158
         ],
         "legendgroup": "Sirohi",
         "lon": [
          72.75309131578943
         ],
         "marker": {
          "color": "#FFA15A",
          "size": [
           1036346
          ],
          "sizemode": "area",
          "sizeref": 27650.37
         },
         "mode": "markers",
         "name": "Sirohi",
         "showlegend": true,
         "subplot": "mapbox",
         "type": "scattermapbox"
        },
        {
         "hovertemplate": "<b>%{hovertext}</b><br><br>District name=Mahasamund<br>Population=%{marker.size}<br>Latitude=%{lat}<br>Longitude=%{lon}<extra></extra>",
         "hovertext": [
          "CHHATTISGARH"
         ],
         "lat": [
          21.223727037773354
         ],
         "legendgroup": "Mahasamund",
         "lon": [
          82.65925427435384
         ],
         "marker": {
          "color": "#19d3f3",
          "size": [
           1032754
          ],
          "sizemode": "area",
          "sizeref": 27650.37
         },
         "mode": "markers",
         "name": "Mahasamund",
         "showlegend": true,
         "subplot": "mapbox",
         "type": "scattermapbox"
        },
        {
         "hovertemplate": "<b>%{hovertext}</b><br><br>District name=Gumla<br>Population=%{marker.size}<br>Latitude=%{lat}<br>Longitude=%{lon}<extra></extra>",
         "hovertext": [
          "JHARKHAND"
         ],
         "lat": [
          23.078532948929148
         ],
         "legendgroup": "Gumla",
         "lon": [
          84.55056787479396
         ],
         "marker": {
          "color": "#FF6692",
          "size": [
           1025213
          ],
          "sizemode": "area",
          "sizeref": 27650.37
         },
         "mode": "markers",
         "name": "Gumla",
         "showlegend": true,
         "subplot": "mapbox",
         "type": "scattermapbox"
        },
        {
         "hovertemplate": "<b>%{hovertext}</b><br><br>District name=Jhabua<br>Population=%{marker.size}<br>Latitude=%{lat}<br>Longitude=%{lon}<extra></extra>",
         "hovertext": [
          "MADHYA PRADESH"
         ],
         "lat": [
          22.419578015397768
         ],
         "legendgroup": "Jhabua",
         "lon": [
          74.40921616766468
         ],
         "marker": {
          "color": "#B6E880",
          "size": [
           1025048
          ],
          "sizemode": "area",
          "sizeref": 27650.37
         },
         "mode": "markers",
         "name": "Jhabua",
         "showlegend": true,
         "subplot": "mapbox",
         "type": "scattermapbox"
        },
        {
         "hovertemplate": "<b>%{hovertext}</b><br><br>District name=Panna<br>Population=%{marker.size}<br>Latitude=%{lat}<br>Longitude=%{lon}<extra></extra>",
         "hovertext": [
          "MADHYA PRADESH"
         ],
         "lat": [
          24.451325840092657
         ],
         "legendgroup": "Panna",
         "lon": [
          80.21133001158752
         ],
         "marker": {
          "color": "#FF97FF",
          "size": [
           1016520
          ],
          "sizemode": "area",
          "sizeref": 27650.37
         },
         "mode": "markers",
         "name": "Panna",
         "showlegend": true,
         "subplot": "mapbox",
         "type": "scattermapbox"
        },
        {
         "hovertemplate": "<b>%{hovertext}</b><br><br>District name=Goalpara<br>Population=%{marker.size}<br>Latitude=%{lat}<br>Longitude=%{lon}<extra></extra>",
         "hovertext": [
          "ASSAM"
         ],
         "lat": [
          26.017277777777807
         ],
         "legendgroup": "Goalpara",
         "lon": [
          90.59869891598912
         ],
         "marker": {
          "color": "#FECB52",
          "size": [
           1008183
          ],
          "sizemode": "area",
          "sizeref": 27650.37
         },
         "mode": "markers",
         "name": "Goalpara",
         "showlegend": true,
         "subplot": "mapbox",
         "type": "scattermapbox"
        },
        {
         "hovertemplate": "<b>%{hovertext}</b><br><br>District name=Lakhisarai<br>Population=%{marker.size}<br>Latitude=%{lat}<br>Longitude=%{lon}<extra></extra>",
         "hovertext": [
          "BIHAR"
         ],
         "lat": [
          25.183449321266963
         ],
         "legendgroup": "Lakhisarai",
         "lon": [
          86.12825701357468
         ],
         "marker": {
          "color": "#636efa",
          "size": [
           1000912
          ],
          "sizemode": "area",
          "sizeref": 27650.37
         },
         "mode": "markers",
         "name": "Lakhisarai",
         "showlegend": true,
         "subplot": "mapbox",
         "type": "scattermapbox"
        },
        {
         "hovertemplate": "<b>%{hovertext}</b><br><br>District name=Mandi<br>Population=%{marker.size}<br>Latitude=%{lat}<br>Longitude=%{lon}<extra></extra>",
         "hovertext": [
          "HIMACHAL PRADESH"
         ],
         "lat": [
          31.635805940594054
         ],
         "legendgroup": "Mandi",
         "lon": [
          76.96556930693067
         ],
         "marker": {
          "color": "#EF553B",
          "size": [
           999777
          ],
          "sizemode": "area",
          "sizeref": 27650.37
         },
         "mode": "markers",
         "name": "Mandi",
         "showlegend": true,
         "subplot": "mapbox",
         "type": "scattermapbox"
        },
        {
         "hovertemplate": "<b>%{hovertext}</b><br><br>District name=Moga<br>Population=%{marker.size}<br>Latitude=%{lat}<br>Longitude=%{lon}<extra></extra>",
         "hovertext": [
          "PUNJAB"
         ],
         "lat": [
          30.756540067340065
         ],
         "legendgroup": "Moga",
         "lon": [
          75.1600845117845
         ],
         "marker": {
          "color": "#00cc96",
          "size": [
           995746
          ],
          "sizemode": "area",
          "sizeref": 27650.37
         },
         "mode": "markers",
         "name": "Moga",
         "showlegend": true,
         "subplot": "mapbox",
         "type": "scattermapbox"
        },
        {
         "hovertemplate": "<b>%{hovertext}</b><br><br>District name=Chitrakoot<br>Population=%{marker.size}<br>Latitude=%{lat}<br>Longitude=%{lon}<extra></extra>",
         "hovertext": [
          "UTTAR PRADESH"
         ],
         "lat": [
          25.159924623803
         ],
         "legendgroup": "Chitrakoot",
         "lon": [
          81.07666087551297
         ],
         "marker": {
          "color": "#ab63fa",
          "size": [
           991730
          ],
          "sizemode": "area",
          "sizeref": 27650.37
         },
         "mode": "markers",
         "name": "Chitrakoot",
         "showlegend": true,
         "subplot": "mapbox",
         "type": "scattermapbox"
        },
        {
         "hovertemplate": "<b>%{hovertext}</b><br><br>District name=Bangalore Rural<br>Population=%{marker.size}<br>Latitude=%{lat}<br>Longitude=%{lon}<extra></extra>",
         "hovertext": [
          "KARNATAKA"
         ],
         "lat": [
          12.936827087794448
         ],
         "legendgroup": "Bangalore Rural",
         "lon": [
          77.47369314775169
         ],
         "marker": {
          "color": "#FFA15A",
          "size": [
           990923
          ],
          "sizemode": "area",
          "sizeref": 27650.37
         },
         "mode": "markers",
         "name": "Bangalore Rural",
         "showlegend": true,
         "subplot": "mapbox",
         "type": "scattermapbox"
        },
        {
         "hovertemplate": "<b>%{hovertext}</b><br><br>District name=Rayagada<br>Population=%{marker.size}<br>Latitude=%{lat}<br>Longitude=%{lon}<extra></extra>",
         "hovertext": [
          "ORISSA"
         ],
         "lat": [
          19.292840020060204
         ],
         "legendgroup": "Rayagada",
         "lon": [
          83.45860120361095
         ],
         "marker": {
          "color": "#19d3f3",
          "size": [
           967911
          ],
          "sizemode": "area",
          "sizeref": 27650.37
         },
         "mode": "markers",
         "name": "Rayagada",
         "showlegend": true,
         "subplot": "mapbox",
         "type": "scattermapbox"
        },
        {
         "hovertemplate": "<b>%{hovertext}</b><br><br>District name=Kurukshetra<br>Population=%{marker.size}<br>Latitude=%{lat}<br>Longitude=%{lon}<extra></extra>",
         "hovertext": [
          "HARYANA"
         ],
         "lat": [
          30.05652659846548
         ],
         "legendgroup": "Kurukshetra",
         "lon": [
          76.78774680306903
         ],
         "marker": {
          "color": "#FF6692",
          "size": [
           964655
          ],
          "sizemode": "area",
          "sizeref": 27650.37
         },
         "mode": "markers",
         "name": "Kurukshetra",
         "showlegend": true,
         "subplot": "mapbox",
         "type": "scattermapbox"
        },
        {
         "hovertemplate": "<b>%{hovertext}</b><br><br>District name=Nayagarh<br>Population=%{marker.size}<br>Latitude=%{lat}<br>Longitude=%{lon}<extra></extra>",
         "hovertext": [
          "ORISSA"
         ],
         "lat": [
          20.192895622119817
         ],
         "legendgroup": "Nayagarh",
         "lon": [
          85.05614700460825
         ],
         "marker": {
          "color": "#B6E880",
          "size": [
           962789
          ],
          "sizemode": "area",
          "sizeref": 27650.37
         },
         "mode": "markers",
         "name": "Nayagarh",
         "showlegend": true,
         "subplot": "mapbox",
         "type": "scattermapbox"
        },
        {
         "hovertemplate": "<b>%{hovertext}</b><br><br>District name=Jhajjar<br>Population=%{marker.size}<br>Latitude=%{lat}<br>Longitude=%{lon}<extra></extra>",
         "hovertext": [
          "HARYANA"
         ],
         "lat": [
          28.59651868131869
         ],
         "legendgroup": "Jhajjar",
         "lon": [
          76.61137142857145
         ],
         "marker": {
          "color": "#FF97FF",
          "size": [
           958405
          ],
          "sizemode": "area",
          "sizeref": 27650.37
         },
         "mode": "markers",
         "name": "Jhajjar",
         "showlegend": true,
         "subplot": "mapbox",
         "type": "scattermapbox"
        },
        {
         "hovertemplate": "<b>%{hovertext}</b><br><br>District name=Karbi Anglong<br>Population=%{marker.size}<br>Latitude=%{lat}<br>Longitude=%{lon}<extra></extra>",
         "hovertext": [
          "ASSAM"
         ],
         "lat": [
          26.08966454598031
         ],
         "legendgroup": "Karbi Anglong",
         "lon": [
          93.11536570271832
         ],
         "marker": {
          "color": "#FECB52",
          "size": [
           956313
          ],
          "sizemode": "area",
          "sizeref": 27650.37
         },
         "mode": "markers",
         "name": "Karbi Anglong",
         "showlegend": true,
         "subplot": "mapbox",
         "type": "scattermapbox"
        },
        {
         "hovertemplate": "<b>%{hovertext}</b><br><br>District name=Fatehabad<br>Population=%{marker.size}<br>Latitude=%{lat}<br>Longitude=%{lon}<extra></extra>",
         "hovertext": [
          "HARYANA"
         ],
         "lat": [
          29.57298318584072
         ],
         "legendgroup": "Fatehabad",
         "lon": [
          75.54608716814157
         ],
         "marker": {
          "color": "#636efa",
          "size": [
           942011
          ],
          "sizemode": "area",
          "sizeref": 27650.37
         },
         "mode": "markers",
         "name": "Fatehabad",
         "showlegend": true,
         "subplot": "mapbox",
         "type": "scattermapbox"
        },
        {
         "hovertemplate": "<b>%{hovertext}</b><br><br>District name=Darrang<br>Population=%{marker.size}<br>Latitude=%{lat}<br>Longitude=%{lon}<extra></extra>",
         "hovertext": [
          "ASSAM"
         ],
         "lat": [
          26.58463215962442
         ],
         "legendgroup": "Darrang",
         "lon": [
          92.04141338028155
         ],
         "marker": {
          "color": "#EF553B",
          "size": [
           928500
          ],
          "sizemode": "area",
          "sizeref": 27650.37
         },
         "mode": "markers",
         "name": "Darrang",
         "showlegend": true,
         "subplot": "mapbox",
         "type": "scattermapbox"
        },
        {
         "hovertemplate": "<b>%{hovertext}</b><br><br>District name=Mahendragarh<br>Population=%{marker.size}<br>Latitude=%{lat}<br>Longitude=%{lon}<extra></extra>",
         "hovertext": [
          "HARYANA"
         ],
         "lat": [
          28.1352161458333
         ],
         "legendgroup": "Mahendragarh",
         "lon": [
          76.14018072916659
         ],
         "marker": {
          "color": "#00cc96",
          "size": [
           922088
          ],
          "sizemode": "area",
          "sizeref": 27650.37
         },
         "mode": "markers",
         "name": "Mahendragarh",
         "showlegend": true,
         "subplot": "mapbox",
         "type": "scattermapbox"
        },
        {
         "hovertemplate": "<b>%{hovertext}</b><br><br>District name=Muktsar<br>Population=%{marker.size}<br>Latitude=%{lat}<br>Longitude=%{lon}<extra></extra>",
         "hovertext": [
          "PUNJAB"
         ],
         "lat": [
          30.31243303303303
         ],
         "legendgroup": "Muktsar",
         "lon": [
          74.5518747747748
         ],
         "marker": {
          "color": "#ab63fa",
          "size": [
           901896
          ],
          "sizemode": "area",
          "sizeref": 27650.37
         },
         "mode": "markers",
         "name": "Muktsar",
         "showlegend": true,
         "subplot": "mapbox",
         "type": "scattermapbox"
        },
        {
         "hovertemplate": "<b>%{hovertext}</b><br><br>District name=Pakur<br>Population=%{marker.size}<br>Latitude=%{lat}<br>Longitude=%{lon}<extra></extra>",
         "hovertext": [
          "JHARKHAND"
         ],
         "lat": [
          24.57260428082189
         ],
         "legendgroup": "Pakur",
         "lon": [
          87.69691969178076
         ],
         "marker": {
          "color": "#FFA15A",
          "size": [
           900422
          ],
          "sizemode": "area",
          "sizeref": 27650.37
         },
         "mode": "markers",
         "name": "Pakur",
         "showlegend": true,
         "subplot": "mapbox",
         "type": "scattermapbox"
        },
        {
         "hovertemplate": "<b>%{hovertext}</b><br><br>District name=Rewari<br>Population=%{marker.size}<br>Latitude=%{lat}<br>Longitude=%{lon}<extra></extra>",
         "hovertext": [
          "HARYANA"
         ],
         "lat": [
          28.19164714828897
         ],
         "legendgroup": "Rewari",
         "lon": [
          76.55956007604564
         ],
         "marker": {
          "color": "#19d3f3",
          "size": [
           900332
          ],
          "sizemode": "area",
          "sizeref": 27650.37
         },
         "mode": "markers",
         "name": "Rewari",
         "showlegend": true,
         "subplot": "mapbox",
         "type": "scattermapbox"
        },
        {
         "hovertemplate": "<b>%{hovertext}</b><br><br>District name=Kokrajhar<br>Population=%{marker.size}<br>Latitude=%{lat}<br>Longitude=%{lon}<extra></extra>",
         "hovertext": [
          "ASSAM"
         ],
         "lat": [
          26.497246635730868
         ],
         "legendgroup": "Kokrajhar",
         "lon": [
          90.13997470997688
         ],
         "marker": {
          "color": "#FF6692",
          "size": [
           887142
          ],
          "sizemode": "area",
          "sizeref": 27650.37
         },
         "mode": "markers",
         "name": "Kokrajhar",
         "showlegend": true,
         "subplot": "mapbox",
         "type": "scattermapbox"
        },
        {
         "hovertemplate": "<b>%{hovertext}</b><br><br>District name=South Tripura<br>Population=%{marker.size}<br>Latitude=%{lat}<br>Longitude=%{lon}<extra></extra>",
         "hovertext": [
          "TRIPURA"
         ],
         "lat": [
          23.211874098057383
         ],
         "legendgroup": "South Tripura",
         "lon": [
          91.6065807585568
         ],
         "marker": {
          "color": "#B6E880",
          "size": [
           876001
          ],
          "sizemode": "area",
          "sizeref": 27650.37
         },
         "mode": "markers",
         "name": "South Tripura",
         "showlegend": true,
         "subplot": "mapbox",
         "type": "scattermapbox"
        },
        {
         "hovertemplate": "<b>%{hovertext}</b><br><br>District name=Mahoba<br>Population=%{marker.size}<br>Latitude=%{lat}<br>Longitude=%{lon}<extra></extra>",
         "hovertext": [
          "UTTAR PRADESH"
         ],
         "lat": [
          25.34529670138888
         ],
         "legendgroup": "Mahoba",
         "lon": [
          79.67863003472216
         ],
         "marker": {
          "color": "#FF97FF",
          "size": [
           875958
          ],
          "sizemode": "area",
          "sizeref": 27650.37
         },
         "mode": "markers",
         "name": "Mahoba",
         "showlegend": true,
         "subplot": "mapbox",
         "type": "scattermapbox"
        },
        {
         "hovertemplate": "<b>%{hovertext}</b><br><br>District name=Jashpur<br>Population=%{marker.size}<br>Latitude=%{lat}<br>Longitude=%{lon}<extra></extra>",
         "hovertext": [
          "CHHATTISGARH"
         ],
         "lat": [
          22.77286167664669
         ],
         "legendgroup": "Jashpur",
         "lon": [
          83.8703962075848
         ],
         "marker": {
          "color": "#FECB52",
          "size": [
           851669
          ],
          "sizemode": "area",
          "sizeref": 27650.37
         },
         "mode": "markers",
         "name": "Jashpur",
         "showlegend": true,
         "subplot": "mapbox",
         "type": "scattermapbox"
        },
        {
         "hovertemplate": "<b>%{hovertext}</b><br><br>District name=Sindhudurg<br>Population=%{marker.size}<br>Latitude=%{lat}<br>Longitude=%{lon}<extra></extra>",
         "hovertext": [
          "MAHARASHTRA"
         ],
         "lat": [
          16.170948049777163
         ],
         "legendgroup": "Sindhudurg",
         "lon": [
          73.51329008172343
         ],
         "marker": {
          "color": "#636efa",
          "size": [
           849651
          ],
          "sizemode": "area",
          "sizeref": 27650.37
         },
         "mode": "markers",
         "name": "Sindhudurg",
         "showlegend": true,
         "subplot": "mapbox",
         "type": "scattermapbox"
        },
        {
         "hovertemplate": "<b>%{hovertext}</b><br><br>District name=Ashoknagar<br>Population=%{marker.size}<br>Latitude=%{lat}<br>Longitude=%{lon}<extra></extra>",
         "hovertext": [
          "MADHYA PRADESH"
         ],
         "lat": [
          24.63098846153845
         ],
         "legendgroup": "Ashoknagar",
         "lon": [
          77.82974493927134
         ],
         "marker": {
          "color": "#EF553B",
          "size": [
           845071
          ],
          "sizemode": "area",
          "sizeref": 27650.37
         },
         "mode": "markers",
         "name": "Ashoknagar",
         "showlegend": true,
         "subplot": "mapbox",
         "type": "scattermapbox"
        },
        {
         "hovertemplate": "<b>%{hovertext}</b><br><br>District name=Neemuch<br>Population=%{marker.size}<br>Latitude=%{lat}<br>Longitude=%{lon}<extra></extra>",
         "hovertext": [
          "MADHYA PRADESH"
         ],
         "lat": [
          24.70311893333336
         ],
         "legendgroup": "Neemuch",
         "lon": [
          75.06608186666664
         ],
         "marker": {
          "color": "#00cc96",
          "size": [
           826067
          ],
          "sizemode": "area",
          "sizeref": 27650.37
         },
         "mode": "markers",
         "name": "Neemuch",
         "showlegend": true,
         "subplot": "mapbox",
         "type": "scattermapbox"
        },
        {
         "hovertemplate": "<b>%{hovertext}</b><br><br>District name=East Khasi Hills<br>Population=%{marker.size}<br>Latitude=%{lat}<br>Longitude=%{lon}<extra></extra>",
         "hovertext": [
          "MEGHALAYA"
         ],
         "lat": [
          25.303763888888884
         ],
         "legendgroup": "East Khasi Hills",
         "lon": [
          91.75922519841272
         ],
         "marker": {
          "color": "#ab63fa",
          "size": [
           825922
          ],
          "sizemode": "area",
          "sizeref": 27650.37
         },
         "mode": "markers",
         "name": "East Khasi Hills",
         "showlegend": true,
         "subplot": "mapbox",
         "type": "scattermapbox"
        },
        {
         "hovertemplate": "<b>%{hovertext}</b><br><br>District name=North Goa<br>Population=%{marker.size}<br>Latitude=%{lat}<br>Longitude=%{lon}<extra></extra>",
         "hovertext": [
          "GOA"
         ],
         "lat": [
          15.548723418714054
         ],
         "legendgroup": "North Goa",
         "lon": [
          73.80667997909038
         ],
         "marker": {
          "color": "#FFA15A",
          "size": [
           818008
          ],
          "sizemode": "area",
          "sizeref": 27650.37
         },
         "mode": "markers",
         "name": "North Goa",
         "showlegend": true,
         "subplot": "mapbox",
         "type": "scattermapbox"
        },
        {
         "hovertemplate": "<b>%{hovertext}</b><br><br>District name=Wayanad<br>Population=%{marker.size}<br>Latitude=%{lat}<br>Longitude=%{lon}<extra></extra>",
         "hovertext": [
          "KERALA"
         ],
         "lat": [
          11.715277464788736
         ],
         "legendgroup": "Wayanad",
         "lon": [
          76.07587007042254
         ],
         "marker": {
          "color": "#19d3f3",
          "size": [
           817420
          ],
          "sizemode": "area",
          "sizeref": 27650.37
         },
         "mode": "markers",
         "name": "Wayanad",
         "showlegend": true,
         "subplot": "mapbox",
         "type": "scattermapbox"
        },
        {
         "hovertemplate": "<b>%{hovertext}</b><br><br>District name=Kapurthala<br>Population=%{marker.size}<br>Latitude=%{lat}<br>Longitude=%{lon}<extra></extra>",
         "hovertext": [
          "PUNJAB"
         ],
         "lat": [
          31.336592638036837
         ],
         "legendgroup": "Kapurthala",
         "lon": [
          75.47641165644177
         ],
         "marker": {
          "color": "#FF6692",
          "size": [
           815168
          ],
          "sizemode": "area",
          "sizeref": 27650.37
         },
         "mode": "markers",
         "name": "Kapurthala",
         "showlegend": true,
         "subplot": "mapbox",
         "type": "scattermapbox"
        },
        {
         "hovertemplate": "<b>%{hovertext}</b><br><br>District name=Shimla<br>Population=%{marker.size}<br>Latitude=%{lat}<br>Longitude=%{lon}<extra></extra>",
         "hovertext": [
          "HIMACHAL PRADESH"
         ],
         "lat": [
          31.155725451807253
         ],
         "legendgroup": "Shimla",
         "lon": [
          77.62573042168668
         ],
         "marker": {
          "color": "#B6E880",
          "size": [
           814010
          ],
          "sizemode": "area",
          "sizeref": 27650.37
         },
         "mode": "markers",
         "name": "Shimla",
         "showlegend": true,
         "subplot": "mapbox",
         "type": "scattermapbox"
        },
        {
         "hovertemplate": "<b>%{hovertext}</b><br><br>District name=Dhamtari<br>Population=%{marker.size}<br>Latitude=%{lat}<br>Longitude=%{lon}<extra></extra>",
         "hovertext": [
          "CHHATTISGARH"
         ],
         "lat": [
          20.554912627291245
         ],
         "legendgroup": "Dhamtari",
         "lon": [
          81.7569195519348
         ],
         "marker": {
          "color": "#FF97FF",
          "size": [
           799781
          ],
          "sizemode": "area",
          "sizeref": 27650.37
         },
         "mode": "markers",
         "name": "Dhamtari",
         "showlegend": true,
         "subplot": "mapbox",
         "type": "scattermapbox"
        },
        {
         "hovertemplate": "<b>%{hovertext}</b><br><br>District name=Jamtara<br>Population=%{marker.size}<br>Latitude=%{lat}<br>Longitude=%{lon}<extra></extra>",
         "hovertext": [
          "JHARKHAND"
         ],
         "lat": [
          23.97873318077801
         ],
         "legendgroup": "Jamtara",
         "lon": [
          86.95325080091534
         ],
         "marker": {
          "color": "#FECB52",
          "size": [
           791042
          ],
          "sizemode": "area",
          "sizeref": 27650.37
         },
         "mode": "markers",
         "name": "Jamtara",
         "showlegend": true,
         "subplot": "mapbox",
         "type": "scattermapbox"
        },
        {
         "hovertemplate": "<b>%{hovertext}</b><br><br>District name=Datia<br>Population=%{marker.size}<br>Latitude=%{lat}<br>Longitude=%{lon}<extra></extra>",
         "hovertext": [
          "MADHYA PRADESH"
         ],
         "lat": [
          25.90226439560441
         ],
         "legendgroup": "Datia",
         "lon": [
          78.63916571428574
         ],
         "marker": {
          "color": "#636efa",
          "size": [
           786754
          ],
          "sizemode": "area",
          "sizeref": 27650.37
         },
         "mode": "markers",
         "name": "Datia",
         "showlegend": true,
         "subplot": "mapbox",
         "type": "scattermapbox"
        },
        {
         "hovertemplate": "<b>%{hovertext}</b><br><br>District name=Nalbari<br>Population=%{marker.size}<br>Latitude=%{lat}<br>Longitude=%{lon}<extra></extra>",
         "hovertext": [
          "ASSAM"
         ],
         "lat": [
          26.46323767605632
         ],
         "legendgroup": "Nalbari",
         "lon": [
          91.40598521126763
         ],
         "marker": {
          "color": "#EF553B",
          "size": [
           771639
          ],
          "sizemode": "area",
          "sizeref": 27650.37
         },
         "mode": "markers",
         "name": "Nalbari",
         "showlegend": true,
         "subplot": "mapbox",
         "type": "scattermapbox"
        },
        {
         "hovertemplate": "<b>%{hovertext}</b><br><br>District name=Mansa<br>Population=%{marker.size}<br>Latitude=%{lat}<br>Longitude=%{lon}<extra></extra>",
         "hovertext": [
          "PUNJAB"
         ],
         "lat": [
          29.919547714285724
         ],
         "legendgroup": "Mansa",
         "lon": [
          75.4304922857143
         ],
         "marker": {
          "color": "#00cc96",
          "size": [
           769751
          ],
          "sizemode": "area",
          "sizeref": 27650.37
         },
         "mode": "markers",
         "name": "Mansa",
         "showlegend": true,
         "subplot": "mapbox",
         "type": "scattermapbox"
        },
        {
         "hovertemplate": "<b>%{hovertext}</b><br><br>District name=Burhanpur<br>Population=%{marker.size}<br>Latitude=%{lat}<br>Longitude=%{lon}<extra></extra>",
         "hovertext": [
          "MADHYA PRADESH"
         ],
         "lat": [
          21.364567254408065
         ],
         "legendgroup": "Burhanpur",
         "lon": [
          76.24460478589425
         ],
         "marker": {
          "color": "#ab63fa",
          "size": [
           757847
          ],
          "sizemode": "area",
          "sizeref": 27650.37
         },
         "mode": "markers",
         "name": "Burhanpur",
         "showlegend": true,
         "subplot": "mapbox",
         "type": "scattermapbox"
        },
        {
         "hovertemplate": "<b>%{hovertext}</b><br><br>District name=Ariyalur<br>Population=%{marker.size}<br>Latitude=%{lat}<br>Longitude=%{lon}<extra></extra>",
         "hovertext": [
          "TAMIL NADU"
         ],
         "lat": [
          11.190514836795256
         ],
         "legendgroup": "Ariyalur",
         "lon": [
          79.22249643916912
         ],
         "marker": {
          "color": "#FFA15A",
          "size": [
           754894
          ],
          "sizemode": "area",
          "sizeref": 27650.37
         },
         "mode": "markers",
         "name": "Ariyalur",
         "showlegend": true,
         "subplot": "mapbox",
         "type": "scattermapbox"
        },
        {
         "hovertemplate": "<b>%{hovertext}</b><br><br>District name=Anuppur<br>Population=%{marker.size}<br>Latitude=%{lat}<br>Longitude=%{lon}<extra></extra>",
         "hovertext": [
          "MADHYA PRADESH"
         ],
         "lat": [
          23.18184220430107
         ],
         "legendgroup": "Anuppur",
         "lon": [
          81.86560000000007
         ],
         "marker": {
          "color": "#19d3f3",
          "size": [
           749237
          ],
          "sizemode": "area",
          "sizeref": 27650.37
         },
         "mode": "markers",
         "name": "Anuppur",
         "showlegend": true,
         "subplot": "mapbox",
         "type": "scattermapbox"
        },
        {
         "hovertemplate": "<b>%{hovertext}</b><br><br>District name=Bongaigaon<br>Population=%{marker.size}<br>Latitude=%{lat}<br>Longitude=%{lon}<extra></extra>",
         "hovertext": [
          "ASSAM"
         ],
         "lat": [
          26.45012521994133
         ],
         "legendgroup": "Bongaigaon",
         "lon": [
          90.6734296187684
         ],
         "marker": {
          "color": "#FF6692",
          "size": [
           738804
          ],
          "sizemode": "area",
          "sizeref": 27650.37
         },
         "mode": "markers",
         "name": "Bongaigaon",
         "showlegend": true,
         "subplot": "mapbox",
         "type": "scattermapbox"
        },
        {
         "hovertemplate": "<b>%{hovertext}</b><br><br>District name=Kandhamal<br>Population=%{marker.size}<br>Latitude=%{lat}<br>Longitude=%{lon}<extra></extra>",
         "hovertext": [
          "ORISSA"
         ],
         "lat": [
          20.092878624813142
         ],
         "legendgroup": "Kandhamal",
         "lon": [
          84.02216352765326
         ],
         "marker": {
          "color": "#B6E880",
          "size": [
           733110
          ],
          "sizemode": "area",
          "sizeref": 27650.37
         },
         "mode": "markers",
         "name": "Kandhamal",
         "showlegend": true,
         "subplot": "mapbox",
         "type": "scattermapbox"
        },
        {
         "hovertemplate": "<b>%{hovertext}</b><br><br>District name=Latehar<br>Population=%{marker.size}<br>Latitude=%{lat}<br>Longitude=%{lon}<extra></extra>",
         "hovertext": [
          "JHARKHAND"
         ],
         "lat": [
          23.72511185840708
         ],
         "legendgroup": "Latehar",
         "lon": [
          84.48298743362837
         ],
         "marker": {
          "color": "#FF97FF",
          "size": [
           726978
          ],
          "sizemode": "area",
          "sizeref": 27650.37
         },
         "mode": "markers",
         "name": "Latehar",
         "showlegend": true,
         "subplot": "mapbox",
         "type": "scattermapbox"
        },
        {
         "hovertemplate": "<b>%{hovertext}</b><br><br>District name=Dindori<br>Population=%{marker.size}<br>Latitude=%{lat}<br>Longitude=%{lon}<extra></extra>",
         "hovertext": [
          "MADHYA PRADESH"
         ],
         "lat": [
          22.83738437047757
         ],
         "legendgroup": "Dindori",
         "lon": [
          81.04332966714911
         ],
         "marker": {
          "color": "#FECB52",
          "size": [
           704524
          ],
          "sizemode": "area",
          "sizeref": 27650.37
         },
         "mode": "markers",
         "name": "Dindori",
         "showlegend": true,
         "subplot": "mapbox",
         "type": "scattermapbox"
        },
        {
         "hovertemplate": "<b>%{hovertext}</b><br><br>District name=North Tripura<br>Population=%{marker.size}<br>Latitude=%{lat}<br>Longitude=%{lon}<extra></extra>",
         "hovertext": [
          "TRIPURA"
         ],
         "lat": [
          24.121739755351683
         ],
         "legendgroup": "North Tripura",
         "lon": [
          92.17842538226292
         ],
         "marker": {
          "color": "#636efa",
          "size": [
           693947
          ],
          "sizemode": "area",
          "sizeref": 27650.37
         },
         "mode": "markers",
         "name": "North Tripura",
         "showlegend": true,
         "subplot": "mapbox",
         "type": "scattermapbox"
        },
        {
         "hovertemplate": "<b>%{hovertext}</b><br><br>District name=Sheopur<br>Population=%{marker.size}<br>Latitude=%{lat}<br>Longitude=%{lon}<extra></extra>",
         "hovertext": [
          "MADHYA PRADESH"
         ],
         "lat": [
          25.78014810996563
         ],
         "legendgroup": "Sheopur",
         "lon": [
          77.16911116838484
         ],
         "marker": {
          "color": "#EF553B",
          "size": [
           687861
          ],
          "sizemode": "area",
          "sizeref": 27650.37
         },
         "mode": "markers",
         "name": "Sheopur",
         "showlegend": true,
         "subplot": "mapbox",
         "type": "scattermapbox"
        },
        {
         "hovertemplate": "<b>%{hovertext}</b><br><br>District name=Dhemaji<br>Population=%{marker.size}<br>Latitude=%{lat}<br>Longitude=%{lon}<extra></extra>",
         "hovertext": [
          "ASSAM"
         ],
         "lat": [
          27.586533438485816
         ],
         "legendgroup": "Dhemaji",
         "lon": [
          94.71336908517353
         ],
         "marker": {
          "color": "#00cc96",
          "size": [
           686133
          ],
          "sizemode": "area",
          "sizeref": 27650.37
         },
         "mode": "markers",
         "name": "Dhemaji",
         "showlegend": true,
         "subplot": "mapbox",
         "type": "scattermapbox"
        },
        {
         "hovertemplate": "<b>%{hovertext}</b><br><br>District name=Rupnagar<br>Population=%{marker.size}<br>Latitude=%{lat}<br>Longitude=%{lon}<extra></extra>",
         "hovertext": [
          "PUNJAB"
         ],
         "lat": [
          30.910937330754347
         ],
         "legendgroup": "Rupnagar",
         "lon": [
          76.53743500967126
         ],
         "marker": {
          "color": "#ab63fa",
          "size": [
           684627
          ],
          "sizemode": "area",
          "sizeref": 27650.37
         },
         "mode": "markers",
         "name": "Rupnagar",
         "showlegend": true,
         "subplot": "mapbox",
         "type": "scattermapbox"
        },
        {
         "hovertemplate": "<b>%{hovertext}</b><br><br>District name=Jaisalmer<br>Population=%{marker.size}<br>Latitude=%{lat}<br>Longitude=%{lon}<extra></extra>",
         "hovertext": [
          "RAJASTHAN"
         ],
         "lat": [
          26.86900838548185
         ],
         "legendgroup": "Jaisalmer",
         "lon": [
          71.18371877346682
         ],
         "marker": {
          "color": "#FFA15A",
          "size": [
           669919
          ],
          "sizemode": "area",
          "sizeref": 27650.37
         },
         "mode": "markers",
         "name": "Jaisalmer",
         "showlegend": true,
         "subplot": "mapbox",
         "type": "scattermapbox"
        },
        {
         "hovertemplate": "<b>%{hovertext}</b><br><br>District name=Hailakandi<br>Population=%{marker.size}<br>Latitude=%{lat}<br>Longitude=%{lon}<extra></extra>",
         "hovertext": [
          "ASSAM"
         ],
         "lat": [
          24.457496089385486
         ],
         "legendgroup": "Hailakandi",
         "lon": [
          92.59154664804475
         ],
         "marker": {
          "color": "#19d3f3",
          "size": [
           659296
          ],
          "sizemode": "area",
          "sizeref": 27650.37
         },
         "mode": "markers",
         "name": "Hailakandi",
         "showlegend": true,
         "subplot": "mapbox",
         "type": "scattermapbox"
        },
        {
         "hovertemplate": "<b>%{hovertext}</b><br><br>District name=Koriya<br>Population=%{marker.size}<br>Latitude=%{lat}<br>Longitude=%{lon}<extra></extra>",
         "hovertext": [
          "CHHATTISGARH"
         ],
         "lat": [
          23.50412776859501
         ],
         "legendgroup": "Koriya",
         "lon": [
          82.12515636363635
         ],
         "marker": {
          "color": "#FF6692",
          "size": [
           658917
          ],
          "sizemode": "area",
          "sizeref": 27650.37
         },
         "mode": "markers",
         "name": "Koriya",
         "showlegend": true,
         "subplot": "mapbox",
         "type": "scattermapbox"
        },
        {
         "hovertemplate": "<b>%{hovertext}</b><br><br>District name=Sheohar<br>Population=%{marker.size}<br>Latitude=%{lat}<br>Longitude=%{lon}<extra></extra>",
         "hovertext": [
          "BIHAR"
         ],
         "lat": [
          26.458380748663107
         ],
         "legendgroup": "Sheohar",
         "lon": [
          85.29539411764709
         ],
         "marker": {
          "color": "#B6E880",
          "size": [
           656246
          ],
          "sizemode": "area",
          "sizeref": 27650.37
         },
         "mode": "markers",
         "name": "Sheohar",
         "showlegend": true,
         "subplot": "mapbox",
         "type": "scattermapbox"
        },
        {
         "hovertemplate": "<b>%{hovertext}</b><br><br>District name=Umaria<br>Population=%{marker.size}<br>Latitude=%{lat}<br>Longitude=%{lon}<extra></extra>",
         "hovertext": [
          "MADHYA PRADESH"
         ],
         "lat": [
          23.59601063063061
         ],
         "legendgroup": "Umaria",
         "lon": [
          80.90879477477475
         ],
         "marker": {
          "color": "#FF97FF",
          "size": [
           644758
          ],
          "sizemode": "area",
          "sizeref": 27650.37
         },
         "mode": "markers",
         "name": "Umaria",
         "showlegend": true,
         "subplot": "mapbox",
         "type": "scattermapbox"
        },
        {
         "hovertemplate": "<b>%{hovertext}</b><br><br>District name=West Garo Hills<br>Population=%{marker.size}<br>Latitude=%{lat}<br>Longitude=%{lon}<extra></extra>",
         "hovertext": [
          "MEGHALAYA"
         ],
         "lat": [
          25.495285185185185
         ],
         "legendgroup": "West Garo Hills",
         "lon": [
          90.03709947089942
         ],
         "marker": {
          "color": "#FECB52",
          "size": [
           643291
          ],
          "sizemode": "area",
          "sizeref": 27650.37
         },
         "mode": "markers",
         "name": "West Garo Hills",
         "showlegend": true,
         "subplot": "mapbox",
         "type": "scattermapbox"
        },
        {
         "hovertemplate": "<b>%{hovertext}</b><br><br>District name=South Goa<br>Population=%{marker.size}<br>Latitude=%{lat}<br>Longitude=%{lon}<extra></extra>",
         "hovertext": [
          "GOA"
         ],
         "lat": [
          15.195278658183785
         ],
         "legendgroup": "South Goa",
         "lon": [
          73.941792596877
         ],
         "marker": {
          "color": "#636efa",
          "size": [
           640537
          ],
          "sizemode": "area",
          "sizeref": 27650.37
         },
         "mode": "markers",
         "name": "South Goa",
         "showlegend": true,
         "subplot": "mapbox",
         "type": "scattermapbox"
        },
        {
         "hovertemplate": "<b>%{hovertext}</b><br><br>District name=Sheikhpura<br>Population=%{marker.size}<br>Latitude=%{lat}<br>Longitude=%{lon}<extra></extra>",
         "hovertext": [
          "BIHAR"
         ],
         "lat": [
          25.12472436548223
         ],
         "legendgroup": "Sheikhpura",
         "lon": [
          85.77839390862943
         ],
         "marker": {
          "color": "#EF553B",
          "size": [
           636342
          ],
          "sizemode": "area",
          "sizeref": 27650.37
         },
         "mode": "markers",
         "name": "Sheikhpura",
         "showlegend": true,
         "subplot": "mapbox",
         "type": "scattermapbox"
        },
        {
         "hovertemplate": "<b>%{hovertext}</b><br><br>District name=Almora<br>Population=%{marker.size}<br>Latitude=%{lat}<br>Longitude=%{lon}<extra></extra>",
         "hovertext": [
          "UTTARAKHAND"
         ],
         "lat": [
          29.683532133676103
         ],
         "legendgroup": "Almora",
         "lon": [
          79.50165064267351
         ],
         "marker": {
          "color": "#00cc96",
          "size": [
           622506
          ],
          "sizemode": "area",
          "sizeref": 27650.37
         },
         "mode": "markers",
         "name": "Almora",
         "showlegend": true,
         "subplot": "mapbox",
         "type": "scattermapbox"
        },
        {
         "hovertemplate": "<b>%{hovertext}</b><br><br>District name=Tehri Garhwal<br>Population=%{marker.size}<br>Latitude=%{lat}<br>Longitude=%{lon}<extra></extra>",
         "hovertext": [
          "UTTARAKHAND"
         ],
         "lat": [
          30.463700918635173
         ],
         "legendgroup": "Tehri Garhwal",
         "lon": [
          78.48783792650917
         ],
         "marker": {
          "color": "#ab63fa",
          "size": [
           618931
          ],
          "sizemode": "area",
          "sizeref": 27650.37
         },
         "mode": "markers",
         "name": "Tehri Garhwal",
         "showlegend": true,
         "subplot": "mapbox",
         "type": "scattermapbox"
        },
        {
         "hovertemplate": "<b>%{hovertext}</b><br><br>District name=Faridkot<br>Population=%{marker.size}<br>Latitude=%{lat}<br>Longitude=%{lon}<extra></extra>",
         "hovertext": [
          "PUNJAB"
         ],
         "lat": [
          30.591187250996025
         ],
         "legendgroup": "Faridkot",
         "lon": [
          74.79751553784862
         ],
         "marker": {
          "color": "#FFA15A",
          "size": [
           617508
          ],
          "sizemode": "area",
          "sizeref": 27650.37
         },
         "mode": "markers",
         "name": "Faridkot",
         "showlegend": true,
         "subplot": "mapbox",
         "type": "scattermapbox"
        },
        {
         "hovertemplate": "<b>%{hovertext}</b><br><br>District name=Kathua<br>Population=%{marker.size}<br>Latitude=%{lat}<br>Longitude=%{lon}<extra></extra>",
         "hovertext": [
          "JAMMU AND KASHMIR"
         ],
         "lat": [
          32.51781678321678
         ],
         "legendgroup": "Kathua",
         "lon": [
          75.58901398601404
         ],
         "marker": {
          "color": "#19d3f3",
          "size": [
           616435
          ],
          "sizemode": "area",
          "sizeref": 27650.37
         },
         "mode": "markers",
         "name": "Kathua",
         "showlegend": true,
         "subplot": "mapbox",
         "type": "scattermapbox"
        },
        {
         "hovertemplate": "<b>%{hovertext}</b><br><br>District name=Malkangiri<br>Population=%{marker.size}<br>Latitude=%{lat}<br>Longitude=%{lon}<extra></extra>",
         "hovertext": [
          "ORISSA"
         ],
         "lat": [
          18.25227930367506
         ],
         "legendgroup": "Malkangiri",
         "lon": [
          81.98293636363628
         ],
         "marker": {
          "color": "#FF6692",
          "size": [
           613192
          ],
          "sizemode": "area",
          "sizeref": 27650.37
         },
         "mode": "markers",
         "name": "Malkangiri",
         "showlegend": true,
         "subplot": "mapbox",
         "type": "scattermapbox"
        },
        {
         "hovertemplate": "<b>%{hovertext}</b><br><br>District name=Nuapada<br>Population=%{marker.size}<br>Latitude=%{lat}<br>Longitude=%{lon}<extra></extra>",
         "hovertext": [
          "ORISSA"
         ],
         "lat": [
          20.471309512195116
         ],
         "legendgroup": "Nuapada",
         "lon": [
          82.59152536585364
         ],
         "marker": {
          "color": "#B6E880",
          "size": [
           610382
          ],
          "sizemode": "area",
          "sizeref": 27650.37
         },
         "mode": "markers",
         "name": "Nuapada",
         "showlegend": true,
         "subplot": "mapbox",
         "type": "scattermapbox"
        },
        {
         "hovertemplate": "<b>%{hovertext}</b><br><br>District name=Fatehgarh Sahib<br>Population=%{marker.size}<br>Latitude=%{lat}<br>Longitude=%{lon}<extra></extra>",
         "hovertext": [
          "PUNJAB"
         ],
         "lat": [
          30.64290947368421
         ],
         "legendgroup": "Fatehgarh Sahib",
         "lon": [
          76.36208394736842
         ],
         "marker": {
          "color": "#FF97FF",
          "size": [
           600163
          ],
          "sizemode": "area",
          "sizeref": 27650.37
         },
         "mode": "markers",
         "name": "Fatehgarh Sahib",
         "showlegend": true,
         "subplot": "mapbox",
         "type": "scattermapbox"
        },
        {
         "hovertemplate": "<b>%{hovertext}</b><br><br>District name=Simdega<br>Population=%{marker.size}<br>Latitude=%{lat}<br>Longitude=%{lon}<extra></extra>",
         "hovertext": [
          "JHARKHAND"
         ],
         "lat": [
          22.608760391198054
         ],
         "legendgroup": "Simdega",
         "lon": [
          84.59193691931536
         ],
         "marker": {
          "color": "#FECB52",
          "size": [
           599578
          ],
          "sizemode": "area",
          "sizeref": 27650.37
         },
         "mode": "markers",
         "name": "Simdega",
         "showlegend": true,
         "subplot": "mapbox",
         "type": "scattermapbox"
        },
        {
         "hovertemplate": "<b>%{hovertext}</b><br><br>District name=Narmada<br>Population=%{marker.size}<br>Latitude=%{lat}<br>Longitude=%{lon}<extra></extra>",
         "hovertext": [
          "GUJARAT"
         ],
         "lat": [
          21.70666386292833
         ],
         "legendgroup": "Narmada",
         "lon": [
          73.68403208722742
         ],
         "marker": {
          "color": "#636efa",
          "size": [
           590297
          ],
          "sizemode": "area",
          "sizeref": 27650.37
         },
         "mode": "markers",
         "name": "Narmada",
         "showlegend": true,
         "subplot": "mapbox",
         "type": "scattermapbox"
        },
        {
         "hovertemplate": "<b>%{hovertext}</b><br><br>District name=Porbandar<br>Population=%{marker.size}<br>Latitude=%{lat}<br>Longitude=%{lon}<extra></extra>",
         "hovertext": [
          "GUJARAT"
         ],
         "lat": [
          21.55092351651571
         ],
         "legendgroup": "Porbandar",
         "lon": [
          69.71896987722886
         ],
         "marker": {
          "color": "#EF553B",
          "size": [
           585449
          ],
          "sizemode": "area",
          "sizeref": 27650.37
         },
         "mode": "markers",
         "name": "Porbandar",
         "showlegend": true,
         "subplot": "mapbox",
         "type": "scattermapbox"
        },
        {
         "hovertemplate": "<b>%{hovertext}</b><br><br>District name=Solan<br>Population=%{marker.size}<br>Latitude=%{lat}<br>Longitude=%{lon}<extra></extra>",
         "hovertext": [
          "HIMACHAL PRADESH"
         ],
         "lat": [
          31.03864311926604
         ],
         "legendgroup": "Solan",
         "lon": [
          76.94442140672783
         ],
         "marker": {
          "color": "#00cc96",
          "size": [
           580320
          ],
          "sizemode": "area",
          "sizeref": 27650.37
         },
         "mode": "markers",
         "name": "Solan",
         "showlegend": true,
         "subplot": "mapbox",
         "type": "scattermapbox"
        },
        {
         "hovertemplate": "<b>%{hovertext}</b><br><br>District name=Jharsuguda<br>Population=%{marker.size}<br>Latitude=%{lat}<br>Longitude=%{lon}<extra></extra>",
         "hovertext": [
          "ORISSA"
         ],
         "lat": [
          21.827058566978184
         ],
         "legendgroup": "Jharsuguda",
         "lon": [
          83.93581682242987
         ],
         "marker": {
          "color": "#ab63fa",
          "size": [
           579505
          ],
          "sizemode": "area",
          "sizeref": 27650.37
         },
         "mode": "markers",
         "name": "Jharsuguda",
         "showlegend": true,
         "subplot": "mapbox",
         "type": "scattermapbox"
        },
        {
         "hovertemplate": "<b>%{hovertext}</b><br><br>District name=Gajapati<br>Population=%{marker.size}<br>Latitude=%{lat}<br>Longitude=%{lon}<extra></extra>",
         "hovertext": [
          "ORISSA"
         ],
         "lat": [
          19.121080882352945
         ],
         "legendgroup": "Gajapati",
         "lon": [
          84.14015091911759
         ],
         "marker": {
          "color": "#FFA15A",
          "size": [
           577817
          ],
          "sizemode": "area",
          "sizeref": 27650.37
         },
         "mode": "markers",
         "name": "Gajapati",
         "showlegend": true,
         "subplot": "mapbox",
         "type": "scattermapbox"
        },
        {
         "hovertemplate": "<b>%{hovertext}</b><br><br>District name=Harda<br>Population=%{marker.size}<br>Latitude=%{lat}<br>Longitude=%{lon}<extra></extra>",
         "hovertext": [
          "MADHYA PRADESH"
         ],
         "lat": [
          22.227659781121783
         ],
         "legendgroup": "Harda",
         "lon": [
          77.07022571819435
         ],
         "marker": {
          "color": "#19d3f3",
          "size": [
           570465
          ],
          "sizemode": "area",
          "sizeref": 27650.37
         },
         "mode": "markers",
         "name": "Harda",
         "showlegend": true,
         "subplot": "mapbox",
         "type": "scattermapbox"
        },
        {
         "hovertemplate": "<b>%{hovertext}</b><br><br>District name=Perambalur<br>Population=%{marker.size}<br>Latitude=%{lat}<br>Longitude=%{lon}<extra></extra>",
         "hovertext": [
          "TAMIL NADU"
         ],
         "lat": [
          11.260137758112096
         ],
         "legendgroup": "Perambalur",
         "lon": [
          78.86034011799416
         ],
         "marker": {
          "color": "#FF6692",
          "size": [
           565223
          ],
          "sizemode": "area",
          "sizeref": 27650.37
         },
         "mode": "markers",
         "name": "Perambalur",
         "showlegend": true,
         "subplot": "mapbox",
         "type": "scattermapbox"
        },
        {
         "hovertemplate": "<b>%{hovertext}</b><br><br>District name=Panchkula<br>Population=%{marker.size}<br>Latitude=%{lat}<br>Longitude=%{lon}<extra></extra>",
         "hovertext": [
          "HARYANA"
         ],
         "lat": [
          30.700897142857134
         ],
         "legendgroup": "Panchkula",
         "lon": [
          76.97173238095236
         ],
         "marker": {
          "color": "#B6E880",
          "size": [
           561293
          ],
          "sizemode": "area",
          "sizeref": 27650.37
         },
         "mode": "markers",
         "name": "Panchkula",
         "showlegend": true,
         "subplot": "mapbox",
         "type": "scattermapbox"
        },
        {
         "hovertemplate": "<b>%{hovertext}</b><br><br>District name=Pulwama<br>Population=%{marker.size}<br>Latitude=%{lat}<br>Longitude=%{lon}<extra></extra>",
         "hovertext": [
          "JAMMU AND KASHMIR"
         ],
         "lat": [
          33.88414418604652
         ],
         "legendgroup": "Pulwama",
         "lon": [
          75.00921860465118
         ],
         "marker": {
          "color": "#FF97FF",
          "size": [
           560440
          ],
          "sizemode": "area",
          "sizeref": 27650.37
         },
         "mode": "markers",
         "name": "Pulwama",
         "showlegend": true,
         "subplot": "mapbox",
         "type": "scattermapbox"
        },
        {
         "hovertemplate": "<b>%{hovertext}</b><br><br>District name=Udhampur<br>Population=%{marker.size}<br>Latitude=%{lat}<br>Longitude=%{lon}<extra></extra>",
         "hovertext": [
          "JAMMU AND KASHMIR"
         ],
         "lat": [
          33.04770670731707
         ],
         "legendgroup": "Udhampur",
         "lon": [
          75.15286951219511
         ],
         "marker": {
          "color": "#FECB52",
          "size": [
           554985
          ],
          "sizemode": "area",
          "sizeref": 27650.37
         },
         "mode": "markers",
         "name": "Udhampur",
         "showlegend": true,
         "subplot": "mapbox",
         "type": "scattermapbox"
        },
        {
         "hovertemplate": "<b>%{hovertext}</b><br><br>District name=Kodagu<br>Population=%{marker.size}<br>Latitude=%{lat}<br>Longitude=%{lon}<extra></extra>",
         "hovertext": [
          "KARNATAKA"
         ],
         "lat": [
          12.39684468085106
         ],
         "legendgroup": "Kodagu",
         "lon": [
          75.79336595744688
         ],
         "marker": {
          "color": "#636efa",
          "size": [
           554519
          ],
          "sizemode": "area",
          "sizeref": 27650.37
         },
         "mode": "markers",
         "name": "Kodagu",
         "showlegend": true,
         "subplot": "mapbox",
         "type": "scattermapbox"
        },
        {
         "hovertemplate": "<b>%{hovertext}</b><br><br>District name=Sirmaur<br>Population=%{marker.size}<br>Latitude=%{lat}<br>Longitude=%{lon}<extra></extra>",
         "hovertext": [
          "HIMACHAL PRADESH"
         ],
         "lat": [
          30.682764453961443
         ],
         "legendgroup": "Sirmaur",
         "lon": [
          77.43184689507493
         ],
         "marker": {
          "color": "#EF553B",
          "size": [
           529855
          ],
          "sizemode": "area",
          "sizeref": 27650.37
         },
         "mode": "markers",
         "name": "Sirmaur",
         "showlegend": true,
         "subplot": "mapbox",
         "type": "scattermapbox"
        },
        {
         "hovertemplate": "<b>%{hovertext}</b><br><br>District name=Una<br>Population=%{marker.size}<br>Latitude=%{lat}<br>Longitude=%{lon}<extra></extra>",
         "hovertext": [
          "HIMACHAL PRADESH"
         ],
         "lat": [
          31.58330388349513
         ],
         "legendgroup": "Una",
         "lon": [
          76.18353932038836
         ],
         "marker": {
          "color": "#00cc96",
          "size": [
           521173
          ],
          "sizemode": "area",
          "sizeref": 27650.37
         },
         "mode": "markers",
         "name": "Una",
         "showlegend": true,
         "subplot": "mapbox",
         "type": "scattermapbox"
        },
        {
         "hovertemplate": "<b>%{hovertext}</b><br><br>District name=Chamba<br>Population=%{marker.size}<br>Latitude=%{lat}<br>Longitude=%{lon}<extra></extra>",
         "hovertext": [
          "HIMACHAL PRADESH"
         ],
         "lat": [
          32.66741814595661
         ],
         "legendgroup": "Chamba",
         "lon": [
          76.39354063116366
         ],
         "marker": {
          "color": "#ab63fa",
          "size": [
           519080
          ],
          "sizemode": "area",
          "sizeref": 27650.37
         },
         "mode": "markers",
         "name": "Chamba",
         "showlegend": true,
         "subplot": "mapbox",
         "type": "scattermapbox"
        },
        {
         "hovertemplate": "<b>%{hovertext}</b><br><br>District name=Pithoragarh<br>Population=%{marker.size}<br>Latitude=%{lat}<br>Longitude=%{lon}<extra></extra>",
         "hovertext": [
          "UTTARAKHAND"
         ],
         "lat": [
          30.14720631868129
         ],
         "legendgroup": "Pithoragarh",
         "lon": [
          80.34229230769236
         ],
         "marker": {
          "color": "#FFA15A",
          "size": [
           483439
          ],
          "sizemode": "area",
          "sizeref": 27650.37
         },
         "mode": "markers",
         "name": "Pithoragarh",
         "showlegend": true,
         "subplot": "mapbox",
         "type": "scattermapbox"
        },
        {
         "hovertemplate": "<b>%{hovertext}</b><br><br>District name=Senapati<br>Population=%{marker.size}<br>Latitude=%{lat}<br>Longitude=%{lon}<extra></extra>",
         "hovertext": [
          "MANIPUR"
         ],
         "lat": [
          25.08465586034914
         ],
         "legendgroup": "Senapati",
         "lon": [
          94.03366234413956
         ],
         "marker": {
          "color": "#19d3f3",
          "size": [
           479148
          ],
          "sizemode": "area",
          "sizeref": 27650.37
         },
         "mode": "markers",
         "name": "Senapati",
         "showlegend": true,
         "subplot": "mapbox",
         "type": "scattermapbox"
        },
        {
         "hovertemplate": "<b>%{hovertext}</b><br><br>District name=Punch<br>Population=%{marker.size}<br>Latitude=%{lat}<br>Longitude=%{lon}<extra></extra>",
         "hovertext": [
          "JAMMU AND KASHMIR"
         ],
         "lat": [
          33.791241290322574
         ],
         "legendgroup": "Punch",
         "lon": [
          74.29593161290322
         ],
         "marker": {
          "color": "#FF6692",
          "size": [
           476835
          ],
          "sizemode": "area",
          "sizeref": 27650.37
         },
         "mode": "markers",
         "name": "Punch",
         "showlegend": true,
         "subplot": "mapbox",
         "type": "scattermapbox"
        },
        {
         "hovertemplate": "<b>%{hovertext}</b><br><br>District name=Lohardaga<br>Population=%{marker.size}<br>Latitude=%{lat}<br>Longitude=%{lon}<extra></extra>",
         "hovertext": [
          "JHARKHAND"
         ],
         "lat": [
          23.488796043165483
         ],
         "legendgroup": "Lohardaga",
         "lon": [
          84.6605169064748
         ],
         "marker": {
          "color": "#B6E880",
          "size": [
           461790
          ],
          "sizemode": "area",
          "sizeref": 27650.37
         },
         "mode": "markers",
         "name": "Lohardaga",
         "showlegend": true,
         "subplot": "mapbox",
         "type": "scattermapbox"
        },
        {
         "hovertemplate": "<b>%{hovertext}</b><br><br>District name=Kullu<br>Population=%{marker.size}<br>Latitude=%{lat}<br>Longitude=%{lon}<extra></extra>",
         "hovertext": [
          "HIMACHAL PRADESH"
         ],
         "lat": [
          31.90911922077925
         ],
         "legendgroup": "Kullu",
         "lon": [
          77.40922649350647
         ],
         "marker": {
          "color": "#FF97FF",
          "size": [
           437903
          ],
          "sizemode": "area",
          "sizeref": 27650.37
         },
         "mode": "markers",
         "name": "Kullu",
         "showlegend": true,
         "subplot": "mapbox",
         "type": "scattermapbox"
        },
        {
         "hovertemplate": "<b>%{hovertext}</b><br><br>District name=Thoubal<br>Population=%{marker.size}<br>Latitude=%{lat}<br>Longitude=%{lon}<extra></extra>",
         "hovertext": [
          "MANIPUR"
         ],
         "lat": [
          24.545392553191498
         ],
         "legendgroup": "Thoubal",
         "lon": [
          93.97959893617023
         ],
         "marker": {
          "color": "#FECB52",
          "size": [
           422168
          ],
          "sizemode": "area",
          "sizeref": 27650.37
         },
         "mode": "markers",
         "name": "Thoubal",
         "showlegend": true,
         "subplot": "mapbox",
         "type": "scattermapbox"
        },
        {
         "hovertemplate": "<b>%{hovertext}</b><br><br>District name=Doda<br>Population=%{marker.size}<br>Latitude=%{lat}<br>Longitude=%{lon}<extra></extra>",
         "hovertext": [
          "JAMMU AND KASHMIR"
         ],
         "lat": [
          33.359614675767915
         ],
         "legendgroup": "Doda",
         "lon": [
          76.07163720136518
         ],
         "marker": {
          "color": "#636efa",
          "size": [
           409936
          ],
          "sizemode": "area",
          "sizeref": 27650.37
         },
         "mode": "markers",
         "name": "Doda",
         "showlegend": true,
         "subplot": "mapbox",
         "type": "scattermapbox"
        },
        {
         "hovertemplate": "<b>%{hovertext}</b><br><br>District name=Aizawl<br>Population=%{marker.size}<br>Latitude=%{lat}<br>Longitude=%{lon}<extra></extra>",
         "hovertext": [
          "MIZORAM"
         ],
         "lat": [
          23.90781335453101
         ],
         "legendgroup": "Aizawl",
         "lon": [
          92.85359459459472
         ],
         "marker": {
          "color": "#EF553B",
          "size": [
           400309
          ],
          "sizemode": "area",
          "sizeref": 27650.37
         },
         "mode": "markers",
         "name": "Aizawl",
         "showlegend": true,
         "subplot": "mapbox",
         "type": "scattermapbox"
        },
        {
         "hovertemplate": "<b>%{hovertext}</b><br><br>District name=Jaintia Hills<br>Population=%{marker.size}<br>Latitude=%{lat}<br>Longitude=%{lon}<extra></extra>",
         "hovertext": [
          "MEGHALAYA"
         ],
         "lat": [
          25.33959557069844
         ],
         "legendgroup": "Jaintia Hills",
         "lon": [
          92.37608160136298
         ],
         "marker": {
          "color": "#00cc96",
          "size": [
           395124
          ],
          "sizemode": "area",
          "sizeref": 27650.37
         },
         "mode": "markers",
         "name": "Jaintia Hills",
         "showlegend": true,
         "subplot": "mapbox",
         "type": "scattermapbox"
        },
        {
         "hovertemplate": "<b>%{hovertext}</b><br><br>District name=Chamoli<br>Population=%{marker.size}<br>Latitude=%{lat}<br>Longitude=%{lon}<extra></extra>",
         "hovertext": [
          "UTTARAKHAND"
         ],
         "lat": [
          30.58338611464965
         ],
         "legendgroup": "Chamoli",
         "lon": [
          79.56281095541402
         ],
         "marker": {
          "color": "#ab63fa",
          "size": [
           391605
          ],
          "sizemode": "area",
          "sizeref": 27650.37
         },
         "mode": "markers",
         "name": "Chamoli",
         "showlegend": true,
         "subplot": "mapbox",
         "type": "scattermapbox"
        },
        {
         "hovertemplate": "<b>%{hovertext}</b><br><br>District name=West Khasi Hills<br>Population=%{marker.size}<br>Latitude=%{lat}<br>Longitude=%{lon}<extra></extra>",
         "hovertext": [
          "MEGHALAYA"
         ],
         "lat": [
          25.500889926739926
         ],
         "legendgroup": "West Khasi Hills",
         "lon": [
          91.25364542124538
         ],
         "marker": {
          "color": "#FFA15A",
          "size": [
           383461
          ],
          "sizemode": "area",
          "sizeref": 27650.37
         },
         "mode": "markers",
         "name": "West Khasi Hills",
         "showlegend": true,
         "subplot": "mapbox",
         "type": "scattermapbox"
        },
        {
         "hovertemplate": "<b>%{hovertext}</b><br><br>District name=Dimapur<br>Population=%{marker.size}<br>Latitude=%{lat}<br>Longitude=%{lon}<extra></extra>",
         "hovertext": [
          "NAGALAND"
         ],
         "lat": [
          25.814176811594223
         ],
         "legendgroup": "Dimapur",
         "lon": [
          93.75074057971014
         ],
         "marker": {
          "color": "#19d3f3",
          "size": [
           378811
          ],
          "sizemode": "area",
          "sizeref": 27650.37
         },
         "mode": "markers",
         "name": "Dimapur",
         "showlegend": true,
         "subplot": "mapbox",
         "type": "scattermapbox"
        },
        {
         "hovertemplate": "<b>%{hovertext}</b><br><br>District name=Dhalai<br>Population=%{marker.size}<br>Latitude=%{lat}<br>Longitude=%{lon}<extra></extra>",
         "hovertext": [
          "TRIPURA"
         ],
         "lat": [
          23.781360477941163
         ],
         "legendgroup": "Dhalai",
         "lon": [
          91.94654283088232
         ],
         "marker": {
          "color": "#FF6692",
          "size": [
           378230
          ],
          "sizemode": "area",
          "sizeref": 27650.37
         },
         "mode": "markers",
         "name": "Dhalai",
         "showlegend": true,
         "subplot": "mapbox",
         "type": "scattermapbox"
        },
        {
         "hovertemplate": "<b>%{hovertext}</b><br><br>District name=Uttarkashi<br>Population=%{marker.size}<br>Latitude=%{lat}<br>Longitude=%{lon}<extra></extra>",
         "hovertext": [
          "UTTARAKHAND"
         ],
         "lat": [
          30.968958552036234
         ],
         "legendgroup": "Uttarkashi",
         "lon": [
          78.56880615384617
         ],
         "marker": {
          "color": "#B6E880",
          "size": [
           330086
          ],
          "sizemode": "area",
          "sizeref": 27650.37
         },
         "mode": "markers",
         "name": "Uttarkashi",
         "showlegend": true,
         "subplot": "mapbox",
         "type": "scattermapbox"
        },
        {
         "hovertemplate": "<b>%{hovertext}</b><br><br>District name=East Garo Hills<br>Population=%{marker.size}<br>Latitude=%{lat}<br>Longitude=%{lon}<extra></extra>",
         "hovertext": [
          "MEGHALAYA"
         ],
         "lat": [
          25.82728228228228
         ],
         "legendgroup": "East Garo Hills",
         "lon": [
          90.64684924924916
         ],
         "marker": {
          "color": "#FF97FF",
          "size": [
           317917
          ],
          "sizemode": "area",
          "sizeref": 27650.37
         },
         "mode": "markers",
         "name": "East Garo Hills",
         "showlegend": true,
         "subplot": "mapbox",
         "type": "scattermapbox"
        },
        {
         "hovertemplate": "<b>%{hovertext}</b><br><br>District name=Churachandpur<br>Population=%{marker.size}<br>Latitude=%{lat}<br>Longitude=%{lon}<extra></extra>",
         "hovertext": [
          "MANIPUR"
         ],
         "lat": [
          24.30309718875504
         ],
         "legendgroup": "Churachandpur",
         "lon": [
          93.38671506024085
         ],
         "marker": {
          "color": "#FECB52",
          "size": [
           274143
          ],
          "sizemode": "area",
          "sizeref": 27650.37
         },
         "mode": "markers",
         "name": "Churachandpur",
         "showlegend": true,
         "subplot": "mapbox",
         "type": "scattermapbox"
        },
        {
         "hovertemplate": "<b>%{hovertext}</b><br><br>District name=Kohima<br>Population=%{marker.size}<br>Latitude=%{lat}<br>Longitude=%{lon}<extra></extra>",
         "hovertext": [
          "NAGALAND"
         ],
         "lat": [
          25.60311428571428
         ],
         "legendgroup": "Kohima",
         "lon": [
          93.78600657596373
         ],
         "marker": {
          "color": "#636efa",
          "size": [
           267988
          ],
          "sizemode": "area",
          "sizeref": 27650.37
         },
         "mode": "markers",
         "name": "Kohima",
         "showlegend": true,
         "subplot": "mapbox",
         "type": "scattermapbox"
        },
        {
         "hovertemplate": "<b>%{hovertext}</b><br><br>District name=Bageshwar<br>Population=%{marker.size}<br>Latitude=%{lat}<br>Longitude=%{lon}<extra></extra>",
         "hovertext": [
          "UTTARAKHAND"
         ],
         "lat": [
          29.98703393393397
         ],
         "legendgroup": "Bageshwar",
         "lon": [
          79.83954354354357
         ],
         "marker": {
          "color": "#EF553B",
          "size": [
           259898
          ],
          "sizemode": "area",
          "sizeref": 27650.37
         },
         "mode": "markers",
         "name": "Bageshwar",
         "showlegend": true,
         "subplot": "mapbox",
         "type": "scattermapbox"
        },
        {
         "hovertemplate": "<b>%{hovertext}</b><br><br>District name=Champawat<br>Population=%{marker.size}<br>Latitude=%{lat}<br>Longitude=%{lon}<extra></extra>",
         "hovertext": [
          "UTTARAKHAND"
         ],
         "lat": [
          29.29142393939393
         ],
         "legendgroup": "Champawat",
         "lon": [
          80.07720212121217
         ],
         "marker": {
          "color": "#00cc96",
          "size": [
           259648
          ],
          "sizemode": "area",
          "sizeref": 27650.37
         },
         "mode": "markers",
         "name": "Champawat",
         "showlegend": true,
         "subplot": "mapbox",
         "type": "scattermapbox"
        },
        {
         "hovertemplate": "<b>%{hovertext}</b><br><br>District name=Mon<br>Population=%{marker.size}<br>Latitude=%{lat}<br>Longitude=%{lon}<extra></extra>",
         "hovertext": [
          "NAGALAND"
         ],
         "lat": [
          26.69207374301676
         ],
         "legendgroup": "Mon",
         "lon": [
          95.03072988826828
         ],
         "marker": {
          "color": "#ab63fa",
          "size": [
           250260
          ],
          "sizemode": "area",
          "sizeref": 27650.37
         },
         "mode": "markers",
         "name": "Mon",
         "showlegend": true,
         "subplot": "mapbox",
         "type": "scattermapbox"
        },
        {
         "hovertemplate": "<b>%{hovertext}</b><br><br>District name=Bishnupur<br>Population=%{marker.size}<br>Latitude=%{lat}<br>Longitude=%{lon}<extra></extra>",
         "hovertext": [
          "MANIPUR"
         ],
         "lat": [
          24.50712111801243
         ],
         "legendgroup": "Bishnupur",
         "lon": [
          93.8246236024845
         ],
         "marker": {
          "color": "#FFA15A",
          "size": [
           237399
          ],
          "sizemode": "area",
          "sizeref": 27650.37
         },
         "mode": "markers",
         "name": "Bishnupur",
         "showlegend": true,
         "subplot": "mapbox",
         "type": "scattermapbox"
        },
        {
         "hovertemplate": "<b>%{hovertext}</b><br><br>District name=The Dangs<br>Population=%{marker.size}<br>Latitude=%{lat}<br>Longitude=%{lon}<extra></extra>",
         "hovertext": [
          "GUJARAT"
         ],
         "lat": [
          20.801633877551023
         ],
         "legendgroup": "The Dangs",
         "lon": [
          73.6883518367347
         ],
         "marker": {
          "color": "#19d3f3",
          "size": [
           228291
          ],
          "sizemode": "area",
          "sizeref": 27650.37
         },
         "mode": "markers",
         "name": "The Dangs",
         "showlegend": true,
         "subplot": "mapbox",
         "type": "scattermapbox"
        },
        {
         "hovertemplate": "<b>%{hovertext}</b><br><br>District name=Karaikal<br>Population=%{marker.size}<br>Latitude=%{lat}<br>Longitude=%{lon}<extra></extra>",
         "hovertext": [
          "PONDICHERRY"
         ],
         "lat": [
          10.876161726078813
         ],
         "legendgroup": "Karaikal",
         "lon": [
          79.82369793621002
         ],
         "marker": {
          "color": "#FF6692",
          "size": [
           200222
          ],
          "sizemode": "area",
          "sizeref": 27650.37
         },
         "mode": "markers",
         "name": "Karaikal",
         "showlegend": true,
         "subplot": "mapbox",
         "type": "scattermapbox"
        },
        {
         "hovertemplate": "<b>%{hovertext}</b><br><br>District name=Tuensang<br>Population=%{marker.size}<br>Latitude=%{lat}<br>Longitude=%{lon}<extra></extra>",
         "hovertext": [
          "NAGALAND"
         ],
         "lat": [
          26.21104453280316
         ],
         "legendgroup": "Tuensang",
         "lon": [
          94.85809880715708
         ],
         "marker": {
          "color": "#B6E880",
          "size": [
           196596
          ],
          "sizemode": "area",
          "sizeref": 27650.37
         },
         "mode": "markers",
         "name": "Tuensang",
         "showlegend": true,
         "subplot": "mapbox",
         "type": "scattermapbox"
        },
        {
         "hovertemplate": "<b>%{hovertext}</b><br><br>District name=Mokokchung<br>Population=%{marker.size}<br>Latitude=%{lat}<br>Longitude=%{lon}<extra></extra>",
         "hovertext": [
          "NAGALAND"
         ],
         "lat": [
          26.478911764705888
         ],
         "legendgroup": "Mokokchung",
         "lon": [
          94.522426006192
         ],
         "marker": {
          "color": "#FF97FF",
          "size": [
           194622
          ],
          "sizemode": "area",
          "sizeref": 27650.37
         },
         "mode": "markers",
         "name": "Mokokchung",
         "showlegend": true,
         "subplot": "mapbox",
         "type": "scattermapbox"
        },
        {
         "hovertemplate": "<b>%{hovertext}</b><br><br>District name=Daman<br>Population=%{marker.size}<br>Latitude=%{lat}<br>Longitude=%{lon}<extra></extra>",
         "hovertext": [
          "DAMAN AND DIU"
         ],
         "lat": [
          20.431616666666677
         ],
         "legendgroup": "Daman",
         "lon": [
          72.8392366071429
         ],
         "marker": {
          "color": "#FECB52",
          "size": [
           191173
          ],
          "sizemode": "area",
          "sizeref": 27650.37
         },
         "mode": "markers",
         "name": "Daman",
         "showlegend": true,
         "subplot": "mapbox",
         "type": "scattermapbox"
        },
        {
         "hovertemplate": "<b>%{hovertext}</b><br><br>District name=Ukhrul<br>Population=%{marker.size}<br>Latitude=%{lat}<br>Longitude=%{lon}<extra></extra>",
         "hovertext": [
          "MANIPUR"
         ],
         "lat": [
          25.05900314960629
         ],
         "legendgroup": "Ukhrul",
         "lon": [
          94.44129566929138
         ],
         "marker": {
          "color": "#636efa",
          "size": [
           183998
          ],
          "sizemode": "area",
          "sizeref": 27650.37
         },
         "mode": "markers",
         "name": "Ukhrul",
         "showlegend": true,
         "subplot": "mapbox",
         "type": "scattermapbox"
        },
        {
         "hovertemplate": "<b>%{hovertext}</b><br><br>District name=Papum Pare<br>Population=%{marker.size}<br>Latitude=%{lat}<br>Longitude=%{lon}<extra></extra>",
         "hovertext": [
          "ARUNACHAL PRADESH"
         ],
         "lat": [
          27.273529716981127
         ],
         "legendgroup": "Papum Pare",
         "lon": [
          93.54468183962264
         ],
         "marker": {
          "color": "#EF553B",
          "size": [
           176573
          ],
          "sizemode": "area",
          "sizeref": 27650.37
         },
         "mode": "markers",
         "name": "Papum Pare",
         "showlegend": true,
         "subplot": "mapbox",
         "type": "scattermapbox"
        },
        {
         "hovertemplate": "<b>%{hovertext}</b><br><br>District name=Wokha<br>Population=%{marker.size}<br>Latitude=%{lat}<br>Longitude=%{lon}<extra></extra>",
         "hovertext": [
          "NAGALAND"
         ],
         "lat": [
          26.202611551155112
         ],
         "legendgroup": "Wokha",
         "lon": [
          94.1990815181518
         ],
         "marker": {
          "color": "#00cc96",
          "size": [
           166343
          ],
          "sizemode": "area",
          "sizeref": 27650.37
         },
         "mode": "markers",
         "name": "Wokha",
         "showlegend": true,
         "subplot": "mapbox",
         "type": "scattermapbox"
        },
        {
         "hovertemplate": "<b>%{hovertext}</b><br><br>District name=Phek<br>Population=%{marker.size}<br>Latitude=%{lat}<br>Longitude=%{lon}<extra></extra>",
         "hovertext": [
          "NAGALAND"
         ],
         "lat": [
          25.63272986577182
         ],
         "legendgroup": "Phek",
         "lon": [
          94.56814563758392
         ],
         "marker": {
          "color": "#ab63fa",
          "size": [
           163418
          ],
          "sizemode": "area",
          "sizeref": 27650.37
         },
         "mode": "markers",
         "name": "Phek",
         "showlegend": true,
         "subplot": "mapbox",
         "type": "scattermapbox"
        },
        {
         "hovertemplate": "<b>%{hovertext}</b><br><br>District name=Lunglei<br>Population=%{marker.size}<br>Latitude=%{lat}<br>Longitude=%{lon}<extra></extra>",
         "hovertext": [
          "MIZORAM"
         ],
         "lat": [
          23.007717036172675
         ],
         "legendgroup": "Lunglei",
         "lon": [
          92.63512555425892
         ],
         "marker": {
          "color": "#FFA15A",
          "size": [
           161428
          ],
          "sizemode": "area",
          "sizeref": 27650.37
         },
         "mode": "markers",
         "name": "Lunglei",
         "showlegend": true,
         "subplot": "mapbox",
         "type": "scattermapbox"
        },
        {
         "hovertemplate": "<b>%{hovertext}</b><br><br>District name=Changlang<br>Population=%{marker.size}<br>Latitude=%{lat}<br>Longitude=%{lon}<extra></extra>",
         "hovertext": [
          "ARUNACHAL PRADESH"
         ],
         "lat": [
          27.36048479338845
         ],
         "legendgroup": "Changlang",
         "lon": [
          96.37552644628106
         ],
         "marker": {
          "color": "#19d3f3",
          "size": [
           148226
          ],
          "sizemode": "area",
          "sizeref": 27650.37
         },
         "mode": "markers",
         "name": "Changlang",
         "showlegend": true,
         "subplot": "mapbox",
         "type": "scattermapbox"
        },
        {
         "hovertemplate": "<b>%{hovertext}</b><br><br>District name=Lohit<br>Population=%{marker.size}<br>Latitude=%{lat}<br>Longitude=%{lon}<extra></extra>",
         "hovertext": [
          "ARUNACHAL PRADESH"
         ],
         "lat": [
          27.946785273972623
         ],
         "legendgroup": "Lohit",
         "lon": [
          96.59670770547945
         ],
         "marker": {
          "color": "#FF6692",
          "size": [
           145726
          ],
          "sizemode": "area",
          "sizeref": 27650.37
         },
         "mode": "markers",
         "name": "Lohit",
         "showlegend": true,
         "subplot": "mapbox",
         "type": "scattermapbox"
        },
        {
         "hovertemplate": "<b>%{hovertext}</b><br><br>District name=Chandel<br>Population=%{marker.size}<br>Latitude=%{lat}<br>Longitude=%{lon}<extra></extra>",
         "hovertext": [
          "MANIPUR"
         ],
         "lat": [
          24.2635812987013
         ],
         "legendgroup": "Chandel",
         "lon": [
          94.09443844155844
         ],
         "marker": {
          "color": "#B6E880",
          "size": [
           144182
          ],
          "sizemode": "area",
          "sizeref": 27650.37
         },
         "mode": "markers",
         "name": "Chandel",
         "showlegend": true,
         "subplot": "mapbox",
         "type": "scattermapbox"
        },
        {
         "hovertemplate": "<b>%{hovertext}</b><br><br>District name=South Garo Hills<br>Population=%{marker.size}<br>Latitude=%{lat}<br>Longitude=%{lon}<extra></extra>",
         "hovertext": [
          "MEGHALAYA"
         ],
         "lat": [
          25.240568578553614
         ],
         "legendgroup": "South Garo Hills",
         "lon": [
          90.64560349127176
         ],
         "marker": {
          "color": "#FF97FF",
          "size": [
           142334
          ],
          "sizemode": "area",
          "sizeref": 27650.37
         },
         "mode": "markers",
         "name": "South Garo Hills",
         "showlegend": true,
         "subplot": "mapbox",
         "type": "scattermapbox"
        },
        {
         "hovertemplate": "<b>%{hovertext}</b><br><br>District name=Kargil<br>Population=%{marker.size}<br>Latitude=%{lat}<br>Longitude=%{lon}<extra></extra>",
         "hovertext": [
          "JAMMU AND KASHMIR"
         ],
         "lat": [
          33.565994894894914
         ],
         "legendgroup": "Kargil",
         "lon": [
          76.63675315315312
         ],
         "marker": {
          "color": "#FECB52",
          "size": [
           140802
          ],
          "sizemode": "area",
          "sizeref": 27650.37
         },
         "mode": "markers",
         "name": "Kargil",
         "showlegend": true,
         "subplot": "mapbox",
         "type": "scattermapbox"
        },
        {
         "hovertemplate": "<b>%{hovertext}</b><br><br>District name=Zunheboto<br>Population=%{marker.size}<br>Latitude=%{lat}<br>Longitude=%{lon}<extra></extra>",
         "hovertext": [
          "NAGALAND"
         ],
         "lat": [
          26.028178205128206
         ],
         "legendgroup": "Zunheboto",
         "lon": [
          94.50026666666668
         ],
         "marker": {
          "color": "#636efa",
          "size": [
           140757
          ],
          "sizemode": "area",
          "sizeref": 27650.37
         },
         "mode": "markers",
         "name": "Zunheboto",
         "showlegend": true,
         "subplot": "mapbox",
         "type": "scattermapbox"
        },
        {
         "hovertemplate": "<b>%{hovertext}</b><br><br>District name=Tamenglong<br>Population=%{marker.size}<br>Latitude=%{lat}<br>Longitude=%{lon}<extra></extra>",
         "hovertext": [
          "MANIPUR"
         ],
         "lat": [
          24.98312942238265
         ],
         "legendgroup": "Tamenglong",
         "lon": [
          93.49450740072204
         ],
         "marker": {
          "color": "#EF553B",
          "size": [
           140651
          ],
          "sizemode": "area",
          "sizeref": 27650.37
         },
         "mode": "markers",
         "name": "Tamenglong",
         "showlegend": true,
         "subplot": "mapbox",
         "type": "scattermapbox"
        },
        {
         "hovertemplate": "<b>%{hovertext}</b><br><br>District name=Champhai<br>Population=%{marker.size}<br>Latitude=%{lat}<br>Longitude=%{lon}<extra></extra>",
         "hovertext": [
          "MIZORAM"
         ],
         "lat": [
          23.54166580976866
         ],
         "legendgroup": "Champhai",
         "lon": [
          93.24221799485862
         ],
         "marker": {
          "color": "#00cc96",
          "size": [
           125745
          ],
          "sizemode": "area",
          "sizeref": 27650.37
         },
         "mode": "markers",
         "name": "Champhai",
         "showlegend": true,
         "subplot": "mapbox",
         "type": "scattermapbox"
        },
        {
         "hovertemplate": "<b>%{hovertext}</b><br><br>District name=Lawngtlai<br>Population=%{marker.size}<br>Latitude=%{lat}<br>Longitude=%{lon}<extra></extra>",
         "hovertext": [
          "MIZORAM"
         ],
         "lat": [
          22.36102843137253
         ],
         "legendgroup": "Lawngtlai",
         "lon": [
          92.66964156862753
         ],
         "marker": {
          "color": "#ab63fa",
          "size": [
           117894
          ],
          "sizemode": "area",
          "sizeref": 27650.37
         },
         "mode": "markers",
         "name": "Lawngtlai",
         "showlegend": true,
         "subplot": "mapbox",
         "type": "scattermapbox"
        },
        {
         "hovertemplate": "<b>%{hovertext}</b><br><br>District name=West Siang<br>Population=%{marker.size}<br>Latitude=%{lat}<br>Longitude=%{lon}<extra></extra>",
         "hovertext": [
          "ARUNACHAL PRADESH"
         ],
         "lat": [
          28.106296920289843
         ],
         "legendgroup": "West Siang",
         "lon": [
          94.53510344202908
         ],
         "marker": {
          "color": "#FFA15A",
          "size": [
           112274
          ],
          "sizemode": "area",
          "sizeref": 27650.37
         },
         "mode": "markers",
         "name": "West Siang",
         "showlegend": true,
         "subplot": "mapbox",
         "type": "scattermapbox"
        },
        {
         "hovertemplate": "<b>%{hovertext}</b><br><br>District name=Tirap<br>Population=%{marker.size}<br>Latitude=%{lat}<br>Longitude=%{lon}<extra></extra>",
         "hovertext": [
          "ARUNACHAL PRADESH"
         ],
         "lat": [
          26.94406229508198
         ],
         "legendgroup": "Tirap",
         "lon": [
          95.41470327868862
         ],
         "marker": {
          "color": "#19d3f3",
          "size": [
           111975
          ],
          "sizemode": "area",
          "sizeref": 27650.37
         },
         "mode": "markers",
         "name": "Tirap",
         "showlegend": true,
         "subplot": "mapbox",
         "type": "scattermapbox"
        },
        {
         "hovertemplate": "<b>%{hovertext}</b><br><br>District name=East Siang<br>Population=%{marker.size}<br>Latitude=%{lat}<br>Longitude=%{lon}<extra></extra>",
         "hovertext": [
          "ARUNACHAL PRADESH"
         ],
         "lat": [
          28.15382352941176
         ],
         "legendgroup": "East Siang",
         "lon": [
          95.06499226006191
         ],
         "marker": {
          "color": "#FF6692",
          "size": [
           99214
          ],
          "sizemode": "area",
          "sizeref": 27650.37
         },
         "mode": "markers",
         "name": "East Siang",
         "showlegend": true,
         "subplot": "mapbox",
         "type": "scattermapbox"
        },
        {
         "hovertemplate": "<b>%{hovertext}</b><br><br>District name=Kurung Kumey<br>Population=%{marker.size}<br>Latitude=%{lat}<br>Longitude=%{lon}<extra></extra>",
         "hovertext": [
          "ARUNACHAL PRADESH"
         ],
         "lat": [
          28.04853351800553
         ],
         "legendgroup": "Kurung Kumey",
         "lon": [
          93.24531994459834
         ],
         "marker": {
          "color": "#B6E880",
          "size": [
           92076
          ],
          "sizemode": "area",
          "sizeref": 27650.37
         },
         "mode": "markers",
         "name": "Kurung Kumey",
         "showlegend": true,
         "subplot": "mapbox",
         "type": "scattermapbox"
        },
        {
         "hovertemplate": "<b>%{hovertext}</b><br><br>District name=Mamit<br>Population=%{marker.size}<br>Latitude=%{lat}<br>Longitude=%{lon}<extra></extra>",
         "hovertext": [
          "MIZORAM"
         ],
         "lat": [
          23.73852942502819
         ],
         "legendgroup": "Mamit",
         "lon": [
          92.4330803833147
         ],
         "marker": {
          "color": "#FF97FF",
          "size": [
           86364
          ],
          "sizemode": "area",
          "sizeref": 27650.37
         },
         "mode": "markers",
         "name": "Mamit",
         "showlegend": true,
         "subplot": "mapbox",
         "type": "scattermapbox"
        },
        {
         "hovertemplate": "<b>%{hovertext}</b><br><br>District name=Kinnaur<br>Population=%{marker.size}<br>Latitude=%{lat}<br>Longitude=%{lon}<extra></extra>",
         "hovertext": [
          "HIMACHAL PRADESH"
         ],
         "lat": [
          31.60667184065933
         ],
         "legendgroup": "Kinnaur",
         "lon": [
          78.51613736263741
         ],
         "marker": {
          "color": "#FECB52",
          "size": [
           84121
          ],
          "sizemode": "area",
          "sizeref": 27650.37
         },
         "mode": "markers",
         "name": "Kinnaur",
         "showlegend": true,
         "subplot": "mapbox",
         "type": "scattermapbox"
        },
        {
         "hovertemplate": "<b>%{hovertext}</b><br><br>District name=Kolasib<br>Population=%{marker.size}<br>Latitude=%{lat}<br>Longitude=%{lon}<extra></extra>",
         "hovertext": [
          "MIZORAM"
         ],
         "lat": [
          24.2020004347826
         ],
         "legendgroup": "Kolasib",
         "lon": [
          92.73470391304348
         ],
         "marker": {
          "color": "#636efa",
          "size": [
           83955
          ],
          "sizemode": "area",
          "sizeref": 27650.37
         },
         "mode": "markers",
         "name": "Kolasib",
         "showlegend": true,
         "subplot": "mapbox",
         "type": "scattermapbox"
        },
        {
         "hovertemplate": "<b>%{hovertext}</b><br><br>District name=West Kameng<br>Population=%{marker.size}<br>Latitude=%{lat}<br>Longitude=%{lon}<extra></extra>",
         "hovertext": [
          "ARUNACHAL PRADESH"
         ],
         "lat": [
          27.46486582278483
         ],
         "legendgroup": "West Kameng",
         "lon": [
          92.65015750452083
         ],
         "marker": {
          "color": "#EF553B",
          "size": [
           83947
          ],
          "sizemode": "area",
          "sizeref": 27650.37
         },
         "mode": "markers",
         "name": "West Kameng",
         "showlegend": true,
         "subplot": "mapbox",
         "type": "scattermapbox"
        },
        {
         "hovertemplate": "<b>%{hovertext}</b><br><br>District name=Upper Subansiri<br>Population=%{marker.size}<br>Latitude=%{lat}<br>Longitude=%{lon}<extra></extra>",
         "hovertext": [
          "ARUNACHAL PRADESH"
         ],
         "lat": [
          28.277196566523585
         ],
         "legendgroup": "Upper Subansiri",
         "lon": [
          93.8991435622318
         ],
         "marker": {
          "color": "#00cc96",
          "size": [
           83448
          ],
          "sizemode": "area",
          "sizeref": 27650.37
         },
         "mode": "markers",
         "name": "Upper Subansiri",
         "showlegend": true,
         "subplot": "mapbox",
         "type": "scattermapbox"
        },
        {
         "hovertemplate": "<b>%{hovertext}</b><br><br>District name=Lower Subansiri<br>Population=%{marker.size}<br>Latitude=%{lat}<br>Longitude=%{lon}<extra></extra>",
         "hovertext": [
          "ARUNACHAL PRADESH"
         ],
         "lat": [
          27.70849297297297
         ],
         "legendgroup": "Lower Subansiri",
         "lon": [
          93.96226108108112
         ],
         "marker": {
          "color": "#ab63fa",
          "size": [
           83030
          ],
          "sizemode": "area",
          "sizeref": 27650.37
         },
         "mode": "markers",
         "name": "Lower Subansiri",
         "showlegend": true,
         "subplot": "mapbox",
         "type": "scattermapbox"
        },
        {
         "hovertemplate": "<b>%{hovertext}</b><br><br>District name=East Kameng<br>Population=%{marker.size}<br>Latitude=%{lat}<br>Longitude=%{lon}<extra></extra>",
         "hovertext": [
          "ARUNACHAL PRADESH"
         ],
         "lat": [
          27.371194055944056
         ],
         "legendgroup": "East Kameng",
         "lon": [
          93.04741486013997
         ],
         "marker": {
          "color": "#FFA15A",
          "size": [
           78690
          ],
          "sizemode": "area",
          "sizeref": 27650.37
         },
         "mode": "markers",
         "name": "East Kameng",
         "showlegend": true,
         "subplot": "mapbox",
         "type": "scattermapbox"
        },
        {
         "hovertemplate": "<b>%{hovertext}</b><br><br>District name=Serchhip<br>Population=%{marker.size}<br>Latitude=%{lat}<br>Longitude=%{lon}<extra></extra>",
         "hovertext": [
          "MIZORAM"
         ],
         "lat": [
          23.263864705882344
         ],
         "legendgroup": "Serchhip",
         "lon": [
          92.914158496732
         ],
         "marker": {
          "color": "#19d3f3",
          "size": [
           64937
          ],
          "sizemode": "area",
          "sizeref": 27650.37
         },
         "mode": "markers",
         "name": "Serchhip",
         "showlegend": true,
         "subplot": "mapbox",
         "type": "scattermapbox"
        },
        {
         "hovertemplate": "<b>%{hovertext}</b><br><br>District name=Saiha<br>Population=%{marker.size}<br>Latitude=%{lat}<br>Longitude=%{lon}<extra></extra>",
         "hovertext": [
          "MIZORAM"
         ],
         "lat": [
          22.35744801061008
         ],
         "legendgroup": "Saiha",
         "lon": [
          93.02827931034489
         ],
         "marker": {
          "color": "#FF6692",
          "size": [
           56574
          ],
          "sizemode": "area",
          "sizeref": 27650.37
         },
         "mode": "markers",
         "name": "Saiha",
         "showlegend": true,
         "subplot": "mapbox",
         "type": "scattermapbox"
        },
        {
         "hovertemplate": "<b>%{hovertext}</b><br><br>District name=Yanam<br>Population=%{marker.size}<br>Latitude=%{lat}<br>Longitude=%{lon}<extra></extra>",
         "hovertext": [
          "PONDICHERRY"
         ],
         "lat": [
          16.707695652173904
         ],
         "legendgroup": "Yanam",
         "lon": [
          82.26187304347832
         ],
         "marker": {
          "color": "#B6E880",
          "size": [
           55626
          ],
          "sizemode": "area",
          "sizeref": 27650.37
         },
         "mode": "markers",
         "name": "Yanam",
         "showlegend": true,
         "subplot": "mapbox",
         "type": "scattermapbox"
        },
        {
         "hovertemplate": "<b>%{hovertext}</b><br><br>District name=Lower Dibang Valley<br>Population=%{marker.size}<br>Latitude=%{lat}<br>Longitude=%{lon}<extra></extra>",
         "hovertext": [
          "ARUNACHAL PRADESH"
         ],
         "lat": [
          28.32651730103806
         ],
         "legendgroup": "Lower Dibang Valley",
         "lon": [
          95.76567335640142
         ],
         "marker": {
          "color": "#FF97FF",
          "size": [
           54080
          ],
          "sizemode": "area",
          "sizeref": 27650.37
         },
         "mode": "markers",
         "name": "Lower Dibang Valley",
         "showlegend": true,
         "subplot": "mapbox",
         "type": "scattermapbox"
        },
        {
         "hovertemplate": "<b>%{hovertext}</b><br><br>District name=Tawang<br>Population=%{marker.size}<br>Latitude=%{lat}<br>Longitude=%{lon}<extra></extra>",
         "hovertext": [
          "ARUNACHAL PRADESH"
         ],
         "lat": [
          27.680683962264148
         ],
         "legendgroup": "Tawang",
         "lon": [
          91.82504245283016
         ],
         "marker": {
          "color": "#FECB52",
          "size": [
           49977
          ],
          "sizemode": "area",
          "sizeref": 27650.37
         },
         "mode": "markers",
         "name": "Tawang",
         "showlegend": true,
         "subplot": "mapbox",
         "type": "scattermapbox"
        },
        {
         "hovertemplate": "<b>%{hovertext}</b><br><br>District name=Mahe<br>Population=%{marker.size}<br>Latitude=%{lat}<br>Longitude=%{lon}<extra></extra>",
         "hovertext": [
          "PONDICHERRY"
         ],
         "lat": [
          12.006420793787758
         ],
         "legendgroup": "Mahe",
         "lon": [
          75.28275021570326
         ],
         "marker": {
          "color": "#636efa",
          "size": [
           41816
          ],
          "sizemode": "area",
          "sizeref": 27650.37
         },
         "mode": "markers",
         "name": "Mahe",
         "showlegend": true,
         "subplot": "mapbox",
         "type": "scattermapbox"
        },
        {
         "hovertemplate": "<b>%{hovertext}</b><br><br>District name=Upper Siang<br>Population=%{marker.size}<br>Latitude=%{lat}<br>Longitude=%{lon}<extra></extra>",
         "hovertext": [
          "ARUNACHAL PRADESH"
         ],
         "lat": [
          28.8309244897959
         ],
         "legendgroup": "Upper Siang",
         "lon": [
          95.00155765306124
         ],
         "marker": {
          "color": "#EF553B",
          "size": [
           35320
          ],
          "sizemode": "area",
          "sizeref": 27650.37
         },
         "mode": "markers",
         "name": "Upper Siang",
         "showlegend": true,
         "subplot": "mapbox",
         "type": "scattermapbox"
        }
       ],
       "layout": {
        "legend": {
         "itemsizing": "constant",
         "title": {
          "text": "District name"
         },
         "tracegroupgap": 0
        },
        "mapbox": {
         "center": {
          "lat": 23.32723209718341,
          "lon": 80.91021547921513
         },
         "domain": {
          "x": [
           0,
           1
          ],
          "y": [
           0,
           1
          ]
         },
         "style": "open-street-map",
         "zoom": 4
        },
        "margin": {
         "t": 60
        },
        "template": {
         "data": {
          "bar": [
           {
            "error_x": {
             "color": "#2a3f5f"
            },
            "error_y": {
             "color": "#2a3f5f"
            },
            "marker": {
             "line": {
              "color": "#E5ECF6",
              "width": 0.5
             },
             "pattern": {
              "fillmode": "overlay",
              "size": 10,
              "solidity": 0.2
             }
            },
            "type": "bar"
           }
          ],
          "barpolar": [
           {
            "marker": {
             "line": {
              "color": "#E5ECF6",
              "width": 0.5
             },
             "pattern": {
              "fillmode": "overlay",
              "size": 10,
              "solidity": 0.2
             }
            },
            "type": "barpolar"
           }
          ],
          "carpet": [
           {
            "aaxis": {
             "endlinecolor": "#2a3f5f",
             "gridcolor": "white",
             "linecolor": "white",
             "minorgridcolor": "white",
             "startlinecolor": "#2a3f5f"
            },
            "baxis": {
             "endlinecolor": "#2a3f5f",
             "gridcolor": "white",
             "linecolor": "white",
             "minorgridcolor": "white",
             "startlinecolor": "#2a3f5f"
            },
            "type": "carpet"
           }
          ],
          "choropleth": [
           {
            "colorbar": {
             "outlinewidth": 0,
             "ticks": ""
            },
            "type": "choropleth"
           }
          ],
          "contour": [
           {
            "colorbar": {
             "outlinewidth": 0,
             "ticks": ""
            },
            "colorscale": [
             [
              0,
              "#0d0887"
             ],
             [
              0.1111111111111111,
              "#46039f"
             ],
             [
              0.2222222222222222,
              "#7201a8"
             ],
             [
              0.3333333333333333,
              "#9c179e"
             ],
             [
              0.4444444444444444,
              "#bd3786"
             ],
             [
              0.5555555555555556,
              "#d8576b"
             ],
             [
              0.6666666666666666,
              "#ed7953"
             ],
             [
              0.7777777777777778,
              "#fb9f3a"
             ],
             [
              0.8888888888888888,
              "#fdca26"
             ],
             [
              1,
              "#f0f921"
             ]
            ],
            "type": "contour"
           }
          ],
          "contourcarpet": [
           {
            "colorbar": {
             "outlinewidth": 0,
             "ticks": ""
            },
            "type": "contourcarpet"
           }
          ],
          "heatmap": [
           {
            "colorbar": {
             "outlinewidth": 0,
             "ticks": ""
            },
            "colorscale": [
             [
              0,
              "#0d0887"
             ],
             [
              0.1111111111111111,
              "#46039f"
             ],
             [
              0.2222222222222222,
              "#7201a8"
             ],
             [
              0.3333333333333333,
              "#9c179e"
             ],
             [
              0.4444444444444444,
              "#bd3786"
             ],
             [
              0.5555555555555556,
              "#d8576b"
             ],
             [
              0.6666666666666666,
              "#ed7953"
             ],
             [
              0.7777777777777778,
              "#fb9f3a"
             ],
             [
              0.8888888888888888,
              "#fdca26"
             ],
             [
              1,
              "#f0f921"
             ]
            ],
            "type": "heatmap"
           }
          ],
          "heatmapgl": [
           {
            "colorbar": {
             "outlinewidth": 0,
             "ticks": ""
            },
            "colorscale": [
             [
              0,
              "#0d0887"
             ],
             [
              0.1111111111111111,
              "#46039f"
             ],
             [
              0.2222222222222222,
              "#7201a8"
             ],
             [
              0.3333333333333333,
              "#9c179e"
             ],
             [
              0.4444444444444444,
              "#bd3786"
             ],
             [
              0.5555555555555556,
              "#d8576b"
             ],
             [
              0.6666666666666666,
              "#ed7953"
             ],
             [
              0.7777777777777778,
              "#fb9f3a"
             ],
             [
              0.8888888888888888,
              "#fdca26"
             ],
             [
              1,
              "#f0f921"
             ]
            ],
            "type": "heatmapgl"
           }
          ],
          "histogram": [
           {
            "marker": {
             "pattern": {
              "fillmode": "overlay",
              "size": 10,
              "solidity": 0.2
             }
            },
            "type": "histogram"
           }
          ],
          "histogram2d": [
           {
            "colorbar": {
             "outlinewidth": 0,
             "ticks": ""
            },
            "colorscale": [
             [
              0,
              "#0d0887"
             ],
             [
              0.1111111111111111,
              "#46039f"
             ],
             [
              0.2222222222222222,
              "#7201a8"
             ],
             [
              0.3333333333333333,
              "#9c179e"
             ],
             [
              0.4444444444444444,
              "#bd3786"
             ],
             [
              0.5555555555555556,
              "#d8576b"
             ],
             [
              0.6666666666666666,
              "#ed7953"
             ],
             [
              0.7777777777777778,
              "#fb9f3a"
             ],
             [
              0.8888888888888888,
              "#fdca26"
             ],
             [
              1,
              "#f0f921"
             ]
            ],
            "type": "histogram2d"
           }
          ],
          "histogram2dcontour": [
           {
            "colorbar": {
             "outlinewidth": 0,
             "ticks": ""
            },
            "colorscale": [
             [
              0,
              "#0d0887"
             ],
             [
              0.1111111111111111,
              "#46039f"
             ],
             [
              0.2222222222222222,
              "#7201a8"
             ],
             [
              0.3333333333333333,
              "#9c179e"
             ],
             [
              0.4444444444444444,
              "#bd3786"
             ],
             [
              0.5555555555555556,
              "#d8576b"
             ],
             [
              0.6666666666666666,
              "#ed7953"
             ],
             [
              0.7777777777777778,
              "#fb9f3a"
             ],
             [
              0.8888888888888888,
              "#fdca26"
             ],
             [
              1,
              "#f0f921"
             ]
            ],
            "type": "histogram2dcontour"
           }
          ],
          "mesh3d": [
           {
            "colorbar": {
             "outlinewidth": 0,
             "ticks": ""
            },
            "type": "mesh3d"
           }
          ],
          "parcoords": [
           {
            "line": {
             "colorbar": {
              "outlinewidth": 0,
              "ticks": ""
             }
            },
            "type": "parcoords"
           }
          ],
          "pie": [
           {
            "automargin": true,
            "type": "pie"
           }
          ],
          "scatter": [
           {
            "fillpattern": {
             "fillmode": "overlay",
             "size": 10,
             "solidity": 0.2
            },
            "type": "scatter"
           }
          ],
          "scatter3d": [
           {
            "line": {
             "colorbar": {
              "outlinewidth": 0,
              "ticks": ""
             }
            },
            "marker": {
             "colorbar": {
              "outlinewidth": 0,
              "ticks": ""
             }
            },
            "type": "scatter3d"
           }
          ],
          "scattercarpet": [
           {
            "marker": {
             "colorbar": {
              "outlinewidth": 0,
              "ticks": ""
             }
            },
            "type": "scattercarpet"
           }
          ],
          "scattergeo": [
           {
            "marker": {
             "colorbar": {
              "outlinewidth": 0,
              "ticks": ""
             }
            },
            "type": "scattergeo"
           }
          ],
          "scattergl": [
           {
            "marker": {
             "colorbar": {
              "outlinewidth": 0,
              "ticks": ""
             }
            },
            "type": "scattergl"
           }
          ],
          "scattermapbox": [
           {
            "marker": {
             "colorbar": {
              "outlinewidth": 0,
              "ticks": ""
             }
            },
            "type": "scattermapbox"
           }
          ],
          "scatterpolar": [
           {
            "marker": {
             "colorbar": {
              "outlinewidth": 0,
              "ticks": ""
             }
            },
            "type": "scatterpolar"
           }
          ],
          "scatterpolargl": [
           {
            "marker": {
             "colorbar": {
              "outlinewidth": 0,
              "ticks": ""
             }
            },
            "type": "scatterpolargl"
           }
          ],
          "scatterternary": [
           {
            "marker": {
             "colorbar": {
              "outlinewidth": 0,
              "ticks": ""
             }
            },
            "type": "scatterternary"
           }
          ],
          "surface": [
           {
            "colorbar": {
             "outlinewidth": 0,
             "ticks": ""
            },
            "colorscale": [
             [
              0,
              "#0d0887"
             ],
             [
              0.1111111111111111,
              "#46039f"
             ],
             [
              0.2222222222222222,
              "#7201a8"
             ],
             [
              0.3333333333333333,
              "#9c179e"
             ],
             [
              0.4444444444444444,
              "#bd3786"
             ],
             [
              0.5555555555555556,
              "#d8576b"
             ],
             [
              0.6666666666666666,
              "#ed7953"
             ],
             [
              0.7777777777777778,
              "#fb9f3a"
             ],
             [
              0.8888888888888888,
              "#fdca26"
             ],
             [
              1,
              "#f0f921"
             ]
            ],
            "type": "surface"
           }
          ],
          "table": [
           {
            "cells": {
             "fill": {
              "color": "#EBF0F8"
             },
             "line": {
              "color": "white"
             }
            },
            "header": {
             "fill": {
              "color": "#C8D4E3"
             },
             "line": {
              "color": "white"
             }
            },
            "type": "table"
           }
          ]
         },
         "layout": {
          "annotationdefaults": {
           "arrowcolor": "#2a3f5f",
           "arrowhead": 0,
           "arrowwidth": 1
          },
          "autotypenumbers": "strict",
          "coloraxis": {
           "colorbar": {
            "outlinewidth": 0,
            "ticks": ""
           }
          },
          "colorscale": {
           "diverging": [
            [
             0,
             "#8e0152"
            ],
            [
             0.1,
             "#c51b7d"
            ],
            [
             0.2,
             "#de77ae"
            ],
            [
             0.3,
             "#f1b6da"
            ],
            [
             0.4,
             "#fde0ef"
            ],
            [
             0.5,
             "#f7f7f7"
            ],
            [
             0.6,
             "#e6f5d0"
            ],
            [
             0.7,
             "#b8e186"
            ],
            [
             0.8,
             "#7fbc41"
            ],
            [
             0.9,
             "#4d9221"
            ],
            [
             1,
             "#276419"
            ]
           ],
           "sequential": [
            [
             0,
             "#0d0887"
            ],
            [
             0.1111111111111111,
             "#46039f"
            ],
            [
             0.2222222222222222,
             "#7201a8"
            ],
            [
             0.3333333333333333,
             "#9c179e"
            ],
            [
             0.4444444444444444,
             "#bd3786"
            ],
            [
             0.5555555555555556,
             "#d8576b"
            ],
            [
             0.6666666666666666,
             "#ed7953"
            ],
            [
             0.7777777777777778,
             "#fb9f3a"
            ],
            [
             0.8888888888888888,
             "#fdca26"
            ],
            [
             1,
             "#f0f921"
            ]
           ],
           "sequentialminus": [
            [
             0,
             "#0d0887"
            ],
            [
             0.1111111111111111,
             "#46039f"
            ],
            [
             0.2222222222222222,
             "#7201a8"
            ],
            [
             0.3333333333333333,
             "#9c179e"
            ],
            [
             0.4444444444444444,
             "#bd3786"
            ],
            [
             0.5555555555555556,
             "#d8576b"
            ],
            [
             0.6666666666666666,
             "#ed7953"
            ],
            [
             0.7777777777777778,
             "#fb9f3a"
            ],
            [
             0.8888888888888888,
             "#fdca26"
            ],
            [
             1,
             "#f0f921"
            ]
           ]
          },
          "colorway": [
           "#636efa",
           "#EF553B",
           "#00cc96",
           "#ab63fa",
           "#FFA15A",
           "#19d3f3",
           "#FF6692",
           "#B6E880",
           "#FF97FF",
           "#FECB52"
          ],
          "font": {
           "color": "#2a3f5f"
          },
          "geo": {
           "bgcolor": "white",
           "lakecolor": "white",
           "landcolor": "#E5ECF6",
           "showlakes": true,
           "showland": true,
           "subunitcolor": "white"
          },
          "hoverlabel": {
           "align": "left"
          },
          "hovermode": "closest",
          "mapbox": {
           "style": "light"
          },
          "paper_bgcolor": "white",
          "plot_bgcolor": "#E5ECF6",
          "polar": {
           "angularaxis": {
            "gridcolor": "white",
            "linecolor": "white",
            "ticks": ""
           },
           "bgcolor": "#E5ECF6",
           "radialaxis": {
            "gridcolor": "white",
            "linecolor": "white",
            "ticks": ""
           }
          },
          "scene": {
           "xaxis": {
            "backgroundcolor": "#E5ECF6",
            "gridcolor": "white",
            "gridwidth": 2,
            "linecolor": "white",
            "showbackground": true,
            "ticks": "",
            "zerolinecolor": "white"
           },
           "yaxis": {
            "backgroundcolor": "#E5ECF6",
            "gridcolor": "white",
            "gridwidth": 2,
            "linecolor": "white",
            "showbackground": true,
            "ticks": "",
            "zerolinecolor": "white"
           },
           "zaxis": {
            "backgroundcolor": "#E5ECF6",
            "gridcolor": "white",
            "gridwidth": 2,
            "linecolor": "white",
            "showbackground": true,
            "ticks": "",
            "zerolinecolor": "white"
           }
          },
          "shapedefaults": {
           "line": {
            "color": "#2a3f5f"
           }
          },
          "ternary": {
           "aaxis": {
            "gridcolor": "white",
            "linecolor": "white",
            "ticks": ""
           },
           "baxis": {
            "gridcolor": "white",
            "linecolor": "white",
            "ticks": ""
           },
           "bgcolor": "#E5ECF6",
           "caxis": {
            "gridcolor": "white",
            "linecolor": "white",
            "ticks": ""
           }
          },
          "title": {
           "x": 0.05
          },
          "xaxis": {
           "automargin": true,
           "gridcolor": "white",
           "linecolor": "white",
           "ticks": "",
           "title": {
            "standoff": 15
           },
           "zerolinecolor": "white",
           "zerolinewidth": 2
          },
          "yaxis": {
           "automargin": true,
           "gridcolor": "white",
           "linecolor": "white",
           "ticks": "",
           "title": {
            "standoff": 15
           },
           "zerolinecolor": "white",
           "zerolinewidth": 2
          }
         }
        }
       }
      }
     },
     "metadata": {},
     "output_type": "display_data"
    }
   ],
   "source": [
    "fig = px.scatter_mapbox(\n",
    "    stateWise,\n",
    "    lat='Latitude',\n",
    "    lon='Longitude',\n",
    "    size='Population',\n",
    "    color='District name',\n",
    "    hover_name='State name',\n",
    "    mapbox_style='open-street-map',\n",
    "    zoom= 4\n",
    "    # text='District name'\n",
    ")\n",
    "\n",
    "fig.show()"
   ]
  },
  {
   "cell_type": "code",
   "execution_count": 9,
   "metadata": {},
   "outputs": [],
   "source": [
    "def statewise(state):\n",
    "    # Filter the DataFrame for the specified state\n",
    "    df2 = NewDf[NewDf['State name'] == str(state)]\n",
    "    \n",
    "    # Check if the filtered DataFrame is empty\n",
    "    if df2.empty:\n",
    "        print(f\"No data available for the state: {state}\")\n",
    "        return None\n",
    "    \n",
    "    # Create a scatter geo plot\n",
    "    fig = px.scatter_geo(\n",
    "        df2,\n",
    "        lat='Latitude',\n",
    "        lon='Longitude',\n",
    "        size='Population',\n",
    "        color='District name',\n",
    "        hover_name='State name',\n",
    "    )\n",
    "    \n",
    "    # Customize the layout to focus only on India\n",
    "    fig.update_layout(\n",
    "        geo=dict(\n",
    "            scope='asia',\n",
    "            projection_type='natural earth',\n",
    "            center={\"lat\": 22.3511148, \"lon\": 78.6677428},\n",
    "            fitbounds=\"locations\",\n",
    "            showcountries=True,\n",
    "            countrycolor=\"Black\",\n",
    "        ),\n",
    "        width=1200,\n",
    "        height=800\n",
    "    )\n",
    "    \n",
    "    # Show the figure\n",
    "    fig.show()\n",
    "    return fig\n",
    "    \n",
    "\n"
   ]
  },
  {
   "cell_type": "code",
   "execution_count": 10,
   "metadata": {},
   "outputs": [
    {
     "data": {
      "application/vnd.plotly.v1+json": {
       "config": {
        "plotlyServerURL": "https://plot.ly"
       },
       "data": [
        {
         "geo": "geo",
         "hovertemplate": "<b>%{hovertext}</b><br><br>District name=Nandurbar<br>Population=%{marker.size}<br>Latitude=%{lat}<br>Longitude=%{lon}<extra></extra>",
         "hovertext": [
          "MAHARASHTRA"
         ],
         "lat": [
          21.523175625248147
         ],
         "legendgroup": "Nandurbar",
         "lon": [
          74.32638757443429
         ],
         "marker": {
          "color": "#636efa",
          "size": [
           1648295
          ],
          "sizemode": "area",
          "sizeref": 27650.37,
          "symbol": "circle"
         },
         "mode": "markers",
         "name": "Nandurbar",
         "showlegend": true,
         "type": "scattergeo"
        },
        {
         "geo": "geo",
         "hovertemplate": "<b>%{hovertext}</b><br><br>District name=Dhule<br>Population=%{marker.size}<br>Latitude=%{lat}<br>Longitude=%{lon}<extra></extra>",
         "hovertext": [
          "MAHARASHTRA"
         ],
         "lat": [
          21.274018690400517
         ],
         "legendgroup": "Dhule",
         "lon": [
          74.58719071837263
         ],
         "marker": {
          "color": "#EF553B",
          "size": [
           2050862
          ],
          "sizemode": "area",
          "sizeref": 27650.37,
          "symbol": "circle"
         },
         "mode": "markers",
         "name": "Dhule",
         "showlegend": true,
         "type": "scattergeo"
        },
        {
         "geo": "geo",
         "hovertemplate": "<b>%{hovertext}</b><br><br>District name=Jalgaon<br>Population=%{marker.size}<br>Latitude=%{lat}<br>Longitude=%{lon}<extra></extra>",
         "hovertext": [
          "MAHARASHTRA"
         ],
         "lat": [
          20.8828943415638
         ],
         "legendgroup": "Jalgaon",
         "lon": [
          75.55140421810695
         ],
         "marker": {
          "color": "#00cc96",
          "size": [
           4229917
          ],
          "sizemode": "area",
          "sizeref": 27650.37,
          "symbol": "circle"
         },
         "mode": "markers",
         "name": "Jalgaon",
         "showlegend": true,
         "type": "scattergeo"
        },
        {
         "geo": "geo",
         "hovertemplate": "<b>%{hovertext}</b><br><br>District name=Buldana<br>Population=%{marker.size}<br>Latitude=%{lat}<br>Longitude=%{lon}<extra></extra>",
         "hovertext": [
          "MAHARASHTRA"
         ],
         "lat": [
          20.56680611183355
         ],
         "legendgroup": "Buldana",
         "lon": [
          76.39017880364096
         ],
         "marker": {
          "color": "#ab63fa",
          "size": [
           2586258
          ],
          "sizemode": "area",
          "sizeref": 27650.37,
          "symbol": "circle"
         },
         "mode": "markers",
         "name": "Buldana",
         "showlegend": true,
         "type": "scattergeo"
        },
        {
         "geo": "geo",
         "hovertemplate": "<b>%{hovertext}</b><br><br>District name=Akola<br>Population=%{marker.size}<br>Latitude=%{lat}<br>Longitude=%{lon}<extra></extra>",
         "hovertext": [
          "MAHARASHTRA"
         ],
         "lat": [
          20.746310479041902
         ],
         "legendgroup": "Akola",
         "lon": [
          77.12122320359276
         ],
         "marker": {
          "color": "#FFA15A",
          "size": [
           1813906
          ],
          "sizemode": "area",
          "sizeref": 27650.37,
          "symbol": "circle"
         },
         "mode": "markers",
         "name": "Akola",
         "showlegend": true,
         "type": "scattergeo"
        },
        {
         "geo": "geo",
         "hovertemplate": "<b>%{hovertext}</b><br><br>District name=Washim<br>Population=%{marker.size}<br>Latitude=%{lat}<br>Longitude=%{lon}<extra></extra>",
         "hovertext": [
          "MAHARASHTRA"
         ],
         "lat": [
          20.282282394366213
         ],
         "legendgroup": "Washim",
         "lon": [
          77.25502394366208
         ],
         "marker": {
          "color": "#19d3f3",
          "size": [
           1197160
          ],
          "sizemode": "area",
          "sizeref": 27650.37,
          "symbol": "circle"
         },
         "mode": "markers",
         "name": "Washim",
         "showlegend": true,
         "type": "scattergeo"
        },
        {
         "geo": "geo",
         "hovertemplate": "<b>%{hovertext}</b><br><br>District name=Amravati<br>Population=%{marker.size}<br>Latitude=%{lat}<br>Longitude=%{lon}<extra></extra>",
         "hovertext": [
          "MAHARASHTRA"
         ],
         "lat": [
          21.16520991810736
         ],
         "legendgroup": "Amravati",
         "lon": [
          77.67583503184723
         ],
         "marker": {
          "color": "#FF6692",
          "size": [
           2888445
          ],
          "sizemode": "area",
          "sizeref": 27650.37,
          "symbol": "circle"
         },
         "mode": "markers",
         "name": "Amravati",
         "showlegend": true,
         "type": "scattergeo"
        },
        {
         "geo": "geo",
         "hovertemplate": "<b>%{hovertext}</b><br><br>District name=Wardha<br>Population=%{marker.size}<br>Latitude=%{lat}<br>Longitude=%{lon}<extra></extra>",
         "hovertext": [
          "MAHARASHTRA"
         ],
         "lat": [
          20.80743024390242
         ],
         "legendgroup": "Wardha",
         "lon": [
          78.57259105691062
         ],
         "marker": {
          "color": "#B6E880",
          "size": [
           1300774
          ],
          "sizemode": "area",
          "sizeref": 27650.37,
          "symbol": "circle"
         },
         "mode": "markers",
         "name": "Wardha",
         "showlegend": true,
         "type": "scattergeo"
        },
        {
         "geo": "geo",
         "hovertemplate": "<b>%{hovertext}</b><br><br>District name=Nagpur<br>Population=%{marker.size}<br>Latitude=%{lat}<br>Longitude=%{lon}<extra></extra>",
         "hovertext": [
          "MAHARASHTRA"
         ],
         "lat": [
          21.196556862745105
         ],
         "legendgroup": "Nagpur",
         "lon": [
          79.02166176470584
         ],
         "marker": {
          "color": "#FF97FF",
          "size": [
           4653570
          ],
          "sizemode": "area",
          "sizeref": 27650.37,
          "symbol": "circle"
         },
         "mode": "markers",
         "name": "Nagpur",
         "showlegend": true,
         "type": "scattergeo"
        },
        {
         "geo": "geo",
         "hovertemplate": "<b>%{hovertext}</b><br><br>District name=Bhandara<br>Population=%{marker.size}<br>Latitude=%{lat}<br>Longitude=%{lon}<extra></extra>",
         "hovertext": [
          "MAHARASHTRA"
         ],
         "lat": [
          21.211792649727748
         ],
         "legendgroup": "Bhandara",
         "lon": [
          80.10950199637024
         ],
         "marker": {
          "color": "#FECB52",
          "size": [
           1200334
          ],
          "sizemode": "area",
          "sizeref": 27650.37,
          "symbol": "circle"
         },
         "mode": "markers",
         "name": "Bhandara",
         "showlegend": true,
         "type": "scattergeo"
        },
        {
         "geo": "geo",
         "hovertemplate": "<b>%{hovertext}</b><br><br>District name=Gondiya<br>Population=%{marker.size}<br>Latitude=%{lat}<br>Longitude=%{lon}<extra></extra>",
         "hovertext": [
          "MAHARASHTRA"
         ],
         "lat": [
          21.225008411214997
         ],
         "legendgroup": "Gondiya",
         "lon": [
          80.17522698598128
         ],
         "marker": {
          "color": "#636efa",
          "size": [
           1322507
          ],
          "sizemode": "area",
          "sizeref": 27650.37,
          "symbol": "circle"
         },
         "mode": "markers",
         "name": "Gondiya",
         "showlegend": true,
         "type": "scattergeo"
        },
        {
         "geo": "geo",
         "hovertemplate": "<b>%{hovertext}</b><br><br>District name=Chandrapur<br>Population=%{marker.size}<br>Latitude=%{lat}<br>Longitude=%{lon}<extra></extra>",
         "hovertext": [
          "MAHARASHTRA"
         ],
         "lat": [
          20.095609090909075
         ],
         "legendgroup": "Chandrapur",
         "lon": [
          79.31556380471388
         ],
         "marker": {
          "color": "#EF553B",
          "size": [
           2204307
          ],
          "sizemode": "area",
          "sizeref": 27650.37,
          "symbol": "circle"
         },
         "mode": "markers",
         "name": "Chandrapur",
         "showlegend": true,
         "type": "scattergeo"
        },
        {
         "geo": "geo",
         "hovertemplate": "<b>%{hovertext}</b><br><br>District name=Yavatmal<br>Population=%{marker.size}<br>Latitude=%{lat}<br>Longitude=%{lon}<extra></extra>",
         "hovertext": [
          "MAHARASHTRA"
         ],
         "lat": [
          20.04258346738159
         ],
         "legendgroup": "Yavatmal",
         "lon": [
          78.05326371760479
         ],
         "marker": {
          "color": "#00cc96",
          "size": [
           2772348
          ],
          "sizemode": "area",
          "sizeref": 27650.37,
          "symbol": "circle"
         },
         "mode": "markers",
         "name": "Yavatmal",
         "showlegend": true,
         "type": "scattergeo"
        },
        {
         "geo": "geo",
         "hovertemplate": "<b>%{hovertext}</b><br><br>District name=Nanded<br>Population=%{marker.size}<br>Latitude=%{lat}<br>Longitude=%{lon}<extra></extra>",
         "hovertext": [
          "MAHARASHTRA"
         ],
         "lat": [
          19.209316983017
         ],
         "legendgroup": "Nanded",
         "lon": [
          77.6829048951049
         ],
         "marker": {
          "color": "#ab63fa",
          "size": [
           3361292
          ],
          "sizemode": "area",
          "sizeref": 27650.37,
          "symbol": "circle"
         },
         "mode": "markers",
         "name": "Nanded",
         "showlegend": true,
         "type": "scattergeo"
        },
        {
         "geo": "geo",
         "hovertemplate": "<b>%{hovertext}</b><br><br>District name=Hingoli<br>Population=%{marker.size}<br>Latitude=%{lat}<br>Longitude=%{lon}<extra></extra>",
         "hovertext": [
          "MAHARASHTRA"
         ],
         "lat": [
          19.59525302245251
         ],
         "legendgroup": "Hingoli",
         "lon": [
          77.09239412780653
         ],
         "marker": {
          "color": "#FFA15A",
          "size": [
           1177345
          ],
          "sizemode": "area",
          "sizeref": 27650.37,
          "symbol": "circle"
         },
         "mode": "markers",
         "name": "Hingoli",
         "showlegend": true,
         "type": "scattergeo"
        },
        {
         "geo": "geo",
         "hovertemplate": "<b>%{hovertext}</b><br><br>District name=Parbhani<br>Population=%{marker.size}<br>Latitude=%{lat}<br>Longitude=%{lon}<extra></extra>",
         "hovertext": [
          "MAHARASHTRA"
         ],
         "lat": [
          19.31032425249168
         ],
         "legendgroup": "Parbhani",
         "lon": [
          76.70163338870431
         ],
         "marker": {
          "color": "#19d3f3",
          "size": [
           1836086
          ],
          "sizemode": "area",
          "sizeref": 27650.37,
          "symbol": "circle"
         },
         "mode": "markers",
         "name": "Parbhani",
         "showlegend": true,
         "type": "scattergeo"
        },
        {
         "geo": "geo",
         "hovertemplate": "<b>%{hovertext}</b><br><br>District name=Jalna<br>Population=%{marker.size}<br>Latitude=%{lat}<br>Longitude=%{lon}<extra></extra>",
         "hovertext": [
          "MAHARASHTRA"
         ],
         "lat": [
          19.984612534818933
         ],
         "legendgroup": "Jalna",
         "lon": [
          75.98473607242339
         ],
         "marker": {
          "color": "#FF6692",
          "size": [
           1959046
          ],
          "sizemode": "area",
          "sizeref": 27650.37,
          "symbol": "circle"
         },
         "mode": "markers",
         "name": "Jalna",
         "showlegend": true,
         "type": "scattergeo"
        },
        {
         "geo": "geo",
         "hovertemplate": "<b>%{hovertext}</b><br><br>District name=Aurangabad<br>Population=%{marker.size}<br>Latitude=%{lat}<br>Longitude=%{lon}<extra></extra>",
         "hovertext": [
          "MAHARASHTRA",
          "MAHARASHTRA"
         ],
         "lat": [
          24.774291867469877,
          20.0979228832952
         ],
         "legendgroup": "Aurangabad",
         "lon": [
          84.45986024096379,
          75.32072196796334
         ],
         "marker": {
          "color": "#B6E880",
          "size": [
           3701282,
           3701282
          ],
          "sizemode": "area",
          "sizeref": 27650.37,
          "symbol": "circle"
         },
         "mode": "markers",
         "name": "Aurangabad",
         "showlegend": true,
         "type": "scattergeo"
        },
        {
         "geo": "geo",
         "hovertemplate": "<b>%{hovertext}</b><br><br>District name=Nashik<br>Population=%{marker.size}<br>Latitude=%{lat}<br>Longitude=%{lon}<extra></extra>",
         "hovertext": [
          "MAHARASHTRA"
         ],
         "lat": [
          20.266912871287143
         ],
         "legendgroup": "Nashik",
         "lon": [
          74.03824168316828
         ],
         "marker": {
          "color": "#FF97FF",
          "size": [
           6107187
          ],
          "sizemode": "area",
          "sizeref": 27650.37,
          "symbol": "circle"
         },
         "mode": "markers",
         "name": "Nashik",
         "showlegend": true,
         "type": "scattergeo"
        },
        {
         "geo": "geo",
         "hovertemplate": "<b>%{hovertext}</b><br><br>District name=Thane<br>Population=%{marker.size}<br>Latitude=%{lat}<br>Longitude=%{lon}<extra></extra>",
         "hovertext": [
          "MAHARASHTRA"
         ],
         "lat": [
          19.698767747440264
         ],
         "legendgroup": "Thane",
         "lon": [
          72.79882742564581
         ],
         "marker": {
          "color": "#FECB52",
          "size": [
           11060148
          ],
          "sizemode": "area",
          "sizeref": 27650.37,
          "symbol": "circle"
         },
         "mode": "markers",
         "name": "Thane",
         "showlegend": true,
         "type": "scattergeo"
        },
        {
         "geo": "geo",
         "hovertemplate": "<b>%{hovertext}</b><br><br>District name=Raigarh<br>Population=%{marker.size}<br>Latitude=%{lat}<br>Longitude=%{lon}<extra></extra>",
         "hovertext": [
          "MAHARASHTRA",
          "MAHARASHTRA"
         ],
         "lat": [
          22.008265068493166,
          18.453257637845976
         ],
         "legendgroup": "Raigarh",
         "lon": [
          83.27797698630134,
          73.0090609418579
         ],
         "marker": {
          "color": "#636efa",
          "size": [
           2634200,
           2634200
          ],
          "sizemode": "area",
          "sizeref": 27650.37,
          "symbol": "circle"
         },
         "mode": "markers",
         "name": "Raigarh",
         "showlegend": true,
         "type": "scattergeo"
        },
        {
         "geo": "geo",
         "hovertemplate": "<b>%{hovertext}</b><br><br>District name=Pune<br>Population=%{marker.size}<br>Latitude=%{lat}<br>Longitude=%{lon}<extra></extra>",
         "hovertext": [
          "MAHARASHTRA"
         ],
         "lat": [
          18.51696171428573
         ],
         "legendgroup": "Pune",
         "lon": [
          74.12922881632647
         ],
         "marker": {
          "color": "#EF553B",
          "size": [
           9429408
          ],
          "sizemode": "area",
          "sizeref": 27650.37,
          "symbol": "circle"
         },
         "mode": "markers",
         "name": "Pune",
         "showlegend": true,
         "type": "scattergeo"
        },
        {
         "geo": "geo",
         "hovertemplate": "<b>%{hovertext}</b><br><br>District name=Bid<br>Population=%{marker.size}<br>Latitude=%{lat}<br>Longitude=%{lon}<extra></extra>",
         "hovertext": [
          "MAHARASHTRA"
         ],
         "lat": [
          18.952353340080982
         ],
         "legendgroup": "Bid",
         "lon": [
          75.69319706477731
         ],
         "marker": {
          "color": "#00cc96",
          "size": [
           2585049
          ],
          "sizemode": "area",
          "sizeref": 27650.37,
          "symbol": "circle"
         },
         "mode": "markers",
         "name": "Bid",
         "showlegend": true,
         "type": "scattergeo"
        },
        {
         "geo": "geo",
         "hovertemplate": "<b>%{hovertext}</b><br><br>District name=Latur<br>Population=%{marker.size}<br>Latitude=%{lat}<br>Longitude=%{lon}<extra></extra>",
         "hovertext": [
          "MAHARASHTRA"
         ],
         "lat": [
          18.348687268993856
         ],
         "legendgroup": "Latur",
         "lon": [
          76.75812607802874
         ],
         "marker": {
          "color": "#ab63fa",
          "size": [
           2454196
          ],
          "sizemode": "area",
          "sizeref": 27650.37,
          "symbol": "circle"
         },
         "mode": "markers",
         "name": "Latur",
         "showlegend": true,
         "type": "scattergeo"
        },
        {
         "geo": "geo",
         "hovertemplate": "<b>%{hovertext}</b><br><br>District name=Osmanabad<br>Population=%{marker.size}<br>Latitude=%{lat}<br>Longitude=%{lon}<extra></extra>",
         "hovertext": [
          "MAHARASHTRA"
         ],
         "lat": [
          18.19459456066944
         ],
         "legendgroup": "Osmanabad",
         "lon": [
          75.99495575313809
         ],
         "marker": {
          "color": "#FFA15A",
          "size": [
           1657576
          ],
          "sizemode": "area",
          "sizeref": 27650.37,
          "symbol": "circle"
         },
         "mode": "markers",
         "name": "Osmanabad",
         "showlegend": true,
         "type": "scattergeo"
        },
        {
         "geo": "geo",
         "hovertemplate": "<b>%{hovertext}</b><br><br>District name=Solapur<br>Population=%{marker.size}<br>Latitude=%{lat}<br>Longitude=%{lon}<extra></extra>",
         "hovertext": [
          "MAHARASHTRA"
         ],
         "lat": [
          17.837357937584812
         ],
         "legendgroup": "Solapur",
         "lon": [
          75.42394823609216
         ],
         "marker": {
          "color": "#19d3f3",
          "size": [
           4317756
          ],
          "sizemode": "area",
          "sizeref": 27650.37,
          "symbol": "circle"
         },
         "mode": "markers",
         "name": "Solapur",
         "showlegend": true,
         "type": "scattergeo"
        },
        {
         "geo": "geo",
         "hovertemplate": "<b>%{hovertext}</b><br><br>District name=Satara<br>Population=%{marker.size}<br>Latitude=%{lat}<br>Longitude=%{lon}<extra></extra>",
         "hovertext": [
          "MAHARASHTRA"
         ],
         "lat": [
          17.6737908974359
         ],
         "legendgroup": "Satara",
         "lon": [
          74.18052064102558
         ],
         "marker": {
          "color": "#FF6692",
          "size": [
           3003741
          ],
          "sizemode": "area",
          "sizeref": 27650.37,
          "symbol": "circle"
         },
         "mode": "markers",
         "name": "Satara",
         "showlegend": true,
         "type": "scattergeo"
        },
        {
         "geo": "geo",
         "hovertemplate": "<b>%{hovertext}</b><br><br>District name=Ratnagiri<br>Population=%{marker.size}<br>Latitude=%{lat}<br>Longitude=%{lon}<extra></extra>",
         "hovertext": [
          "MAHARASHTRA"
         ],
         "lat": [
          17.210195070127703
         ],
         "legendgroup": "Ratnagiri",
         "lon": [
          73.25725893866404
         ],
         "marker": {
          "color": "#B6E880",
          "size": [
           1615069
          ],
          "sizemode": "area",
          "sizeref": 27650.37,
          "symbol": "circle"
         },
         "mode": "markers",
         "name": "Ratnagiri",
         "showlegend": true,
         "type": "scattergeo"
        },
        {
         "geo": "geo",
         "hovertemplate": "<b>%{hovertext}</b><br><br>District name=Sindhudurg<br>Population=%{marker.size}<br>Latitude=%{lat}<br>Longitude=%{lon}<extra></extra>",
         "hovertext": [
          "MAHARASHTRA"
         ],
         "lat": [
          16.170948049777163
         ],
         "legendgroup": "Sindhudurg",
         "lon": [
          73.51329008172343
         ],
         "marker": {
          "color": "#FF97FF",
          "size": [
           849651
          ],
          "sizemode": "area",
          "sizeref": 27650.37,
          "symbol": "circle"
         },
         "mode": "markers",
         "name": "Sindhudurg",
         "showlegend": true,
         "type": "scattergeo"
        },
        {
         "geo": "geo",
         "hovertemplate": "<b>%{hovertext}</b><br><br>District name=Kolhapur<br>Population=%{marker.size}<br>Latitude=%{lat}<br>Longitude=%{lon}<extra></extra>",
         "hovertext": [
          "MAHARASHTRA"
         ],
         "lat": [
          16.44881301587301
         ],
         "legendgroup": "Kolhapur",
         "lon": [
          74.12897150793648
         ],
         "marker": {
          "color": "#FECB52",
          "size": [
           3876001
          ],
          "sizemode": "area",
          "sizeref": 27650.37,
          "symbol": "circle"
         },
         "mode": "markers",
         "name": "Kolhapur",
         "showlegend": true,
         "type": "scattergeo"
        },
        {
         "geo": "geo",
         "hovertemplate": "<b>%{hovertext}</b><br><br>District name=Sangli<br>Population=%{marker.size}<br>Latitude=%{lat}<br>Longitude=%{lon}<extra></extra>",
         "hovertext": [
          "MAHARASHTRA"
         ],
         "lat": [
          17.154930181086502
         ],
         "legendgroup": "Sangli",
         "lon": [
          74.70713822937628
         ],
         "marker": {
          "color": "#636efa",
          "size": [
           2822143
          ],
          "sizemode": "area",
          "sizeref": 27650.37,
          "symbol": "circle"
         },
         "mode": "markers",
         "name": "Sangli",
         "showlegend": true,
         "type": "scattergeo"
        }
       ],
       "layout": {
        "geo": {
         "center": {
          "lat": 22.3511148,
          "lon": 78.6677428
         },
         "countrycolor": "Black",
         "domain": {
          "x": [
           0,
           1
          ],
          "y": [
           0,
           1
          ]
         },
         "fitbounds": "locations",
         "projection": {
          "type": "natural earth"
         },
         "scope": "asia",
         "showcountries": true
        },
        "height": 800,
        "legend": {
         "itemsizing": "constant",
         "title": {
          "text": "District name"
         },
         "tracegroupgap": 0
        },
        "margin": {
         "t": 60
        },
        "template": {
         "data": {
          "bar": [
           {
            "error_x": {
             "color": "#2a3f5f"
            },
            "error_y": {
             "color": "#2a3f5f"
            },
            "marker": {
             "line": {
              "color": "#E5ECF6",
              "width": 0.5
             },
             "pattern": {
              "fillmode": "overlay",
              "size": 10,
              "solidity": 0.2
             }
            },
            "type": "bar"
           }
          ],
          "barpolar": [
           {
            "marker": {
             "line": {
              "color": "#E5ECF6",
              "width": 0.5
             },
             "pattern": {
              "fillmode": "overlay",
              "size": 10,
              "solidity": 0.2
             }
            },
            "type": "barpolar"
           }
          ],
          "carpet": [
           {
            "aaxis": {
             "endlinecolor": "#2a3f5f",
             "gridcolor": "white",
             "linecolor": "white",
             "minorgridcolor": "white",
             "startlinecolor": "#2a3f5f"
            },
            "baxis": {
             "endlinecolor": "#2a3f5f",
             "gridcolor": "white",
             "linecolor": "white",
             "minorgridcolor": "white",
             "startlinecolor": "#2a3f5f"
            },
            "type": "carpet"
           }
          ],
          "choropleth": [
           {
            "colorbar": {
             "outlinewidth": 0,
             "ticks": ""
            },
            "type": "choropleth"
           }
          ],
          "contour": [
           {
            "colorbar": {
             "outlinewidth": 0,
             "ticks": ""
            },
            "colorscale": [
             [
              0,
              "#0d0887"
             ],
             [
              0.1111111111111111,
              "#46039f"
             ],
             [
              0.2222222222222222,
              "#7201a8"
             ],
             [
              0.3333333333333333,
              "#9c179e"
             ],
             [
              0.4444444444444444,
              "#bd3786"
             ],
             [
              0.5555555555555556,
              "#d8576b"
             ],
             [
              0.6666666666666666,
              "#ed7953"
             ],
             [
              0.7777777777777778,
              "#fb9f3a"
             ],
             [
              0.8888888888888888,
              "#fdca26"
             ],
             [
              1,
              "#f0f921"
             ]
            ],
            "type": "contour"
           }
          ],
          "contourcarpet": [
           {
            "colorbar": {
             "outlinewidth": 0,
             "ticks": ""
            },
            "type": "contourcarpet"
           }
          ],
          "heatmap": [
           {
            "colorbar": {
             "outlinewidth": 0,
             "ticks": ""
            },
            "colorscale": [
             [
              0,
              "#0d0887"
             ],
             [
              0.1111111111111111,
              "#46039f"
             ],
             [
              0.2222222222222222,
              "#7201a8"
             ],
             [
              0.3333333333333333,
              "#9c179e"
             ],
             [
              0.4444444444444444,
              "#bd3786"
             ],
             [
              0.5555555555555556,
              "#d8576b"
             ],
             [
              0.6666666666666666,
              "#ed7953"
             ],
             [
              0.7777777777777778,
              "#fb9f3a"
             ],
             [
              0.8888888888888888,
              "#fdca26"
             ],
             [
              1,
              "#f0f921"
             ]
            ],
            "type": "heatmap"
           }
          ],
          "heatmapgl": [
           {
            "colorbar": {
             "outlinewidth": 0,
             "ticks": ""
            },
            "colorscale": [
             [
              0,
              "#0d0887"
             ],
             [
              0.1111111111111111,
              "#46039f"
             ],
             [
              0.2222222222222222,
              "#7201a8"
             ],
             [
              0.3333333333333333,
              "#9c179e"
             ],
             [
              0.4444444444444444,
              "#bd3786"
             ],
             [
              0.5555555555555556,
              "#d8576b"
             ],
             [
              0.6666666666666666,
              "#ed7953"
             ],
             [
              0.7777777777777778,
              "#fb9f3a"
             ],
             [
              0.8888888888888888,
              "#fdca26"
             ],
             [
              1,
              "#f0f921"
             ]
            ],
            "type": "heatmapgl"
           }
          ],
          "histogram": [
           {
            "marker": {
             "pattern": {
              "fillmode": "overlay",
              "size": 10,
              "solidity": 0.2
             }
            },
            "type": "histogram"
           }
          ],
          "histogram2d": [
           {
            "colorbar": {
             "outlinewidth": 0,
             "ticks": ""
            },
            "colorscale": [
             [
              0,
              "#0d0887"
             ],
             [
              0.1111111111111111,
              "#46039f"
             ],
             [
              0.2222222222222222,
              "#7201a8"
             ],
             [
              0.3333333333333333,
              "#9c179e"
             ],
             [
              0.4444444444444444,
              "#bd3786"
             ],
             [
              0.5555555555555556,
              "#d8576b"
             ],
             [
              0.6666666666666666,
              "#ed7953"
             ],
             [
              0.7777777777777778,
              "#fb9f3a"
             ],
             [
              0.8888888888888888,
              "#fdca26"
             ],
             [
              1,
              "#f0f921"
             ]
            ],
            "type": "histogram2d"
           }
          ],
          "histogram2dcontour": [
           {
            "colorbar": {
             "outlinewidth": 0,
             "ticks": ""
            },
            "colorscale": [
             [
              0,
              "#0d0887"
             ],
             [
              0.1111111111111111,
              "#46039f"
             ],
             [
              0.2222222222222222,
              "#7201a8"
             ],
             [
              0.3333333333333333,
              "#9c179e"
             ],
             [
              0.4444444444444444,
              "#bd3786"
             ],
             [
              0.5555555555555556,
              "#d8576b"
             ],
             [
              0.6666666666666666,
              "#ed7953"
             ],
             [
              0.7777777777777778,
              "#fb9f3a"
             ],
             [
              0.8888888888888888,
              "#fdca26"
             ],
             [
              1,
              "#f0f921"
             ]
            ],
            "type": "histogram2dcontour"
           }
          ],
          "mesh3d": [
           {
            "colorbar": {
             "outlinewidth": 0,
             "ticks": ""
            },
            "type": "mesh3d"
           }
          ],
          "parcoords": [
           {
            "line": {
             "colorbar": {
              "outlinewidth": 0,
              "ticks": ""
             }
            },
            "type": "parcoords"
           }
          ],
          "pie": [
           {
            "automargin": true,
            "type": "pie"
           }
          ],
          "scatter": [
           {
            "fillpattern": {
             "fillmode": "overlay",
             "size": 10,
             "solidity": 0.2
            },
            "type": "scatter"
           }
          ],
          "scatter3d": [
           {
            "line": {
             "colorbar": {
              "outlinewidth": 0,
              "ticks": ""
             }
            },
            "marker": {
             "colorbar": {
              "outlinewidth": 0,
              "ticks": ""
             }
            },
            "type": "scatter3d"
           }
          ],
          "scattercarpet": [
           {
            "marker": {
             "colorbar": {
              "outlinewidth": 0,
              "ticks": ""
             }
            },
            "type": "scattercarpet"
           }
          ],
          "scattergeo": [
           {
            "marker": {
             "colorbar": {
              "outlinewidth": 0,
              "ticks": ""
             }
            },
            "type": "scattergeo"
           }
          ],
          "scattergl": [
           {
            "marker": {
             "colorbar": {
              "outlinewidth": 0,
              "ticks": ""
             }
            },
            "type": "scattergl"
           }
          ],
          "scattermapbox": [
           {
            "marker": {
             "colorbar": {
              "outlinewidth": 0,
              "ticks": ""
             }
            },
            "type": "scattermapbox"
           }
          ],
          "scatterpolar": [
           {
            "marker": {
             "colorbar": {
              "outlinewidth": 0,
              "ticks": ""
             }
            },
            "type": "scatterpolar"
           }
          ],
          "scatterpolargl": [
           {
            "marker": {
             "colorbar": {
              "outlinewidth": 0,
              "ticks": ""
             }
            },
            "type": "scatterpolargl"
           }
          ],
          "scatterternary": [
           {
            "marker": {
             "colorbar": {
              "outlinewidth": 0,
              "ticks": ""
             }
            },
            "type": "scatterternary"
           }
          ],
          "surface": [
           {
            "colorbar": {
             "outlinewidth": 0,
             "ticks": ""
            },
            "colorscale": [
             [
              0,
              "#0d0887"
             ],
             [
              0.1111111111111111,
              "#46039f"
             ],
             [
              0.2222222222222222,
              "#7201a8"
             ],
             [
              0.3333333333333333,
              "#9c179e"
             ],
             [
              0.4444444444444444,
              "#bd3786"
             ],
             [
              0.5555555555555556,
              "#d8576b"
             ],
             [
              0.6666666666666666,
              "#ed7953"
             ],
             [
              0.7777777777777778,
              "#fb9f3a"
             ],
             [
              0.8888888888888888,
              "#fdca26"
             ],
             [
              1,
              "#f0f921"
             ]
            ],
            "type": "surface"
           }
          ],
          "table": [
           {
            "cells": {
             "fill": {
              "color": "#EBF0F8"
             },
             "line": {
              "color": "white"
             }
            },
            "header": {
             "fill": {
              "color": "#C8D4E3"
             },
             "line": {
              "color": "white"
             }
            },
            "type": "table"
           }
          ]
         },
         "layout": {
          "annotationdefaults": {
           "arrowcolor": "#2a3f5f",
           "arrowhead": 0,
           "arrowwidth": 1
          },
          "autotypenumbers": "strict",
          "coloraxis": {
           "colorbar": {
            "outlinewidth": 0,
            "ticks": ""
           }
          },
          "colorscale": {
           "diverging": [
            [
             0,
             "#8e0152"
            ],
            [
             0.1,
             "#c51b7d"
            ],
            [
             0.2,
             "#de77ae"
            ],
            [
             0.3,
             "#f1b6da"
            ],
            [
             0.4,
             "#fde0ef"
            ],
            [
             0.5,
             "#f7f7f7"
            ],
            [
             0.6,
             "#e6f5d0"
            ],
            [
             0.7,
             "#b8e186"
            ],
            [
             0.8,
             "#7fbc41"
            ],
            [
             0.9,
             "#4d9221"
            ],
            [
             1,
             "#276419"
            ]
           ],
           "sequential": [
            [
             0,
             "#0d0887"
            ],
            [
             0.1111111111111111,
             "#46039f"
            ],
            [
             0.2222222222222222,
             "#7201a8"
            ],
            [
             0.3333333333333333,
             "#9c179e"
            ],
            [
             0.4444444444444444,
             "#bd3786"
            ],
            [
             0.5555555555555556,
             "#d8576b"
            ],
            [
             0.6666666666666666,
             "#ed7953"
            ],
            [
             0.7777777777777778,
             "#fb9f3a"
            ],
            [
             0.8888888888888888,
             "#fdca26"
            ],
            [
             1,
             "#f0f921"
            ]
           ],
           "sequentialminus": [
            [
             0,
             "#0d0887"
            ],
            [
             0.1111111111111111,
             "#46039f"
            ],
            [
             0.2222222222222222,
             "#7201a8"
            ],
            [
             0.3333333333333333,
             "#9c179e"
            ],
            [
             0.4444444444444444,
             "#bd3786"
            ],
            [
             0.5555555555555556,
             "#d8576b"
            ],
            [
             0.6666666666666666,
             "#ed7953"
            ],
            [
             0.7777777777777778,
             "#fb9f3a"
            ],
            [
             0.8888888888888888,
             "#fdca26"
            ],
            [
             1,
             "#f0f921"
            ]
           ]
          },
          "colorway": [
           "#636efa",
           "#EF553B",
           "#00cc96",
           "#ab63fa",
           "#FFA15A",
           "#19d3f3",
           "#FF6692",
           "#B6E880",
           "#FF97FF",
           "#FECB52"
          ],
          "font": {
           "color": "#2a3f5f"
          },
          "geo": {
           "bgcolor": "white",
           "lakecolor": "white",
           "landcolor": "#E5ECF6",
           "showlakes": true,
           "showland": true,
           "subunitcolor": "white"
          },
          "hoverlabel": {
           "align": "left"
          },
          "hovermode": "closest",
          "mapbox": {
           "style": "light"
          },
          "paper_bgcolor": "white",
          "plot_bgcolor": "#E5ECF6",
          "polar": {
           "angularaxis": {
            "gridcolor": "white",
            "linecolor": "white",
            "ticks": ""
           },
           "bgcolor": "#E5ECF6",
           "radialaxis": {
            "gridcolor": "white",
            "linecolor": "white",
            "ticks": ""
           }
          },
          "scene": {
           "xaxis": {
            "backgroundcolor": "#E5ECF6",
            "gridcolor": "white",
            "gridwidth": 2,
            "linecolor": "white",
            "showbackground": true,
            "ticks": "",
            "zerolinecolor": "white"
           },
           "yaxis": {
            "backgroundcolor": "#E5ECF6",
            "gridcolor": "white",
            "gridwidth": 2,
            "linecolor": "white",
            "showbackground": true,
            "ticks": "",
            "zerolinecolor": "white"
           },
           "zaxis": {
            "backgroundcolor": "#E5ECF6",
            "gridcolor": "white",
            "gridwidth": 2,
            "linecolor": "white",
            "showbackground": true,
            "ticks": "",
            "zerolinecolor": "white"
           }
          },
          "shapedefaults": {
           "line": {
            "color": "#2a3f5f"
           }
          },
          "ternary": {
           "aaxis": {
            "gridcolor": "white",
            "linecolor": "white",
            "ticks": ""
           },
           "baxis": {
            "gridcolor": "white",
            "linecolor": "white",
            "ticks": ""
           },
           "bgcolor": "#E5ECF6",
           "caxis": {
            "gridcolor": "white",
            "linecolor": "white",
            "ticks": ""
           }
          },
          "title": {
           "x": 0.05
          },
          "xaxis": {
           "automargin": true,
           "gridcolor": "white",
           "linecolor": "white",
           "ticks": "",
           "title": {
            "standoff": 15
           },
           "zerolinecolor": "white",
           "zerolinewidth": 2
          },
          "yaxis": {
           "automargin": true,
           "gridcolor": "white",
           "linecolor": "white",
           "ticks": "",
           "title": {
            "standoff": 15
           },
           "zerolinecolor": "white",
           "zerolinewidth": 2
          }
         }
        },
        "width": 1200
       }
      }
     },
     "metadata": {},
     "output_type": "display_data"
    }
   ],
   "source": [
    "fig = statewise(\"MAHARASHTRA\")\n"
   ]
  },
  {
   "cell_type": "code",
   "execution_count": 11,
   "metadata": {},
   "outputs": [
    {
     "data": {
      "text/html": [
       "<div>\n",
       "<style scoped>\n",
       "    .dataframe tbody tr th:only-of-type {\n",
       "        vertical-align: middle;\n",
       "    }\n",
       "\n",
       "    .dataframe tbody tr th {\n",
       "        vertical-align: top;\n",
       "    }\n",
       "\n",
       "    .dataframe thead th {\n",
       "        text-align: right;\n",
       "    }\n",
       "</style>\n",
       "<table border=\"1\" class=\"dataframe\">\n",
       "  <thead>\n",
       "    <tr style=\"text-align: right;\">\n",
       "      <th></th>\n",
       "      <th>Unnamed: 0</th>\n",
       "      <th>District code</th>\n",
       "      <th>State name</th>\n",
       "      <th>District name</th>\n",
       "      <th>Population</th>\n",
       "      <th>Male</th>\n",
       "      <th>Female</th>\n",
       "      <th>Literate</th>\n",
       "      <th>Male_Literate</th>\n",
       "      <th>Female_Literate</th>\n",
       "      <th>...</th>\n",
       "      <th>Power_Parity_Rs_150000_240000</th>\n",
       "      <th>Power_Parity_Rs_240000_330000</th>\n",
       "      <th>Power_Parity_Rs_150000_330000</th>\n",
       "      <th>Power_Parity_Rs_330000_425000</th>\n",
       "      <th>Power_Parity_Rs_425000_545000</th>\n",
       "      <th>Power_Parity_Rs_330000_545000</th>\n",
       "      <th>Power_Parity_Above_Rs_545000</th>\n",
       "      <th>Total_Power_Parity</th>\n",
       "      <th>Latitude</th>\n",
       "      <th>Longitude</th>\n",
       "    </tr>\n",
       "  </thead>\n",
       "  <tbody>\n",
       "    <tr>\n",
       "      <th>0</th>\n",
       "      <td>0</td>\n",
       "      <td>4</td>\n",
       "      <td>JAMMU AND KASHMIR</td>\n",
       "      <td>Kargil</td>\n",
       "      <td>140802</td>\n",
       "      <td>77785</td>\n",
       "      <td>63017</td>\n",
       "      <td>86236</td>\n",
       "      <td>56301</td>\n",
       "      <td>29935</td>\n",
       "      <td>...</td>\n",
       "      <td>12</td>\n",
       "      <td>18</td>\n",
       "      <td>30</td>\n",
       "      <td>19</td>\n",
       "      <td>3</td>\n",
       "      <td>22</td>\n",
       "      <td>7</td>\n",
       "      <td>214</td>\n",
       "      <td>33.565995</td>\n",
       "      <td>76.636753</td>\n",
       "    </tr>\n",
       "    <tr>\n",
       "      <th>1</th>\n",
       "      <td>1</td>\n",
       "      <td>5</td>\n",
       "      <td>JAMMU AND KASHMIR</td>\n",
       "      <td>Punch</td>\n",
       "      <td>476835</td>\n",
       "      <td>251899</td>\n",
       "      <td>224936</td>\n",
       "      <td>261724</td>\n",
       "      <td>163333</td>\n",
       "      <td>98391</td>\n",
       "      <td>...</td>\n",
       "      <td>35</td>\n",
       "      <td>50</td>\n",
       "      <td>85</td>\n",
       "      <td>59</td>\n",
       "      <td>8</td>\n",
       "      <td>67</td>\n",
       "      <td>12</td>\n",
       "      <td>629</td>\n",
       "      <td>33.791241</td>\n",
       "      <td>74.295932</td>\n",
       "    </tr>\n",
       "    <tr>\n",
       "      <th>2</th>\n",
       "      <td>2</td>\n",
       "      <td>7</td>\n",
       "      <td>JAMMU AND KASHMIR</td>\n",
       "      <td>Kathua</td>\n",
       "      <td>616435</td>\n",
       "      <td>326109</td>\n",
       "      <td>290326</td>\n",
       "      <td>389204</td>\n",
       "      <td>228499</td>\n",
       "      <td>160705</td>\n",
       "      <td>...</td>\n",
       "      <td>54</td>\n",
       "      <td>69</td>\n",
       "      <td>123</td>\n",
       "      <td>78</td>\n",
       "      <td>52</td>\n",
       "      <td>130</td>\n",
       "      <td>28</td>\n",
       "      <td>936</td>\n",
       "      <td>32.517817</td>\n",
       "      <td>75.589014</td>\n",
       "    </tr>\n",
       "    <tr>\n",
       "      <th>3</th>\n",
       "      <td>3</td>\n",
       "      <td>10</td>\n",
       "      <td>JAMMU AND KASHMIR</td>\n",
       "      <td>Srinagar</td>\n",
       "      <td>1236829</td>\n",
       "      <td>651124</td>\n",
       "      <td>585705</td>\n",
       "      <td>748584</td>\n",
       "      <td>431746</td>\n",
       "      <td>316838</td>\n",
       "      <td>...</td>\n",
       "      <td>319</td>\n",
       "      <td>380</td>\n",
       "      <td>699</td>\n",
       "      <td>240</td>\n",
       "      <td>370</td>\n",
       "      <td>610</td>\n",
       "      <td>445</td>\n",
       "      <td>3099</td>\n",
       "      <td>34.273129</td>\n",
       "      <td>75.110212</td>\n",
       "    </tr>\n",
       "    <tr>\n",
       "      <th>4</th>\n",
       "      <td>4</td>\n",
       "      <td>12</td>\n",
       "      <td>JAMMU AND KASHMIR</td>\n",
       "      <td>Pulwama</td>\n",
       "      <td>560440</td>\n",
       "      <td>293064</td>\n",
       "      <td>267376</td>\n",
       "      <td>293958</td>\n",
       "      <td>178326</td>\n",
       "      <td>115632</td>\n",
       "      <td>...</td>\n",
       "      <td>71</td>\n",
       "      <td>96</td>\n",
       "      <td>167</td>\n",
       "      <td>84</td>\n",
       "      <td>24</td>\n",
       "      <td>108</td>\n",
       "      <td>32</td>\n",
       "      <td>1068</td>\n",
       "      <td>33.884144</td>\n",
       "      <td>75.009219</td>\n",
       "    </tr>\n",
       "    <tr>\n",
       "      <th>...</th>\n",
       "      <td>...</td>\n",
       "      <td>...</td>\n",
       "      <td>...</td>\n",
       "      <td>...</td>\n",
       "      <td>...</td>\n",
       "      <td>...</td>\n",
       "      <td>...</td>\n",
       "      <td>...</td>\n",
       "      <td>...</td>\n",
       "      <td>...</td>\n",
       "      <td>...</td>\n",
       "      <td>...</td>\n",
       "      <td>...</td>\n",
       "      <td>...</td>\n",
       "      <td>...</td>\n",
       "      <td>...</td>\n",
       "      <td>...</td>\n",
       "      <td>...</td>\n",
       "      <td>...</td>\n",
       "      <td>...</td>\n",
       "      <td>...</td>\n",
       "    </tr>\n",
       "    <tr>\n",
       "      <th>512</th>\n",
       "      <td>512</td>\n",
       "      <td>630</td>\n",
       "      <td>TAMIL NADU</td>\n",
       "      <td>Dharmapuri</td>\n",
       "      <td>1506843</td>\n",
       "      <td>774303</td>\n",
       "      <td>732540</td>\n",
       "      <td>917709</td>\n",
       "      <td>527599</td>\n",
       "      <td>390110</td>\n",
       "      <td>...</td>\n",
       "      <td>255</td>\n",
       "      <td>180</td>\n",
       "      <td>435</td>\n",
       "      <td>42</td>\n",
       "      <td>92</td>\n",
       "      <td>134</td>\n",
       "      <td>76</td>\n",
       "      <td>2364</td>\n",
       "      <td>12.300141</td>\n",
       "      <td>78.115098</td>\n",
       "    </tr>\n",
       "    <tr>\n",
       "      <th>513</th>\n",
       "      <td>513</td>\n",
       "      <td>632</td>\n",
       "      <td>TAMIL NADU</td>\n",
       "      <td>Coimbatore</td>\n",
       "      <td>3458045</td>\n",
       "      <td>1729297</td>\n",
       "      <td>1728748</td>\n",
       "      <td>2635907</td>\n",
       "      <td>1394790</td>\n",
       "      <td>1241117</td>\n",
       "      <td>...</td>\n",
       "      <td>1958</td>\n",
       "      <td>1062</td>\n",
       "      <td>3020</td>\n",
       "      <td>847</td>\n",
       "      <td>1435</td>\n",
       "      <td>2282</td>\n",
       "      <td>1837</td>\n",
       "      <td>13938</td>\n",
       "      <td>10.871377</td>\n",
       "      <td>77.076190</td>\n",
       "    </tr>\n",
       "    <tr>\n",
       "      <th>514</th>\n",
       "      <td>514</td>\n",
       "      <td>634</td>\n",
       "      <td>PONDICHERRY</td>\n",
       "      <td>Yanam</td>\n",
       "      <td>55626</td>\n",
       "      <td>27301</td>\n",
       "      <td>28325</td>\n",
       "      <td>39274</td>\n",
       "      <td>19919</td>\n",
       "      <td>19355</td>\n",
       "      <td>...</td>\n",
       "      <td>1370</td>\n",
       "      <td>838</td>\n",
       "      <td>2208</td>\n",
       "      <td>576</td>\n",
       "      <td>978</td>\n",
       "      <td>1554</td>\n",
       "      <td>1446</td>\n",
       "      <td>10027</td>\n",
       "      <td>16.707696</td>\n",
       "      <td>82.261873</td>\n",
       "    </tr>\n",
       "    <tr>\n",
       "      <th>515</th>\n",
       "      <td>515</td>\n",
       "      <td>636</td>\n",
       "      <td>PONDICHERRY</td>\n",
       "      <td>Mahe</td>\n",
       "      <td>41816</td>\n",
       "      <td>19143</td>\n",
       "      <td>22673</td>\n",
       "      <td>36470</td>\n",
       "      <td>16610</td>\n",
       "      <td>19860</td>\n",
       "      <td>...</td>\n",
       "      <td>1370</td>\n",
       "      <td>838</td>\n",
       "      <td>2208</td>\n",
       "      <td>576</td>\n",
       "      <td>978</td>\n",
       "      <td>1554</td>\n",
       "      <td>1446</td>\n",
       "      <td>10027</td>\n",
       "      <td>12.006421</td>\n",
       "      <td>75.282750</td>\n",
       "    </tr>\n",
       "    <tr>\n",
       "      <th>516</th>\n",
       "      <td>516</td>\n",
       "      <td>637</td>\n",
       "      <td>PONDICHERRY</td>\n",
       "      <td>Karaikal</td>\n",
       "      <td>200222</td>\n",
       "      <td>97809</td>\n",
       "      <td>102413</td>\n",
       "      <td>154916</td>\n",
       "      <td>79903</td>\n",
       "      <td>75013</td>\n",
       "      <td>...</td>\n",
       "      <td>665</td>\n",
       "      <td>340</td>\n",
       "      <td>1005</td>\n",
       "      <td>246</td>\n",
       "      <td>483</td>\n",
       "      <td>729</td>\n",
       "      <td>341</td>\n",
       "      <td>4890</td>\n",
       "      <td>10.876162</td>\n",
       "      <td>79.823698</td>\n",
       "    </tr>\n",
       "  </tbody>\n",
       "</table>\n",
       "<p>517 rows × 121 columns</p>\n",
       "</div>"
      ],
      "text/plain": [
       "     Unnamed: 0  District code         State name District name  Population  \\\n",
       "0             0              4  JAMMU AND KASHMIR        Kargil      140802   \n",
       "1             1              5  JAMMU AND KASHMIR         Punch      476835   \n",
       "2             2              7  JAMMU AND KASHMIR        Kathua      616435   \n",
       "3             3             10  JAMMU AND KASHMIR      Srinagar     1236829   \n",
       "4             4             12  JAMMU AND KASHMIR       Pulwama      560440   \n",
       "..          ...            ...                ...           ...         ...   \n",
       "512         512            630         TAMIL NADU    Dharmapuri     1506843   \n",
       "513         513            632         TAMIL NADU    Coimbatore     3458045   \n",
       "514         514            634        PONDICHERRY         Yanam       55626   \n",
       "515         515            636        PONDICHERRY          Mahe       41816   \n",
       "516         516            637        PONDICHERRY      Karaikal      200222   \n",
       "\n",
       "        Male   Female  Literate  Male_Literate  Female_Literate  ...  \\\n",
       "0      77785    63017     86236          56301            29935  ...   \n",
       "1     251899   224936    261724         163333            98391  ...   \n",
       "2     326109   290326    389204         228499           160705  ...   \n",
       "3     651124   585705    748584         431746           316838  ...   \n",
       "4     293064   267376    293958         178326           115632  ...   \n",
       "..       ...      ...       ...            ...              ...  ...   \n",
       "512   774303   732540    917709         527599           390110  ...   \n",
       "513  1729297  1728748   2635907        1394790          1241117  ...   \n",
       "514    27301    28325     39274          19919            19355  ...   \n",
       "515    19143    22673     36470          16610            19860  ...   \n",
       "516    97809   102413    154916          79903            75013  ...   \n",
       "\n",
       "     Power_Parity_Rs_150000_240000  Power_Parity_Rs_240000_330000  \\\n",
       "0                               12                             18   \n",
       "1                               35                             50   \n",
       "2                               54                             69   \n",
       "3                              319                            380   \n",
       "4                               71                             96   \n",
       "..                             ...                            ...   \n",
       "512                            255                            180   \n",
       "513                           1958                           1062   \n",
       "514                           1370                            838   \n",
       "515                           1370                            838   \n",
       "516                            665                            340   \n",
       "\n",
       "     Power_Parity_Rs_150000_330000  Power_Parity_Rs_330000_425000  \\\n",
       "0                               30                             19   \n",
       "1                               85                             59   \n",
       "2                              123                             78   \n",
       "3                              699                            240   \n",
       "4                              167                             84   \n",
       "..                             ...                            ...   \n",
       "512                            435                             42   \n",
       "513                           3020                            847   \n",
       "514                           2208                            576   \n",
       "515                           2208                            576   \n",
       "516                           1005                            246   \n",
       "\n",
       "     Power_Parity_Rs_425000_545000  Power_Parity_Rs_330000_545000  \\\n",
       "0                                3                             22   \n",
       "1                                8                             67   \n",
       "2                               52                            130   \n",
       "3                              370                            610   \n",
       "4                               24                            108   \n",
       "..                             ...                            ...   \n",
       "512                             92                            134   \n",
       "513                           1435                           2282   \n",
       "514                            978                           1554   \n",
       "515                            978                           1554   \n",
       "516                            483                            729   \n",
       "\n",
       "     Power_Parity_Above_Rs_545000  Total_Power_Parity   Latitude  Longitude  \n",
       "0                               7                 214  33.565995  76.636753  \n",
       "1                              12                 629  33.791241  74.295932  \n",
       "2                              28                 936  32.517817  75.589014  \n",
       "3                             445                3099  34.273129  75.110212  \n",
       "4                              32                1068  33.884144  75.009219  \n",
       "..                            ...                 ...        ...        ...  \n",
       "512                            76                2364  12.300141  78.115098  \n",
       "513                          1837               13938  10.871377  77.076190  \n",
       "514                          1446               10027  16.707696  82.261873  \n",
       "515                          1446               10027  12.006421  75.282750  \n",
       "516                           341                4890  10.876162  79.823698  \n",
       "\n",
       "[517 rows x 121 columns]"
      ]
     },
     "execution_count": 11,
     "metadata": {},
     "output_type": "execute_result"
    }
   ],
   "source": [
    "NewDf = pd.read_csv('/home/ghost/Python DS/Indian census data/Modified data.csv')\n",
    "NewDf"
   ]
  },
  {
   "cell_type": "code",
   "execution_count": 12,
   "metadata": {},
   "outputs": [
    {
     "data": {
      "application/vnd.plotly.v1+json": {
       "config": {
        "plotlyServerURL": "https://plot.ly"
       },
       "data": [
        {
         "geo": "geo",
         "hovertemplate": "<b>%{hovertext}</b><br><br>District name=Kargil<br>Population=%{marker.size}<br>Latitude=%{lat}<br>Longitude=%{lon}<extra></extra>",
         "hovertext": [
          "JAMMU AND KASHMIR"
         ],
         "lat": [
          33.565994894894914
         ],
         "legendgroup": "Kargil",
         "lon": [
          76.63675315315312
         ],
         "marker": {
          "color": "#636efa",
          "size": [
           140802
          ],
          "sizemode": "area",
          "sizeref": 3824.895,
          "symbol": "circle"
         },
         "mode": "markers",
         "name": "Kargil",
         "showlegend": true,
         "type": "scattergeo"
        },
        {
         "geo": "geo",
         "hovertemplate": "<b>%{hovertext}</b><br><br>District name=Punch<br>Population=%{marker.size}<br>Latitude=%{lat}<br>Longitude=%{lon}<extra></extra>",
         "hovertext": [
          "JAMMU AND KASHMIR"
         ],
         "lat": [
          33.791241290322574
         ],
         "legendgroup": "Punch",
         "lon": [
          74.29593161290322
         ],
         "marker": {
          "color": "#EF553B",
          "size": [
           476835
          ],
          "sizemode": "area",
          "sizeref": 3824.895,
          "symbol": "circle"
         },
         "mode": "markers",
         "name": "Punch",
         "showlegend": true,
         "type": "scattergeo"
        },
        {
         "geo": "geo",
         "hovertemplate": "<b>%{hovertext}</b><br><br>District name=Kathua<br>Population=%{marker.size}<br>Latitude=%{lat}<br>Longitude=%{lon}<extra></extra>",
         "hovertext": [
          "JAMMU AND KASHMIR"
         ],
         "lat": [
          32.51781678321678
         ],
         "legendgroup": "Kathua",
         "lon": [
          75.58901398601404
         ],
         "marker": {
          "color": "#00cc96",
          "size": [
           616435
          ],
          "sizemode": "area",
          "sizeref": 3824.895,
          "symbol": "circle"
         },
         "mode": "markers",
         "name": "Kathua",
         "showlegend": true,
         "type": "scattergeo"
        },
        {
         "geo": "geo",
         "hovertemplate": "<b>%{hovertext}</b><br><br>District name=Srinagar<br>Population=%{marker.size}<br>Latitude=%{lat}<br>Longitude=%{lon}<extra></extra>",
         "hovertext": [
          "JAMMU AND KASHMIR"
         ],
         "lat": [
          34.27312898550724
         ],
         "legendgroup": "Srinagar",
         "lon": [
          75.11021159420288
         ],
         "marker": {
          "color": "#ab63fa",
          "size": [
           1236829
          ],
          "sizemode": "area",
          "sizeref": 3824.895,
          "symbol": "circle"
         },
         "mode": "markers",
         "name": "Srinagar",
         "showlegend": true,
         "type": "scattergeo"
        },
        {
         "geo": "geo",
         "hovertemplate": "<b>%{hovertext}</b><br><br>District name=Pulwama<br>Population=%{marker.size}<br>Latitude=%{lat}<br>Longitude=%{lon}<extra></extra>",
         "hovertext": [
          "JAMMU AND KASHMIR"
         ],
         "lat": [
          33.88414418604652
         ],
         "legendgroup": "Pulwama",
         "lon": [
          75.00921860465118
         ],
         "marker": {
          "color": "#FFA15A",
          "size": [
           560440
          ],
          "sizemode": "area",
          "sizeref": 3824.895,
          "symbol": "circle"
         },
         "mode": "markers",
         "name": "Pulwama",
         "showlegend": true,
         "type": "scattergeo"
        },
        {
         "geo": "geo",
         "hovertemplate": "<b>%{hovertext}</b><br><br>District name=Doda<br>Population=%{marker.size}<br>Latitude=%{lat}<br>Longitude=%{lon}<extra></extra>",
         "hovertext": [
          "JAMMU AND KASHMIR"
         ],
         "lat": [
          33.359614675767915
         ],
         "legendgroup": "Doda",
         "lon": [
          76.07163720136518
         ],
         "marker": {
          "color": "#19d3f3",
          "size": [
           409936
          ],
          "sizemode": "area",
          "sizeref": 3824.895,
          "symbol": "circle"
         },
         "mode": "markers",
         "name": "Doda",
         "showlegend": true,
         "type": "scattergeo"
        },
        {
         "geo": "geo",
         "hovertemplate": "<b>%{hovertext}</b><br><br>District name=Udhampur<br>Population=%{marker.size}<br>Latitude=%{lat}<br>Longitude=%{lon}<extra></extra>",
         "hovertext": [
          "JAMMU AND KASHMIR"
         ],
         "lat": [
          33.04770670731707
         ],
         "legendgroup": "Udhampur",
         "lon": [
          75.15286951219511
         ],
         "marker": {
          "color": "#FF6692",
          "size": [
           554985
          ],
          "sizemode": "area",
          "sizeref": 3824.895,
          "symbol": "circle"
         },
         "mode": "markers",
         "name": "Udhampur",
         "showlegend": true,
         "type": "scattergeo"
        },
        {
         "geo": "geo",
         "hovertemplate": "<b>%{hovertext}</b><br><br>District name=Jammu<br>Population=%{marker.size}<br>Latitude=%{lat}<br>Longitude=%{lon}<extra></extra>",
         "hovertext": [
          "JAMMU AND KASHMIR"
         ],
         "lat": [
          32.713199095022645
         ],
         "legendgroup": "Jammu",
         "lon": [
          74.8477520361991
         ],
         "marker": {
          "color": "#B6E880",
          "size": [
           1529958
          ],
          "sizemode": "area",
          "sizeref": 3824.895,
          "symbol": "circle"
         },
         "mode": "markers",
         "name": "Jammu",
         "showlegend": true,
         "type": "scattergeo"
        }
       ],
       "layout": {
        "geo": {
         "center": {
          "lat": 22.3511148,
          "lon": 78.6677428
         },
         "countrycolor": "Black",
         "domain": {
          "x": [
           0,
           1
          ],
          "y": [
           0,
           1
          ]
         },
         "fitbounds": "locations",
         "projection": {
          "type": "natural earth"
         },
         "scope": "asia",
         "showcountries": true
        },
        "height": 800,
        "legend": {
         "itemsizing": "constant",
         "title": {
          "text": "District name"
         },
         "tracegroupgap": 0
        },
        "margin": {
         "t": 60
        },
        "template": {
         "data": {
          "bar": [
           {
            "error_x": {
             "color": "#2a3f5f"
            },
            "error_y": {
             "color": "#2a3f5f"
            },
            "marker": {
             "line": {
              "color": "#E5ECF6",
              "width": 0.5
             },
             "pattern": {
              "fillmode": "overlay",
              "size": 10,
              "solidity": 0.2
             }
            },
            "type": "bar"
           }
          ],
          "barpolar": [
           {
            "marker": {
             "line": {
              "color": "#E5ECF6",
              "width": 0.5
             },
             "pattern": {
              "fillmode": "overlay",
              "size": 10,
              "solidity": 0.2
             }
            },
            "type": "barpolar"
           }
          ],
          "carpet": [
           {
            "aaxis": {
             "endlinecolor": "#2a3f5f",
             "gridcolor": "white",
             "linecolor": "white",
             "minorgridcolor": "white",
             "startlinecolor": "#2a3f5f"
            },
            "baxis": {
             "endlinecolor": "#2a3f5f",
             "gridcolor": "white",
             "linecolor": "white",
             "minorgridcolor": "white",
             "startlinecolor": "#2a3f5f"
            },
            "type": "carpet"
           }
          ],
          "choropleth": [
           {
            "colorbar": {
             "outlinewidth": 0,
             "ticks": ""
            },
            "type": "choropleth"
           }
          ],
          "contour": [
           {
            "colorbar": {
             "outlinewidth": 0,
             "ticks": ""
            },
            "colorscale": [
             [
              0,
              "#0d0887"
             ],
             [
              0.1111111111111111,
              "#46039f"
             ],
             [
              0.2222222222222222,
              "#7201a8"
             ],
             [
              0.3333333333333333,
              "#9c179e"
             ],
             [
              0.4444444444444444,
              "#bd3786"
             ],
             [
              0.5555555555555556,
              "#d8576b"
             ],
             [
              0.6666666666666666,
              "#ed7953"
             ],
             [
              0.7777777777777778,
              "#fb9f3a"
             ],
             [
              0.8888888888888888,
              "#fdca26"
             ],
             [
              1,
              "#f0f921"
             ]
            ],
            "type": "contour"
           }
          ],
          "contourcarpet": [
           {
            "colorbar": {
             "outlinewidth": 0,
             "ticks": ""
            },
            "type": "contourcarpet"
           }
          ],
          "heatmap": [
           {
            "colorbar": {
             "outlinewidth": 0,
             "ticks": ""
            },
            "colorscale": [
             [
              0,
              "#0d0887"
             ],
             [
              0.1111111111111111,
              "#46039f"
             ],
             [
              0.2222222222222222,
              "#7201a8"
             ],
             [
              0.3333333333333333,
              "#9c179e"
             ],
             [
              0.4444444444444444,
              "#bd3786"
             ],
             [
              0.5555555555555556,
              "#d8576b"
             ],
             [
              0.6666666666666666,
              "#ed7953"
             ],
             [
              0.7777777777777778,
              "#fb9f3a"
             ],
             [
              0.8888888888888888,
              "#fdca26"
             ],
             [
              1,
              "#f0f921"
             ]
            ],
            "type": "heatmap"
           }
          ],
          "heatmapgl": [
           {
            "colorbar": {
             "outlinewidth": 0,
             "ticks": ""
            },
            "colorscale": [
             [
              0,
              "#0d0887"
             ],
             [
              0.1111111111111111,
              "#46039f"
             ],
             [
              0.2222222222222222,
              "#7201a8"
             ],
             [
              0.3333333333333333,
              "#9c179e"
             ],
             [
              0.4444444444444444,
              "#bd3786"
             ],
             [
              0.5555555555555556,
              "#d8576b"
             ],
             [
              0.6666666666666666,
              "#ed7953"
             ],
             [
              0.7777777777777778,
              "#fb9f3a"
             ],
             [
              0.8888888888888888,
              "#fdca26"
             ],
             [
              1,
              "#f0f921"
             ]
            ],
            "type": "heatmapgl"
           }
          ],
          "histogram": [
           {
            "marker": {
             "pattern": {
              "fillmode": "overlay",
              "size": 10,
              "solidity": 0.2
             }
            },
            "type": "histogram"
           }
          ],
          "histogram2d": [
           {
            "colorbar": {
             "outlinewidth": 0,
             "ticks": ""
            },
            "colorscale": [
             [
              0,
              "#0d0887"
             ],
             [
              0.1111111111111111,
              "#46039f"
             ],
             [
              0.2222222222222222,
              "#7201a8"
             ],
             [
              0.3333333333333333,
              "#9c179e"
             ],
             [
              0.4444444444444444,
              "#bd3786"
             ],
             [
              0.5555555555555556,
              "#d8576b"
             ],
             [
              0.6666666666666666,
              "#ed7953"
             ],
             [
              0.7777777777777778,
              "#fb9f3a"
             ],
             [
              0.8888888888888888,
              "#fdca26"
             ],
             [
              1,
              "#f0f921"
             ]
            ],
            "type": "histogram2d"
           }
          ],
          "histogram2dcontour": [
           {
            "colorbar": {
             "outlinewidth": 0,
             "ticks": ""
            },
            "colorscale": [
             [
              0,
              "#0d0887"
             ],
             [
              0.1111111111111111,
              "#46039f"
             ],
             [
              0.2222222222222222,
              "#7201a8"
             ],
             [
              0.3333333333333333,
              "#9c179e"
             ],
             [
              0.4444444444444444,
              "#bd3786"
             ],
             [
              0.5555555555555556,
              "#d8576b"
             ],
             [
              0.6666666666666666,
              "#ed7953"
             ],
             [
              0.7777777777777778,
              "#fb9f3a"
             ],
             [
              0.8888888888888888,
              "#fdca26"
             ],
             [
              1,
              "#f0f921"
             ]
            ],
            "type": "histogram2dcontour"
           }
          ],
          "mesh3d": [
           {
            "colorbar": {
             "outlinewidth": 0,
             "ticks": ""
            },
            "type": "mesh3d"
           }
          ],
          "parcoords": [
           {
            "line": {
             "colorbar": {
              "outlinewidth": 0,
              "ticks": ""
             }
            },
            "type": "parcoords"
           }
          ],
          "pie": [
           {
            "automargin": true,
            "type": "pie"
           }
          ],
          "scatter": [
           {
            "fillpattern": {
             "fillmode": "overlay",
             "size": 10,
             "solidity": 0.2
            },
            "type": "scatter"
           }
          ],
          "scatter3d": [
           {
            "line": {
             "colorbar": {
              "outlinewidth": 0,
              "ticks": ""
             }
            },
            "marker": {
             "colorbar": {
              "outlinewidth": 0,
              "ticks": ""
             }
            },
            "type": "scatter3d"
           }
          ],
          "scattercarpet": [
           {
            "marker": {
             "colorbar": {
              "outlinewidth": 0,
              "ticks": ""
             }
            },
            "type": "scattercarpet"
           }
          ],
          "scattergeo": [
           {
            "marker": {
             "colorbar": {
              "outlinewidth": 0,
              "ticks": ""
             }
            },
            "type": "scattergeo"
           }
          ],
          "scattergl": [
           {
            "marker": {
             "colorbar": {
              "outlinewidth": 0,
              "ticks": ""
             }
            },
            "type": "scattergl"
           }
          ],
          "scattermapbox": [
           {
            "marker": {
             "colorbar": {
              "outlinewidth": 0,
              "ticks": ""
             }
            },
            "type": "scattermapbox"
           }
          ],
          "scatterpolar": [
           {
            "marker": {
             "colorbar": {
              "outlinewidth": 0,
              "ticks": ""
             }
            },
            "type": "scatterpolar"
           }
          ],
          "scatterpolargl": [
           {
            "marker": {
             "colorbar": {
              "outlinewidth": 0,
              "ticks": ""
             }
            },
            "type": "scatterpolargl"
           }
          ],
          "scatterternary": [
           {
            "marker": {
             "colorbar": {
              "outlinewidth": 0,
              "ticks": ""
             }
            },
            "type": "scatterternary"
           }
          ],
          "surface": [
           {
            "colorbar": {
             "outlinewidth": 0,
             "ticks": ""
            },
            "colorscale": [
             [
              0,
              "#0d0887"
             ],
             [
              0.1111111111111111,
              "#46039f"
             ],
             [
              0.2222222222222222,
              "#7201a8"
             ],
             [
              0.3333333333333333,
              "#9c179e"
             ],
             [
              0.4444444444444444,
              "#bd3786"
             ],
             [
              0.5555555555555556,
              "#d8576b"
             ],
             [
              0.6666666666666666,
              "#ed7953"
             ],
             [
              0.7777777777777778,
              "#fb9f3a"
             ],
             [
              0.8888888888888888,
              "#fdca26"
             ],
             [
              1,
              "#f0f921"
             ]
            ],
            "type": "surface"
           }
          ],
          "table": [
           {
            "cells": {
             "fill": {
              "color": "#EBF0F8"
             },
             "line": {
              "color": "white"
             }
            },
            "header": {
             "fill": {
              "color": "#C8D4E3"
             },
             "line": {
              "color": "white"
             }
            },
            "type": "table"
           }
          ]
         },
         "layout": {
          "annotationdefaults": {
           "arrowcolor": "#2a3f5f",
           "arrowhead": 0,
           "arrowwidth": 1
          },
          "autotypenumbers": "strict",
          "coloraxis": {
           "colorbar": {
            "outlinewidth": 0,
            "ticks": ""
           }
          },
          "colorscale": {
           "diverging": [
            [
             0,
             "#8e0152"
            ],
            [
             0.1,
             "#c51b7d"
            ],
            [
             0.2,
             "#de77ae"
            ],
            [
             0.3,
             "#f1b6da"
            ],
            [
             0.4,
             "#fde0ef"
            ],
            [
             0.5,
             "#f7f7f7"
            ],
            [
             0.6,
             "#e6f5d0"
            ],
            [
             0.7,
             "#b8e186"
            ],
            [
             0.8,
             "#7fbc41"
            ],
            [
             0.9,
             "#4d9221"
            ],
            [
             1,
             "#276419"
            ]
           ],
           "sequential": [
            [
             0,
             "#0d0887"
            ],
            [
             0.1111111111111111,
             "#46039f"
            ],
            [
             0.2222222222222222,
             "#7201a8"
            ],
            [
             0.3333333333333333,
             "#9c179e"
            ],
            [
             0.4444444444444444,
             "#bd3786"
            ],
            [
             0.5555555555555556,
             "#d8576b"
            ],
            [
             0.6666666666666666,
             "#ed7953"
            ],
            [
             0.7777777777777778,
             "#fb9f3a"
            ],
            [
             0.8888888888888888,
             "#fdca26"
            ],
            [
             1,
             "#f0f921"
            ]
           ],
           "sequentialminus": [
            [
             0,
             "#0d0887"
            ],
            [
             0.1111111111111111,
             "#46039f"
            ],
            [
             0.2222222222222222,
             "#7201a8"
            ],
            [
             0.3333333333333333,
             "#9c179e"
            ],
            [
             0.4444444444444444,
             "#bd3786"
            ],
            [
             0.5555555555555556,
             "#d8576b"
            ],
            [
             0.6666666666666666,
             "#ed7953"
            ],
            [
             0.7777777777777778,
             "#fb9f3a"
            ],
            [
             0.8888888888888888,
             "#fdca26"
            ],
            [
             1,
             "#f0f921"
            ]
           ]
          },
          "colorway": [
           "#636efa",
           "#EF553B",
           "#00cc96",
           "#ab63fa",
           "#FFA15A",
           "#19d3f3",
           "#FF6692",
           "#B6E880",
           "#FF97FF",
           "#FECB52"
          ],
          "font": {
           "color": "#2a3f5f"
          },
          "geo": {
           "bgcolor": "white",
           "lakecolor": "white",
           "landcolor": "#E5ECF6",
           "showlakes": true,
           "showland": true,
           "subunitcolor": "white"
          },
          "hoverlabel": {
           "align": "left"
          },
          "hovermode": "closest",
          "mapbox": {
           "style": "light"
          },
          "paper_bgcolor": "white",
          "plot_bgcolor": "#E5ECF6",
          "polar": {
           "angularaxis": {
            "gridcolor": "white",
            "linecolor": "white",
            "ticks": ""
           },
           "bgcolor": "#E5ECF6",
           "radialaxis": {
            "gridcolor": "white",
            "linecolor": "white",
            "ticks": ""
           }
          },
          "scene": {
           "xaxis": {
            "backgroundcolor": "#E5ECF6",
            "gridcolor": "white",
            "gridwidth": 2,
            "linecolor": "white",
            "showbackground": true,
            "ticks": "",
            "zerolinecolor": "white"
           },
           "yaxis": {
            "backgroundcolor": "#E5ECF6",
            "gridcolor": "white",
            "gridwidth": 2,
            "linecolor": "white",
            "showbackground": true,
            "ticks": "",
            "zerolinecolor": "white"
           },
           "zaxis": {
            "backgroundcolor": "#E5ECF6",
            "gridcolor": "white",
            "gridwidth": 2,
            "linecolor": "white",
            "showbackground": true,
            "ticks": "",
            "zerolinecolor": "white"
           }
          },
          "shapedefaults": {
           "line": {
            "color": "#2a3f5f"
           }
          },
          "ternary": {
           "aaxis": {
            "gridcolor": "white",
            "linecolor": "white",
            "ticks": ""
           },
           "baxis": {
            "gridcolor": "white",
            "linecolor": "white",
            "ticks": ""
           },
           "bgcolor": "#E5ECF6",
           "caxis": {
            "gridcolor": "white",
            "linecolor": "white",
            "ticks": ""
           }
          },
          "title": {
           "x": 0.05
          },
          "xaxis": {
           "automargin": true,
           "gridcolor": "white",
           "linecolor": "white",
           "ticks": "",
           "title": {
            "standoff": 15
           },
           "zerolinecolor": "white",
           "zerolinewidth": 2
          },
          "yaxis": {
           "automargin": true,
           "gridcolor": "white",
           "linecolor": "white",
           "ticks": "",
           "title": {
            "standoff": 15
           },
           "zerolinecolor": "white",
           "zerolinewidth": 2
          }
         }
        },
        "width": 1200
       }
      }
     },
     "metadata": {},
     "output_type": "display_data"
    }
   ],
   "source": [
    "def statewise(state):\n",
    "    # Filter the DataFrame for the specified state\n",
    "    df2 = NewDf[NewDf['State name'] == str(state)]\n",
    "    \n",
    "   \n",
    "    \n",
    "    # Create a scatter geo plot\n",
    "    fig = px.scatter_geo(\n",
    "        df2,\n",
    "        lat='Latitude',\n",
    "        lon='Longitude',\n",
    "        size='Population',\n",
    "        color='District name',\n",
    "        hover_name='State name',\n",
    "    )\n",
    "    \n",
    "    # Customize the layout to focus only on India\n",
    "    fig.update_layout(\n",
    "        geo=dict(\n",
    "            scope='asia',\n",
    "            projection_type='natural earth',\n",
    "            center={\"lat\": 22.3511148, \"lon\": 78.6677428},\n",
    "            fitbounds=\"locations\",\n",
    "            showcountries=True,\n",
    "            countrycolor=\"Black\",\n",
    "        ),\n",
    "        width=1200,\n",
    "        height=800\n",
    "    )\n",
    "    \n",
    "    # Show the figure\n",
    "    fig.show()\n",
    "    return fig\n",
    "    \n",
    "\n",
    "\n",
    "fig = statewise('JAMMU AND KASHMIR')\n",
    "\n"
   ]
  },
  {
   "cell_type": "code",
   "execution_count": 13,
   "metadata": {},
   "outputs": [
    {
     "data": {
      "text/html": [
       "<div>\n",
       "<style scoped>\n",
       "    .dataframe tbody tr th:only-of-type {\n",
       "        vertical-align: middle;\n",
       "    }\n",
       "\n",
       "    .dataframe tbody tr th {\n",
       "        vertical-align: top;\n",
       "    }\n",
       "\n",
       "    .dataframe thead tr th {\n",
       "        text-align: left;\n",
       "    }\n",
       "\n",
       "    .dataframe thead tr:last-of-type th {\n",
       "        text-align: right;\n",
       "    }\n",
       "</style>\n",
       "<table border=\"1\" class=\"dataframe\">\n",
       "  <thead>\n",
       "    <tr>\n",
       "      <th></th>\n",
       "      <th colspan=\"3\" halign=\"left\">Unnamed: 0</th>\n",
       "      <th colspan=\"3\" halign=\"left\">District code</th>\n",
       "      <th colspan=\"3\" halign=\"left\">District name</th>\n",
       "      <th>Population</th>\n",
       "      <th>...</th>\n",
       "      <th>Power_Parity_Above_Rs_545000</th>\n",
       "      <th colspan=\"3\" halign=\"left\">Total_Power_Parity</th>\n",
       "      <th colspan=\"3\" halign=\"left\">Latitude</th>\n",
       "      <th colspan=\"3\" halign=\"left\">Longitude</th>\n",
       "    </tr>\n",
       "    <tr>\n",
       "      <th>Male</th>\n",
       "      <th>27301</th>\n",
       "      <th>19143</th>\n",
       "      <th>97809</th>\n",
       "      <th>27301</th>\n",
       "      <th>19143</th>\n",
       "      <th>97809</th>\n",
       "      <th>27301</th>\n",
       "      <th>19143</th>\n",
       "      <th>97809</th>\n",
       "      <th>27301</th>\n",
       "      <th>...</th>\n",
       "      <th>97809</th>\n",
       "      <th>27301</th>\n",
       "      <th>19143</th>\n",
       "      <th>97809</th>\n",
       "      <th>27301</th>\n",
       "      <th>19143</th>\n",
       "      <th>97809</th>\n",
       "      <th>27301</th>\n",
       "      <th>19143</th>\n",
       "      <th>97809</th>\n",
       "    </tr>\n",
       "    <tr>\n",
       "      <th>Female</th>\n",
       "      <th>28325</th>\n",
       "      <th>22673</th>\n",
       "      <th>102413</th>\n",
       "      <th>28325</th>\n",
       "      <th>22673</th>\n",
       "      <th>102413</th>\n",
       "      <th>28325</th>\n",
       "      <th>22673</th>\n",
       "      <th>102413</th>\n",
       "      <th>28325</th>\n",
       "      <th>...</th>\n",
       "      <th>102413</th>\n",
       "      <th>28325</th>\n",
       "      <th>22673</th>\n",
       "      <th>102413</th>\n",
       "      <th>28325</th>\n",
       "      <th>22673</th>\n",
       "      <th>102413</th>\n",
       "      <th>28325</th>\n",
       "      <th>22673</th>\n",
       "      <th>102413</th>\n",
       "    </tr>\n",
       "    <tr>\n",
       "      <th>State name</th>\n",
       "      <th></th>\n",
       "      <th></th>\n",
       "      <th></th>\n",
       "      <th></th>\n",
       "      <th></th>\n",
       "      <th></th>\n",
       "      <th></th>\n",
       "      <th></th>\n",
       "      <th></th>\n",
       "      <th></th>\n",
       "      <th></th>\n",
       "      <th></th>\n",
       "      <th></th>\n",
       "      <th></th>\n",
       "      <th></th>\n",
       "      <th></th>\n",
       "      <th></th>\n",
       "      <th></th>\n",
       "      <th></th>\n",
       "      <th></th>\n",
       "      <th></th>\n",
       "    </tr>\n",
       "  </thead>\n",
       "  <tbody>\n",
       "    <tr>\n",
       "      <th>PONDICHERRY</th>\n",
       "      <td>514</td>\n",
       "      <td>515</td>\n",
       "      <td>516</td>\n",
       "      <td>634</td>\n",
       "      <td>636</td>\n",
       "      <td>637</td>\n",
       "      <td>Yanam</td>\n",
       "      <td>Mahe</td>\n",
       "      <td>Karaikal</td>\n",
       "      <td>55626</td>\n",
       "      <td>...</td>\n",
       "      <td>341</td>\n",
       "      <td>10027</td>\n",
       "      <td>10027</td>\n",
       "      <td>4890</td>\n",
       "      <td>16.707696</td>\n",
       "      <td>12.006421</td>\n",
       "      <td>10.876162</td>\n",
       "      <td>82.261873</td>\n",
       "      <td>75.28275</td>\n",
       "      <td>79.823698</td>\n",
       "    </tr>\n",
       "  </tbody>\n",
       "</table>\n",
       "<p>1 rows × 354 columns</p>\n",
       "</div>"
      ],
      "text/plain": [
       "            Unnamed: 0               District code                \\\n",
       "Male             27301  19143  97809         27301  19143  97809   \n",
       "Female          28325  22673  102413        28325  22673  102413   \n",
       "State name                                                         \n",
       "PONDICHERRY        514    515    516           634    636    637   \n",
       "\n",
       "            District name                  Population  ...  \\\n",
       "Male                27301  19143     97809      27301  ...   \n",
       "Female             28325  22673     102413     28325   ...   \n",
       "State name                                             ...   \n",
       "PONDICHERRY         Yanam   Mahe  Karaikal      55626  ...   \n",
       "\n",
       "            Power_Parity_Above_Rs_545000 Total_Power_Parity                \\\n",
       "Male                               97809              27301  19143  97809   \n",
       "Female                            102413             28325  22673  102413   \n",
       "State name                                                                  \n",
       "PONDICHERRY                          341              10027  10027   4890   \n",
       "\n",
       "              Latitude                        Longitude                       \n",
       "Male             27301      19143      97809      27301     19143      97809  \n",
       "Female          28325      22673      102413     28325     22673      102413  \n",
       "State name                                                                    \n",
       "PONDICHERRY  16.707696  12.006421  10.876162  82.261873  75.28275  79.823698  \n",
       "\n",
       "[1 rows x 354 columns]"
      ]
     },
     "execution_count": 13,
     "metadata": {},
     "output_type": "execute_result"
    }
   ],
   "source": [
    "def state(state):\n",
    "    filterstateWise = NewDf[NewDf['State name'] == str(state)]\n",
    "\n",
    "    statewiseSex = filterstateWise.pivot(index='State name',columns=['Male','Female'])\n",
    "    return statewiseSex\n",
    "\n",
    "\n",
    "\n",
    "state('PONDICHERRY')"
   ]
  },
  {
   "cell_type": "code",
   "execution_count": 7,
   "metadata": {},
   "outputs": [
    {
     "data": {
      "text/plain": [
       "Index(['Unnamed: 0', 'District code', 'State name', 'District name',\n",
       "       'Population', 'Male', 'Female', 'Literate', 'Male_Literate',\n",
       "       'Female_Literate',\n",
       "       ...\n",
       "       'Power_Parity_Rs_150000_240000', 'Power_Parity_Rs_240000_330000',\n",
       "       'Power_Parity_Rs_150000_330000', 'Power_Parity_Rs_330000_425000',\n",
       "       'Power_Parity_Rs_425000_545000', 'Power_Parity_Rs_330000_545000',\n",
       "       'Power_Parity_Above_Rs_545000', 'Total_Power_Parity', 'Latitude',\n",
       "       'Longitude'],\n",
       "      dtype='object', length=121)"
      ]
     },
     "execution_count": 7,
     "metadata": {},
     "output_type": "execute_result"
    }
   ],
   "source": []
  },
  {
   "cell_type": "code",
   "execution_count": 14,
   "metadata": {},
   "outputs": [
    {
     "data": {
      "application/vnd.plotly.v1+json": {
       "config": {
        "plotlyServerURL": "https://plot.ly"
       },
       "data": [
        {
         "alignmentgroup": "True",
         "hovertemplate": "<b>%{hovertext}</b><br><br>variable=Male<br>State name=%{x}<br>value=%{y}<extra></extra>",
         "hovertext": [
          "UTTAR PRADESH",
          "BIHAR",
          "MAHARASHTRA",
          "RAJASTHAN",
          "ANDHRA PRADESH",
          "MADHYA PRADESH",
          "GUJARAT",
          "WEST BENGAL",
          "TAMIL NADU",
          "KARNATAKA",
          "KERALA",
          "ORISSA",
          "PUNJAB",
          "JHARKHAND",
          "CHHATTISGARH",
          "ASSAM",
          "HARYANA",
          "HIMACHAL PRADESH",
          "JAMMU AND KASHMIR",
          "UTTARAKHAND",
          "TRIPURA",
          "MEGHALAYA",
          "MANIPUR",
          "NAGALAND",
          "NCT OF DELHI",
          "GOA",
          "ARUNACHAL PRADESH",
          "CHANDIGARH",
          "MIZORAM",
          "PONDICHERRY",
          "DAMAN AND DIU"
         ],
         "legendgroup": "Male",
         "marker": {
          "color": "rgb(102,194,165)",
          "pattern": {
           "shape": ""
          }
         },
         "name": "Male",
         "offsetgroup": "Male",
         "orientation": "v",
         "showlegend": true,
         "textposition": "auto",
         "texttemplate": "%{y}",
         "type": "bar",
         "x": [
          "UTTAR PRADESH",
          "BIHAR",
          "MAHARASHTRA",
          "RAJASTHAN",
          "ANDHRA PRADESH",
          "MADHYA PRADESH",
          "GUJARAT",
          "WEST BENGAL",
          "TAMIL NADU",
          "KARNATAKA",
          "KERALA",
          "ORISSA",
          "PUNJAB",
          "JHARKHAND",
          "CHHATTISGARH",
          "ASSAM",
          "HARYANA",
          "HIMACHAL PRADESH",
          "JAMMU AND KASHMIR",
          "UTTARAKHAND",
          "TRIPURA",
          "MEGHALAYA",
          "MANIPUR",
          "NAGALAND",
          "NCT OF DELHI",
          "GOA",
          "ARUNACHAL PRADESH",
          "CHANDIGARH",
          "MIZORAM",
          "PONDICHERRY",
          "DAMAN AND DIU"
         ],
         "xaxis": "x",
         "y": [
          92845158,
          54386338,
          51911786,
          35550997,
          34657477,
          34439867,
          31424777,
          30426599,
          28092405,
          21896021,
          15465696,
          15270795,
          12890030,
          12440949,
          12236533,
          11959534,
          10941058,
          3875119,
          2924227,
          2305195,
          1874376,
          1359301,
          957438,
          910603,
          907500,
          739140,
          697991,
          580663,
          555339,
          144253,
          124659
         ],
         "yaxis": "y"
        },
        {
         "alignmentgroup": "True",
         "hovertemplate": "<b>%{hovertext}</b><br><br>variable=Female<br>State name=%{x}<br>value=%{y}<extra></extra>",
         "hovertext": [
          "UTTAR PRADESH",
          "BIHAR",
          "MAHARASHTRA",
          "RAJASTHAN",
          "ANDHRA PRADESH",
          "MADHYA PRADESH",
          "GUJARAT",
          "WEST BENGAL",
          "TAMIL NADU",
          "KARNATAKA",
          "KERALA",
          "ORISSA",
          "PUNJAB",
          "JHARKHAND",
          "CHHATTISGARH",
          "ASSAM",
          "HARYANA",
          "HIMACHAL PRADESH",
          "JAMMU AND KASHMIR",
          "UTTARAKHAND",
          "TRIPURA",
          "MEGHALAYA",
          "MANIPUR",
          "NAGALAND",
          "NCT OF DELHI",
          "GOA",
          "ARUNACHAL PRADESH",
          "CHANDIGARH",
          "MIZORAM",
          "PONDICHERRY",
          "DAMAN AND DIU"
         ],
         "legendgroup": "Female",
         "marker": {
          "color": "rgb(252,141,98)",
          "pattern": {
           "shape": ""
          }
         },
         "name": "Female",
         "offsetgroup": "Female",
         "orientation": "v",
         "showlegend": true,
         "textposition": "auto",
         "texttemplate": "%{y}",
         "type": "bar",
         "x": [
          "UTTAR PRADESH",
          "BIHAR",
          "MAHARASHTRA",
          "RAJASTHAN",
          "ANDHRA PRADESH",
          "MADHYA PRADESH",
          "GUJARAT",
          "WEST BENGAL",
          "TAMIL NADU",
          "KARNATAKA",
          "KERALA",
          "ORISSA",
          "PUNJAB",
          "JHARKHAND",
          "CHHATTISGARH",
          "ASSAM",
          "HARYANA",
          "HIMACHAL PRADESH",
          "JAMMU AND KASHMIR",
          "UTTARAKHAND",
          "TRIPURA",
          "MEGHALAYA",
          "MANIPUR",
          "NAGALAND",
          "NCT OF DELHI",
          "GOA",
          "ARUNACHAL PRADESH",
          "CHANDIGARH",
          "MIZORAM",
          "PONDICHERRY",
          "DAMAN AND DIU"
         ],
         "xaxis": "x",
         "y": [
          84846060,
          49925960,
          48739555,
          32997440,
          34489944,
          32004709,
          28823889,
          28849356,
          27951798,
          21518105,
          16742953,
          14948643,
          11531216,
          11753790,
          12064513,
          11456366,
          9614227,
          3794643,
          2601993,
          2309820,
          1799541,
          1348748,
          924251,
          848192,
          801846,
          719405,
          656565,
          474787,
          541867,
          153411,
          66514
         ],
         "yaxis": "y"
        }
       ],
       "layout": {
        "barmode": "group",
        "font": {
         "color": "gray",
         "family": "Arial, sans-serif",
         "size": 14
        },
        "legend": {
         "orientation": "h",
         "title": {
          "text": "Gender"
         },
         "tracegroupgap": 0,
         "x": 0.5,
         "xanchor": "center",
         "y": 1.1
        },
        "margin": {
         "t": 60
        },
        "paper_bgcolor": "rgba(255, 255, 255, 1)",
        "plot_bgcolor": "rgba(245, 245, 245, 1)",
        "template": {
         "data": {
          "bar": [
           {
            "error_x": {
             "color": "#2a3f5f"
            },
            "error_y": {
             "color": "#2a3f5f"
            },
            "marker": {
             "line": {
              "color": "#E5ECF6",
              "width": 0.5
             },
             "pattern": {
              "fillmode": "overlay",
              "size": 10,
              "solidity": 0.2
             }
            },
            "type": "bar"
           }
          ],
          "barpolar": [
           {
            "marker": {
             "line": {
              "color": "#E5ECF6",
              "width": 0.5
             },
             "pattern": {
              "fillmode": "overlay",
              "size": 10,
              "solidity": 0.2
             }
            },
            "type": "barpolar"
           }
          ],
          "carpet": [
           {
            "aaxis": {
             "endlinecolor": "#2a3f5f",
             "gridcolor": "white",
             "linecolor": "white",
             "minorgridcolor": "white",
             "startlinecolor": "#2a3f5f"
            },
            "baxis": {
             "endlinecolor": "#2a3f5f",
             "gridcolor": "white",
             "linecolor": "white",
             "minorgridcolor": "white",
             "startlinecolor": "#2a3f5f"
            },
            "type": "carpet"
           }
          ],
          "choropleth": [
           {
            "colorbar": {
             "outlinewidth": 0,
             "ticks": ""
            },
            "type": "choropleth"
           }
          ],
          "contour": [
           {
            "colorbar": {
             "outlinewidth": 0,
             "ticks": ""
            },
            "colorscale": [
             [
              0,
              "#0d0887"
             ],
             [
              0.1111111111111111,
              "#46039f"
             ],
             [
              0.2222222222222222,
              "#7201a8"
             ],
             [
              0.3333333333333333,
              "#9c179e"
             ],
             [
              0.4444444444444444,
              "#bd3786"
             ],
             [
              0.5555555555555556,
              "#d8576b"
             ],
             [
              0.6666666666666666,
              "#ed7953"
             ],
             [
              0.7777777777777778,
              "#fb9f3a"
             ],
             [
              0.8888888888888888,
              "#fdca26"
             ],
             [
              1,
              "#f0f921"
             ]
            ],
            "type": "contour"
           }
          ],
          "contourcarpet": [
           {
            "colorbar": {
             "outlinewidth": 0,
             "ticks": ""
            },
            "type": "contourcarpet"
           }
          ],
          "heatmap": [
           {
            "colorbar": {
             "outlinewidth": 0,
             "ticks": ""
            },
            "colorscale": [
             [
              0,
              "#0d0887"
             ],
             [
              0.1111111111111111,
              "#46039f"
             ],
             [
              0.2222222222222222,
              "#7201a8"
             ],
             [
              0.3333333333333333,
              "#9c179e"
             ],
             [
              0.4444444444444444,
              "#bd3786"
             ],
             [
              0.5555555555555556,
              "#d8576b"
             ],
             [
              0.6666666666666666,
              "#ed7953"
             ],
             [
              0.7777777777777778,
              "#fb9f3a"
             ],
             [
              0.8888888888888888,
              "#fdca26"
             ],
             [
              1,
              "#f0f921"
             ]
            ],
            "type": "heatmap"
           }
          ],
          "heatmapgl": [
           {
            "colorbar": {
             "outlinewidth": 0,
             "ticks": ""
            },
            "colorscale": [
             [
              0,
              "#0d0887"
             ],
             [
              0.1111111111111111,
              "#46039f"
             ],
             [
              0.2222222222222222,
              "#7201a8"
             ],
             [
              0.3333333333333333,
              "#9c179e"
             ],
             [
              0.4444444444444444,
              "#bd3786"
             ],
             [
              0.5555555555555556,
              "#d8576b"
             ],
             [
              0.6666666666666666,
              "#ed7953"
             ],
             [
              0.7777777777777778,
              "#fb9f3a"
             ],
             [
              0.8888888888888888,
              "#fdca26"
             ],
             [
              1,
              "#f0f921"
             ]
            ],
            "type": "heatmapgl"
           }
          ],
          "histogram": [
           {
            "marker": {
             "pattern": {
              "fillmode": "overlay",
              "size": 10,
              "solidity": 0.2
             }
            },
            "type": "histogram"
           }
          ],
          "histogram2d": [
           {
            "colorbar": {
             "outlinewidth": 0,
             "ticks": ""
            },
            "colorscale": [
             [
              0,
              "#0d0887"
             ],
             [
              0.1111111111111111,
              "#46039f"
             ],
             [
              0.2222222222222222,
              "#7201a8"
             ],
             [
              0.3333333333333333,
              "#9c179e"
             ],
             [
              0.4444444444444444,
              "#bd3786"
             ],
             [
              0.5555555555555556,
              "#d8576b"
             ],
             [
              0.6666666666666666,
              "#ed7953"
             ],
             [
              0.7777777777777778,
              "#fb9f3a"
             ],
             [
              0.8888888888888888,
              "#fdca26"
             ],
             [
              1,
              "#f0f921"
             ]
            ],
            "type": "histogram2d"
           }
          ],
          "histogram2dcontour": [
           {
            "colorbar": {
             "outlinewidth": 0,
             "ticks": ""
            },
            "colorscale": [
             [
              0,
              "#0d0887"
             ],
             [
              0.1111111111111111,
              "#46039f"
             ],
             [
              0.2222222222222222,
              "#7201a8"
             ],
             [
              0.3333333333333333,
              "#9c179e"
             ],
             [
              0.4444444444444444,
              "#bd3786"
             ],
             [
              0.5555555555555556,
              "#d8576b"
             ],
             [
              0.6666666666666666,
              "#ed7953"
             ],
             [
              0.7777777777777778,
              "#fb9f3a"
             ],
             [
              0.8888888888888888,
              "#fdca26"
             ],
             [
              1,
              "#f0f921"
             ]
            ],
            "type": "histogram2dcontour"
           }
          ],
          "mesh3d": [
           {
            "colorbar": {
             "outlinewidth": 0,
             "ticks": ""
            },
            "type": "mesh3d"
           }
          ],
          "parcoords": [
           {
            "line": {
             "colorbar": {
              "outlinewidth": 0,
              "ticks": ""
             }
            },
            "type": "parcoords"
           }
          ],
          "pie": [
           {
            "automargin": true,
            "type": "pie"
           }
          ],
          "scatter": [
           {
            "fillpattern": {
             "fillmode": "overlay",
             "size": 10,
             "solidity": 0.2
            },
            "type": "scatter"
           }
          ],
          "scatter3d": [
           {
            "line": {
             "colorbar": {
              "outlinewidth": 0,
              "ticks": ""
             }
            },
            "marker": {
             "colorbar": {
              "outlinewidth": 0,
              "ticks": ""
             }
            },
            "type": "scatter3d"
           }
          ],
          "scattercarpet": [
           {
            "marker": {
             "colorbar": {
              "outlinewidth": 0,
              "ticks": ""
             }
            },
            "type": "scattercarpet"
           }
          ],
          "scattergeo": [
           {
            "marker": {
             "colorbar": {
              "outlinewidth": 0,
              "ticks": ""
             }
            },
            "type": "scattergeo"
           }
          ],
          "scattergl": [
           {
            "marker": {
             "colorbar": {
              "outlinewidth": 0,
              "ticks": ""
             }
            },
            "type": "scattergl"
           }
          ],
          "scattermapbox": [
           {
            "marker": {
             "colorbar": {
              "outlinewidth": 0,
              "ticks": ""
             }
            },
            "type": "scattermapbox"
           }
          ],
          "scatterpolar": [
           {
            "marker": {
             "colorbar": {
              "outlinewidth": 0,
              "ticks": ""
             }
            },
            "type": "scatterpolar"
           }
          ],
          "scatterpolargl": [
           {
            "marker": {
             "colorbar": {
              "outlinewidth": 0,
              "ticks": ""
             }
            },
            "type": "scatterpolargl"
           }
          ],
          "scatterternary": [
           {
            "marker": {
             "colorbar": {
              "outlinewidth": 0,
              "ticks": ""
             }
            },
            "type": "scatterternary"
           }
          ],
          "surface": [
           {
            "colorbar": {
             "outlinewidth": 0,
             "ticks": ""
            },
            "colorscale": [
             [
              0,
              "#0d0887"
             ],
             [
              0.1111111111111111,
              "#46039f"
             ],
             [
              0.2222222222222222,
              "#7201a8"
             ],
             [
              0.3333333333333333,
              "#9c179e"
             ],
             [
              0.4444444444444444,
              "#bd3786"
             ],
             [
              0.5555555555555556,
              "#d8576b"
             ],
             [
              0.6666666666666666,
              "#ed7953"
             ],
             [
              0.7777777777777778,
              "#fb9f3a"
             ],
             [
              0.8888888888888888,
              "#fdca26"
             ],
             [
              1,
              "#f0f921"
             ]
            ],
            "type": "surface"
           }
          ],
          "table": [
           {
            "cells": {
             "fill": {
              "color": "#EBF0F8"
             },
             "line": {
              "color": "white"
             }
            },
            "header": {
             "fill": {
              "color": "#C8D4E3"
             },
             "line": {
              "color": "white"
             }
            },
            "type": "table"
           }
          ]
         },
         "layout": {
          "annotationdefaults": {
           "arrowcolor": "#2a3f5f",
           "arrowhead": 0,
           "arrowwidth": 1
          },
          "autotypenumbers": "strict",
          "coloraxis": {
           "colorbar": {
            "outlinewidth": 0,
            "ticks": ""
           }
          },
          "colorscale": {
           "diverging": [
            [
             0,
             "#8e0152"
            ],
            [
             0.1,
             "#c51b7d"
            ],
            [
             0.2,
             "#de77ae"
            ],
            [
             0.3,
             "#f1b6da"
            ],
            [
             0.4,
             "#fde0ef"
            ],
            [
             0.5,
             "#f7f7f7"
            ],
            [
             0.6,
             "#e6f5d0"
            ],
            [
             0.7,
             "#b8e186"
            ],
            [
             0.8,
             "#7fbc41"
            ],
            [
             0.9,
             "#4d9221"
            ],
            [
             1,
             "#276419"
            ]
           ],
           "sequential": [
            [
             0,
             "#0d0887"
            ],
            [
             0.1111111111111111,
             "#46039f"
            ],
            [
             0.2222222222222222,
             "#7201a8"
            ],
            [
             0.3333333333333333,
             "#9c179e"
            ],
            [
             0.4444444444444444,
             "#bd3786"
            ],
            [
             0.5555555555555556,
             "#d8576b"
            ],
            [
             0.6666666666666666,
             "#ed7953"
            ],
            [
             0.7777777777777778,
             "#fb9f3a"
            ],
            [
             0.8888888888888888,
             "#fdca26"
            ],
            [
             1,
             "#f0f921"
            ]
           ],
           "sequentialminus": [
            [
             0,
             "#0d0887"
            ],
            [
             0.1111111111111111,
             "#46039f"
            ],
            [
             0.2222222222222222,
             "#7201a8"
            ],
            [
             0.3333333333333333,
             "#9c179e"
            ],
            [
             0.4444444444444444,
             "#bd3786"
            ],
            [
             0.5555555555555556,
             "#d8576b"
            ],
            [
             0.6666666666666666,
             "#ed7953"
            ],
            [
             0.7777777777777778,
             "#fb9f3a"
            ],
            [
             0.8888888888888888,
             "#fdca26"
            ],
            [
             1,
             "#f0f921"
            ]
           ]
          },
          "colorway": [
           "#636efa",
           "#EF553B",
           "#00cc96",
           "#ab63fa",
           "#FFA15A",
           "#19d3f3",
           "#FF6692",
           "#B6E880",
           "#FF97FF",
           "#FECB52"
          ],
          "font": {
           "color": "#2a3f5f"
          },
          "geo": {
           "bgcolor": "white",
           "lakecolor": "white",
           "landcolor": "#E5ECF6",
           "showlakes": true,
           "showland": true,
           "subunitcolor": "white"
          },
          "hoverlabel": {
           "align": "left"
          },
          "hovermode": "closest",
          "mapbox": {
           "style": "light"
          },
          "paper_bgcolor": "white",
          "plot_bgcolor": "#E5ECF6",
          "polar": {
           "angularaxis": {
            "gridcolor": "white",
            "linecolor": "white",
            "ticks": ""
           },
           "bgcolor": "#E5ECF6",
           "radialaxis": {
            "gridcolor": "white",
            "linecolor": "white",
            "ticks": ""
           }
          },
          "scene": {
           "xaxis": {
            "backgroundcolor": "#E5ECF6",
            "gridcolor": "white",
            "gridwidth": 2,
            "linecolor": "white",
            "showbackground": true,
            "ticks": "",
            "zerolinecolor": "white"
           },
           "yaxis": {
            "backgroundcolor": "#E5ECF6",
            "gridcolor": "white",
            "gridwidth": 2,
            "linecolor": "white",
            "showbackground": true,
            "ticks": "",
            "zerolinecolor": "white"
           },
           "zaxis": {
            "backgroundcolor": "#E5ECF6",
            "gridcolor": "white",
            "gridwidth": 2,
            "linecolor": "white",
            "showbackground": true,
            "ticks": "",
            "zerolinecolor": "white"
           }
          },
          "shapedefaults": {
           "line": {
            "color": "#2a3f5f"
           }
          },
          "ternary": {
           "aaxis": {
            "gridcolor": "white",
            "linecolor": "white",
            "ticks": ""
           },
           "baxis": {
            "gridcolor": "white",
            "linecolor": "white",
            "ticks": ""
           },
           "bgcolor": "#E5ECF6",
           "caxis": {
            "gridcolor": "white",
            "linecolor": "white",
            "ticks": ""
           }
          },
          "title": {
           "x": 0.05
          },
          "xaxis": {
           "automargin": true,
           "gridcolor": "white",
           "linecolor": "white",
           "ticks": "",
           "title": {
            "standoff": 15
           },
           "zerolinecolor": "white",
           "zerolinewidth": 2
          },
          "yaxis": {
           "automargin": true,
           "gridcolor": "white",
           "linecolor": "white",
           "ticks": "",
           "title": {
            "standoff": 15
           },
           "zerolinecolor": "white",
           "zerolinewidth": 2
          }
         }
        },
        "title": {
         "font": {
          "size": 20
         },
         "text": "Population Distribution by State (Male vs Female)",
         "x": 0.5
        },
        "xaxis": {
         "anchor": "y",
         "domain": [
          0,
          1
         ],
         "title": {
          "text": "State Name"
         }
        },
        "yaxis": {
         "anchor": "x",
         "domain": [
          0,
          1
         ],
         "title": {
          "text": "Population (Log Scale)"
         },
         "type": "log"
        }
       }
      }
     },
     "metadata": {},
     "output_type": "display_data"
    }
   ],
   "source": [
    "def Sexwisepopulation():\n",
    "    MaleSexPop = NewDf.groupby(['State name',])['Male'].sum().sort_values(ascending=False).reset_index()\n",
    "    FemaleSexPop = NewDf.groupby(['State name',])['Female'].sum().sort_values(ascending=False).reset_index()\n",
    "\n",
    "    Sexwisedata = MaleSexPop.merge(FemaleSexPop,on='State name')\n",
    "    Sexwisedata.set_index('State name',inplace=True)\n",
    "\n",
    "    Sexwisedata\n",
    "\n",
    "    fig = px.bar(Sexwisedata,x=Sexwisedata.index,\n",
    "        y=Sexwisedata.columns,\n",
    "        barmode='group',\n",
    "        text_auto=True,\n",
    "        log_y=True,\n",
    "        hover_name=Sexwisedata.index,\n",
    "        color_discrete_sequence=px.colors.qualitative.Set2\n",
    "            )\n",
    "\n",
    "    fig.update_layout(\n",
    "        title=\"Population Distribution by State (Male vs Female)\",\n",
    "        title_font_size=20,\n",
    "        title_x=0.5,  # Center the title\n",
    "        xaxis_title=\"State Name\",\n",
    "        yaxis_title=\"Population (Log Scale)\",\n",
    "        font=dict(\n",
    "            family=\"Arial, sans-serif\",\n",
    "            size=14,\n",
    "            color=\"gray\"\n",
    "        ),\n",
    "        plot_bgcolor='rgba(245, 245, 245, 1)',  # Light gray background\n",
    "        paper_bgcolor='rgba(255, 255, 255, 1)',  # White background\n",
    "        legend=dict(\n",
    "            title=\"Gender\",\n",
    "            orientation=\"h\",\n",
    "            x=0.5,\n",
    "            xanchor=\"center\",\n",
    "            y=1.1\n",
    "        )\n",
    "    )\n",
    "    return fig\n",
    "\n",
    "\n",
    "\n",
    "Sexwisepopulation()\n"
   ]
  },
  {
   "cell_type": "code",
   "execution_count": 32,
   "metadata": {},
   "outputs": [
    {
     "data": {
      "text/html": [
       "<div>\n",
       "<style scoped>\n",
       "    .dataframe tbody tr th:only-of-type {\n",
       "        vertical-align: middle;\n",
       "    }\n",
       "\n",
       "    .dataframe tbody tr th {\n",
       "        vertical-align: top;\n",
       "    }\n",
       "\n",
       "    .dataframe thead th {\n",
       "        text-align: right;\n",
       "    }\n",
       "</style>\n",
       "<table border=\"1\" class=\"dataframe\">\n",
       "  <thead>\n",
       "    <tr style=\"text-align: right;\">\n",
       "      <th></th>\n",
       "      <th>Unnamed: 0</th>\n",
       "      <th>District code</th>\n",
       "      <th>State name</th>\n",
       "      <th>District name</th>\n",
       "      <th>Population</th>\n",
       "      <th>Male</th>\n",
       "      <th>Female</th>\n",
       "      <th>Literate</th>\n",
       "      <th>Male_Literate</th>\n",
       "      <th>Female_Literate</th>\n",
       "      <th>...</th>\n",
       "      <th>Power_Parity_Rs_150000_240000</th>\n",
       "      <th>Power_Parity_Rs_240000_330000</th>\n",
       "      <th>Power_Parity_Rs_150000_330000</th>\n",
       "      <th>Power_Parity_Rs_330000_425000</th>\n",
       "      <th>Power_Parity_Rs_425000_545000</th>\n",
       "      <th>Power_Parity_Rs_330000_545000</th>\n",
       "      <th>Power_Parity_Above_Rs_545000</th>\n",
       "      <th>Total_Power_Parity</th>\n",
       "      <th>Latitude</th>\n",
       "      <th>Longitude</th>\n",
       "    </tr>\n",
       "  </thead>\n",
       "  <tbody>\n",
       "    <tr>\n",
       "      <th>0</th>\n",
       "      <td>0</td>\n",
       "      <td>4</td>\n",
       "      <td>JAMMU AND KASHMIR</td>\n",
       "      <td>Kargil</td>\n",
       "      <td>140802</td>\n",
       "      <td>77785</td>\n",
       "      <td>63017</td>\n",
       "      <td>86236</td>\n",
       "      <td>56301</td>\n",
       "      <td>29935</td>\n",
       "      <td>...</td>\n",
       "      <td>12</td>\n",
       "      <td>18</td>\n",
       "      <td>30</td>\n",
       "      <td>19</td>\n",
       "      <td>3</td>\n",
       "      <td>22</td>\n",
       "      <td>7</td>\n",
       "      <td>214</td>\n",
       "      <td>33.565995</td>\n",
       "      <td>76.636753</td>\n",
       "    </tr>\n",
       "    <tr>\n",
       "      <th>1</th>\n",
       "      <td>1</td>\n",
       "      <td>5</td>\n",
       "      <td>JAMMU AND KASHMIR</td>\n",
       "      <td>Punch</td>\n",
       "      <td>476835</td>\n",
       "      <td>251899</td>\n",
       "      <td>224936</td>\n",
       "      <td>261724</td>\n",
       "      <td>163333</td>\n",
       "      <td>98391</td>\n",
       "      <td>...</td>\n",
       "      <td>35</td>\n",
       "      <td>50</td>\n",
       "      <td>85</td>\n",
       "      <td>59</td>\n",
       "      <td>8</td>\n",
       "      <td>67</td>\n",
       "      <td>12</td>\n",
       "      <td>629</td>\n",
       "      <td>33.791241</td>\n",
       "      <td>74.295932</td>\n",
       "    </tr>\n",
       "    <tr>\n",
       "      <th>2</th>\n",
       "      <td>2</td>\n",
       "      <td>7</td>\n",
       "      <td>JAMMU AND KASHMIR</td>\n",
       "      <td>Kathua</td>\n",
       "      <td>616435</td>\n",
       "      <td>326109</td>\n",
       "      <td>290326</td>\n",
       "      <td>389204</td>\n",
       "      <td>228499</td>\n",
       "      <td>160705</td>\n",
       "      <td>...</td>\n",
       "      <td>54</td>\n",
       "      <td>69</td>\n",
       "      <td>123</td>\n",
       "      <td>78</td>\n",
       "      <td>52</td>\n",
       "      <td>130</td>\n",
       "      <td>28</td>\n",
       "      <td>936</td>\n",
       "      <td>32.517817</td>\n",
       "      <td>75.589014</td>\n",
       "    </tr>\n",
       "    <tr>\n",
       "      <th>3</th>\n",
       "      <td>3</td>\n",
       "      <td>10</td>\n",
       "      <td>JAMMU AND KASHMIR</td>\n",
       "      <td>Srinagar</td>\n",
       "      <td>1236829</td>\n",
       "      <td>651124</td>\n",
       "      <td>585705</td>\n",
       "      <td>748584</td>\n",
       "      <td>431746</td>\n",
       "      <td>316838</td>\n",
       "      <td>...</td>\n",
       "      <td>319</td>\n",
       "      <td>380</td>\n",
       "      <td>699</td>\n",
       "      <td>240</td>\n",
       "      <td>370</td>\n",
       "      <td>610</td>\n",
       "      <td>445</td>\n",
       "      <td>3099</td>\n",
       "      <td>34.273129</td>\n",
       "      <td>75.110212</td>\n",
       "    </tr>\n",
       "    <tr>\n",
       "      <th>4</th>\n",
       "      <td>4</td>\n",
       "      <td>12</td>\n",
       "      <td>JAMMU AND KASHMIR</td>\n",
       "      <td>Pulwama</td>\n",
       "      <td>560440</td>\n",
       "      <td>293064</td>\n",
       "      <td>267376</td>\n",
       "      <td>293958</td>\n",
       "      <td>178326</td>\n",
       "      <td>115632</td>\n",
       "      <td>...</td>\n",
       "      <td>71</td>\n",
       "      <td>96</td>\n",
       "      <td>167</td>\n",
       "      <td>84</td>\n",
       "      <td>24</td>\n",
       "      <td>108</td>\n",
       "      <td>32</td>\n",
       "      <td>1068</td>\n",
       "      <td>33.884144</td>\n",
       "      <td>75.009219</td>\n",
       "    </tr>\n",
       "  </tbody>\n",
       "</table>\n",
       "<p>5 rows × 121 columns</p>\n",
       "</div>"
      ],
      "text/plain": [
       "   Unnamed: 0  District code         State name District name  Population  \\\n",
       "0           0              4  JAMMU AND KASHMIR        Kargil      140802   \n",
       "1           1              5  JAMMU AND KASHMIR         Punch      476835   \n",
       "2           2              7  JAMMU AND KASHMIR        Kathua      616435   \n",
       "3           3             10  JAMMU AND KASHMIR      Srinagar     1236829   \n",
       "4           4             12  JAMMU AND KASHMIR       Pulwama      560440   \n",
       "\n",
       "     Male  Female  Literate  Male_Literate  Female_Literate  ...  \\\n",
       "0   77785   63017     86236          56301            29935  ...   \n",
       "1  251899  224936    261724         163333            98391  ...   \n",
       "2  326109  290326    389204         228499           160705  ...   \n",
       "3  651124  585705    748584         431746           316838  ...   \n",
       "4  293064  267376    293958         178326           115632  ...   \n",
       "\n",
       "   Power_Parity_Rs_150000_240000  Power_Parity_Rs_240000_330000  \\\n",
       "0                             12                             18   \n",
       "1                             35                             50   \n",
       "2                             54                             69   \n",
       "3                            319                            380   \n",
       "4                             71                             96   \n",
       "\n",
       "   Power_Parity_Rs_150000_330000  Power_Parity_Rs_330000_425000  \\\n",
       "0                             30                             19   \n",
       "1                             85                             59   \n",
       "2                            123                             78   \n",
       "3                            699                            240   \n",
       "4                            167                             84   \n",
       "\n",
       "   Power_Parity_Rs_425000_545000  Power_Parity_Rs_330000_545000  \\\n",
       "0                              3                             22   \n",
       "1                              8                             67   \n",
       "2                             52                            130   \n",
       "3                            370                            610   \n",
       "4                             24                            108   \n",
       "\n",
       "   Power_Parity_Above_Rs_545000  Total_Power_Parity   Latitude  Longitude  \n",
       "0                             7                 214  33.565995  76.636753  \n",
       "1                            12                 629  33.791241  74.295932  \n",
       "2                            28                 936  32.517817  75.589014  \n",
       "3                           445                3099  34.273129  75.110212  \n",
       "4                            32                1068  33.884144  75.009219  \n",
       "\n",
       "[5 rows x 121 columns]"
      ]
     },
     "execution_count": 32,
     "metadata": {},
     "output_type": "execute_result"
    }
   ],
   "source": [
    "NewDf.head()"
   ]
  },
  {
   "cell_type": "code",
   "execution_count": 39,
   "metadata": {},
   "outputs": [
    {
     "data": {
      "application/vnd.plotly.v1+json": {
       "config": {
        "plotlyServerURL": "https://plot.ly"
       },
       "data": [
        {
         "alignmentgroup": "True",
         "hovertemplate": "State name=%{x}<br>Sex Ratio=%{marker.color}<extra></extra>",
         "legendgroup": "",
         "marker": {
          "color": [
           913.8447478327303,
           917.9871606725939,
           938.8918924885381,
           928.1720003520576,
           995.166035888879,
           929.2924679412961,
           917.2344802955961,
           948.1623628063064,
           994.9948393524869,
           982.7404257604612,
           1082.5864545637003,
           978.9040452707276,
           894.5841088034706,
           944.7663518273405,
           985.9420965072377,
           957.9274577086366,
           878.7291868848516,
           979.2326377589952,
           889.8054084036568,
           1002.0063378586193,
           960.0747128644413,
           992.2364509405937,
           965.3377033290928,
           931.4618994226902,
           883.5768595041322,
           973.3000514110994,
           940.6496645372218,
           817.6636017793454,
           975.740943819901,
           1063.4856814069724,
           533.5675723373362
          ],
          "coloraxis": "coloraxis",
          "line": {
           "color": "rgba(0, 0, 0, 0.7)",
           "width": 1.5
          },
          "pattern": {
           "shape": ""
          }
         },
         "name": "",
         "offsetgroup": "",
         "orientation": "v",
         "showlegend": false,
         "text": [
          913.8447478327303,
          917.9871606725939,
          938.8918924885381,
          928.1720003520576,
          995.166035888879,
          929.2924679412961,
          917.2344802955961,
          948.1623628063064,
          994.9948393524869,
          982.7404257604612,
          1082.5864545637003,
          978.9040452707276,
          894.5841088034706,
          944.7663518273405,
          985.9420965072377,
          957.9274577086366,
          878.7291868848516,
          979.2326377589952,
          889.8054084036568,
          1002.0063378586193,
          960.0747128644413,
          992.2364509405937,
          965.3377033290928,
          931.4618994226902,
          883.5768595041322,
          973.3000514110994,
          940.6496645372218,
          817.6636017793454,
          975.740943819901,
          1063.4856814069724,
          533.5675723373362
         ],
         "textposition": "outside",
         "type": "bar",
         "x": [
          "UTTAR PRADESH",
          "BIHAR",
          "MAHARASHTRA",
          "RAJASTHAN",
          "ANDHRA PRADESH",
          "MADHYA PRADESH",
          "GUJARAT",
          "WEST BENGAL",
          "TAMIL NADU",
          "KARNATAKA",
          "KERALA",
          "ORISSA",
          "PUNJAB",
          "JHARKHAND",
          "CHHATTISGARH",
          "ASSAM",
          "HARYANA",
          "HIMACHAL PRADESH",
          "JAMMU AND KASHMIR",
          "UTTARAKHAND",
          "TRIPURA",
          "MEGHALAYA",
          "MANIPUR",
          "NAGALAND",
          "NCT OF DELHI",
          "GOA",
          "ARUNACHAL PRADESH",
          "CHANDIGARH",
          "MIZORAM",
          "PONDICHERRY",
          "DAMAN AND DIU"
         ],
         "xaxis": "x",
         "y": [
          913.8447478327303,
          917.9871606725939,
          938.8918924885381,
          928.1720003520576,
          995.166035888879,
          929.2924679412961,
          917.2344802955961,
          948.1623628063064,
          994.9948393524869,
          982.7404257604612,
          1082.5864545637003,
          978.9040452707276,
          894.5841088034706,
          944.7663518273405,
          985.9420965072377,
          957.9274577086366,
          878.7291868848516,
          979.2326377589952,
          889.8054084036568,
          1002.0063378586193,
          960.0747128644413,
          992.2364509405937,
          965.3377033290928,
          931.4618994226902,
          883.5768595041322,
          973.3000514110994,
          940.6496645372218,
          817.6636017793454,
          975.740943819901,
          1063.4856814069724,
          533.5675723373362
         ],
         "yaxis": "y"
        }
       ],
       "layout": {
        "barmode": "relative",
        "coloraxis": {
         "colorbar": {
          "title": {
           "text": "Sex Ratio"
          }
         },
         "colorscale": [
          [
           0,
           "rgb(247,251,255)"
          ],
          [
           0.125,
           "rgb(222,235,247)"
          ],
          [
           0.25,
           "rgb(198,219,239)"
          ],
          [
           0.375,
           "rgb(158,202,225)"
          ],
          [
           0.5,
           "rgb(107,174,214)"
          ],
          [
           0.625,
           "rgb(66,146,198)"
          ],
          [
           0.75,
           "rgb(33,113,181)"
          ],
          [
           0.875,
           "rgb(8,81,156)"
          ],
          [
           1,
           "rgb(8,48,107)"
          ]
         ]
        },
        "font": {
         "color": "gray",
         "family": "Arial, sans-serif",
         "size": 14
        },
        "legend": {
         "tracegroupgap": 0
        },
        "paper_bgcolor": "rgba(255, 255, 255, 1)",
        "plot_bgcolor": "rgba(240, 240, 240, 1)",
        "template": {
         "data": {
          "bar": [
           {
            "error_x": {
             "color": "#2a3f5f"
            },
            "error_y": {
             "color": "#2a3f5f"
            },
            "marker": {
             "line": {
              "color": "#E5ECF6",
              "width": 0.5
             },
             "pattern": {
              "fillmode": "overlay",
              "size": 10,
              "solidity": 0.2
             }
            },
            "type": "bar"
           }
          ],
          "barpolar": [
           {
            "marker": {
             "line": {
              "color": "#E5ECF6",
              "width": 0.5
             },
             "pattern": {
              "fillmode": "overlay",
              "size": 10,
              "solidity": 0.2
             }
            },
            "type": "barpolar"
           }
          ],
          "carpet": [
           {
            "aaxis": {
             "endlinecolor": "#2a3f5f",
             "gridcolor": "white",
             "linecolor": "white",
             "minorgridcolor": "white",
             "startlinecolor": "#2a3f5f"
            },
            "baxis": {
             "endlinecolor": "#2a3f5f",
             "gridcolor": "white",
             "linecolor": "white",
             "minorgridcolor": "white",
             "startlinecolor": "#2a3f5f"
            },
            "type": "carpet"
           }
          ],
          "choropleth": [
           {
            "colorbar": {
             "outlinewidth": 0,
             "ticks": ""
            },
            "type": "choropleth"
           }
          ],
          "contour": [
           {
            "colorbar": {
             "outlinewidth": 0,
             "ticks": ""
            },
            "colorscale": [
             [
              0,
              "#0d0887"
             ],
             [
              0.1111111111111111,
              "#46039f"
             ],
             [
              0.2222222222222222,
              "#7201a8"
             ],
             [
              0.3333333333333333,
              "#9c179e"
             ],
             [
              0.4444444444444444,
              "#bd3786"
             ],
             [
              0.5555555555555556,
              "#d8576b"
             ],
             [
              0.6666666666666666,
              "#ed7953"
             ],
             [
              0.7777777777777778,
              "#fb9f3a"
             ],
             [
              0.8888888888888888,
              "#fdca26"
             ],
             [
              1,
              "#f0f921"
             ]
            ],
            "type": "contour"
           }
          ],
          "contourcarpet": [
           {
            "colorbar": {
             "outlinewidth": 0,
             "ticks": ""
            },
            "type": "contourcarpet"
           }
          ],
          "heatmap": [
           {
            "colorbar": {
             "outlinewidth": 0,
             "ticks": ""
            },
            "colorscale": [
             [
              0,
              "#0d0887"
             ],
             [
              0.1111111111111111,
              "#46039f"
             ],
             [
              0.2222222222222222,
              "#7201a8"
             ],
             [
              0.3333333333333333,
              "#9c179e"
             ],
             [
              0.4444444444444444,
              "#bd3786"
             ],
             [
              0.5555555555555556,
              "#d8576b"
             ],
             [
              0.6666666666666666,
              "#ed7953"
             ],
             [
              0.7777777777777778,
              "#fb9f3a"
             ],
             [
              0.8888888888888888,
              "#fdca26"
             ],
             [
              1,
              "#f0f921"
             ]
            ],
            "type": "heatmap"
           }
          ],
          "heatmapgl": [
           {
            "colorbar": {
             "outlinewidth": 0,
             "ticks": ""
            },
            "colorscale": [
             [
              0,
              "#0d0887"
             ],
             [
              0.1111111111111111,
              "#46039f"
             ],
             [
              0.2222222222222222,
              "#7201a8"
             ],
             [
              0.3333333333333333,
              "#9c179e"
             ],
             [
              0.4444444444444444,
              "#bd3786"
             ],
             [
              0.5555555555555556,
              "#d8576b"
             ],
             [
              0.6666666666666666,
              "#ed7953"
             ],
             [
              0.7777777777777778,
              "#fb9f3a"
             ],
             [
              0.8888888888888888,
              "#fdca26"
             ],
             [
              1,
              "#f0f921"
             ]
            ],
            "type": "heatmapgl"
           }
          ],
          "histogram": [
           {
            "marker": {
             "pattern": {
              "fillmode": "overlay",
              "size": 10,
              "solidity": 0.2
             }
            },
            "type": "histogram"
           }
          ],
          "histogram2d": [
           {
            "colorbar": {
             "outlinewidth": 0,
             "ticks": ""
            },
            "colorscale": [
             [
              0,
              "#0d0887"
             ],
             [
              0.1111111111111111,
              "#46039f"
             ],
             [
              0.2222222222222222,
              "#7201a8"
             ],
             [
              0.3333333333333333,
              "#9c179e"
             ],
             [
              0.4444444444444444,
              "#bd3786"
             ],
             [
              0.5555555555555556,
              "#d8576b"
             ],
             [
              0.6666666666666666,
              "#ed7953"
             ],
             [
              0.7777777777777778,
              "#fb9f3a"
             ],
             [
              0.8888888888888888,
              "#fdca26"
             ],
             [
              1,
              "#f0f921"
             ]
            ],
            "type": "histogram2d"
           }
          ],
          "histogram2dcontour": [
           {
            "colorbar": {
             "outlinewidth": 0,
             "ticks": ""
            },
            "colorscale": [
             [
              0,
              "#0d0887"
             ],
             [
              0.1111111111111111,
              "#46039f"
             ],
             [
              0.2222222222222222,
              "#7201a8"
             ],
             [
              0.3333333333333333,
              "#9c179e"
             ],
             [
              0.4444444444444444,
              "#bd3786"
             ],
             [
              0.5555555555555556,
              "#d8576b"
             ],
             [
              0.6666666666666666,
              "#ed7953"
             ],
             [
              0.7777777777777778,
              "#fb9f3a"
             ],
             [
              0.8888888888888888,
              "#fdca26"
             ],
             [
              1,
              "#f0f921"
             ]
            ],
            "type": "histogram2dcontour"
           }
          ],
          "mesh3d": [
           {
            "colorbar": {
             "outlinewidth": 0,
             "ticks": ""
            },
            "type": "mesh3d"
           }
          ],
          "parcoords": [
           {
            "line": {
             "colorbar": {
              "outlinewidth": 0,
              "ticks": ""
             }
            },
            "type": "parcoords"
           }
          ],
          "pie": [
           {
            "automargin": true,
            "type": "pie"
           }
          ],
          "scatter": [
           {
            "fillpattern": {
             "fillmode": "overlay",
             "size": 10,
             "solidity": 0.2
            },
            "type": "scatter"
           }
          ],
          "scatter3d": [
           {
            "line": {
             "colorbar": {
              "outlinewidth": 0,
              "ticks": ""
             }
            },
            "marker": {
             "colorbar": {
              "outlinewidth": 0,
              "ticks": ""
             }
            },
            "type": "scatter3d"
           }
          ],
          "scattercarpet": [
           {
            "marker": {
             "colorbar": {
              "outlinewidth": 0,
              "ticks": ""
             }
            },
            "type": "scattercarpet"
           }
          ],
          "scattergeo": [
           {
            "marker": {
             "colorbar": {
              "outlinewidth": 0,
              "ticks": ""
             }
            },
            "type": "scattergeo"
           }
          ],
          "scattergl": [
           {
            "marker": {
             "colorbar": {
              "outlinewidth": 0,
              "ticks": ""
             }
            },
            "type": "scattergl"
           }
          ],
          "scattermapbox": [
           {
            "marker": {
             "colorbar": {
              "outlinewidth": 0,
              "ticks": ""
             }
            },
            "type": "scattermapbox"
           }
          ],
          "scatterpolar": [
           {
            "marker": {
             "colorbar": {
              "outlinewidth": 0,
              "ticks": ""
             }
            },
            "type": "scatterpolar"
           }
          ],
          "scatterpolargl": [
           {
            "marker": {
             "colorbar": {
              "outlinewidth": 0,
              "ticks": ""
             }
            },
            "type": "scatterpolargl"
           }
          ],
          "scatterternary": [
           {
            "marker": {
             "colorbar": {
              "outlinewidth": 0,
              "ticks": ""
             }
            },
            "type": "scatterternary"
           }
          ],
          "surface": [
           {
            "colorbar": {
             "outlinewidth": 0,
             "ticks": ""
            },
            "colorscale": [
             [
              0,
              "#0d0887"
             ],
             [
              0.1111111111111111,
              "#46039f"
             ],
             [
              0.2222222222222222,
              "#7201a8"
             ],
             [
              0.3333333333333333,
              "#9c179e"
             ],
             [
              0.4444444444444444,
              "#bd3786"
             ],
             [
              0.5555555555555556,
              "#d8576b"
             ],
             [
              0.6666666666666666,
              "#ed7953"
             ],
             [
              0.7777777777777778,
              "#fb9f3a"
             ],
             [
              0.8888888888888888,
              "#fdca26"
             ],
             [
              1,
              "#f0f921"
             ]
            ],
            "type": "surface"
           }
          ],
          "table": [
           {
            "cells": {
             "fill": {
              "color": "#EBF0F8"
             },
             "line": {
              "color": "white"
             }
            },
            "header": {
             "fill": {
              "color": "#C8D4E3"
             },
             "line": {
              "color": "white"
             }
            },
            "type": "table"
           }
          ]
         },
         "layout": {
          "annotationdefaults": {
           "arrowcolor": "#2a3f5f",
           "arrowhead": 0,
           "arrowwidth": 1
          },
          "autotypenumbers": "strict",
          "coloraxis": {
           "colorbar": {
            "outlinewidth": 0,
            "ticks": ""
           }
          },
          "colorscale": {
           "diverging": [
            [
             0,
             "#8e0152"
            ],
            [
             0.1,
             "#c51b7d"
            ],
            [
             0.2,
             "#de77ae"
            ],
            [
             0.3,
             "#f1b6da"
            ],
            [
             0.4,
             "#fde0ef"
            ],
            [
             0.5,
             "#f7f7f7"
            ],
            [
             0.6,
             "#e6f5d0"
            ],
            [
             0.7,
             "#b8e186"
            ],
            [
             0.8,
             "#7fbc41"
            ],
            [
             0.9,
             "#4d9221"
            ],
            [
             1,
             "#276419"
            ]
           ],
           "sequential": [
            [
             0,
             "#0d0887"
            ],
            [
             0.1111111111111111,
             "#46039f"
            ],
            [
             0.2222222222222222,
             "#7201a8"
            ],
            [
             0.3333333333333333,
             "#9c179e"
            ],
            [
             0.4444444444444444,
             "#bd3786"
            ],
            [
             0.5555555555555556,
             "#d8576b"
            ],
            [
             0.6666666666666666,
             "#ed7953"
            ],
            [
             0.7777777777777778,
             "#fb9f3a"
            ],
            [
             0.8888888888888888,
             "#fdca26"
            ],
            [
             1,
             "#f0f921"
            ]
           ],
           "sequentialminus": [
            [
             0,
             "#0d0887"
            ],
            [
             0.1111111111111111,
             "#46039f"
            ],
            [
             0.2222222222222222,
             "#7201a8"
            ],
            [
             0.3333333333333333,
             "#9c179e"
            ],
            [
             0.4444444444444444,
             "#bd3786"
            ],
            [
             0.5555555555555556,
             "#d8576b"
            ],
            [
             0.6666666666666666,
             "#ed7953"
            ],
            [
             0.7777777777777778,
             "#fb9f3a"
            ],
            [
             0.8888888888888888,
             "#fdca26"
            ],
            [
             1,
             "#f0f921"
            ]
           ]
          },
          "colorway": [
           "#636efa",
           "#EF553B",
           "#00cc96",
           "#ab63fa",
           "#FFA15A",
           "#19d3f3",
           "#FF6692",
           "#B6E880",
           "#FF97FF",
           "#FECB52"
          ],
          "font": {
           "color": "#2a3f5f"
          },
          "geo": {
           "bgcolor": "white",
           "lakecolor": "white",
           "landcolor": "#E5ECF6",
           "showlakes": true,
           "showland": true,
           "subunitcolor": "white"
          },
          "hoverlabel": {
           "align": "left"
          },
          "hovermode": "closest",
          "mapbox": {
           "style": "light"
          },
          "paper_bgcolor": "white",
          "plot_bgcolor": "#E5ECF6",
          "polar": {
           "angularaxis": {
            "gridcolor": "white",
            "linecolor": "white",
            "ticks": ""
           },
           "bgcolor": "#E5ECF6",
           "radialaxis": {
            "gridcolor": "white",
            "linecolor": "white",
            "ticks": ""
           }
          },
          "scene": {
           "xaxis": {
            "backgroundcolor": "#E5ECF6",
            "gridcolor": "white",
            "gridwidth": 2,
            "linecolor": "white",
            "showbackground": true,
            "ticks": "",
            "zerolinecolor": "white"
           },
           "yaxis": {
            "backgroundcolor": "#E5ECF6",
            "gridcolor": "white",
            "gridwidth": 2,
            "linecolor": "white",
            "showbackground": true,
            "ticks": "",
            "zerolinecolor": "white"
           },
           "zaxis": {
            "backgroundcolor": "#E5ECF6",
            "gridcolor": "white",
            "gridwidth": 2,
            "linecolor": "white",
            "showbackground": true,
            "ticks": "",
            "zerolinecolor": "white"
           }
          },
          "shapedefaults": {
           "line": {
            "color": "#2a3f5f"
           }
          },
          "ternary": {
           "aaxis": {
            "gridcolor": "white",
            "linecolor": "white",
            "ticks": ""
           },
           "baxis": {
            "gridcolor": "white",
            "linecolor": "white",
            "ticks": ""
           },
           "bgcolor": "#E5ECF6",
           "caxis": {
            "gridcolor": "white",
            "linecolor": "white",
            "ticks": ""
           }
          },
          "title": {
           "x": 0.05
          },
          "xaxis": {
           "automargin": true,
           "gridcolor": "white",
           "linecolor": "white",
           "ticks": "",
           "title": {
            "standoff": 15
           },
           "zerolinecolor": "white",
           "zerolinewidth": 2
          },
          "yaxis": {
           "automargin": true,
           "gridcolor": "white",
           "linecolor": "white",
           "ticks": "",
           "title": {
            "standoff": 15
           },
           "zerolinecolor": "white",
           "zerolinewidth": 2
          }
         }
        },
        "title": {
         "font": {
          "color": "black",
          "family": "Arial, sans-serif",
          "size": 20
         },
         "text": "Sex Ratio by State (Females per 1000 Males)",
         "x": 0.5
        },
        "xaxis": {
         "anchor": "y",
         "domain": [
          0,
          1
         ],
         "showgrid": false,
         "tickangle": 45,
         "title": {
          "text": "State Name"
         }
        },
        "yaxis": {
         "anchor": "x",
         "domain": [
          0,
          1
         ],
         "gridcolor": "rgba(200, 200, 200, 0.5)",
         "showgrid": true,
         "title": {
          "text": "Sex Ratio (Females per 1000 Males)"
         }
        }
       }
      }
     },
     "metadata": {},
     "output_type": "display_data"
    }
   ],
   "source": [
    "MaleSexPop = NewDf.groupby(['State name',])['Male'].sum().sort_values(ascending=False).reset_index()\n",
    "FemaleSexPop = NewDf.groupby(['State name',])['Female'].sum().sort_values(ascending=False).reset_index()\n",
    "\n",
    "Sexwisedata = MaleSexPop.merge(FemaleSexPop,on='State name')\n",
    "\n",
    "Sexwisedata['Sex Ratio'] = (Sexwisedata['Female']/Sexwisedata['Male']) * 1000\n",
    "# Create the bar chart\n",
    "fig = px.bar(\n",
    "    Sexwisedata,\n",
    "    x='State name',\n",
    "    y='Sex Ratio',\n",
    "    text='Sex Ratio',  # Display the sex ratio value on the bars\n",
    "    color='Sex Ratio',  # Use a continuous color scale based on the sex ratio\n",
    "    color_continuous_scale='Blues',  # Select a stylish color palette\n",
    "    title='Sex Ratio by State (Females per 1000 Males)'  # Add a title\n",
    ")\n",
    "\n",
    "# Customize the layout\n",
    "fig.update_layout(\n",
    "    title=dict(\n",
    "        text='Sex Ratio by State (Females per 1000 Males)',\n",
    "        font=dict(size=20, family='Arial, sans-serif', color='black'),\n",
    "        x=0.5,  # Center the title\n",
    "    ),\n",
    "    xaxis_title=\"State Name\",\n",
    "    yaxis_title=\"Sex Ratio (Females per 1000 Males)\",\n",
    "    font=dict(\n",
    "        family=\"Arial, sans-serif\",\n",
    "        size=14,\n",
    "        color=\"gray\"\n",
    "    ),\n",
    "    plot_bgcolor='rgba(240, 240, 240, 1)',  # Light gray background for better contrast\n",
    "    paper_bgcolor='rgba(255, 255, 255, 1)',  # Clean white background\n",
    "    xaxis=dict(\n",
    "        showgrid=False,  # Hide vertical grid lines\n",
    "        tickangle=45  # Rotate x-axis labels for readability\n",
    "    ),\n",
    "    yaxis=dict(\n",
    "        showgrid=True,\n",
    "        gridcolor='rgba(200, 200, 200, 0.5)'  # Subtle grid lines for the y-axis\n",
    "    )\n",
    ")\n",
    "\n",
    "# Enhance bar trace appearance\n",
    "fig.update_traces(\n",
    "    marker_line_width=1.5,  # Add a border around the bars\n",
    "    marker_line_color='rgba(0, 0, 0, 0.7)',  # Dark border color for contrast\n",
    "    textposition=\"outside\"  # Position text outside the bars for clarity\n",
    ")\n",
    "\n",
    "# Show the figure\n",
    "# fig.show()\n",
    "fig.show()\n"
   ]
  },
  {
   "cell_type": "code",
   "execution_count": 43,
   "metadata": {},
   "outputs": [
    {
     "data": {
      "application/vnd.plotly.v1+json": {
       "config": {
        "plotlyServerURL": "https://plot.ly"
       },
       "data": [
        {
         "alignmentgroup": "True",
         "hovertemplate": "State name=%{x}<br>Sex Ratio=%{marker.color}<extra></extra>",
         "legendgroup": "",
         "marker": {
          "color": [
           913.8447478327303,
           917.9871606725939,
           938.8918924885381,
           928.1720003520576,
           995.166035888879,
           929.2924679412961,
           917.2344802955961,
           948.1623628063064,
           994.9948393524869,
           982.7404257604612,
           1082.5864545637003,
           978.9040452707276,
           894.5841088034706,
           944.7663518273405,
           985.9420965072377,
           957.9274577086366,
           878.7291868848516,
           979.2326377589952,
           889.8054084036568,
           1002.0063378586193,
           960.0747128644413,
           992.2364509405937,
           965.3377033290928,
           931.4618994226902,
           883.5768595041322,
           973.3000514110994,
           940.6496645372218,
           817.6636017793454,
           975.740943819901,
           1063.4856814069724,
           533.5675723373362
          ],
          "coloraxis": "coloraxis",
          "line": {
           "color": "rgba(0, 0, 0, 0.7)",
           "width": 1.5
          },
          "pattern": {
           "shape": ""
          }
         },
         "name": "",
         "offsetgroup": "",
         "orientation": "v",
         "showlegend": false,
         "text": [
          913.8447478327303,
          917.9871606725939,
          938.8918924885381,
          928.1720003520576,
          995.166035888879,
          929.2924679412961,
          917.2344802955961,
          948.1623628063064,
          994.9948393524869,
          982.7404257604612,
          1082.5864545637003,
          978.9040452707276,
          894.5841088034706,
          944.7663518273405,
          985.9420965072377,
          957.9274577086366,
          878.7291868848516,
          979.2326377589952,
          889.8054084036568,
          1002.0063378586193,
          960.0747128644413,
          992.2364509405937,
          965.3377033290928,
          931.4618994226902,
          883.5768595041322,
          973.3000514110994,
          940.6496645372218,
          817.6636017793454,
          975.740943819901,
          1063.4856814069724,
          533.5675723373362
         ],
         "textposition": "outside",
         "type": "bar",
         "x": [
          "UTTAR PRADESH",
          "BIHAR",
          "MAHARASHTRA",
          "RAJASTHAN",
          "ANDHRA PRADESH",
          "MADHYA PRADESH",
          "GUJARAT",
          "WEST BENGAL",
          "TAMIL NADU",
          "KARNATAKA",
          "KERALA",
          "ORISSA",
          "PUNJAB",
          "JHARKHAND",
          "CHHATTISGARH",
          "ASSAM",
          "HARYANA",
          "HIMACHAL PRADESH",
          "JAMMU AND KASHMIR",
          "UTTARAKHAND",
          "TRIPURA",
          "MEGHALAYA",
          "MANIPUR",
          "NAGALAND",
          "NCT OF DELHI",
          "GOA",
          "ARUNACHAL PRADESH",
          "CHANDIGARH",
          "MIZORAM",
          "PONDICHERRY",
          "DAMAN AND DIU"
         ],
         "xaxis": "x",
         "y": [
          913.8447478327303,
          917.9871606725939,
          938.8918924885381,
          928.1720003520576,
          995.166035888879,
          929.2924679412961,
          917.2344802955961,
          948.1623628063064,
          994.9948393524869,
          982.7404257604612,
          1082.5864545637003,
          978.9040452707276,
          894.5841088034706,
          944.7663518273405,
          985.9420965072377,
          957.9274577086366,
          878.7291868848516,
          979.2326377589952,
          889.8054084036568,
          1002.0063378586193,
          960.0747128644413,
          992.2364509405937,
          965.3377033290928,
          931.4618994226902,
          883.5768595041322,
          973.3000514110994,
          940.6496645372218,
          817.6636017793454,
          975.740943819901,
          1063.4856814069724,
          533.5675723373362
         ],
         "yaxis": "y"
        },
        {
         "alignmentgroup": "True",
         "hovertemplate": "<b>%{hovertext}</b><br><br>variable=Male<br>State name=%{x}<br>value=%{y}<extra></extra>",
         "hovertext": [
          "UTTAR PRADESH",
          "BIHAR",
          "MAHARASHTRA",
          "RAJASTHAN",
          "ANDHRA PRADESH",
          "MADHYA PRADESH",
          "GUJARAT",
          "WEST BENGAL",
          "TAMIL NADU",
          "KARNATAKA",
          "KERALA",
          "ORISSA",
          "PUNJAB",
          "JHARKHAND",
          "CHHATTISGARH",
          "ASSAM",
          "HARYANA",
          "HIMACHAL PRADESH",
          "JAMMU AND KASHMIR",
          "UTTARAKHAND",
          "TRIPURA",
          "MEGHALAYA",
          "MANIPUR",
          "NAGALAND",
          "NCT OF DELHI",
          "GOA",
          "ARUNACHAL PRADESH",
          "CHANDIGARH",
          "MIZORAM",
          "PONDICHERRY",
          "DAMAN AND DIU"
         ],
         "legendgroup": "Male",
         "marker": {
          "color": "rgb(102,194,165)",
          "pattern": {
           "shape": ""
          }
         },
         "name": "Male",
         "offsetgroup": "Male",
         "orientation": "v",
         "showlegend": true,
         "textposition": "auto",
         "texttemplate": "%{y}",
         "type": "bar",
         "x": [
          "UTTAR PRADESH",
          "BIHAR",
          "MAHARASHTRA",
          "RAJASTHAN",
          "ANDHRA PRADESH",
          "MADHYA PRADESH",
          "GUJARAT",
          "WEST BENGAL",
          "TAMIL NADU",
          "KARNATAKA",
          "KERALA",
          "ORISSA",
          "PUNJAB",
          "JHARKHAND",
          "CHHATTISGARH",
          "ASSAM",
          "HARYANA",
          "HIMACHAL PRADESH",
          "JAMMU AND KASHMIR",
          "UTTARAKHAND",
          "TRIPURA",
          "MEGHALAYA",
          "MANIPUR",
          "NAGALAND",
          "NCT OF DELHI",
          "GOA",
          "ARUNACHAL PRADESH",
          "CHANDIGARH",
          "MIZORAM",
          "PONDICHERRY",
          "DAMAN AND DIU"
         ],
         "xaxis": "x2",
         "y": [
          92845158,
          54386338,
          51911786,
          35550997,
          34657477,
          34439867,
          31424777,
          30426599,
          28092405,
          21896021,
          15465696,
          15270795,
          12890030,
          12440949,
          12236533,
          11959534,
          10941058,
          3875119,
          2924227,
          2305195,
          1874376,
          1359301,
          957438,
          910603,
          907500,
          739140,
          697991,
          580663,
          555339,
          144253,
          124659
         ],
         "yaxis": "y2"
        },
        {
         "alignmentgroup": "True",
         "hovertemplate": "<b>%{hovertext}</b><br><br>variable=Female<br>State name=%{x}<br>value=%{y}<extra></extra>",
         "hovertext": [
          "UTTAR PRADESH",
          "BIHAR",
          "MAHARASHTRA",
          "RAJASTHAN",
          "ANDHRA PRADESH",
          "MADHYA PRADESH",
          "GUJARAT",
          "WEST BENGAL",
          "TAMIL NADU",
          "KARNATAKA",
          "KERALA",
          "ORISSA",
          "PUNJAB",
          "JHARKHAND",
          "CHHATTISGARH",
          "ASSAM",
          "HARYANA",
          "HIMACHAL PRADESH",
          "JAMMU AND KASHMIR",
          "UTTARAKHAND",
          "TRIPURA",
          "MEGHALAYA",
          "MANIPUR",
          "NAGALAND",
          "NCT OF DELHI",
          "GOA",
          "ARUNACHAL PRADESH",
          "CHANDIGARH",
          "MIZORAM",
          "PONDICHERRY",
          "DAMAN AND DIU"
         ],
         "legendgroup": "Female",
         "marker": {
          "color": "rgb(252,141,98)",
          "pattern": {
           "shape": ""
          }
         },
         "name": "Female",
         "offsetgroup": "Female",
         "orientation": "v",
         "showlegend": true,
         "textposition": "auto",
         "texttemplate": "%{y}",
         "type": "bar",
         "x": [
          "UTTAR PRADESH",
          "BIHAR",
          "MAHARASHTRA",
          "RAJASTHAN",
          "ANDHRA PRADESH",
          "MADHYA PRADESH",
          "GUJARAT",
          "WEST BENGAL",
          "TAMIL NADU",
          "KARNATAKA",
          "KERALA",
          "ORISSA",
          "PUNJAB",
          "JHARKHAND",
          "CHHATTISGARH",
          "ASSAM",
          "HARYANA",
          "HIMACHAL PRADESH",
          "JAMMU AND KASHMIR",
          "UTTARAKHAND",
          "TRIPURA",
          "MEGHALAYA",
          "MANIPUR",
          "NAGALAND",
          "NCT OF DELHI",
          "GOA",
          "ARUNACHAL PRADESH",
          "CHANDIGARH",
          "MIZORAM",
          "PONDICHERRY",
          "DAMAN AND DIU"
         ],
         "xaxis": "x2",
         "y": [
          84846060,
          49925960,
          48739555,
          32997440,
          34489944,
          32004709,
          28823889,
          28849356,
          27951798,
          21518105,
          16742953,
          14948643,
          11531216,
          11753790,
          12064513,
          11456366,
          9614227,
          3794643,
          2601993,
          2309820,
          1799541,
          1348748,
          924251,
          848192,
          801846,
          719405,
          656565,
          474787,
          541867,
          153411,
          66514
         ],
         "yaxis": "y2"
        }
       ],
       "layout": {
        "annotations": [
         {
          "font": {
           "size": 16
          },
          "showarrow": false,
          "text": "Sex Ratio by State (Females per 1000 Males)",
          "x": 0.5,
          "xanchor": "center",
          "xref": "paper",
          "y": 1,
          "yanchor": "bottom",
          "yref": "paper"
         },
         {
          "font": {
           "size": 16
          },
          "showarrow": false,
          "text": "Population Distribution by State (Male vs Female)",
          "x": 0.5,
          "xanchor": "center",
          "xref": "paper",
          "y": 0.375,
          "yanchor": "bottom",
          "yref": "paper"
         }
        ],
        "height": 900,
        "showlegend": true,
        "template": {
         "data": {
          "bar": [
           {
            "error_x": {
             "color": "#2a3f5f"
            },
            "error_y": {
             "color": "#2a3f5f"
            },
            "marker": {
             "line": {
              "color": "#E5ECF6",
              "width": 0.5
             },
             "pattern": {
              "fillmode": "overlay",
              "size": 10,
              "solidity": 0.2
             }
            },
            "type": "bar"
           }
          ],
          "barpolar": [
           {
            "marker": {
             "line": {
              "color": "#E5ECF6",
              "width": 0.5
             },
             "pattern": {
              "fillmode": "overlay",
              "size": 10,
              "solidity": 0.2
             }
            },
            "type": "barpolar"
           }
          ],
          "carpet": [
           {
            "aaxis": {
             "endlinecolor": "#2a3f5f",
             "gridcolor": "white",
             "linecolor": "white",
             "minorgridcolor": "white",
             "startlinecolor": "#2a3f5f"
            },
            "baxis": {
             "endlinecolor": "#2a3f5f",
             "gridcolor": "white",
             "linecolor": "white",
             "minorgridcolor": "white",
             "startlinecolor": "#2a3f5f"
            },
            "type": "carpet"
           }
          ],
          "choropleth": [
           {
            "colorbar": {
             "outlinewidth": 0,
             "ticks": ""
            },
            "type": "choropleth"
           }
          ],
          "contour": [
           {
            "colorbar": {
             "outlinewidth": 0,
             "ticks": ""
            },
            "colorscale": [
             [
              0,
              "#0d0887"
             ],
             [
              0.1111111111111111,
              "#46039f"
             ],
             [
              0.2222222222222222,
              "#7201a8"
             ],
             [
              0.3333333333333333,
              "#9c179e"
             ],
             [
              0.4444444444444444,
              "#bd3786"
             ],
             [
              0.5555555555555556,
              "#d8576b"
             ],
             [
              0.6666666666666666,
              "#ed7953"
             ],
             [
              0.7777777777777778,
              "#fb9f3a"
             ],
             [
              0.8888888888888888,
              "#fdca26"
             ],
             [
              1,
              "#f0f921"
             ]
            ],
            "type": "contour"
           }
          ],
          "contourcarpet": [
           {
            "colorbar": {
             "outlinewidth": 0,
             "ticks": ""
            },
            "type": "contourcarpet"
           }
          ],
          "heatmap": [
           {
            "colorbar": {
             "outlinewidth": 0,
             "ticks": ""
            },
            "colorscale": [
             [
              0,
              "#0d0887"
             ],
             [
              0.1111111111111111,
              "#46039f"
             ],
             [
              0.2222222222222222,
              "#7201a8"
             ],
             [
              0.3333333333333333,
              "#9c179e"
             ],
             [
              0.4444444444444444,
              "#bd3786"
             ],
             [
              0.5555555555555556,
              "#d8576b"
             ],
             [
              0.6666666666666666,
              "#ed7953"
             ],
             [
              0.7777777777777778,
              "#fb9f3a"
             ],
             [
              0.8888888888888888,
              "#fdca26"
             ],
             [
              1,
              "#f0f921"
             ]
            ],
            "type": "heatmap"
           }
          ],
          "heatmapgl": [
           {
            "colorbar": {
             "outlinewidth": 0,
             "ticks": ""
            },
            "colorscale": [
             [
              0,
              "#0d0887"
             ],
             [
              0.1111111111111111,
              "#46039f"
             ],
             [
              0.2222222222222222,
              "#7201a8"
             ],
             [
              0.3333333333333333,
              "#9c179e"
             ],
             [
              0.4444444444444444,
              "#bd3786"
             ],
             [
              0.5555555555555556,
              "#d8576b"
             ],
             [
              0.6666666666666666,
              "#ed7953"
             ],
             [
              0.7777777777777778,
              "#fb9f3a"
             ],
             [
              0.8888888888888888,
              "#fdca26"
             ],
             [
              1,
              "#f0f921"
             ]
            ],
            "type": "heatmapgl"
           }
          ],
          "histogram": [
           {
            "marker": {
             "pattern": {
              "fillmode": "overlay",
              "size": 10,
              "solidity": 0.2
             }
            },
            "type": "histogram"
           }
          ],
          "histogram2d": [
           {
            "colorbar": {
             "outlinewidth": 0,
             "ticks": ""
            },
            "colorscale": [
             [
              0,
              "#0d0887"
             ],
             [
              0.1111111111111111,
              "#46039f"
             ],
             [
              0.2222222222222222,
              "#7201a8"
             ],
             [
              0.3333333333333333,
              "#9c179e"
             ],
             [
              0.4444444444444444,
              "#bd3786"
             ],
             [
              0.5555555555555556,
              "#d8576b"
             ],
             [
              0.6666666666666666,
              "#ed7953"
             ],
             [
              0.7777777777777778,
              "#fb9f3a"
             ],
             [
              0.8888888888888888,
              "#fdca26"
             ],
             [
              1,
              "#f0f921"
             ]
            ],
            "type": "histogram2d"
           }
          ],
          "histogram2dcontour": [
           {
            "colorbar": {
             "outlinewidth": 0,
             "ticks": ""
            },
            "colorscale": [
             [
              0,
              "#0d0887"
             ],
             [
              0.1111111111111111,
              "#46039f"
             ],
             [
              0.2222222222222222,
              "#7201a8"
             ],
             [
              0.3333333333333333,
              "#9c179e"
             ],
             [
              0.4444444444444444,
              "#bd3786"
             ],
             [
              0.5555555555555556,
              "#d8576b"
             ],
             [
              0.6666666666666666,
              "#ed7953"
             ],
             [
              0.7777777777777778,
              "#fb9f3a"
             ],
             [
              0.8888888888888888,
              "#fdca26"
             ],
             [
              1,
              "#f0f921"
             ]
            ],
            "type": "histogram2dcontour"
           }
          ],
          "mesh3d": [
           {
            "colorbar": {
             "outlinewidth": 0,
             "ticks": ""
            },
            "type": "mesh3d"
           }
          ],
          "parcoords": [
           {
            "line": {
             "colorbar": {
              "outlinewidth": 0,
              "ticks": ""
             }
            },
            "type": "parcoords"
           }
          ],
          "pie": [
           {
            "automargin": true,
            "type": "pie"
           }
          ],
          "scatter": [
           {
            "fillpattern": {
             "fillmode": "overlay",
             "size": 10,
             "solidity": 0.2
            },
            "type": "scatter"
           }
          ],
          "scatter3d": [
           {
            "line": {
             "colorbar": {
              "outlinewidth": 0,
              "ticks": ""
             }
            },
            "marker": {
             "colorbar": {
              "outlinewidth": 0,
              "ticks": ""
             }
            },
            "type": "scatter3d"
           }
          ],
          "scattercarpet": [
           {
            "marker": {
             "colorbar": {
              "outlinewidth": 0,
              "ticks": ""
             }
            },
            "type": "scattercarpet"
           }
          ],
          "scattergeo": [
           {
            "marker": {
             "colorbar": {
              "outlinewidth": 0,
              "ticks": ""
             }
            },
            "type": "scattergeo"
           }
          ],
          "scattergl": [
           {
            "marker": {
             "colorbar": {
              "outlinewidth": 0,
              "ticks": ""
             }
            },
            "type": "scattergl"
           }
          ],
          "scattermapbox": [
           {
            "marker": {
             "colorbar": {
              "outlinewidth": 0,
              "ticks": ""
             }
            },
            "type": "scattermapbox"
           }
          ],
          "scatterpolar": [
           {
            "marker": {
             "colorbar": {
              "outlinewidth": 0,
              "ticks": ""
             }
            },
            "type": "scatterpolar"
           }
          ],
          "scatterpolargl": [
           {
            "marker": {
             "colorbar": {
              "outlinewidth": 0,
              "ticks": ""
             }
            },
            "type": "scatterpolargl"
           }
          ],
          "scatterternary": [
           {
            "marker": {
             "colorbar": {
              "outlinewidth": 0,
              "ticks": ""
             }
            },
            "type": "scatterternary"
           }
          ],
          "surface": [
           {
            "colorbar": {
             "outlinewidth": 0,
             "ticks": ""
            },
            "colorscale": [
             [
              0,
              "#0d0887"
             ],
             [
              0.1111111111111111,
              "#46039f"
             ],
             [
              0.2222222222222222,
              "#7201a8"
             ],
             [
              0.3333333333333333,
              "#9c179e"
             ],
             [
              0.4444444444444444,
              "#bd3786"
             ],
             [
              0.5555555555555556,
              "#d8576b"
             ],
             [
              0.6666666666666666,
              "#ed7953"
             ],
             [
              0.7777777777777778,
              "#fb9f3a"
             ],
             [
              0.8888888888888888,
              "#fdca26"
             ],
             [
              1,
              "#f0f921"
             ]
            ],
            "type": "surface"
           }
          ],
          "table": [
           {
            "cells": {
             "fill": {
              "color": "#EBF0F8"
             },
             "line": {
              "color": "white"
             }
            },
            "header": {
             "fill": {
              "color": "#C8D4E3"
             },
             "line": {
              "color": "white"
             }
            },
            "type": "table"
           }
          ]
         },
         "layout": {
          "annotationdefaults": {
           "arrowcolor": "#2a3f5f",
           "arrowhead": 0,
           "arrowwidth": 1
          },
          "autotypenumbers": "strict",
          "coloraxis": {
           "colorbar": {
            "outlinewidth": 0,
            "ticks": ""
           }
          },
          "colorscale": {
           "diverging": [
            [
             0,
             "#8e0152"
            ],
            [
             0.1,
             "#c51b7d"
            ],
            [
             0.2,
             "#de77ae"
            ],
            [
             0.3,
             "#f1b6da"
            ],
            [
             0.4,
             "#fde0ef"
            ],
            [
             0.5,
             "#f7f7f7"
            ],
            [
             0.6,
             "#e6f5d0"
            ],
            [
             0.7,
             "#b8e186"
            ],
            [
             0.8,
             "#7fbc41"
            ],
            [
             0.9,
             "#4d9221"
            ],
            [
             1,
             "#276419"
            ]
           ],
           "sequential": [
            [
             0,
             "#0d0887"
            ],
            [
             0.1111111111111111,
             "#46039f"
            ],
            [
             0.2222222222222222,
             "#7201a8"
            ],
            [
             0.3333333333333333,
             "#9c179e"
            ],
            [
             0.4444444444444444,
             "#bd3786"
            ],
            [
             0.5555555555555556,
             "#d8576b"
            ],
            [
             0.6666666666666666,
             "#ed7953"
            ],
            [
             0.7777777777777778,
             "#fb9f3a"
            ],
            [
             0.8888888888888888,
             "#fdca26"
            ],
            [
             1,
             "#f0f921"
            ]
           ],
           "sequentialminus": [
            [
             0,
             "#0d0887"
            ],
            [
             0.1111111111111111,
             "#46039f"
            ],
            [
             0.2222222222222222,
             "#7201a8"
            ],
            [
             0.3333333333333333,
             "#9c179e"
            ],
            [
             0.4444444444444444,
             "#bd3786"
            ],
            [
             0.5555555555555556,
             "#d8576b"
            ],
            [
             0.6666666666666666,
             "#ed7953"
            ],
            [
             0.7777777777777778,
             "#fb9f3a"
            ],
            [
             0.8888888888888888,
             "#fdca26"
            ],
            [
             1,
             "#f0f921"
            ]
           ]
          },
          "colorway": [
           "#636efa",
           "#EF553B",
           "#00cc96",
           "#ab63fa",
           "#FFA15A",
           "#19d3f3",
           "#FF6692",
           "#B6E880",
           "#FF97FF",
           "#FECB52"
          ],
          "font": {
           "color": "#2a3f5f"
          },
          "geo": {
           "bgcolor": "white",
           "lakecolor": "white",
           "landcolor": "#E5ECF6",
           "showlakes": true,
           "showland": true,
           "subunitcolor": "white"
          },
          "hoverlabel": {
           "align": "left"
          },
          "hovermode": "closest",
          "mapbox": {
           "style": "light"
          },
          "paper_bgcolor": "white",
          "plot_bgcolor": "#E5ECF6",
          "polar": {
           "angularaxis": {
            "gridcolor": "white",
            "linecolor": "white",
            "ticks": ""
           },
           "bgcolor": "#E5ECF6",
           "radialaxis": {
            "gridcolor": "white",
            "linecolor": "white",
            "ticks": ""
           }
          },
          "scene": {
           "xaxis": {
            "backgroundcolor": "#E5ECF6",
            "gridcolor": "white",
            "gridwidth": 2,
            "linecolor": "white",
            "showbackground": true,
            "ticks": "",
            "zerolinecolor": "white"
           },
           "yaxis": {
            "backgroundcolor": "#E5ECF6",
            "gridcolor": "white",
            "gridwidth": 2,
            "linecolor": "white",
            "showbackground": true,
            "ticks": "",
            "zerolinecolor": "white"
           },
           "zaxis": {
            "backgroundcolor": "#E5ECF6",
            "gridcolor": "white",
            "gridwidth": 2,
            "linecolor": "white",
            "showbackground": true,
            "ticks": "",
            "zerolinecolor": "white"
           }
          },
          "shapedefaults": {
           "line": {
            "color": "#2a3f5f"
           }
          },
          "ternary": {
           "aaxis": {
            "gridcolor": "white",
            "linecolor": "white",
            "ticks": ""
           },
           "baxis": {
            "gridcolor": "white",
            "linecolor": "white",
            "ticks": ""
           },
           "bgcolor": "#E5ECF6",
           "caxis": {
            "gridcolor": "white",
            "linecolor": "white",
            "ticks": ""
           }
          },
          "title": {
           "x": 0.05
          },
          "xaxis": {
           "automargin": true,
           "gridcolor": "white",
           "linecolor": "white",
           "ticks": "",
           "title": {
            "standoff": 15
           },
           "zerolinecolor": "white",
           "zerolinewidth": 2
          },
          "yaxis": {
           "automargin": true,
           "gridcolor": "white",
           "linecolor": "white",
           "ticks": "",
           "title": {
            "standoff": 15
           },
           "zerolinecolor": "white",
           "zerolinewidth": 2
          }
         }
        },
        "title": {
         "font": {
          "size": 20
         },
         "text": "Sexwise Population Visualization",
         "x": 0.5
        },
        "xaxis": {
         "anchor": "y",
         "domain": [
          0,
          1
         ]
        },
        "xaxis2": {
         "anchor": "y2",
         "domain": [
          0,
          1
         ]
        },
        "yaxis": {
         "anchor": "x",
         "domain": [
          0.625,
          1
         ]
        },
        "yaxis2": {
         "anchor": "x2",
         "domain": [
          0,
          0.375
         ]
        }
       }
      }
     },
     "metadata": {},
     "output_type": "display_data"
    }
   ],
   "source": [
    "\n",
    "def SexwisePopulationVisualization():\n",
    "    # Prepare the data\n",
    "    MaleSexPop = NewDf.groupby(['State name',])['Male'].sum().sort_values(ascending=False).reset_index()\n",
    "    FemaleSexPop = NewDf.groupby(['State name',])['Female'].sum().sort_values(ascending=False).reset_index()\n",
    "\n",
    "    Sexwisedata = MaleSexPop.merge(FemaleSexPop, on='State name')\n",
    "    Sexwisedata['Sex Ratio'] = (Sexwisedata['Female'] / Sexwisedata['Male']) * 1000\n",
    "\n",
    "    # Create first chart: Sex Ratio by State\n",
    "    fig1 = px.bar(\n",
    "        Sexwisedata,\n",
    "        x='State name',\n",
    "        y='Sex Ratio',\n",
    "        text='Sex Ratio',\n",
    "        color='Sex Ratio',\n",
    "        color_continuous_scale='Blues',\n",
    "        title='Sex Ratio by State (Females per 1000 Males)'\n",
    "    )\n",
    "    fig1.update_traces(\n",
    "        textposition=\"outside\",\n",
    "        marker_line_width=1.5,\n",
    "        marker_line_color='rgba(0, 0, 0, 0.7)'\n",
    "    )\n",
    "    fig1.update_layout(\n",
    "        title_font_size=16,\n",
    "        title_x=0.5,\n",
    "        xaxis_title=\"State Name\",\n",
    "        yaxis_title=\"Sex Ratio\",\n",
    "        plot_bgcolor='rgba(240, 240, 240, 1)',\n",
    "        font=dict(size=12)\n",
    "    )\n",
    "\n",
    "    # Create second chart: Population Distribution (Male vs Female)\n",
    "    fig2 = px.bar(\n",
    "        Sexwisedata,\n",
    "        x='State name',\n",
    "        y=['Male', 'Female'],\n",
    "        barmode='group',\n",
    "        text_auto=True,\n",
    "        log_y=True,\n",
    "        hover_name='State name',\n",
    "        color_discrete_sequence=px.colors.qualitative.Set2\n",
    "    )\n",
    "    fig2.update_layout(\n",
    "        title=\"Population Distribution by State (Male vs Female)\",\n",
    "        title_font_size=16,\n",
    "        title_x=0.5,\n",
    "        xaxis_title=\"State Name\",\n",
    "        yaxis_title=\"Population (Log Scale)\",\n",
    "        font=dict(size=12),\n",
    "        plot_bgcolor='rgba(245, 245, 245, 1)',\n",
    "        legend=dict(\n",
    "            title=\"Gender\",\n",
    "            orientation=\"h\",\n",
    "            x=0.5,\n",
    "            xanchor=\"center\",\n",
    "            y=1.1\n",
    "        )\n",
    "    )\n",
    "\n",
    "    # Combine the two charts into a subplot\n",
    "    fig = make_subplots(\n",
    "        rows=2, cols=1,\n",
    "        subplot_titles=[\n",
    "            \"Sex Ratio by State (Females per 1000 Males)\",\n",
    "            \"Population Distribution by State (Male vs Female)\"\n",
    "        ]\n",
    "    )\n",
    "\n",
    "    # Add first chart to subplot\n",
    "    for trace in fig1.data:\n",
    "        fig.add_trace(trace, row=1, col=1)\n",
    "\n",
    "    # Add second chart to subplot\n",
    "    for trace in fig2.data:\n",
    "        fig.add_trace(trace, row=2, col=1)\n",
    "\n",
    "    # Adjust subplot layout\n",
    "    fig.update_layout(\n",
    "        height=900,  # Adjust the height to fit two rows\n",
    "        showlegend=True,\n",
    "        title_text=\"Sexwise Population Visualization\",\n",
    "        title_x=0.5,\n",
    "        title_font_size=20\n",
    "    )\n",
    "\n",
    "    return fig\n",
    "\n",
    "# Call the function and display the combined subplot\n",
    "fig = SexwisePopulationVisualization()\n",
    "fig.show()\n"
   ]
  },
  {
   "cell_type": "code",
   "execution_count": 50,
   "metadata": {},
   "outputs": [
    {
     "data": {
      "text/html": [
       "<div>\n",
       "<style scoped>\n",
       "    .dataframe tbody tr th:only-of-type {\n",
       "        vertical-align: middle;\n",
       "    }\n",
       "\n",
       "    .dataframe tbody tr th {\n",
       "        vertical-align: top;\n",
       "    }\n",
       "\n",
       "    .dataframe thead th {\n",
       "        text-align: right;\n",
       "    }\n",
       "</style>\n",
       "<table border=\"1\" class=\"dataframe\">\n",
       "  <thead>\n",
       "    <tr style=\"text-align: right;\">\n",
       "      <th></th>\n",
       "      <th>State name</th>\n",
       "      <th>Population</th>\n",
       "      <th>Male</th>\n",
       "      <th>Female</th>\n",
       "    </tr>\n",
       "  </thead>\n",
       "  <tbody>\n",
       "    <tr>\n",
       "      <th>0</th>\n",
       "      <td>UTTAR PRADESH</td>\n",
       "      <td>177691218</td>\n",
       "      <td>92845158</td>\n",
       "      <td>84846060</td>\n",
       "    </tr>\n",
       "    <tr>\n",
       "      <th>1</th>\n",
       "      <td>BIHAR</td>\n",
       "      <td>104312298</td>\n",
       "      <td>54386338</td>\n",
       "      <td>49925960</td>\n",
       "    </tr>\n",
       "    <tr>\n",
       "      <th>2</th>\n",
       "      <td>MAHARASHTRA</td>\n",
       "      <td>100651341</td>\n",
       "      <td>51911786</td>\n",
       "      <td>48739555</td>\n",
       "    </tr>\n",
       "    <tr>\n",
       "      <th>3</th>\n",
       "      <td>ANDHRA PRADESH</td>\n",
       "      <td>69147421</td>\n",
       "      <td>34657477</td>\n",
       "      <td>34489944</td>\n",
       "    </tr>\n",
       "    <tr>\n",
       "      <th>4</th>\n",
       "      <td>RAJASTHAN</td>\n",
       "      <td>68548437</td>\n",
       "      <td>35550997</td>\n",
       "      <td>32997440</td>\n",
       "    </tr>\n",
       "    <tr>\n",
       "      <th>5</th>\n",
       "      <td>MADHYA PRADESH</td>\n",
       "      <td>66444576</td>\n",
       "      <td>34439867</td>\n",
       "      <td>32004709</td>\n",
       "    </tr>\n",
       "    <tr>\n",
       "      <th>6</th>\n",
       "      <td>GUJARAT</td>\n",
       "      <td>60248666</td>\n",
       "      <td>31424777</td>\n",
       "      <td>28823889</td>\n",
       "    </tr>\n",
       "    <tr>\n",
       "      <th>7</th>\n",
       "      <td>WEST BENGAL</td>\n",
       "      <td>59275955</td>\n",
       "      <td>30426599</td>\n",
       "      <td>28849356</td>\n",
       "    </tr>\n",
       "    <tr>\n",
       "      <th>8</th>\n",
       "      <td>TAMIL NADU</td>\n",
       "      <td>56044203</td>\n",
       "      <td>28092405</td>\n",
       "      <td>27951798</td>\n",
       "    </tr>\n",
       "    <tr>\n",
       "      <th>9</th>\n",
       "      <td>KARNATAKA</td>\n",
       "      <td>43414126</td>\n",
       "      <td>21896021</td>\n",
       "      <td>21518105</td>\n",
       "    </tr>\n",
       "    <tr>\n",
       "      <th>10</th>\n",
       "      <td>KERALA</td>\n",
       "      <td>32208649</td>\n",
       "      <td>15465696</td>\n",
       "      <td>16742953</td>\n",
       "    </tr>\n",
       "    <tr>\n",
       "      <th>11</th>\n",
       "      <td>ORISSA</td>\n",
       "      <td>30219438</td>\n",
       "      <td>15270795</td>\n",
       "      <td>14948643</td>\n",
       "    </tr>\n",
       "    <tr>\n",
       "      <th>12</th>\n",
       "      <td>PUNJAB</td>\n",
       "      <td>24421246</td>\n",
       "      <td>12890030</td>\n",
       "      <td>11531216</td>\n",
       "    </tr>\n",
       "    <tr>\n",
       "      <th>13</th>\n",
       "      <td>CHHATTISGARH</td>\n",
       "      <td>24301046</td>\n",
       "      <td>12236533</td>\n",
       "      <td>12064513</td>\n",
       "    </tr>\n",
       "    <tr>\n",
       "      <th>14</th>\n",
       "      <td>JHARKHAND</td>\n",
       "      <td>24194739</td>\n",
       "      <td>12440949</td>\n",
       "      <td>11753790</td>\n",
       "    </tr>\n",
       "    <tr>\n",
       "      <th>15</th>\n",
       "      <td>ASSAM</td>\n",
       "      <td>23415900</td>\n",
       "      <td>11959534</td>\n",
       "      <td>11456366</td>\n",
       "    </tr>\n",
       "    <tr>\n",
       "      <th>16</th>\n",
       "      <td>HARYANA</td>\n",
       "      <td>20555285</td>\n",
       "      <td>10941058</td>\n",
       "      <td>9614227</td>\n",
       "    </tr>\n",
       "    <tr>\n",
       "      <th>17</th>\n",
       "      <td>HIMACHAL PRADESH</td>\n",
       "      <td>7669762</td>\n",
       "      <td>3875119</td>\n",
       "      <td>3794643</td>\n",
       "    </tr>\n",
       "    <tr>\n",
       "      <th>18</th>\n",
       "      <td>JAMMU AND KASHMIR</td>\n",
       "      <td>5526220</td>\n",
       "      <td>2924227</td>\n",
       "      <td>2601993</td>\n",
       "    </tr>\n",
       "    <tr>\n",
       "      <th>19</th>\n",
       "      <td>UTTARAKHAND</td>\n",
       "      <td>4615015</td>\n",
       "      <td>2305195</td>\n",
       "      <td>2309820</td>\n",
       "    </tr>\n",
       "    <tr>\n",
       "      <th>20</th>\n",
       "      <td>TRIPURA</td>\n",
       "      <td>3673917</td>\n",
       "      <td>1874376</td>\n",
       "      <td>1799541</td>\n",
       "    </tr>\n",
       "    <tr>\n",
       "      <th>21</th>\n",
       "      <td>MEGHALAYA</td>\n",
       "      <td>2708049</td>\n",
       "      <td>1359301</td>\n",
       "      <td>1348748</td>\n",
       "    </tr>\n",
       "    <tr>\n",
       "      <th>22</th>\n",
       "      <td>MANIPUR</td>\n",
       "      <td>1881689</td>\n",
       "      <td>957438</td>\n",
       "      <td>924251</td>\n",
       "    </tr>\n",
       "    <tr>\n",
       "      <th>23</th>\n",
       "      <td>NAGALAND</td>\n",
       "      <td>1758795</td>\n",
       "      <td>910603</td>\n",
       "      <td>848192</td>\n",
       "    </tr>\n",
       "    <tr>\n",
       "      <th>24</th>\n",
       "      <td>NCT OF DELHI</td>\n",
       "      <td>1709346</td>\n",
       "      <td>907500</td>\n",
       "      <td>801846</td>\n",
       "    </tr>\n",
       "    <tr>\n",
       "      <th>25</th>\n",
       "      <td>GOA</td>\n",
       "      <td>1458545</td>\n",
       "      <td>739140</td>\n",
       "      <td>719405</td>\n",
       "    </tr>\n",
       "    <tr>\n",
       "      <th>26</th>\n",
       "      <td>ARUNACHAL PRADESH</td>\n",
       "      <td>1354556</td>\n",
       "      <td>697991</td>\n",
       "      <td>656565</td>\n",
       "    </tr>\n",
       "    <tr>\n",
       "      <th>27</th>\n",
       "      <td>MIZORAM</td>\n",
       "      <td>1097206</td>\n",
       "      <td>555339</td>\n",
       "      <td>541867</td>\n",
       "    </tr>\n",
       "    <tr>\n",
       "      <th>28</th>\n",
       "      <td>CHANDIGARH</td>\n",
       "      <td>1055450</td>\n",
       "      <td>580663</td>\n",
       "      <td>474787</td>\n",
       "    </tr>\n",
       "    <tr>\n",
       "      <th>29</th>\n",
       "      <td>PONDICHERRY</td>\n",
       "      <td>297664</td>\n",
       "      <td>144253</td>\n",
       "      <td>153411</td>\n",
       "    </tr>\n",
       "    <tr>\n",
       "      <th>30</th>\n",
       "      <td>DAMAN AND DIU</td>\n",
       "      <td>191173</td>\n",
       "      <td>124659</td>\n",
       "      <td>66514</td>\n",
       "    </tr>\n",
       "  </tbody>\n",
       "</table>\n",
       "</div>"
      ],
      "text/plain": [
       "           State name  Population      Male    Female\n",
       "0       UTTAR PRADESH   177691218  92845158  84846060\n",
       "1               BIHAR   104312298  54386338  49925960\n",
       "2         MAHARASHTRA   100651341  51911786  48739555\n",
       "3      ANDHRA PRADESH    69147421  34657477  34489944\n",
       "4           RAJASTHAN    68548437  35550997  32997440\n",
       "5      MADHYA PRADESH    66444576  34439867  32004709\n",
       "6             GUJARAT    60248666  31424777  28823889\n",
       "7         WEST BENGAL    59275955  30426599  28849356\n",
       "8          TAMIL NADU    56044203  28092405  27951798\n",
       "9           KARNATAKA    43414126  21896021  21518105\n",
       "10             KERALA    32208649  15465696  16742953\n",
       "11             ORISSA    30219438  15270795  14948643\n",
       "12             PUNJAB    24421246  12890030  11531216\n",
       "13       CHHATTISGARH    24301046  12236533  12064513\n",
       "14          JHARKHAND    24194739  12440949  11753790\n",
       "15              ASSAM    23415900  11959534  11456366\n",
       "16            HARYANA    20555285  10941058   9614227\n",
       "17   HIMACHAL PRADESH     7669762   3875119   3794643\n",
       "18  JAMMU AND KASHMIR     5526220   2924227   2601993\n",
       "19        UTTARAKHAND     4615015   2305195   2309820\n",
       "20            TRIPURA     3673917   1874376   1799541\n",
       "21          MEGHALAYA     2708049   1359301   1348748\n",
       "22            MANIPUR     1881689    957438    924251\n",
       "23           NAGALAND     1758795    910603    848192\n",
       "24       NCT OF DELHI     1709346    907500    801846\n",
       "25                GOA     1458545    739140    719405\n",
       "26  ARUNACHAL PRADESH     1354556    697991    656565\n",
       "27            MIZORAM     1097206    555339    541867\n",
       "28         CHANDIGARH     1055450    580663    474787\n",
       "29        PONDICHERRY      297664    144253    153411\n",
       "30      DAMAN AND DIU      191173    124659     66514"
      ]
     },
     "execution_count": 50,
     "metadata": {},
     "output_type": "execute_result"
    }
   ],
   "source": [
    "# overalldata = NewDf.groupby('State name')['Population'].sum().sort_values(ascending=False).reset_index()\n",
    "# overalldataMale = NewDf.groupby('State name')['Male'].sum().sort_values(ascending=False).reset_index()\n",
    "# overalldataFemale =  NewDf.groupby('State name')['Female'].sum().sort_values(ascending=False).reset_index()\n",
    "\n",
    "\n",
    "# AllDataTogether = overalldata.merge(overalldataMale,on='State name').merge(overalldataFemale,on='State name')\n",
    "# AllDataTogether\n",
    "\n",
    "\n",
    "AllDataTogether = (\n",
    "    NewDf.groupby('State name')[['Population', 'Male', 'Female']]\n",
    "    .sum()\n",
    "    .sort_values(by='Population', ascending=False)\n",
    "    .reset_index()\n",
    ")\n",
    "\n",
    "AllDataTogether"
   ]
  },
  {
   "cell_type": "code",
   "execution_count": 51,
   "metadata": {},
   "outputs": [
    {
     "data": {
      "text/plain": [
       "Index(['Unnamed: 0', 'District code', 'State name', 'District name',\n",
       "       'Population', 'Male', 'Female', 'Literate', 'Male_Literate',\n",
       "       'Female_Literate',\n",
       "       ...\n",
       "       'Power_Parity_Rs_150000_240000', 'Power_Parity_Rs_240000_330000',\n",
       "       'Power_Parity_Rs_150000_330000', 'Power_Parity_Rs_330000_425000',\n",
       "       'Power_Parity_Rs_425000_545000', 'Power_Parity_Rs_330000_545000',\n",
       "       'Power_Parity_Above_Rs_545000', 'Total_Power_Parity', 'Latitude',\n",
       "       'Longitude'],\n",
       "      dtype='object', length=121)"
      ]
     },
     "execution_count": 51,
     "metadata": {},
     "output_type": "execute_result"
    }
   ],
   "source": [
    "NewDf.columns"
   ]
  },
  {
   "cell_type": "code",
   "execution_count": 4,
   "metadata": {},
   "outputs": [
    {
     "data": {
      "text/html": [
       "<div>\n",
       "<style scoped>\n",
       "    .dataframe tbody tr th:only-of-type {\n",
       "        vertical-align: middle;\n",
       "    }\n",
       "\n",
       "    .dataframe tbody tr th {\n",
       "        vertical-align: top;\n",
       "    }\n",
       "\n",
       "    .dataframe thead th {\n",
       "        text-align: right;\n",
       "    }\n",
       "</style>\n",
       "<table border=\"1\" class=\"dataframe\">\n",
       "  <thead>\n",
       "    <tr style=\"text-align: right;\">\n",
       "      <th></th>\n",
       "      <th>District code</th>\n",
       "      <th>State name</th>\n",
       "      <th>District name</th>\n",
       "      <th>Population</th>\n",
       "      <th>Male</th>\n",
       "      <th>Female</th>\n",
       "      <th>Literate</th>\n",
       "      <th>Male_Literate</th>\n",
       "      <th>Female_Literate</th>\n",
       "      <th>SC</th>\n",
       "      <th>...</th>\n",
       "      <th>Power_Parity_Rs_150000_240000</th>\n",
       "      <th>Power_Parity_Rs_240000_330000</th>\n",
       "      <th>Power_Parity_Rs_150000_330000</th>\n",
       "      <th>Power_Parity_Rs_330000_425000</th>\n",
       "      <th>Power_Parity_Rs_425000_545000</th>\n",
       "      <th>Power_Parity_Rs_330000_545000</th>\n",
       "      <th>Power_Parity_Above_Rs_545000</th>\n",
       "      <th>Total_Power_Parity</th>\n",
       "      <th>Latitude</th>\n",
       "      <th>Longitude</th>\n",
       "    </tr>\n",
       "  </thead>\n",
       "  <tbody>\n",
       "    <tr>\n",
       "      <th>0</th>\n",
       "      <td>4</td>\n",
       "      <td>JAMMU AND KASHMIR</td>\n",
       "      <td>Kargil</td>\n",
       "      <td>140802</td>\n",
       "      <td>77785</td>\n",
       "      <td>63017</td>\n",
       "      <td>86236</td>\n",
       "      <td>56301</td>\n",
       "      <td>29935</td>\n",
       "      <td>18</td>\n",
       "      <td>...</td>\n",
       "      <td>12</td>\n",
       "      <td>18</td>\n",
       "      <td>30</td>\n",
       "      <td>19</td>\n",
       "      <td>3</td>\n",
       "      <td>22</td>\n",
       "      <td>7</td>\n",
       "      <td>214</td>\n",
       "      <td>33.565995</td>\n",
       "      <td>76.636753</td>\n",
       "    </tr>\n",
       "    <tr>\n",
       "      <th>1</th>\n",
       "      <td>5</td>\n",
       "      <td>JAMMU AND KASHMIR</td>\n",
       "      <td>Punch</td>\n",
       "      <td>476835</td>\n",
       "      <td>251899</td>\n",
       "      <td>224936</td>\n",
       "      <td>261724</td>\n",
       "      <td>163333</td>\n",
       "      <td>98391</td>\n",
       "      <td>556</td>\n",
       "      <td>...</td>\n",
       "      <td>35</td>\n",
       "      <td>50</td>\n",
       "      <td>85</td>\n",
       "      <td>59</td>\n",
       "      <td>8</td>\n",
       "      <td>67</td>\n",
       "      <td>12</td>\n",
       "      <td>629</td>\n",
       "      <td>33.791241</td>\n",
       "      <td>74.295932</td>\n",
       "    </tr>\n",
       "    <tr>\n",
       "      <th>2</th>\n",
       "      <td>7</td>\n",
       "      <td>JAMMU AND KASHMIR</td>\n",
       "      <td>Kathua</td>\n",
       "      <td>616435</td>\n",
       "      <td>326109</td>\n",
       "      <td>290326</td>\n",
       "      <td>389204</td>\n",
       "      <td>228499</td>\n",
       "      <td>160705</td>\n",
       "      <td>141224</td>\n",
       "      <td>...</td>\n",
       "      <td>54</td>\n",
       "      <td>69</td>\n",
       "      <td>123</td>\n",
       "      <td>78</td>\n",
       "      <td>52</td>\n",
       "      <td>130</td>\n",
       "      <td>28</td>\n",
       "      <td>936</td>\n",
       "      <td>32.517817</td>\n",
       "      <td>75.589014</td>\n",
       "    </tr>\n",
       "    <tr>\n",
       "      <th>3</th>\n",
       "      <td>10</td>\n",
       "      <td>JAMMU AND KASHMIR</td>\n",
       "      <td>Srinagar</td>\n",
       "      <td>1236829</td>\n",
       "      <td>651124</td>\n",
       "      <td>585705</td>\n",
       "      <td>748584</td>\n",
       "      <td>431746</td>\n",
       "      <td>316838</td>\n",
       "      <td>1068</td>\n",
       "      <td>...</td>\n",
       "      <td>319</td>\n",
       "      <td>380</td>\n",
       "      <td>699</td>\n",
       "      <td>240</td>\n",
       "      <td>370</td>\n",
       "      <td>610</td>\n",
       "      <td>445</td>\n",
       "      <td>3099</td>\n",
       "      <td>34.273129</td>\n",
       "      <td>75.110212</td>\n",
       "    </tr>\n",
       "    <tr>\n",
       "      <th>4</th>\n",
       "      <td>12</td>\n",
       "      <td>JAMMU AND KASHMIR</td>\n",
       "      <td>Pulwama</td>\n",
       "      <td>560440</td>\n",
       "      <td>293064</td>\n",
       "      <td>267376</td>\n",
       "      <td>293958</td>\n",
       "      <td>178326</td>\n",
       "      <td>115632</td>\n",
       "      <td>402</td>\n",
       "      <td>...</td>\n",
       "      <td>71</td>\n",
       "      <td>96</td>\n",
       "      <td>167</td>\n",
       "      <td>84</td>\n",
       "      <td>24</td>\n",
       "      <td>108</td>\n",
       "      <td>32</td>\n",
       "      <td>1068</td>\n",
       "      <td>33.884144</td>\n",
       "      <td>75.009219</td>\n",
       "    </tr>\n",
       "  </tbody>\n",
       "</table>\n",
       "<p>5 rows × 120 columns</p>\n",
       "</div>"
      ],
      "text/plain": [
       "   District code         State name District name  Population    Male  Female  \\\n",
       "0              4  JAMMU AND KASHMIR        Kargil      140802   77785   63017   \n",
       "1              5  JAMMU AND KASHMIR         Punch      476835  251899  224936   \n",
       "2              7  JAMMU AND KASHMIR        Kathua      616435  326109  290326   \n",
       "3             10  JAMMU AND KASHMIR      Srinagar     1236829  651124  585705   \n",
       "4             12  JAMMU AND KASHMIR       Pulwama      560440  293064  267376   \n",
       "\n",
       "   Literate  Male_Literate  Female_Literate      SC  ...  \\\n",
       "0     86236          56301            29935      18  ...   \n",
       "1    261724         163333            98391     556  ...   \n",
       "2    389204         228499           160705  141224  ...   \n",
       "3    748584         431746           316838    1068  ...   \n",
       "4    293958         178326           115632     402  ...   \n",
       "\n",
       "   Power_Parity_Rs_150000_240000  Power_Parity_Rs_240000_330000  \\\n",
       "0                             12                             18   \n",
       "1                             35                             50   \n",
       "2                             54                             69   \n",
       "3                            319                            380   \n",
       "4                             71                             96   \n",
       "\n",
       "   Power_Parity_Rs_150000_330000  Power_Parity_Rs_330000_425000  \\\n",
       "0                             30                             19   \n",
       "1                             85                             59   \n",
       "2                            123                             78   \n",
       "3                            699                            240   \n",
       "4                            167                             84   \n",
       "\n",
       "   Power_Parity_Rs_425000_545000  Power_Parity_Rs_330000_545000  \\\n",
       "0                              3                             22   \n",
       "1                              8                             67   \n",
       "2                             52                            130   \n",
       "3                            370                            610   \n",
       "4                             24                            108   \n",
       "\n",
       "   Power_Parity_Above_Rs_545000  Total_Power_Parity   Latitude  Longitude  \n",
       "0                             7                 214  33.565995  76.636753  \n",
       "1                            12                 629  33.791241  74.295932  \n",
       "2                            28                 936  32.517817  75.589014  \n",
       "3                           445                3099  34.273129  75.110212  \n",
       "4                            32                1068  33.884144  75.009219  \n",
       "\n",
       "[5 rows x 120 columns]"
      ]
     },
     "execution_count": 4,
     "metadata": {},
     "output_type": "execute_result"
    }
   ],
   "source": [
    "NewDf.head()"
   ]
  },
  {
   "cell_type": "code",
   "execution_count": 19,
   "metadata": {},
   "outputs": [
    {
     "name": "stderr",
     "output_type": "stream",
     "text": [
      "/tmp/ipykernel_2395/2428726229.py:8: SettingWithCopyWarning:\n",
      "\n",
      "\n",
      "A value is trying to be set on a copy of a slice from a DataFrame.\n",
      "Try using .loc[row_indexer,col_indexer] = value instead\n",
      "\n",
      "See the caveats in the documentation: https://pandas.pydata.org/pandas-docs/stable/user_guide/indexing.html#returning-a-view-versus-a-copy\n",
      "\n"
     ]
    },
    {
     "data": {
      "application/vnd.plotly.v1+json": {
       "config": {
        "plotlyServerURL": "https://plot.ly"
       },
       "data": [
        {
         "alignmentgroup": "True",
         "hovertemplate": "<b>%{hovertext}</b><br><br>variable=Male<br>District name=%{x}<br>value=%{y}<extra></extra>",
         "hovertext": [
          "Saharanpur",
          "Muzaffarnagar",
          "Bijnor",
          "Moradabad",
          "Rampur",
          "Jyotiba Phule Nagar",
          "Meerut",
          "Baghpat",
          "Ghaziabad",
          "Gautam Buddha Nagar",
          "Bulandshahr",
          "Aligarh",
          "Mathura",
          "Agra",
          "Firozabad",
          "Mainpuri",
          "Bareilly",
          "Pilibhit",
          "Shahjahanpur",
          "Sitapur",
          "Hardoi",
          "Unnao",
          "Lucknow",
          "Rae Bareli",
          "Farrukhabad",
          "Kannauj",
          "Etawah",
          "Auraiya",
          "Kanpur Dehat",
          "Jalaun",
          "Jhansi",
          "Lalitpur",
          "Hamirpur",
          "Hamirpur",
          "Mahoba",
          "Banda",
          "Chitrakoot",
          "Fatehpur",
          "Pratapgarh",
          "Kaushambi",
          "Allahabad",
          "Bara Banki",
          "Faizabad",
          "Ambedkar Nagar",
          "Sultanpur",
          "Bahraich",
          "Balrampur",
          "Gonda",
          "Basti",
          "Sant Kabir Nagar",
          "Gorakhpur",
          "Kushinagar",
          "Deoria",
          "Azamgarh",
          "Mau",
          "Ballia",
          "Jaunpur",
          "Ghazipur",
          "Chandauli",
          "Varanasi",
          "Mirzapur",
          "Sonbhadra",
          "Etah"
         ],
         "legendgroup": "Male",
         "marker": {
          "color": "#1f77b4",
          "pattern": {
           "shape": ""
          }
         },
         "name": "Male",
         "offsetgroup": "Male",
         "orientation": "v",
         "showlegend": true,
         "textposition": "auto",
         "texttemplate": "%{y}",
         "type": "bar",
         "x": [
          "Saharanpur",
          "Muzaffarnagar",
          "Bijnor",
          "Moradabad",
          "Rampur",
          "Jyotiba Phule Nagar",
          "Meerut",
          "Baghpat",
          "Ghaziabad",
          "Gautam Buddha Nagar",
          "Bulandshahr",
          "Aligarh",
          "Mathura",
          "Agra",
          "Firozabad",
          "Mainpuri",
          "Bareilly",
          "Pilibhit",
          "Shahjahanpur",
          "Sitapur",
          "Hardoi",
          "Unnao",
          "Lucknow",
          "Rae Bareli",
          "Farrukhabad",
          "Kannauj",
          "Etawah",
          "Auraiya",
          "Kanpur Dehat",
          "Jalaun",
          "Jhansi",
          "Lalitpur",
          "Hamirpur",
          "Hamirpur",
          "Mahoba",
          "Banda",
          "Chitrakoot",
          "Fatehpur",
          "Pratapgarh",
          "Kaushambi",
          "Allahabad",
          "Bara Banki",
          "Faizabad",
          "Ambedkar Nagar",
          "Sultanpur",
          "Bahraich",
          "Balrampur",
          "Gonda",
          "Basti",
          "Sant Kabir Nagar",
          "Gorakhpur",
          "Kushinagar",
          "Deoria",
          "Azamgarh",
          "Mau",
          "Ballia",
          "Jaunpur",
          "Ghazipur",
          "Chandauli",
          "Varanasi",
          "Mirzapur",
          "Sonbhadra",
          "Etah"
         ],
         "xaxis": "x",
         "y": [
          1834106,
          2193434,
          1921215,
          2503186,
          1223889,
          963449,
          1825743,
          700070,
          2488834,
          890214,
          1845260,
          1951996,
          1367125,
          2364953,
          1332046,
          993377,
          2357665,
          1072002,
          1606403,
          2375264,
          2191442,
          1630087,
          2394476,
          1752542,
          1006240,
          881776,
          845856,
          740040,
          963255,
          906092,
          1057436,
          641011,
          593537,
          593537,
          466358,
          965876,
          527721,
          1384722,
          1606085,
          838485,
          3131807,
          1707073,
          1259628,
          1212410,
          1914586,
          1843884,
          1114721,
          1787146,
          1255272,
          869656,
          2277777,
          1818055,
          1537436,
          2285004,
          1114709,
          1672902,
          2220465,
          1855075,
          1017905,
          1921857,
          1312302,
          971344,
          947339
         ],
         "yaxis": "y"
        },
        {
         "alignmentgroup": "True",
         "hovertemplate": "<b>%{hovertext}</b><br><br>variable=Female<br>District name=%{x}<br>value=%{y}<extra></extra>",
         "hovertext": [
          "Saharanpur",
          "Muzaffarnagar",
          "Bijnor",
          "Moradabad",
          "Rampur",
          "Jyotiba Phule Nagar",
          "Meerut",
          "Baghpat",
          "Ghaziabad",
          "Gautam Buddha Nagar",
          "Bulandshahr",
          "Aligarh",
          "Mathura",
          "Agra",
          "Firozabad",
          "Mainpuri",
          "Bareilly",
          "Pilibhit",
          "Shahjahanpur",
          "Sitapur",
          "Hardoi",
          "Unnao",
          "Lucknow",
          "Rae Bareli",
          "Farrukhabad",
          "Kannauj",
          "Etawah",
          "Auraiya",
          "Kanpur Dehat",
          "Jalaun",
          "Jhansi",
          "Lalitpur",
          "Hamirpur",
          "Hamirpur",
          "Mahoba",
          "Banda",
          "Chitrakoot",
          "Fatehpur",
          "Pratapgarh",
          "Kaushambi",
          "Allahabad",
          "Bara Banki",
          "Faizabad",
          "Ambedkar Nagar",
          "Sultanpur",
          "Bahraich",
          "Balrampur",
          "Gonda",
          "Basti",
          "Sant Kabir Nagar",
          "Gorakhpur",
          "Kushinagar",
          "Deoria",
          "Azamgarh",
          "Mau",
          "Ballia",
          "Jaunpur",
          "Ghazipur",
          "Chandauli",
          "Varanasi",
          "Mirzapur",
          "Sonbhadra",
          "Etah"
         ],
         "legendgroup": "Female",
         "marker": {
          "color": "#e377c2",
          "pattern": {
           "shape": ""
          }
         },
         "name": "Female",
         "offsetgroup": "Female",
         "orientation": "v",
         "showlegend": true,
         "textposition": "auto",
         "texttemplate": "%{y}",
         "type": "bar",
         "x": [
          "Saharanpur",
          "Muzaffarnagar",
          "Bijnor",
          "Moradabad",
          "Rampur",
          "Jyotiba Phule Nagar",
          "Meerut",
          "Baghpat",
          "Ghaziabad",
          "Gautam Buddha Nagar",
          "Bulandshahr",
          "Aligarh",
          "Mathura",
          "Agra",
          "Firozabad",
          "Mainpuri",
          "Bareilly",
          "Pilibhit",
          "Shahjahanpur",
          "Sitapur",
          "Hardoi",
          "Unnao",
          "Lucknow",
          "Rae Bareli",
          "Farrukhabad",
          "Kannauj",
          "Etawah",
          "Auraiya",
          "Kanpur Dehat",
          "Jalaun",
          "Jhansi",
          "Lalitpur",
          "Hamirpur",
          "Hamirpur",
          "Mahoba",
          "Banda",
          "Chitrakoot",
          "Fatehpur",
          "Pratapgarh",
          "Kaushambi",
          "Allahabad",
          "Bara Banki",
          "Faizabad",
          "Ambedkar Nagar",
          "Sultanpur",
          "Bahraich",
          "Balrampur",
          "Gonda",
          "Basti",
          "Sant Kabir Nagar",
          "Gorakhpur",
          "Kushinagar",
          "Deoria",
          "Azamgarh",
          "Mau",
          "Ballia",
          "Jaunpur",
          "Ghazipur",
          "Chandauli",
          "Varanasi",
          "Mirzapur",
          "Sonbhadra",
          "Etah"
         ],
         "xaxis": "x",
         "y": [
          1632276,
          1950078,
          1761498,
          2268820,
          1111930,
          876772,
          1617946,
          602978,
          2192811,
          757901,
          1653911,
          1721893,
          1180059,
          2053844,
          1166110,
          875152,
          2090694,
          959005,
          1400135,
          2108728,
          1901403,
          1478280,
          2195362,
          1653017,
          878964,
          774840,
          735954,
          639505,
          832929,
          783882,
          941167,
          580581,
          510748,
          510748,
          409600,
          833534,
          464009,
          1248011,
          1603056,
          761111,
          2822584,
          1553626,
          1211368,
          1185478,
          1882531,
          1643847,
          1033944,
          1646773,
          1209192,
          845527,
          2163118,
          1746489,
          1563510,
          2328909,
          1091259,
          1566872,
          2273739,
          1765193,
          934851,
          1754984,
          1184668,
          891215,
          827141
         ],
         "yaxis": "y"
        },
        {
         "alignmentgroup": "True",
         "hovertemplate": "District name=%{x}<br>Sex Ratio=%{marker.color}<extra></extra>",
         "legendgroup": "",
         "marker": {
          "color": [
           889.9572870924582,
           889.0525085322831,
           916.8666703101943,
           906.3729183528511,
           908.5219329530701,
           910.0346774972002,
           886.1849668874535,
           861.3110117559672,
           881.0595644386085,
           851.369445998378,
           896.3024180874239,
           882.1191231949246,
           863.1683276949803,
           868.4502398144909,
           875.4277254689403,
           880.986775413564,
           886.7646591012718,
           894.5925474019638,
           871.5963553354917,
           887.7867891737508,
           867.6492464778898,
           906.8718418096703,
           916.8444369457034,
           943.2110614182142,
           873.5132771505804,
           878.7265700132459,
           870.0700828509817,
           864.1492351764769,
           864.7024931093013,
           865.1240712863595,
           890.0463006744617,
           905.727046805749,
           860.5158566357278,
           860.5158566357278,
           878.2952152638102,
           862.9824118209791,
           879.2695382598001,
           901.2718798430299,
           998.1140475130519,
           907.7216646690161,
           901.2637113334251,
           910.1110497324953,
           961.687101271169,
           977.7863923920125,
           983.2574770733726,
           891.5132405292306,
           927.5361278741497,
           921.454094964821,
           963.2908246180908,
           972.2545466253323,
           949.6618852503999,
           960.6359543578164,
           1016.959405139466,
           1019.2144083774033,
           978.9631195226737,
           936.6191205462126,
           1023.9922718889962,
           951.5480506178995,
           918.4069240253266,
           913.1709591296334,
           902.7403753099516,
           917.5070829695761,
           873.1203930166498
          ],
          "coloraxis": "coloraxis",
          "pattern": {
           "shape": ""
          }
         },
         "name": "",
         "offsetgroup": "",
         "orientation": "v",
         "showlegend": false,
         "textposition": "auto",
         "texttemplate": "%{y}",
         "type": "bar",
         "x": [
          "Saharanpur",
          "Muzaffarnagar",
          "Bijnor",
          "Moradabad",
          "Rampur",
          "Jyotiba Phule Nagar",
          "Meerut",
          "Baghpat",
          "Ghaziabad",
          "Gautam Buddha Nagar",
          "Bulandshahr",
          "Aligarh",
          "Mathura",
          "Agra",
          "Firozabad",
          "Mainpuri",
          "Bareilly",
          "Pilibhit",
          "Shahjahanpur",
          "Sitapur",
          "Hardoi",
          "Unnao",
          "Lucknow",
          "Rae Bareli",
          "Farrukhabad",
          "Kannauj",
          "Etawah",
          "Auraiya",
          "Kanpur Dehat",
          "Jalaun",
          "Jhansi",
          "Lalitpur",
          "Hamirpur",
          "Hamirpur",
          "Mahoba",
          "Banda",
          "Chitrakoot",
          "Fatehpur",
          "Pratapgarh",
          "Kaushambi",
          "Allahabad",
          "Bara Banki",
          "Faizabad",
          "Ambedkar Nagar",
          "Sultanpur",
          "Bahraich",
          "Balrampur",
          "Gonda",
          "Basti",
          "Sant Kabir Nagar",
          "Gorakhpur",
          "Kushinagar",
          "Deoria",
          "Azamgarh",
          "Mau",
          "Ballia",
          "Jaunpur",
          "Ghazipur",
          "Chandauli",
          "Varanasi",
          "Mirzapur",
          "Sonbhadra",
          "Etah"
         ],
         "xaxis": "x2",
         "y": [
          889.9572870924582,
          889.0525085322831,
          916.8666703101943,
          906.3729183528511,
          908.5219329530701,
          910.0346774972002,
          886.1849668874535,
          861.3110117559672,
          881.0595644386085,
          851.369445998378,
          896.3024180874239,
          882.1191231949246,
          863.1683276949803,
          868.4502398144909,
          875.4277254689403,
          880.986775413564,
          886.7646591012718,
          894.5925474019638,
          871.5963553354917,
          887.7867891737508,
          867.6492464778898,
          906.8718418096703,
          916.8444369457034,
          943.2110614182142,
          873.5132771505804,
          878.7265700132459,
          870.0700828509817,
          864.1492351764769,
          864.7024931093013,
          865.1240712863595,
          890.0463006744617,
          905.727046805749,
          860.5158566357278,
          860.5158566357278,
          878.2952152638102,
          862.9824118209791,
          879.2695382598001,
          901.2718798430299,
          998.1140475130519,
          907.7216646690161,
          901.2637113334251,
          910.1110497324953,
          961.687101271169,
          977.7863923920125,
          983.2574770733726,
          891.5132405292306,
          927.5361278741497,
          921.454094964821,
          963.2908246180908,
          972.2545466253323,
          949.6618852503999,
          960.6359543578164,
          1016.959405139466,
          1019.2144083774033,
          978.9631195226737,
          936.6191205462126,
          1023.9922718889962,
          951.5480506178995,
          918.4069240253266,
          913.1709591296334,
          902.7403753099516,
          917.5070829695761,
          873.1203930166498
         ],
         "yaxis": "y2"
        }
       ],
       "layout": {
        "annotations": [
         {
          "font": {
           "size": 16
          },
          "showarrow": false,
          "text": "Sexwise Population Visualization",
          "x": 0.5,
          "xanchor": "center",
          "xref": "paper",
          "y": 1,
          "yanchor": "bottom",
          "yref": "paper"
         },
         {
          "font": {
           "size": 16
          },
          "showarrow": false,
          "text": "Sex Ratio by District",
          "x": 0.5,
          "xanchor": "center",
          "xref": "paper",
          "y": 0.375,
          "yanchor": "bottom",
          "yref": "paper"
         }
        ],
        "height": 1000,
        "margin": {
         "b": 50,
         "l": 50,
         "r": 50,
         "t": 80
        },
        "showlegend": true,
        "template": {
         "data": {
          "bar": [
           {
            "error_x": {
             "color": "#2a3f5f"
            },
            "error_y": {
             "color": "#2a3f5f"
            },
            "marker": {
             "line": {
              "color": "#E5ECF6",
              "width": 0.5
             },
             "pattern": {
              "fillmode": "overlay",
              "size": 10,
              "solidity": 0.2
             }
            },
            "type": "bar"
           }
          ],
          "barpolar": [
           {
            "marker": {
             "line": {
              "color": "#E5ECF6",
              "width": 0.5
             },
             "pattern": {
              "fillmode": "overlay",
              "size": 10,
              "solidity": 0.2
             }
            },
            "type": "barpolar"
           }
          ],
          "carpet": [
           {
            "aaxis": {
             "endlinecolor": "#2a3f5f",
             "gridcolor": "white",
             "linecolor": "white",
             "minorgridcolor": "white",
             "startlinecolor": "#2a3f5f"
            },
            "baxis": {
             "endlinecolor": "#2a3f5f",
             "gridcolor": "white",
             "linecolor": "white",
             "minorgridcolor": "white",
             "startlinecolor": "#2a3f5f"
            },
            "type": "carpet"
           }
          ],
          "choropleth": [
           {
            "colorbar": {
             "outlinewidth": 0,
             "ticks": ""
            },
            "type": "choropleth"
           }
          ],
          "contour": [
           {
            "colorbar": {
             "outlinewidth": 0,
             "ticks": ""
            },
            "colorscale": [
             [
              0,
              "#0d0887"
             ],
             [
              0.1111111111111111,
              "#46039f"
             ],
             [
              0.2222222222222222,
              "#7201a8"
             ],
             [
              0.3333333333333333,
              "#9c179e"
             ],
             [
              0.4444444444444444,
              "#bd3786"
             ],
             [
              0.5555555555555556,
              "#d8576b"
             ],
             [
              0.6666666666666666,
              "#ed7953"
             ],
             [
              0.7777777777777778,
              "#fb9f3a"
             ],
             [
              0.8888888888888888,
              "#fdca26"
             ],
             [
              1,
              "#f0f921"
             ]
            ],
            "type": "contour"
           }
          ],
          "contourcarpet": [
           {
            "colorbar": {
             "outlinewidth": 0,
             "ticks": ""
            },
            "type": "contourcarpet"
           }
          ],
          "heatmap": [
           {
            "colorbar": {
             "outlinewidth": 0,
             "ticks": ""
            },
            "colorscale": [
             [
              0,
              "#0d0887"
             ],
             [
              0.1111111111111111,
              "#46039f"
             ],
             [
              0.2222222222222222,
              "#7201a8"
             ],
             [
              0.3333333333333333,
              "#9c179e"
             ],
             [
              0.4444444444444444,
              "#bd3786"
             ],
             [
              0.5555555555555556,
              "#d8576b"
             ],
             [
              0.6666666666666666,
              "#ed7953"
             ],
             [
              0.7777777777777778,
              "#fb9f3a"
             ],
             [
              0.8888888888888888,
              "#fdca26"
             ],
             [
              1,
              "#f0f921"
             ]
            ],
            "type": "heatmap"
           }
          ],
          "heatmapgl": [
           {
            "colorbar": {
             "outlinewidth": 0,
             "ticks": ""
            },
            "colorscale": [
             [
              0,
              "#0d0887"
             ],
             [
              0.1111111111111111,
              "#46039f"
             ],
             [
              0.2222222222222222,
              "#7201a8"
             ],
             [
              0.3333333333333333,
              "#9c179e"
             ],
             [
              0.4444444444444444,
              "#bd3786"
             ],
             [
              0.5555555555555556,
              "#d8576b"
             ],
             [
              0.6666666666666666,
              "#ed7953"
             ],
             [
              0.7777777777777778,
              "#fb9f3a"
             ],
             [
              0.8888888888888888,
              "#fdca26"
             ],
             [
              1,
              "#f0f921"
             ]
            ],
            "type": "heatmapgl"
           }
          ],
          "histogram": [
           {
            "marker": {
             "pattern": {
              "fillmode": "overlay",
              "size": 10,
              "solidity": 0.2
             }
            },
            "type": "histogram"
           }
          ],
          "histogram2d": [
           {
            "colorbar": {
             "outlinewidth": 0,
             "ticks": ""
            },
            "colorscale": [
             [
              0,
              "#0d0887"
             ],
             [
              0.1111111111111111,
              "#46039f"
             ],
             [
              0.2222222222222222,
              "#7201a8"
             ],
             [
              0.3333333333333333,
              "#9c179e"
             ],
             [
              0.4444444444444444,
              "#bd3786"
             ],
             [
              0.5555555555555556,
              "#d8576b"
             ],
             [
              0.6666666666666666,
              "#ed7953"
             ],
             [
              0.7777777777777778,
              "#fb9f3a"
             ],
             [
              0.8888888888888888,
              "#fdca26"
             ],
             [
              1,
              "#f0f921"
             ]
            ],
            "type": "histogram2d"
           }
          ],
          "histogram2dcontour": [
           {
            "colorbar": {
             "outlinewidth": 0,
             "ticks": ""
            },
            "colorscale": [
             [
              0,
              "#0d0887"
             ],
             [
              0.1111111111111111,
              "#46039f"
             ],
             [
              0.2222222222222222,
              "#7201a8"
             ],
             [
              0.3333333333333333,
              "#9c179e"
             ],
             [
              0.4444444444444444,
              "#bd3786"
             ],
             [
              0.5555555555555556,
              "#d8576b"
             ],
             [
              0.6666666666666666,
              "#ed7953"
             ],
             [
              0.7777777777777778,
              "#fb9f3a"
             ],
             [
              0.8888888888888888,
              "#fdca26"
             ],
             [
              1,
              "#f0f921"
             ]
            ],
            "type": "histogram2dcontour"
           }
          ],
          "mesh3d": [
           {
            "colorbar": {
             "outlinewidth": 0,
             "ticks": ""
            },
            "type": "mesh3d"
           }
          ],
          "parcoords": [
           {
            "line": {
             "colorbar": {
              "outlinewidth": 0,
              "ticks": ""
             }
            },
            "type": "parcoords"
           }
          ],
          "pie": [
           {
            "automargin": true,
            "type": "pie"
           }
          ],
          "scatter": [
           {
            "fillpattern": {
             "fillmode": "overlay",
             "size": 10,
             "solidity": 0.2
            },
            "type": "scatter"
           }
          ],
          "scatter3d": [
           {
            "line": {
             "colorbar": {
              "outlinewidth": 0,
              "ticks": ""
             }
            },
            "marker": {
             "colorbar": {
              "outlinewidth": 0,
              "ticks": ""
             }
            },
            "type": "scatter3d"
           }
          ],
          "scattercarpet": [
           {
            "marker": {
             "colorbar": {
              "outlinewidth": 0,
              "ticks": ""
             }
            },
            "type": "scattercarpet"
           }
          ],
          "scattergeo": [
           {
            "marker": {
             "colorbar": {
              "outlinewidth": 0,
              "ticks": ""
             }
            },
            "type": "scattergeo"
           }
          ],
          "scattergl": [
           {
            "marker": {
             "colorbar": {
              "outlinewidth": 0,
              "ticks": ""
             }
            },
            "type": "scattergl"
           }
          ],
          "scattermapbox": [
           {
            "marker": {
             "colorbar": {
              "outlinewidth": 0,
              "ticks": ""
             }
            },
            "type": "scattermapbox"
           }
          ],
          "scatterpolar": [
           {
            "marker": {
             "colorbar": {
              "outlinewidth": 0,
              "ticks": ""
             }
            },
            "type": "scatterpolar"
           }
          ],
          "scatterpolargl": [
           {
            "marker": {
             "colorbar": {
              "outlinewidth": 0,
              "ticks": ""
             }
            },
            "type": "scatterpolargl"
           }
          ],
          "scatterternary": [
           {
            "marker": {
             "colorbar": {
              "outlinewidth": 0,
              "ticks": ""
             }
            },
            "type": "scatterternary"
           }
          ],
          "surface": [
           {
            "colorbar": {
             "outlinewidth": 0,
             "ticks": ""
            },
            "colorscale": [
             [
              0,
              "#0d0887"
             ],
             [
              0.1111111111111111,
              "#46039f"
             ],
             [
              0.2222222222222222,
              "#7201a8"
             ],
             [
              0.3333333333333333,
              "#9c179e"
             ],
             [
              0.4444444444444444,
              "#bd3786"
             ],
             [
              0.5555555555555556,
              "#d8576b"
             ],
             [
              0.6666666666666666,
              "#ed7953"
             ],
             [
              0.7777777777777778,
              "#fb9f3a"
             ],
             [
              0.8888888888888888,
              "#fdca26"
             ],
             [
              1,
              "#f0f921"
             ]
            ],
            "type": "surface"
           }
          ],
          "table": [
           {
            "cells": {
             "fill": {
              "color": "#EBF0F8"
             },
             "line": {
              "color": "white"
             }
            },
            "header": {
             "fill": {
              "color": "#C8D4E3"
             },
             "line": {
              "color": "white"
             }
            },
            "type": "table"
           }
          ]
         },
         "layout": {
          "annotationdefaults": {
           "arrowcolor": "#2a3f5f",
           "arrowhead": 0,
           "arrowwidth": 1
          },
          "autotypenumbers": "strict",
          "coloraxis": {
           "colorbar": {
            "outlinewidth": 0,
            "ticks": ""
           }
          },
          "colorscale": {
           "diverging": [
            [
             0,
             "#8e0152"
            ],
            [
             0.1,
             "#c51b7d"
            ],
            [
             0.2,
             "#de77ae"
            ],
            [
             0.3,
             "#f1b6da"
            ],
            [
             0.4,
             "#fde0ef"
            ],
            [
             0.5,
             "#f7f7f7"
            ],
            [
             0.6,
             "#e6f5d0"
            ],
            [
             0.7,
             "#b8e186"
            ],
            [
             0.8,
             "#7fbc41"
            ],
            [
             0.9,
             "#4d9221"
            ],
            [
             1,
             "#276419"
            ]
           ],
           "sequential": [
            [
             0,
             "#0d0887"
            ],
            [
             0.1111111111111111,
             "#46039f"
            ],
            [
             0.2222222222222222,
             "#7201a8"
            ],
            [
             0.3333333333333333,
             "#9c179e"
            ],
            [
             0.4444444444444444,
             "#bd3786"
            ],
            [
             0.5555555555555556,
             "#d8576b"
            ],
            [
             0.6666666666666666,
             "#ed7953"
            ],
            [
             0.7777777777777778,
             "#fb9f3a"
            ],
            [
             0.8888888888888888,
             "#fdca26"
            ],
            [
             1,
             "#f0f921"
            ]
           ],
           "sequentialminus": [
            [
             0,
             "#0d0887"
            ],
            [
             0.1111111111111111,
             "#46039f"
            ],
            [
             0.2222222222222222,
             "#7201a8"
            ],
            [
             0.3333333333333333,
             "#9c179e"
            ],
            [
             0.4444444444444444,
             "#bd3786"
            ],
            [
             0.5555555555555556,
             "#d8576b"
            ],
            [
             0.6666666666666666,
             "#ed7953"
            ],
            [
             0.7777777777777778,
             "#fb9f3a"
            ],
            [
             0.8888888888888888,
             "#fdca26"
            ],
            [
             1,
             "#f0f921"
            ]
           ]
          },
          "colorway": [
           "#636efa",
           "#EF553B",
           "#00cc96",
           "#ab63fa",
           "#FFA15A",
           "#19d3f3",
           "#FF6692",
           "#B6E880",
           "#FF97FF",
           "#FECB52"
          ],
          "font": {
           "color": "#2a3f5f"
          },
          "geo": {
           "bgcolor": "white",
           "lakecolor": "white",
           "landcolor": "#E5ECF6",
           "showlakes": true,
           "showland": true,
           "subunitcolor": "white"
          },
          "hoverlabel": {
           "align": "left"
          },
          "hovermode": "closest",
          "mapbox": {
           "style": "light"
          },
          "paper_bgcolor": "white",
          "plot_bgcolor": "#E5ECF6",
          "polar": {
           "angularaxis": {
            "gridcolor": "white",
            "linecolor": "white",
            "ticks": ""
           },
           "bgcolor": "#E5ECF6",
           "radialaxis": {
            "gridcolor": "white",
            "linecolor": "white",
            "ticks": ""
           }
          },
          "scene": {
           "xaxis": {
            "backgroundcolor": "#E5ECF6",
            "gridcolor": "white",
            "gridwidth": 2,
            "linecolor": "white",
            "showbackground": true,
            "ticks": "",
            "zerolinecolor": "white"
           },
           "yaxis": {
            "backgroundcolor": "#E5ECF6",
            "gridcolor": "white",
            "gridwidth": 2,
            "linecolor": "white",
            "showbackground": true,
            "ticks": "",
            "zerolinecolor": "white"
           },
           "zaxis": {
            "backgroundcolor": "#E5ECF6",
            "gridcolor": "white",
            "gridwidth": 2,
            "linecolor": "white",
            "showbackground": true,
            "ticks": "",
            "zerolinecolor": "white"
           }
          },
          "shapedefaults": {
           "line": {
            "color": "#2a3f5f"
           }
          },
          "ternary": {
           "aaxis": {
            "gridcolor": "white",
            "linecolor": "white",
            "ticks": ""
           },
           "baxis": {
            "gridcolor": "white",
            "linecolor": "white",
            "ticks": ""
           },
           "bgcolor": "#E5ECF6",
           "caxis": {
            "gridcolor": "white",
            "linecolor": "white",
            "ticks": ""
           }
          },
          "title": {
           "x": 0.05
          },
          "xaxis": {
           "automargin": true,
           "gridcolor": "white",
           "linecolor": "white",
           "ticks": "",
           "title": {
            "standoff": 15
           },
           "zerolinecolor": "white",
           "zerolinewidth": 2
          },
          "yaxis": {
           "automargin": true,
           "gridcolor": "white",
           "linecolor": "white",
           "ticks": "",
           "title": {
            "standoff": 15
           },
           "zerolinecolor": "white",
           "zerolinewidth": 2
          }
         }
        },
        "title": {
         "font": {
          "color": "black",
          "family": "Arial",
          "size": 24
         },
         "text": "Sex Distribution and Ratio in UTTAR PRADESH",
         "x": 0.5
        },
        "xaxis": {
         "anchor": "y",
         "domain": [
          0,
          1
         ]
        },
        "xaxis2": {
         "anchor": "y2",
         "domain": [
          0,
          1
         ]
        },
        "yaxis": {
         "anchor": "x",
         "domain": [
          0.625,
          1
         ]
        },
        "yaxis2": {
         "anchor": "x2",
         "domain": [
          0,
          0.375
         ]
        }
       }
      }
     },
     "metadata": {},
     "output_type": "display_data"
    }
   ],
   "source": [
    "# NewDf['District name'].drop_duplicates(inplace=True)\n",
    "def sexdistribution(state):\n",
    "    # Filter data for the selected state\n",
    "   \n",
    "    filter1 = NewDf[NewDf['State name'] == str(state)]\n",
    "\n",
    "    # Calculate Sex Ratio\n",
    "    filter1['Sex Ratio'] = (filter1['Female'] / filter1['Male']) * 1000\n",
    "\n",
    "    # Grouped bar chart for Male and Female population\n",
    "    fig1 = px.bar(\n",
    "        filter1,\n",
    "        x='District name',\n",
    "        y=['Male', 'Female'],\n",
    "        barmode='group',\n",
    "        text_auto=True,\n",
    "        log_y=True,\n",
    "        hover_name='District name',\n",
    "        title=f'Sex Distribution in {state} by District',\n",
    "        color_discrete_map={\"Male\": \"#1f77b4\", \"Female\": \"#e377c2\"}\n",
    "    )\n",
    "\n",
    "    # Update layout for better visuals in fig1\n",
    "    fig1.update_layout(\n",
    "        title=dict(\n",
    "            text=f\"Sex Distribution in {state} by District\",\n",
    "            font=dict(size=20, family=\"Arial\", color=\"black\"),\n",
    "            x=0.5\n",
    "        ),\n",
    "        xaxis=dict(\n",
    "            title=\"Districts\",\n",
    "            tickangle=45,\n",
    "            titlefont=dict(size=14, family=\"Arial\", color=\"black\")\n",
    "        ),\n",
    "        yaxis=dict(\n",
    "            title=\"Population (Log Scale)\",\n",
    "            titlefont=dict(size=14, family=\"Arial\", color=\"black\"),\n",
    "            gridcolor=\"lightgray\"\n",
    "        ),\n",
    "        legend=dict(\n",
    "            title=\"Gender\",\n",
    "            font=dict(size=12),\n",
    "            orientation=\"h\",\n",
    "            x=0.5,\n",
    "            xanchor=\"center\",\n",
    "            y=-0.2\n",
    "        ),\n",
    "        margin=dict(l=50, r=50, t=70, b=100),\n",
    "        plot_bgcolor=\"white\",\n",
    "        paper_bgcolor=\"white\"\n",
    "    )\n",
    "\n",
    "    # Bar chart for Sex Ratio with color scale\n",
    "    fig2 = px.bar(\n",
    "        filter1,\n",
    "        x='District name',\n",
    "        y='Sex Ratio',\n",
    "        text_auto=True,\n",
    "        color='Sex Ratio',  # Add color scale\n",
    "        color_continuous_scale='Viridis',  # Choose a visually pleasing scale\n",
    "        title='Sex Ratio by District'\n",
    "    )\n",
    "\n",
    "    # Update layout for fig2\n",
    "    fig2.update_layout(\n",
    "        xaxis=dict(\n",
    "            title=\"Districts\",\n",
    "            tickangle=45,\n",
    "            titlefont=dict(size=14, family=\"Arial\", color=\"black\")\n",
    "        ),\n",
    "        yaxis=dict(\n",
    "            title=\"Sex Ratio (per 1000 Males)\",\n",
    "            titlefont=dict(size=14, family=\"Arial\", color=\"black\"),\n",
    "            gridcolor=\"lightgray\"\n",
    "        ),\n",
    "        coloraxis_colorbar=dict(\n",
    "            title=\"Sex Ratio\",\n",
    "            titlefont=dict(size=12),\n",
    "            tickfont=dict(size=10)\n",
    "        ),\n",
    "        margin=dict(l=50, r=50, t=50, b=100),\n",
    "        plot_bgcolor=\"white\",\n",
    "        paper_bgcolor=\"white\"\n",
    "    )\n",
    "\n",
    "    # Create subplots for combining the charts\n",
    "    fig = make_subplots(\n",
    "        rows=2, cols=1,\n",
    "        subplot_titles=[\n",
    "            'Sexwise Population Visualization',\n",
    "            'Sex Ratio by District'\n",
    "        ]\n",
    "    )\n",
    "\n",
    "    # Add traces from fig1 to the first subplot\n",
    "    for trace in fig1.data:\n",
    "        fig.add_trace(trace, row=1, col=1)\n",
    "\n",
    "    # Add traces from fig2 to the second subplot\n",
    "    for trace in fig2.data:\n",
    "        fig.add_trace(trace, row=2, col=1)\n",
    "\n",
    "    # Adjust the overall layout\n",
    "    fig.update_layout(\n",
    "        height=1000,  # Adjust height to fit both plots\n",
    "        showlegend=True,\n",
    "        title=dict(\n",
    "            text=f\"Sex Distribution and Ratio in {state}\",\n",
    "            font=dict(size=24, family=\"Arial\", color=\"black\"),\n",
    "            x=0.5\n",
    "        ),\n",
    "        margin=dict(l=50, r=50, t=80, b=50)\n",
    "    )\n",
    "\n",
    "    return filter1, fig\n",
    "\n",
    "\n",
    "\n",
    "\n",
    "data,fig = sexdistribution('UTTAR PRADESH')\n",
    "fig"
   ]
  },
  {
   "cell_type": "code",
   "execution_count": 18,
   "metadata": {},
   "outputs": [
    {
     "data": {
      "text/plain": [
       "Index(['Unnamed: 0', 'District code', 'State name', 'District name',\n",
       "       'Population', 'Male', 'Female', 'Literate', 'Male_Literate',\n",
       "       'Female_Literate',\n",
       "       ...\n",
       "       'Power_Parity_Rs_150000_240000', 'Power_Parity_Rs_240000_330000',\n",
       "       'Power_Parity_Rs_150000_330000', 'Power_Parity_Rs_330000_425000',\n",
       "       'Power_Parity_Rs_425000_545000', 'Power_Parity_Rs_330000_545000',\n",
       "       'Power_Parity_Above_Rs_545000', 'Total_Power_Parity', 'Latitude',\n",
       "       'Longitude'],\n",
       "      dtype='object', length=121)"
      ]
     },
     "execution_count": 18,
     "metadata": {},
     "output_type": "execute_result"
    }
   ],
   "source": [
    "# NewDf['District name'].drop_duplicates(inplace=True)\n",
    "def sexdistribution(state):\n",
    "    # Filter data for the selected state\n",
    "   \n",
    "    filter1 = NewDf[NewDf['State name'] == str(state)]\n",
    "\n",
    "    # Calculate Sex Ratio\n",
    "    # filter1['Sex Ratio'] = (filter1['Female'] / filter1['Male']) * 1000\n",
    "\n",
    "    # Grouped bar chart for Male and Female population\n",
    "    fig1 = px.bar(\n",
    "        filter1,\n",
    "        x='District name',\n",
    "        y=['Male', 'Female'],\n",
    "        barmode='group',\n",
    "        text_auto=True,\n",
    "        log_y=True,\n",
    "        hover_name='District name',\n",
    "        title=f'Sex Distribution in {state} by District',\n",
    "        color_discrete_map={\"Male\": \"#1f77b4\", \"Female\": \"#e377c2\"}\n",
    "    )\n",
    "\n",
    "    # Update layout for better visuals in fig1\n",
    "    fig1.update_layout(\n",
    "        title=dict(\n",
    "            text=f\"Sex Distribution in {state} by District\",\n",
    "            font=dict(size=20, family=\"Arial\", color=\"black\"),\n",
    "            x=0.5\n",
    "        ),\n",
    "        xaxis=dict(\n",
    "            title=\"Districts\",\n",
    "            tickangle=45,\n",
    "            titlefont=dict(size=14, family=\"Arial\", color=\"black\")\n",
    "        ),\n",
    "        yaxis=dict(\n",
    "            title=\"Population (Log Scale)\",\n",
    "            titlefont=dict(size=14, family=\"Arial\", color=\"black\"),\n",
    "            gridcolor=\"lightgray\"\n",
    "        ),\n",
    "        legend=dict(\n",
    "            title=\"Gender\",\n",
    "            font=dict(size=12),\n",
    "            orientation=\"h\",\n",
    "            x=0.5,\n",
    "            xanchor=\"center\",\n",
    "            y=-0.2\n",
    "        ),\n",
    "        margin=dict(l=50, r=50, t=70, b=100),\n",
    "        plot_bgcolor=\"white\",\n",
    "        paper_bgcolor=\"white\"\n",
    "    )\n",
    "\n",
    "    # Bar chart for Sex Ratio with color scale\n",
    "    fig2 = px.bar(\n",
    "        filter1,\n",
    "        x='District name',\n",
    "        y='Sex Ratio',\n",
    "        text_auto=True,\n",
    "        color='Sex Ratio',  # Add color scale\n",
    "        color_continuous_scale='Viridis',  # Choose a visually pleasing scale\n",
    "        title='Sex Ratio by District'\n",
    "    )\n",
    "\n",
    "    # Update layout for fig2\n",
    "    fig2.update_layout(\n",
    "        xaxis=dict(\n",
    "            title=\"Districts\",\n",
    "            tickangle=45,\n",
    "            titlefont=dict(size=14, family=\"Arial\", color=\"black\")\n",
    "        ),\n",
    "        yaxis=dict(\n",
    "            title=\"Sex Ratio (per 1000 Males)\",\n",
    "            titlefont=dict(size=14, family=\"Arial\", color=\"black\"),\n",
    "            gridcolor=\"lightgray\"\n",
    "        ),\n",
    "        coloraxis_colorbar=dict(\n",
    "            title=\"Sex Ratio\",\n",
    "            titlefont=dict(size=12),\n",
    "            tickfont=dict(size=10)\n",
    "        ),\n",
    "        margin=dict(l=50, r=50, t=50, b=100),\n",
    "        plot_bgcolor=\"white\",\n",
    "        paper_bgcolor=\"white\"\n",
    "    )\n",
    "\n",
    "    # Create subplots for combining the charts\n",
    "    fig = make_subplots(\n",
    "        rows=2, cols=1,\n",
    "        subplot_titles=[\n",
    "            'Sexwise Population Visualization',\n",
    "            'Sex Ratio by District'\n",
    "        ]\n",
    "    )\n",
    "\n",
    "    # Add traces from fig1 to the first subplot\n",
    "    for trace in fig1.data:\n",
    "        fig.add_trace(trace, row=1, col=1)\n",
    "\n",
    "    # Add traces from fig2 to the second subplot\n",
    "    for trace in fig2.data:\n",
    "        fig.add_trace(trace, row=2, col=1)\n",
    "\n",
    "    # Adjust the overall layout\n",
    "    fig.update_layout(\n",
    "        height=1000,  # Adjust height to fit both plots\n",
    "        showlegend=True,\n",
    "        title=dict(\n",
    "            text=f\"Sex Distribution and Ratio in {state}\",\n",
    "            font=dict(size=24, family=\"Arial\", color=\"black\"),\n",
    "            x=0.5\n",
    "        ),\n",
    "        margin=dict(l=50, r=50, t=80, b=50)\n",
    "    )\n",
    "\n",
    "    return filter1, fig\n",
    "\n",
    "\n",
    "\n",
    "\n",
    "data,fig = sexdistribution('UTTAR PRADESH')\n",
    "fig"
   ]
  },
  {
   "cell_type": "code",
   "execution_count": 37,
   "metadata": {},
   "outputs": [
    {
     "data": {
      "application/vnd.plotly.v1+json": {
       "config": {
        "plotlyServerURL": "https://plot.ly"
       },
       "data": [
        {
         "alignmentgroup": "True",
         "hovertemplate": "<b>%{hovertext}</b><br><br>Literacy Rate (%)=%{marker.color}<br>State=%{y}<extra></extra>",
         "hovertext": [
          "UTTAR PRADESH",
          "MAHARASHTRA",
          "BIHAR",
          "GUJARAT",
          "ANDHRA PRADESH",
          "TAMIL NADU",
          "MADHYA PRADESH",
          "WEST BENGAL",
          "RAJASTHAN",
          "KARNATAKA",
          "KERALA",
          "ORISSA",
          "PUNJAB",
          "CHHATTISGARH",
          "ASSAM",
          "HARYANA",
          "JHARKHAND",
          "HIMACHAL PRADESH",
          "JAMMU AND KASHMIR",
          "UTTARAKHAND",
          "TRIPURA",
          "MEGHALAYA",
          "NCT OF DELHI",
          "NAGALAND",
          "MANIPUR",
          "GOA",
          "MIZORAM",
          "CHANDIGARH",
          "ARUNACHAL PRADESH",
          "PONDICHERRY",
          "DAMAN AND DIU"
         ],
         "legendgroup": "",
         "marker": {
          "color": [
           58,
           72,
           50,
           69,
           59,
           72,
           60,
           65,
           56,
           64,
           84,
           64,
           68,
           61,
           62,
           67,
           55,
           74,
           63,
           67,
           76,
           60,
           79,
           69,
           63,
           80,
           77,
           76,
           55,
           77,
           79
          ],
          "coloraxis": "coloraxis",
          "pattern": {
           "shape": ""
          }
         },
         "name": "",
         "offsetgroup": "",
         "orientation": "h",
         "showlegend": false,
         "text": [
          58,
          72,
          50,
          69,
          59,
          72,
          60,
          65,
          56,
          64,
          84,
          64,
          68,
          61,
          62,
          67,
          55,
          74,
          63,
          67,
          76,
          60,
          79,
          69,
          63,
          80,
          77,
          76,
          55,
          77,
          79
         ],
         "textposition": "auto",
         "type": "bar",
         "x": [
          58,
          72,
          50,
          69,
          59,
          72,
          60,
          65,
          56,
          64,
          84,
          64,
          68,
          61,
          62,
          67,
          55,
          74,
          63,
          67,
          76,
          60,
          79,
          69,
          63,
          80,
          77,
          76,
          55,
          77,
          79
         ],
         "xaxis": "x",
         "y": [
          "UTTAR PRADESH",
          "MAHARASHTRA",
          "BIHAR",
          "GUJARAT",
          "ANDHRA PRADESH",
          "TAMIL NADU",
          "MADHYA PRADESH",
          "WEST BENGAL",
          "RAJASTHAN",
          "KARNATAKA",
          "KERALA",
          "ORISSA",
          "PUNJAB",
          "CHHATTISGARH",
          "ASSAM",
          "HARYANA",
          "JHARKHAND",
          "HIMACHAL PRADESH",
          "JAMMU AND KASHMIR",
          "UTTARAKHAND",
          "TRIPURA",
          "MEGHALAYA",
          "NCT OF DELHI",
          "NAGALAND",
          "MANIPUR",
          "GOA",
          "MIZORAM",
          "CHANDIGARH",
          "ARUNACHAL PRADESH",
          "PONDICHERRY",
          "DAMAN AND DIU"
         ],
         "yaxis": "y"
        }
       ],
       "layout": {
        "barmode": "relative",
        "coloraxis": {
         "colorbar": {
          "title": {
           "text": "Literacy Rate (%)"
          }
         },
         "colorscale": [
          [
           0,
           "#440154"
          ],
          [
           0.1111111111111111,
           "#482878"
          ],
          [
           0.2222222222222222,
           "#3e4989"
          ],
          [
           0.3333333333333333,
           "#31688e"
          ],
          [
           0.4444444444444444,
           "#26828e"
          ],
          [
           0.5555555555555556,
           "#1f9e89"
          ],
          [
           0.6666666666666666,
           "#35b779"
          ],
          [
           0.7777777777777778,
           "#6ece58"
          ],
          [
           0.8888888888888888,
           "#b5de2b"
          ],
          [
           1,
           "#fde725"
          ]
         ]
        },
        "height": 800,
        "legend": {
         "tracegroupgap": 0
        },
        "showlegend": false,
        "template": {
         "data": {
          "bar": [
           {
            "error_x": {
             "color": "#2a3f5f"
            },
            "error_y": {
             "color": "#2a3f5f"
            },
            "marker": {
             "line": {
              "color": "#E5ECF6",
              "width": 0.5
             },
             "pattern": {
              "fillmode": "overlay",
              "size": 10,
              "solidity": 0.2
             }
            },
            "type": "bar"
           }
          ],
          "barpolar": [
           {
            "marker": {
             "line": {
              "color": "#E5ECF6",
              "width": 0.5
             },
             "pattern": {
              "fillmode": "overlay",
              "size": 10,
              "solidity": 0.2
             }
            },
            "type": "barpolar"
           }
          ],
          "carpet": [
           {
            "aaxis": {
             "endlinecolor": "#2a3f5f",
             "gridcolor": "white",
             "linecolor": "white",
             "minorgridcolor": "white",
             "startlinecolor": "#2a3f5f"
            },
            "baxis": {
             "endlinecolor": "#2a3f5f",
             "gridcolor": "white",
             "linecolor": "white",
             "minorgridcolor": "white",
             "startlinecolor": "#2a3f5f"
            },
            "type": "carpet"
           }
          ],
          "choropleth": [
           {
            "colorbar": {
             "outlinewidth": 0,
             "ticks": ""
            },
            "type": "choropleth"
           }
          ],
          "contour": [
           {
            "colorbar": {
             "outlinewidth": 0,
             "ticks": ""
            },
            "colorscale": [
             [
              0,
              "#0d0887"
             ],
             [
              0.1111111111111111,
              "#46039f"
             ],
             [
              0.2222222222222222,
              "#7201a8"
             ],
             [
              0.3333333333333333,
              "#9c179e"
             ],
             [
              0.4444444444444444,
              "#bd3786"
             ],
             [
              0.5555555555555556,
              "#d8576b"
             ],
             [
              0.6666666666666666,
              "#ed7953"
             ],
             [
              0.7777777777777778,
              "#fb9f3a"
             ],
             [
              0.8888888888888888,
              "#fdca26"
             ],
             [
              1,
              "#f0f921"
             ]
            ],
            "type": "contour"
           }
          ],
          "contourcarpet": [
           {
            "colorbar": {
             "outlinewidth": 0,
             "ticks": ""
            },
            "type": "contourcarpet"
           }
          ],
          "heatmap": [
           {
            "colorbar": {
             "outlinewidth": 0,
             "ticks": ""
            },
            "colorscale": [
             [
              0,
              "#0d0887"
             ],
             [
              0.1111111111111111,
              "#46039f"
             ],
             [
              0.2222222222222222,
              "#7201a8"
             ],
             [
              0.3333333333333333,
              "#9c179e"
             ],
             [
              0.4444444444444444,
              "#bd3786"
             ],
             [
              0.5555555555555556,
              "#d8576b"
             ],
             [
              0.6666666666666666,
              "#ed7953"
             ],
             [
              0.7777777777777778,
              "#fb9f3a"
             ],
             [
              0.8888888888888888,
              "#fdca26"
             ],
             [
              1,
              "#f0f921"
             ]
            ],
            "type": "heatmap"
           }
          ],
          "heatmapgl": [
           {
            "colorbar": {
             "outlinewidth": 0,
             "ticks": ""
            },
            "colorscale": [
             [
              0,
              "#0d0887"
             ],
             [
              0.1111111111111111,
              "#46039f"
             ],
             [
              0.2222222222222222,
              "#7201a8"
             ],
             [
              0.3333333333333333,
              "#9c179e"
             ],
             [
              0.4444444444444444,
              "#bd3786"
             ],
             [
              0.5555555555555556,
              "#d8576b"
             ],
             [
              0.6666666666666666,
              "#ed7953"
             ],
             [
              0.7777777777777778,
              "#fb9f3a"
             ],
             [
              0.8888888888888888,
              "#fdca26"
             ],
             [
              1,
              "#f0f921"
             ]
            ],
            "type": "heatmapgl"
           }
          ],
          "histogram": [
           {
            "marker": {
             "pattern": {
              "fillmode": "overlay",
              "size": 10,
              "solidity": 0.2
             }
            },
            "type": "histogram"
           }
          ],
          "histogram2d": [
           {
            "colorbar": {
             "outlinewidth": 0,
             "ticks": ""
            },
            "colorscale": [
             [
              0,
              "#0d0887"
             ],
             [
              0.1111111111111111,
              "#46039f"
             ],
             [
              0.2222222222222222,
              "#7201a8"
             ],
             [
              0.3333333333333333,
              "#9c179e"
             ],
             [
              0.4444444444444444,
              "#bd3786"
             ],
             [
              0.5555555555555556,
              "#d8576b"
             ],
             [
              0.6666666666666666,
              "#ed7953"
             ],
             [
              0.7777777777777778,
              "#fb9f3a"
             ],
             [
              0.8888888888888888,
              "#fdca26"
             ],
             [
              1,
              "#f0f921"
             ]
            ],
            "type": "histogram2d"
           }
          ],
          "histogram2dcontour": [
           {
            "colorbar": {
             "outlinewidth": 0,
             "ticks": ""
            },
            "colorscale": [
             [
              0,
              "#0d0887"
             ],
             [
              0.1111111111111111,
              "#46039f"
             ],
             [
              0.2222222222222222,
              "#7201a8"
             ],
             [
              0.3333333333333333,
              "#9c179e"
             ],
             [
              0.4444444444444444,
              "#bd3786"
             ],
             [
              0.5555555555555556,
              "#d8576b"
             ],
             [
              0.6666666666666666,
              "#ed7953"
             ],
             [
              0.7777777777777778,
              "#fb9f3a"
             ],
             [
              0.8888888888888888,
              "#fdca26"
             ],
             [
              1,
              "#f0f921"
             ]
            ],
            "type": "histogram2dcontour"
           }
          ],
          "mesh3d": [
           {
            "colorbar": {
             "outlinewidth": 0,
             "ticks": ""
            },
            "type": "mesh3d"
           }
          ],
          "parcoords": [
           {
            "line": {
             "colorbar": {
              "outlinewidth": 0,
              "ticks": ""
             }
            },
            "type": "parcoords"
           }
          ],
          "pie": [
           {
            "automargin": true,
            "type": "pie"
           }
          ],
          "scatter": [
           {
            "fillpattern": {
             "fillmode": "overlay",
             "size": 10,
             "solidity": 0.2
            },
            "type": "scatter"
           }
          ],
          "scatter3d": [
           {
            "line": {
             "colorbar": {
              "outlinewidth": 0,
              "ticks": ""
             }
            },
            "marker": {
             "colorbar": {
              "outlinewidth": 0,
              "ticks": ""
             }
            },
            "type": "scatter3d"
           }
          ],
          "scattercarpet": [
           {
            "marker": {
             "colorbar": {
              "outlinewidth": 0,
              "ticks": ""
             }
            },
            "type": "scattercarpet"
           }
          ],
          "scattergeo": [
           {
            "marker": {
             "colorbar": {
              "outlinewidth": 0,
              "ticks": ""
             }
            },
            "type": "scattergeo"
           }
          ],
          "scattergl": [
           {
            "marker": {
             "colorbar": {
              "outlinewidth": 0,
              "ticks": ""
             }
            },
            "type": "scattergl"
           }
          ],
          "scattermapbox": [
           {
            "marker": {
             "colorbar": {
              "outlinewidth": 0,
              "ticks": ""
             }
            },
            "type": "scattermapbox"
           }
          ],
          "scatterpolar": [
           {
            "marker": {
             "colorbar": {
              "outlinewidth": 0,
              "ticks": ""
             }
            },
            "type": "scatterpolar"
           }
          ],
          "scatterpolargl": [
           {
            "marker": {
             "colorbar": {
              "outlinewidth": 0,
              "ticks": ""
             }
            },
            "type": "scatterpolargl"
           }
          ],
          "scatterternary": [
           {
            "marker": {
             "colorbar": {
              "outlinewidth": 0,
              "ticks": ""
             }
            },
            "type": "scatterternary"
           }
          ],
          "surface": [
           {
            "colorbar": {
             "outlinewidth": 0,
             "ticks": ""
            },
            "colorscale": [
             [
              0,
              "#0d0887"
             ],
             [
              0.1111111111111111,
              "#46039f"
             ],
             [
              0.2222222222222222,
              "#7201a8"
             ],
             [
              0.3333333333333333,
              "#9c179e"
             ],
             [
              0.4444444444444444,
              "#bd3786"
             ],
             [
              0.5555555555555556,
              "#d8576b"
             ],
             [
              0.6666666666666666,
              "#ed7953"
             ],
             [
              0.7777777777777778,
              "#fb9f3a"
             ],
             [
              0.8888888888888888,
              "#fdca26"
             ],
             [
              1,
              "#f0f921"
             ]
            ],
            "type": "surface"
           }
          ],
          "table": [
           {
            "cells": {
             "fill": {
              "color": "#EBF0F8"
             },
             "line": {
              "color": "white"
             }
            },
            "header": {
             "fill": {
              "color": "#C8D4E3"
             },
             "line": {
              "color": "white"
             }
            },
            "type": "table"
           }
          ]
         },
         "layout": {
          "annotationdefaults": {
           "arrowcolor": "#2a3f5f",
           "arrowhead": 0,
           "arrowwidth": 1
          },
          "autotypenumbers": "strict",
          "coloraxis": {
           "colorbar": {
            "outlinewidth": 0,
            "ticks": ""
           }
          },
          "colorscale": {
           "diverging": [
            [
             0,
             "#8e0152"
            ],
            [
             0.1,
             "#c51b7d"
            ],
            [
             0.2,
             "#de77ae"
            ],
            [
             0.3,
             "#f1b6da"
            ],
            [
             0.4,
             "#fde0ef"
            ],
            [
             0.5,
             "#f7f7f7"
            ],
            [
             0.6,
             "#e6f5d0"
            ],
            [
             0.7,
             "#b8e186"
            ],
            [
             0.8,
             "#7fbc41"
            ],
            [
             0.9,
             "#4d9221"
            ],
            [
             1,
             "#276419"
            ]
           ],
           "sequential": [
            [
             0,
             "#0d0887"
            ],
            [
             0.1111111111111111,
             "#46039f"
            ],
            [
             0.2222222222222222,
             "#7201a8"
            ],
            [
             0.3333333333333333,
             "#9c179e"
            ],
            [
             0.4444444444444444,
             "#bd3786"
            ],
            [
             0.5555555555555556,
             "#d8576b"
            ],
            [
             0.6666666666666666,
             "#ed7953"
            ],
            [
             0.7777777777777778,
             "#fb9f3a"
            ],
            [
             0.8888888888888888,
             "#fdca26"
            ],
            [
             1,
             "#f0f921"
            ]
           ],
           "sequentialminus": [
            [
             0,
             "#0d0887"
            ],
            [
             0.1111111111111111,
             "#46039f"
            ],
            [
             0.2222222222222222,
             "#7201a8"
            ],
            [
             0.3333333333333333,
             "#9c179e"
            ],
            [
             0.4444444444444444,
             "#bd3786"
            ],
            [
             0.5555555555555556,
             "#d8576b"
            ],
            [
             0.6666666666666666,
             "#ed7953"
            ],
            [
             0.7777777777777778,
             "#fb9f3a"
            ],
            [
             0.8888888888888888,
             "#fdca26"
            ],
            [
             1,
             "#f0f921"
            ]
           ]
          },
          "colorway": [
           "#636efa",
           "#EF553B",
           "#00cc96",
           "#ab63fa",
           "#FFA15A",
           "#19d3f3",
           "#FF6692",
           "#B6E880",
           "#FF97FF",
           "#FECB52"
          ],
          "font": {
           "color": "#2a3f5f"
          },
          "geo": {
           "bgcolor": "white",
           "lakecolor": "white",
           "landcolor": "#E5ECF6",
           "showlakes": true,
           "showland": true,
           "subunitcolor": "white"
          },
          "hoverlabel": {
           "align": "left"
          },
          "hovermode": "closest",
          "mapbox": {
           "style": "light"
          },
          "paper_bgcolor": "white",
          "plot_bgcolor": "#E5ECF6",
          "polar": {
           "angularaxis": {
            "gridcolor": "white",
            "linecolor": "white",
            "ticks": ""
           },
           "bgcolor": "#E5ECF6",
           "radialaxis": {
            "gridcolor": "white",
            "linecolor": "white",
            "ticks": ""
           }
          },
          "scene": {
           "xaxis": {
            "backgroundcolor": "#E5ECF6",
            "gridcolor": "white",
            "gridwidth": 2,
            "linecolor": "white",
            "showbackground": true,
            "ticks": "",
            "zerolinecolor": "white"
           },
           "yaxis": {
            "backgroundcolor": "#E5ECF6",
            "gridcolor": "white",
            "gridwidth": 2,
            "linecolor": "white",
            "showbackground": true,
            "ticks": "",
            "zerolinecolor": "white"
           },
           "zaxis": {
            "backgroundcolor": "#E5ECF6",
            "gridcolor": "white",
            "gridwidth": 2,
            "linecolor": "white",
            "showbackground": true,
            "ticks": "",
            "zerolinecolor": "white"
           }
          },
          "shapedefaults": {
           "line": {
            "color": "#2a3f5f"
           }
          },
          "ternary": {
           "aaxis": {
            "gridcolor": "white",
            "linecolor": "white",
            "ticks": ""
           },
           "baxis": {
            "gridcolor": "white",
            "linecolor": "white",
            "ticks": ""
           },
           "bgcolor": "#E5ECF6",
           "caxis": {
            "gridcolor": "white",
            "linecolor": "white",
            "ticks": ""
           }
          },
          "title": {
           "x": 0.05
          },
          "xaxis": {
           "automargin": true,
           "gridcolor": "white",
           "linecolor": "white",
           "ticks": "",
           "title": {
            "standoff": 15
           },
           "zerolinecolor": "white",
           "zerolinewidth": 2
          },
          "yaxis": {
           "automargin": true,
           "gridcolor": "white",
           "linecolor": "white",
           "ticks": "",
           "title": {
            "standoff": 15
           },
           "zerolinecolor": "white",
           "zerolinewidth": 2
          }
         }
        },
        "title": {
         "text": "State-wise Literacy Rate"
        },
        "xaxis": {
         "anchor": "y",
         "domain": [
          0,
          1
         ],
         "title": {
          "text": "Literacy Rate (%)"
         }
        },
        "yaxis": {
         "anchor": "x",
         "domain": [
          0,
          1
         ],
         "title": {
          "text": "States"
         }
        }
       }
      }
     },
     "metadata": {},
     "output_type": "display_data"
    }
   ],
   "source": [
    "# import plotly.express as px\n",
    "\n",
    "def TotalLiteracyRate():\n",
    "    # Grouping data and calculating literacy rate\n",
    "    df1 = (NewDf.groupby('State name')\n",
    "           [['Literate', 'Population']]\n",
    "           .sum()\n",
    "           .sort_values(by='Literate', ascending=False)  # Sort by literacy rate\n",
    "           .reset_index()\n",
    "           )\n",
    "    \n",
    "    df1['Literacy Rate'] = ((df1['Literate'] / df1['Population']) * 100).round()\n",
    "    \n",
    "    # Plotting horizontal bar chart\n",
    "    fig = px.bar(df1, \n",
    "                 x='Literacy Rate', \n",
    "                 y='State name', \n",
    "                 text='Literacy Rate',\n",
    "                 title='State-wise Literacy Rate',\n",
    "                 hover_name= 'State name',\n",
    "                 labels={'State name': 'State', 'Literacy Rate': 'Literacy Rate (%)'},\n",
    "                 orientation='h',  # Horizontal orientation\n",
    "                 color='Literacy Rate',  # Color intensity\n",
    "                 color_continuous_scale='Viridis')  # Color theme\n",
    "    \n",
    "    # Updating layout for readability\n",
    "    fig.update_layout(\n",
    "        xaxis_title=\"Literacy Rate (%)\",\n",
    "        yaxis_title=\"States\",\n",
    "        showlegend=False,\n",
    "        height=800  # Adjust height for readability if there are many states\n",
    "    )\n",
    "    \n",
    "    # Display the plot\n",
    "    fig.show()\n",
    "\n",
    "# Call the function\n",
    "TotalLiteracyRate()\n"
   ]
  },
  {
   "cell_type": "code",
   "execution_count": 44,
   "metadata": {},
   "outputs": [
    {
     "data": {
      "application/vnd.plotly.v1+json": {
       "config": {
        "plotlyServerURL": "https://plot.ly"
       },
       "data": [
        {
         "alignmentgroup": "True",
         "hovertemplate": "Gender=Male_Literate<br>Districts=%{x}<br>Number of Literate Individuals=%{y}<extra></extra>",
         "legendgroup": "Male_Literate",
         "marker": {
          "color": "#636efa",
          "pattern": {
           "shape": ""
          }
         },
         "name": "Male_Literate",
         "offsetgroup": "Male_Literate",
         "orientation": "v",
         "showlegend": true,
         "textposition": "auto",
         "texttemplate": "%{y}",
         "type": "bar",
         "x": [
          "Saharanpur",
          "Muzaffarnagar",
          "Bijnor",
          "Moradabad",
          "Rampur",
          "Jyotiba Phule Nagar",
          "Meerut",
          "Baghpat",
          "Ghaziabad",
          "Gautam Buddha Nagar",
          "Bulandshahr",
          "Aligarh",
          "Mathura",
          "Agra",
          "Firozabad",
          "Mainpuri",
          "Bareilly",
          "Pilibhit",
          "Shahjahanpur",
          "Sitapur",
          "Hardoi",
          "Unnao",
          "Lucknow",
          "Rae Bareli",
          "Farrukhabad",
          "Kannauj",
          "Etawah",
          "Auraiya",
          "Kanpur Dehat",
          "Jalaun",
          "Jhansi",
          "Lalitpur",
          "Hamirpur",
          "Hamirpur",
          "Mahoba",
          "Banda",
          "Chitrakoot",
          "Fatehpur",
          "Pratapgarh",
          "Kaushambi",
          "Allahabad",
          "Bara Banki",
          "Faizabad",
          "Ambedkar Nagar",
          "Sultanpur",
          "Bahraich",
          "Balrampur",
          "Gonda",
          "Basti",
          "Sant Kabir Nagar",
          "Gorakhpur",
          "Kushinagar",
          "Deoria",
          "Azamgarh",
          "Mau",
          "Ballia",
          "Jaunpur",
          "Ghazipur",
          "Chandauli",
          "Varanasi",
          "Mirzapur",
          "Sonbhadra",
          "Etah"
         ],
         "xaxis": "x",
         "y": [
          1220114,
          1448528,
          1241471,
          1357435,
          630408,
          600541,
          1254520,
          489858,
          1811397,
          666065,
          1253314,
          1283380,
          943346,
          1614594,
          912314,
          712110,
          1342697,
          654290,
          915142,
          1397702,
          1374587,
          1053063,
          1742440,
          1165965,
          654827,
          603596,
          623583,
          546198,
          692964,
          653430,
          783705,
          397586,
          408125,
          408125,
          302283,
          630626,
          330339,
          911003,
          1121381,
          507279,
          2199340,
          1010518,
          838339,
          846676,
          1300248,
          878285,
          544943,
          1034181,
          819719,
          567098,
          1593890,
          1183722,
          1079288,
          1559414,
          773082,
          1160960,
          1565394,
          1293553,
          699454,
          1389116,
          865837,
          601988,
          647042
         ],
         "yaxis": "y"
        },
        {
         "alignmentgroup": "True",
         "hovertemplate": "Gender=Female_Literate<br>Districts=%{x}<br>Number of Literate Individuals=%{y}<extra></extra>",
         "legendgroup": "Female_Literate",
         "marker": {
          "color": "#EF553B",
          "pattern": {
           "shape": ""
          }
         },
         "name": "Female_Literate",
         "offsetgroup": "Female_Literate",
         "orientation": "v",
         "showlegend": true,
         "textposition": "auto",
         "texttemplate": "%{y}",
         "type": "bar",
         "x": [
          "Saharanpur",
          "Muzaffarnagar",
          "Bijnor",
          "Moradabad",
          "Rampur",
          "Jyotiba Phule Nagar",
          "Meerut",
          "Baghpat",
          "Ghaziabad",
          "Gautam Buddha Nagar",
          "Bulandshahr",
          "Aligarh",
          "Mathura",
          "Agra",
          "Firozabad",
          "Mainpuri",
          "Bareilly",
          "Pilibhit",
          "Shahjahanpur",
          "Sitapur",
          "Hardoi",
          "Unnao",
          "Lucknow",
          "Rae Bareli",
          "Farrukhabad",
          "Kannauj",
          "Etawah",
          "Auraiya",
          "Kanpur Dehat",
          "Jalaun",
          "Jhansi",
          "Lalitpur",
          "Hamirpur",
          "Hamirpur",
          "Mahoba",
          "Banda",
          "Chitrakoot",
          "Fatehpur",
          "Pratapgarh",
          "Kaushambi",
          "Allahabad",
          "Bara Banki",
          "Faizabad",
          "Ambedkar Nagar",
          "Sultanpur",
          "Bahraich",
          "Balrampur",
          "Gonda",
          "Basti",
          "Sant Kabir Nagar",
          "Gorakhpur",
          "Kushinagar",
          "Deoria",
          "Azamgarh",
          "Mau",
          "Ballia",
          "Jaunpur",
          "Ghazipur",
          "Chandauli",
          "Varanasi",
          "Mirzapur",
          "Sonbhadra",
          "Etah"
         ],
         "xaxis": "x",
         "y": [
          856994,
          968811,
          893922,
          906413,
          413258,
          382569,
          886968,
          308112,
          1311867,
          456882,
          778342,
          809187,
          564400,
          1065916,
          609492,
          491775,
          849062,
          406805,
          575788,
          886031,
          847014,
          720521,
          1384820,
          799878,
          437850,
          413491,
          438420,
          384638,
          477279,
          421766,
          520808,
          243605,
          245174,
          245174,
          185823,
          372311,
          200733,
          601163,
          810178,
          306145,
          1466387,
          681940,
          612562,
          640263,
          939654,
          520083,
          323414,
          645813,
          574064,
          387851,
          1106438,
          771098,
          795951,
          1212503,
          589962,
          802630,
          1166283,
          903996,
          475152,
          1014787,
          562846,
          383720,
          408160
         ],
         "yaxis": "y"
        }
       ],
       "layout": {
        "barmode": "group",
        "height": 600,
        "legend": {
         "title": {
          "text": "Gender"
         },
         "tracegroupgap": 0
        },
        "template": {
         "data": {
          "bar": [
           {
            "error_x": {
             "color": "#2a3f5f"
            },
            "error_y": {
             "color": "#2a3f5f"
            },
            "marker": {
             "line": {
              "color": "#E5ECF6",
              "width": 0.5
             },
             "pattern": {
              "fillmode": "overlay",
              "size": 10,
              "solidity": 0.2
             }
            },
            "type": "bar"
           }
          ],
          "barpolar": [
           {
            "marker": {
             "line": {
              "color": "#E5ECF6",
              "width": 0.5
             },
             "pattern": {
              "fillmode": "overlay",
              "size": 10,
              "solidity": 0.2
             }
            },
            "type": "barpolar"
           }
          ],
          "carpet": [
           {
            "aaxis": {
             "endlinecolor": "#2a3f5f",
             "gridcolor": "white",
             "linecolor": "white",
             "minorgridcolor": "white",
             "startlinecolor": "#2a3f5f"
            },
            "baxis": {
             "endlinecolor": "#2a3f5f",
             "gridcolor": "white",
             "linecolor": "white",
             "minorgridcolor": "white",
             "startlinecolor": "#2a3f5f"
            },
            "type": "carpet"
           }
          ],
          "choropleth": [
           {
            "colorbar": {
             "outlinewidth": 0,
             "ticks": ""
            },
            "type": "choropleth"
           }
          ],
          "contour": [
           {
            "colorbar": {
             "outlinewidth": 0,
             "ticks": ""
            },
            "colorscale": [
             [
              0,
              "#0d0887"
             ],
             [
              0.1111111111111111,
              "#46039f"
             ],
             [
              0.2222222222222222,
              "#7201a8"
             ],
             [
              0.3333333333333333,
              "#9c179e"
             ],
             [
              0.4444444444444444,
              "#bd3786"
             ],
             [
              0.5555555555555556,
              "#d8576b"
             ],
             [
              0.6666666666666666,
              "#ed7953"
             ],
             [
              0.7777777777777778,
              "#fb9f3a"
             ],
             [
              0.8888888888888888,
              "#fdca26"
             ],
             [
              1,
              "#f0f921"
             ]
            ],
            "type": "contour"
           }
          ],
          "contourcarpet": [
           {
            "colorbar": {
             "outlinewidth": 0,
             "ticks": ""
            },
            "type": "contourcarpet"
           }
          ],
          "heatmap": [
           {
            "colorbar": {
             "outlinewidth": 0,
             "ticks": ""
            },
            "colorscale": [
             [
              0,
              "#0d0887"
             ],
             [
              0.1111111111111111,
              "#46039f"
             ],
             [
              0.2222222222222222,
              "#7201a8"
             ],
             [
              0.3333333333333333,
              "#9c179e"
             ],
             [
              0.4444444444444444,
              "#bd3786"
             ],
             [
              0.5555555555555556,
              "#d8576b"
             ],
             [
              0.6666666666666666,
              "#ed7953"
             ],
             [
              0.7777777777777778,
              "#fb9f3a"
             ],
             [
              0.8888888888888888,
              "#fdca26"
             ],
             [
              1,
              "#f0f921"
             ]
            ],
            "type": "heatmap"
           }
          ],
          "heatmapgl": [
           {
            "colorbar": {
             "outlinewidth": 0,
             "ticks": ""
            },
            "colorscale": [
             [
              0,
              "#0d0887"
             ],
             [
              0.1111111111111111,
              "#46039f"
             ],
             [
              0.2222222222222222,
              "#7201a8"
             ],
             [
              0.3333333333333333,
              "#9c179e"
             ],
             [
              0.4444444444444444,
              "#bd3786"
             ],
             [
              0.5555555555555556,
              "#d8576b"
             ],
             [
              0.6666666666666666,
              "#ed7953"
             ],
             [
              0.7777777777777778,
              "#fb9f3a"
             ],
             [
              0.8888888888888888,
              "#fdca26"
             ],
             [
              1,
              "#f0f921"
             ]
            ],
            "type": "heatmapgl"
           }
          ],
          "histogram": [
           {
            "marker": {
             "pattern": {
              "fillmode": "overlay",
              "size": 10,
              "solidity": 0.2
             }
            },
            "type": "histogram"
           }
          ],
          "histogram2d": [
           {
            "colorbar": {
             "outlinewidth": 0,
             "ticks": ""
            },
            "colorscale": [
             [
              0,
              "#0d0887"
             ],
             [
              0.1111111111111111,
              "#46039f"
             ],
             [
              0.2222222222222222,
              "#7201a8"
             ],
             [
              0.3333333333333333,
              "#9c179e"
             ],
             [
              0.4444444444444444,
              "#bd3786"
             ],
             [
              0.5555555555555556,
              "#d8576b"
             ],
             [
              0.6666666666666666,
              "#ed7953"
             ],
             [
              0.7777777777777778,
              "#fb9f3a"
             ],
             [
              0.8888888888888888,
              "#fdca26"
             ],
             [
              1,
              "#f0f921"
             ]
            ],
            "type": "histogram2d"
           }
          ],
          "histogram2dcontour": [
           {
            "colorbar": {
             "outlinewidth": 0,
             "ticks": ""
            },
            "colorscale": [
             [
              0,
              "#0d0887"
             ],
             [
              0.1111111111111111,
              "#46039f"
             ],
             [
              0.2222222222222222,
              "#7201a8"
             ],
             [
              0.3333333333333333,
              "#9c179e"
             ],
             [
              0.4444444444444444,
              "#bd3786"
             ],
             [
              0.5555555555555556,
              "#d8576b"
             ],
             [
              0.6666666666666666,
              "#ed7953"
             ],
             [
              0.7777777777777778,
              "#fb9f3a"
             ],
             [
              0.8888888888888888,
              "#fdca26"
             ],
             [
              1,
              "#f0f921"
             ]
            ],
            "type": "histogram2dcontour"
           }
          ],
          "mesh3d": [
           {
            "colorbar": {
             "outlinewidth": 0,
             "ticks": ""
            },
            "type": "mesh3d"
           }
          ],
          "parcoords": [
           {
            "line": {
             "colorbar": {
              "outlinewidth": 0,
              "ticks": ""
             }
            },
            "type": "parcoords"
           }
          ],
          "pie": [
           {
            "automargin": true,
            "type": "pie"
           }
          ],
          "scatter": [
           {
            "fillpattern": {
             "fillmode": "overlay",
             "size": 10,
             "solidity": 0.2
            },
            "type": "scatter"
           }
          ],
          "scatter3d": [
           {
            "line": {
             "colorbar": {
              "outlinewidth": 0,
              "ticks": ""
             }
            },
            "marker": {
             "colorbar": {
              "outlinewidth": 0,
              "ticks": ""
             }
            },
            "type": "scatter3d"
           }
          ],
          "scattercarpet": [
           {
            "marker": {
             "colorbar": {
              "outlinewidth": 0,
              "ticks": ""
             }
            },
            "type": "scattercarpet"
           }
          ],
          "scattergeo": [
           {
            "marker": {
             "colorbar": {
              "outlinewidth": 0,
              "ticks": ""
             }
            },
            "type": "scattergeo"
           }
          ],
          "scattergl": [
           {
            "marker": {
             "colorbar": {
              "outlinewidth": 0,
              "ticks": ""
             }
            },
            "type": "scattergl"
           }
          ],
          "scattermapbox": [
           {
            "marker": {
             "colorbar": {
              "outlinewidth": 0,
              "ticks": ""
             }
            },
            "type": "scattermapbox"
           }
          ],
          "scatterpolar": [
           {
            "marker": {
             "colorbar": {
              "outlinewidth": 0,
              "ticks": ""
             }
            },
            "type": "scatterpolar"
           }
          ],
          "scatterpolargl": [
           {
            "marker": {
             "colorbar": {
              "outlinewidth": 0,
              "ticks": ""
             }
            },
            "type": "scatterpolargl"
           }
          ],
          "scatterternary": [
           {
            "marker": {
             "colorbar": {
              "outlinewidth": 0,
              "ticks": ""
             }
            },
            "type": "scatterternary"
           }
          ],
          "surface": [
           {
            "colorbar": {
             "outlinewidth": 0,
             "ticks": ""
            },
            "colorscale": [
             [
              0,
              "#0d0887"
             ],
             [
              0.1111111111111111,
              "#46039f"
             ],
             [
              0.2222222222222222,
              "#7201a8"
             ],
             [
              0.3333333333333333,
              "#9c179e"
             ],
             [
              0.4444444444444444,
              "#bd3786"
             ],
             [
              0.5555555555555556,
              "#d8576b"
             ],
             [
              0.6666666666666666,
              "#ed7953"
             ],
             [
              0.7777777777777778,
              "#fb9f3a"
             ],
             [
              0.8888888888888888,
              "#fdca26"
             ],
             [
              1,
              "#f0f921"
             ]
            ],
            "type": "surface"
           }
          ],
          "table": [
           {
            "cells": {
             "fill": {
              "color": "#EBF0F8"
             },
             "line": {
              "color": "white"
             }
            },
            "header": {
             "fill": {
              "color": "#C8D4E3"
             },
             "line": {
              "color": "white"
             }
            },
            "type": "table"
           }
          ]
         },
         "layout": {
          "annotationdefaults": {
           "arrowcolor": "#2a3f5f",
           "arrowhead": 0,
           "arrowwidth": 1
          },
          "autotypenumbers": "strict",
          "coloraxis": {
           "colorbar": {
            "outlinewidth": 0,
            "ticks": ""
           }
          },
          "colorscale": {
           "diverging": [
            [
             0,
             "#8e0152"
            ],
            [
             0.1,
             "#c51b7d"
            ],
            [
             0.2,
             "#de77ae"
            ],
            [
             0.3,
             "#f1b6da"
            ],
            [
             0.4,
             "#fde0ef"
            ],
            [
             0.5,
             "#f7f7f7"
            ],
            [
             0.6,
             "#e6f5d0"
            ],
            [
             0.7,
             "#b8e186"
            ],
            [
             0.8,
             "#7fbc41"
            ],
            [
             0.9,
             "#4d9221"
            ],
            [
             1,
             "#276419"
            ]
           ],
           "sequential": [
            [
             0,
             "#0d0887"
            ],
            [
             0.1111111111111111,
             "#46039f"
            ],
            [
             0.2222222222222222,
             "#7201a8"
            ],
            [
             0.3333333333333333,
             "#9c179e"
            ],
            [
             0.4444444444444444,
             "#bd3786"
            ],
            [
             0.5555555555555556,
             "#d8576b"
            ],
            [
             0.6666666666666666,
             "#ed7953"
            ],
            [
             0.7777777777777778,
             "#fb9f3a"
            ],
            [
             0.8888888888888888,
             "#fdca26"
            ],
            [
             1,
             "#f0f921"
            ]
           ],
           "sequentialminus": [
            [
             0,
             "#0d0887"
            ],
            [
             0.1111111111111111,
             "#46039f"
            ],
            [
             0.2222222222222222,
             "#7201a8"
            ],
            [
             0.3333333333333333,
             "#9c179e"
            ],
            [
             0.4444444444444444,
             "#bd3786"
            ],
            [
             0.5555555555555556,
             "#d8576b"
            ],
            [
             0.6666666666666666,
             "#ed7953"
            ],
            [
             0.7777777777777778,
             "#fb9f3a"
            ],
            [
             0.8888888888888888,
             "#fdca26"
            ],
            [
             1,
             "#f0f921"
            ]
           ]
          },
          "colorway": [
           "#636efa",
           "#EF553B",
           "#00cc96",
           "#ab63fa",
           "#FFA15A",
           "#19d3f3",
           "#FF6692",
           "#B6E880",
           "#FF97FF",
           "#FECB52"
          ],
          "font": {
           "color": "#2a3f5f"
          },
          "geo": {
           "bgcolor": "white",
           "lakecolor": "white",
           "landcolor": "#E5ECF6",
           "showlakes": true,
           "showland": true,
           "subunitcolor": "white"
          },
          "hoverlabel": {
           "align": "left"
          },
          "hovermode": "closest",
          "mapbox": {
           "style": "light"
          },
          "paper_bgcolor": "white",
          "plot_bgcolor": "#E5ECF6",
          "polar": {
           "angularaxis": {
            "gridcolor": "white",
            "linecolor": "white",
            "ticks": ""
           },
           "bgcolor": "#E5ECF6",
           "radialaxis": {
            "gridcolor": "white",
            "linecolor": "white",
            "ticks": ""
           }
          },
          "scene": {
           "xaxis": {
            "backgroundcolor": "#E5ECF6",
            "gridcolor": "white",
            "gridwidth": 2,
            "linecolor": "white",
            "showbackground": true,
            "ticks": "",
            "zerolinecolor": "white"
           },
           "yaxis": {
            "backgroundcolor": "#E5ECF6",
            "gridcolor": "white",
            "gridwidth": 2,
            "linecolor": "white",
            "showbackground": true,
            "ticks": "",
            "zerolinecolor": "white"
           },
           "zaxis": {
            "backgroundcolor": "#E5ECF6",
            "gridcolor": "white",
            "gridwidth": 2,
            "linecolor": "white",
            "showbackground": true,
            "ticks": "",
            "zerolinecolor": "white"
           }
          },
          "shapedefaults": {
           "line": {
            "color": "#2a3f5f"
           }
          },
          "ternary": {
           "aaxis": {
            "gridcolor": "white",
            "linecolor": "white",
            "ticks": ""
           },
           "baxis": {
            "gridcolor": "white",
            "linecolor": "white",
            "ticks": ""
           },
           "bgcolor": "#E5ECF6",
           "caxis": {
            "gridcolor": "white",
            "linecolor": "white",
            "ticks": ""
           }
          },
          "title": {
           "x": 0.05
          },
          "xaxis": {
           "automargin": true,
           "gridcolor": "white",
           "linecolor": "white",
           "ticks": "",
           "title": {
            "standoff": 15
           },
           "zerolinecolor": "white",
           "zerolinewidth": 2
          },
          "yaxis": {
           "automargin": true,
           "gridcolor": "white",
           "linecolor": "white",
           "ticks": "",
           "title": {
            "standoff": 15
           },
           "zerolinecolor": "white",
           "zerolinewidth": 2
          }
         }
        },
        "title": {
         "text": "District-Wise Male and Female Literacy in UTTAR PRADESH"
        },
        "xaxis": {
         "anchor": "y",
         "domain": [
          0,
          1
         ],
         "tickangle": -45,
         "title": {
          "text": "Districts"
         }
        },
        "yaxis": {
         "anchor": "x",
         "domain": [
          0,
          1
         ],
         "title": {
          "text": "Number of Literate Individuals"
         }
        }
       }
      }
     },
     "metadata": {},
     "output_type": "display_data"
    }
   ],
   "source": [
    "# import plotly.express as px\n",
    "\n",
    "def DistrictWiseLiteracy(state):\n",
    "    # Filter data for the given state\n",
    "    Filter1 = NewDf[NewDf['State name'] == str(state)]\n",
    "    \n",
    "    # Plot grouped bar chart for male and female literacy\n",
    "    fig = px.bar(\n",
    "        Filter1,\n",
    "        x='District name',\n",
    "        y=['Male_Literate', 'Female_Literate'],\n",
    "        barmode='group',  # Grouped bar chart\n",
    "        text_auto=True,  # Show values on bars\n",
    "        title=f'District-Wise Male and Female Literacy in {state}',  # Dynamic title\n",
    "        labels={\n",
    "            'value': 'Number of Literate Individuals',\n",
    "            'District name': 'Districts',\n",
    "            'variable': 'Gender'\n",
    "        },\n",
    "        template='plotly'  # Predefined Plotly theme\n",
    "    )\n",
    "    \n",
    "    # Update layout for readability\n",
    "    fig.update_layout(\n",
    "        xaxis_title=\"Districts\",\n",
    "        yaxis_title=\"Number of Literate Individuals\",\n",
    "        legend_title=\"Gender\",\n",
    "        xaxis_tickangle=-45,  # Tilt district names if needed\n",
    "        height=600  # Adjust chart size\n",
    "    )\n",
    "\n",
    "\n",
    "    return Filter1.to_dict(orient='records'),fig\n",
    "    \n",
    "    \n"
   ]
  },
  {
   "cell_type": "code",
   "execution_count": 45,
   "metadata": {},
   "outputs": [
    {
     "data": {
      "text/html": [
       "<div>\n",
       "<style scoped>\n",
       "    .dataframe tbody tr th:only-of-type {\n",
       "        vertical-align: middle;\n",
       "    }\n",
       "\n",
       "    .dataframe tbody tr th {\n",
       "        vertical-align: top;\n",
       "    }\n",
       "\n",
       "    .dataframe thead th {\n",
       "        text-align: right;\n",
       "    }\n",
       "</style>\n",
       "<table border=\"1\" class=\"dataframe\">\n",
       "  <thead>\n",
       "    <tr style=\"text-align: right;\">\n",
       "      <th></th>\n",
       "      <th>Unnamed: 0</th>\n",
       "      <th>District code</th>\n",
       "      <th>State name</th>\n",
       "      <th>District name</th>\n",
       "      <th>Population</th>\n",
       "      <th>Male</th>\n",
       "      <th>Female</th>\n",
       "      <th>Literate</th>\n",
       "      <th>Male_Literate</th>\n",
       "      <th>Female_Literate</th>\n",
       "      <th>...</th>\n",
       "      <th>Power_Parity_Rs_150000_240000</th>\n",
       "      <th>Power_Parity_Rs_240000_330000</th>\n",
       "      <th>Power_Parity_Rs_150000_330000</th>\n",
       "      <th>Power_Parity_Rs_330000_425000</th>\n",
       "      <th>Power_Parity_Rs_425000_545000</th>\n",
       "      <th>Power_Parity_Rs_330000_545000</th>\n",
       "      <th>Power_Parity_Above_Rs_545000</th>\n",
       "      <th>Total_Power_Parity</th>\n",
       "      <th>Latitude</th>\n",
       "      <th>Longitude</th>\n",
       "    </tr>\n",
       "  </thead>\n",
       "  <tbody>\n",
       "    <tr>\n",
       "      <th>0</th>\n",
       "      <td>0</td>\n",
       "      <td>4</td>\n",
       "      <td>JAMMU AND KASHMIR</td>\n",
       "      <td>Kargil</td>\n",
       "      <td>140802</td>\n",
       "      <td>77785</td>\n",
       "      <td>63017</td>\n",
       "      <td>86236</td>\n",
       "      <td>56301</td>\n",
       "      <td>29935</td>\n",
       "      <td>...</td>\n",
       "      <td>12</td>\n",
       "      <td>18</td>\n",
       "      <td>30</td>\n",
       "      <td>19</td>\n",
       "      <td>3</td>\n",
       "      <td>22</td>\n",
       "      <td>7</td>\n",
       "      <td>214</td>\n",
       "      <td>33.565995</td>\n",
       "      <td>76.636753</td>\n",
       "    </tr>\n",
       "    <tr>\n",
       "      <th>1</th>\n",
       "      <td>1</td>\n",
       "      <td>5</td>\n",
       "      <td>JAMMU AND KASHMIR</td>\n",
       "      <td>Punch</td>\n",
       "      <td>476835</td>\n",
       "      <td>251899</td>\n",
       "      <td>224936</td>\n",
       "      <td>261724</td>\n",
       "      <td>163333</td>\n",
       "      <td>98391</td>\n",
       "      <td>...</td>\n",
       "      <td>35</td>\n",
       "      <td>50</td>\n",
       "      <td>85</td>\n",
       "      <td>59</td>\n",
       "      <td>8</td>\n",
       "      <td>67</td>\n",
       "      <td>12</td>\n",
       "      <td>629</td>\n",
       "      <td>33.791241</td>\n",
       "      <td>74.295932</td>\n",
       "    </tr>\n",
       "    <tr>\n",
       "      <th>2</th>\n",
       "      <td>2</td>\n",
       "      <td>7</td>\n",
       "      <td>JAMMU AND KASHMIR</td>\n",
       "      <td>Kathua</td>\n",
       "      <td>616435</td>\n",
       "      <td>326109</td>\n",
       "      <td>290326</td>\n",
       "      <td>389204</td>\n",
       "      <td>228499</td>\n",
       "      <td>160705</td>\n",
       "      <td>...</td>\n",
       "      <td>54</td>\n",
       "      <td>69</td>\n",
       "      <td>123</td>\n",
       "      <td>78</td>\n",
       "      <td>52</td>\n",
       "      <td>130</td>\n",
       "      <td>28</td>\n",
       "      <td>936</td>\n",
       "      <td>32.517817</td>\n",
       "      <td>75.589014</td>\n",
       "    </tr>\n",
       "    <tr>\n",
       "      <th>3</th>\n",
       "      <td>3</td>\n",
       "      <td>10</td>\n",
       "      <td>JAMMU AND KASHMIR</td>\n",
       "      <td>Srinagar</td>\n",
       "      <td>1236829</td>\n",
       "      <td>651124</td>\n",
       "      <td>585705</td>\n",
       "      <td>748584</td>\n",
       "      <td>431746</td>\n",
       "      <td>316838</td>\n",
       "      <td>...</td>\n",
       "      <td>319</td>\n",
       "      <td>380</td>\n",
       "      <td>699</td>\n",
       "      <td>240</td>\n",
       "      <td>370</td>\n",
       "      <td>610</td>\n",
       "      <td>445</td>\n",
       "      <td>3099</td>\n",
       "      <td>34.273129</td>\n",
       "      <td>75.110212</td>\n",
       "    </tr>\n",
       "    <tr>\n",
       "      <th>4</th>\n",
       "      <td>4</td>\n",
       "      <td>12</td>\n",
       "      <td>JAMMU AND KASHMIR</td>\n",
       "      <td>Pulwama</td>\n",
       "      <td>560440</td>\n",
       "      <td>293064</td>\n",
       "      <td>267376</td>\n",
       "      <td>293958</td>\n",
       "      <td>178326</td>\n",
       "      <td>115632</td>\n",
       "      <td>...</td>\n",
       "      <td>71</td>\n",
       "      <td>96</td>\n",
       "      <td>167</td>\n",
       "      <td>84</td>\n",
       "      <td>24</td>\n",
       "      <td>108</td>\n",
       "      <td>32</td>\n",
       "      <td>1068</td>\n",
       "      <td>33.884144</td>\n",
       "      <td>75.009219</td>\n",
       "    </tr>\n",
       "  </tbody>\n",
       "</table>\n",
       "<p>5 rows × 121 columns</p>\n",
       "</div>"
      ],
      "text/plain": [
       "   Unnamed: 0  District code         State name District name  Population  \\\n",
       "0           0              4  JAMMU AND KASHMIR        Kargil      140802   \n",
       "1           1              5  JAMMU AND KASHMIR         Punch      476835   \n",
       "2           2              7  JAMMU AND KASHMIR        Kathua      616435   \n",
       "3           3             10  JAMMU AND KASHMIR      Srinagar     1236829   \n",
       "4           4             12  JAMMU AND KASHMIR       Pulwama      560440   \n",
       "\n",
       "     Male  Female  Literate  Male_Literate  Female_Literate  ...  \\\n",
       "0   77785   63017     86236          56301            29935  ...   \n",
       "1  251899  224936    261724         163333            98391  ...   \n",
       "2  326109  290326    389204         228499           160705  ...   \n",
       "3  651124  585705    748584         431746           316838  ...   \n",
       "4  293064  267376    293958         178326           115632  ...   \n",
       "\n",
       "   Power_Parity_Rs_150000_240000  Power_Parity_Rs_240000_330000  \\\n",
       "0                             12                             18   \n",
       "1                             35                             50   \n",
       "2                             54                             69   \n",
       "3                            319                            380   \n",
       "4                             71                             96   \n",
       "\n",
       "   Power_Parity_Rs_150000_330000  Power_Parity_Rs_330000_425000  \\\n",
       "0                             30                             19   \n",
       "1                             85                             59   \n",
       "2                            123                             78   \n",
       "3                            699                            240   \n",
       "4                            167                             84   \n",
       "\n",
       "   Power_Parity_Rs_425000_545000  Power_Parity_Rs_330000_545000  \\\n",
       "0                              3                             22   \n",
       "1                              8                             67   \n",
       "2                             52                            130   \n",
       "3                            370                            610   \n",
       "4                             24                            108   \n",
       "\n",
       "   Power_Parity_Above_Rs_545000  Total_Power_Parity   Latitude  Longitude  \n",
       "0                             7                 214  33.565995  76.636753  \n",
       "1                            12                 629  33.791241  74.295932  \n",
       "2                            28                 936  32.517817  75.589014  \n",
       "3                           445                3099  34.273129  75.110212  \n",
       "4                            32                1068  33.884144  75.009219  \n",
       "\n",
       "[5 rows x 121 columns]"
      ]
     },
     "execution_count": 45,
     "metadata": {},
     "output_type": "execute_result"
    }
   ],
   "source": [
    "NewDf.head()"
   ]
  },
  {
   "cell_type": "code",
   "execution_count": 54,
   "metadata": {},
   "outputs": [
    {
     "name": "stderr",
     "output_type": "stream",
     "text": [
      "/tmp/ipykernel_2395/1086205133.py:5: SettingWithCopyWarning:\n",
      "\n",
      "\n",
      "A value is trying to be set on a copy of a slice from a DataFrame.\n",
      "Try using .loc[row_indexer,col_indexer] = value instead\n",
      "\n",
      "See the caveats in the documentation: https://pandas.pydata.org/pandas-docs/stable/user_guide/indexing.html#returning-a-view-versus-a-copy\n",
      "\n",
      "/tmp/ipykernel_2395/1086205133.py:6: SettingWithCopyWarning:\n",
      "\n",
      "\n",
      "A value is trying to be set on a copy of a slice from a DataFrame.\n",
      "Try using .loc[row_indexer,col_indexer] = value instead\n",
      "\n",
      "See the caveats in the documentation: https://pandas.pydata.org/pandas-docs/stable/user_guide/indexing.html#returning-a-view-versus-a-copy\n",
      "\n"
     ]
    },
    {
     "data": {
      "application/vnd.plotly.v1+json": {
       "config": {
        "plotlyServerURL": "https://plot.ly"
       },
       "data": [
        {
         "alignmentgroup": "True",
         "hovertemplate": "<b>%{x}</b><br>Rate: %{y:.2f}%",
         "hovertext": [
          "Kasaragod",
          "Kannur",
          "Wayanad",
          "Kozhikode",
          "Malappuram",
          "Palakkad",
          "Thrissur",
          "Ernakulam",
          "Idukki",
          "Kottayam",
          "Alappuzha",
          "Kollam",
          "Thiruvananthapuram"
         ],
         "legendgroup": "",
         "marker": {
          "color": "#1f77b4",
          "pattern": {
           "shape": ""
          }
         },
         "name": "",
         "offsetgroup": "",
         "orientation": "v",
         "showlegend": false,
         "textposition": "auto",
         "texttemplate": "%{y}",
         "type": "bar",
         "x": [
          "Kasaragod",
          "Kannur",
          "Wayanad",
          "Kozhikode",
          "Malappuram",
          "Palakkad",
          "Thrissur",
          "Ernakulam",
          "Idukki",
          "Kottayam",
          "Alappuzha",
          "Kollam",
          "Thiruvananthapuram"
         ],
         "xaxis": "x",
         "y": [
          82,
          86,
          82,
          86,
          81,
          83,
          87,
          88,
          85,
          89,
          88,
          86,
          86
         ],
         "yaxis": "y"
        },
        {
         "alignmentgroup": "True",
         "hovertemplate": "<b>%{x}</b><br>Rate: %{y:.2f}%",
         "hovertext": [
          "Kasaragod",
          "Kannur",
          "Wayanad",
          "Kozhikode",
          "Malappuram",
          "Palakkad",
          "Thrissur",
          "Ernakulam",
          "Idukki",
          "Kottayam",
          "Alappuzha",
          "Kollam",
          "Thiruvananthapuram"
         ],
         "legendgroup": "",
         "marker": {
          "color": "#ff7f0e",
          "pattern": {
           "shape": ""
          }
         },
         "name": "",
         "offsetgroup": "",
         "orientation": "v",
         "showlegend": false,
         "textposition": "auto",
         "texttemplate": "%{y}",
         "type": "bar",
         "x": [
          "Kasaragod",
          "Kannur",
          "Wayanad",
          "Kozhikode",
          "Malappuram",
          "Palakkad",
          "Thrissur",
          "Ernakulam",
          "Idukki",
          "Kottayam",
          "Alappuzha",
          "Kollam",
          "Thiruvananthapuram"
         ],
         "xaxis": "x2",
         "y": [
          77,
          84,
          76,
          83,
          80,
          77,
          85,
          86,
          81,
          88,
          86,
          84,
          83
         ],
         "yaxis": "y2"
        }
       ],
       "layout": {
        "annotations": [
         {
          "font": {
           "size": 16
          },
          "showarrow": false,
          "text": "Male Literacy Rate by District",
          "x": 0.5,
          "xanchor": "center",
          "xref": "paper",
          "y": 1,
          "yanchor": "bottom",
          "yref": "paper"
         },
         {
          "font": {
           "size": 16
          },
          "showarrow": false,
          "text": "Female Literacy Rate by District",
          "x": 0.5,
          "xanchor": "center",
          "xref": "paper",
          "y": 0.425,
          "yanchor": "bottom",
          "yref": "paper"
         }
        ],
        "font": {
         "family": "Arial, sans-serif",
         "size": 12
        },
        "height": 800,
        "margin": {
         "b": 50,
         "t": 50
        },
        "paper_bgcolor": "#f9f9f9",
        "plot_bgcolor": "#f9f9f9",
        "showlegend": false,
        "template": {
         "data": {
          "bar": [
           {
            "error_x": {
             "color": "#2a3f5f"
            },
            "error_y": {
             "color": "#2a3f5f"
            },
            "marker": {
             "line": {
              "color": "#E5ECF6",
              "width": 0.5
             },
             "pattern": {
              "fillmode": "overlay",
              "size": 10,
              "solidity": 0.2
             }
            },
            "type": "bar"
           }
          ],
          "barpolar": [
           {
            "marker": {
             "line": {
              "color": "#E5ECF6",
              "width": 0.5
             },
             "pattern": {
              "fillmode": "overlay",
              "size": 10,
              "solidity": 0.2
             }
            },
            "type": "barpolar"
           }
          ],
          "carpet": [
           {
            "aaxis": {
             "endlinecolor": "#2a3f5f",
             "gridcolor": "white",
             "linecolor": "white",
             "minorgridcolor": "white",
             "startlinecolor": "#2a3f5f"
            },
            "baxis": {
             "endlinecolor": "#2a3f5f",
             "gridcolor": "white",
             "linecolor": "white",
             "minorgridcolor": "white",
             "startlinecolor": "#2a3f5f"
            },
            "type": "carpet"
           }
          ],
          "choropleth": [
           {
            "colorbar": {
             "outlinewidth": 0,
             "ticks": ""
            },
            "type": "choropleth"
           }
          ],
          "contour": [
           {
            "colorbar": {
             "outlinewidth": 0,
             "ticks": ""
            },
            "colorscale": [
             [
              0,
              "#0d0887"
             ],
             [
              0.1111111111111111,
              "#46039f"
             ],
             [
              0.2222222222222222,
              "#7201a8"
             ],
             [
              0.3333333333333333,
              "#9c179e"
             ],
             [
              0.4444444444444444,
              "#bd3786"
             ],
             [
              0.5555555555555556,
              "#d8576b"
             ],
             [
              0.6666666666666666,
              "#ed7953"
             ],
             [
              0.7777777777777778,
              "#fb9f3a"
             ],
             [
              0.8888888888888888,
              "#fdca26"
             ],
             [
              1,
              "#f0f921"
             ]
            ],
            "type": "contour"
           }
          ],
          "contourcarpet": [
           {
            "colorbar": {
             "outlinewidth": 0,
             "ticks": ""
            },
            "type": "contourcarpet"
           }
          ],
          "heatmap": [
           {
            "colorbar": {
             "outlinewidth": 0,
             "ticks": ""
            },
            "colorscale": [
             [
              0,
              "#0d0887"
             ],
             [
              0.1111111111111111,
              "#46039f"
             ],
             [
              0.2222222222222222,
              "#7201a8"
             ],
             [
              0.3333333333333333,
              "#9c179e"
             ],
             [
              0.4444444444444444,
              "#bd3786"
             ],
             [
              0.5555555555555556,
              "#d8576b"
             ],
             [
              0.6666666666666666,
              "#ed7953"
             ],
             [
              0.7777777777777778,
              "#fb9f3a"
             ],
             [
              0.8888888888888888,
              "#fdca26"
             ],
             [
              1,
              "#f0f921"
             ]
            ],
            "type": "heatmap"
           }
          ],
          "heatmapgl": [
           {
            "colorbar": {
             "outlinewidth": 0,
             "ticks": ""
            },
            "colorscale": [
             [
              0,
              "#0d0887"
             ],
             [
              0.1111111111111111,
              "#46039f"
             ],
             [
              0.2222222222222222,
              "#7201a8"
             ],
             [
              0.3333333333333333,
              "#9c179e"
             ],
             [
              0.4444444444444444,
              "#bd3786"
             ],
             [
              0.5555555555555556,
              "#d8576b"
             ],
             [
              0.6666666666666666,
              "#ed7953"
             ],
             [
              0.7777777777777778,
              "#fb9f3a"
             ],
             [
              0.8888888888888888,
              "#fdca26"
             ],
             [
              1,
              "#f0f921"
             ]
            ],
            "type": "heatmapgl"
           }
          ],
          "histogram": [
           {
            "marker": {
             "pattern": {
              "fillmode": "overlay",
              "size": 10,
              "solidity": 0.2
             }
            },
            "type": "histogram"
           }
          ],
          "histogram2d": [
           {
            "colorbar": {
             "outlinewidth": 0,
             "ticks": ""
            },
            "colorscale": [
             [
              0,
              "#0d0887"
             ],
             [
              0.1111111111111111,
              "#46039f"
             ],
             [
              0.2222222222222222,
              "#7201a8"
             ],
             [
              0.3333333333333333,
              "#9c179e"
             ],
             [
              0.4444444444444444,
              "#bd3786"
             ],
             [
              0.5555555555555556,
              "#d8576b"
             ],
             [
              0.6666666666666666,
              "#ed7953"
             ],
             [
              0.7777777777777778,
              "#fb9f3a"
             ],
             [
              0.8888888888888888,
              "#fdca26"
             ],
             [
              1,
              "#f0f921"
             ]
            ],
            "type": "histogram2d"
           }
          ],
          "histogram2dcontour": [
           {
            "colorbar": {
             "outlinewidth": 0,
             "ticks": ""
            },
            "colorscale": [
             [
              0,
              "#0d0887"
             ],
             [
              0.1111111111111111,
              "#46039f"
             ],
             [
              0.2222222222222222,
              "#7201a8"
             ],
             [
              0.3333333333333333,
              "#9c179e"
             ],
             [
              0.4444444444444444,
              "#bd3786"
             ],
             [
              0.5555555555555556,
              "#d8576b"
             ],
             [
              0.6666666666666666,
              "#ed7953"
             ],
             [
              0.7777777777777778,
              "#fb9f3a"
             ],
             [
              0.8888888888888888,
              "#fdca26"
             ],
             [
              1,
              "#f0f921"
             ]
            ],
            "type": "histogram2dcontour"
           }
          ],
          "mesh3d": [
           {
            "colorbar": {
             "outlinewidth": 0,
             "ticks": ""
            },
            "type": "mesh3d"
           }
          ],
          "parcoords": [
           {
            "line": {
             "colorbar": {
              "outlinewidth": 0,
              "ticks": ""
             }
            },
            "type": "parcoords"
           }
          ],
          "pie": [
           {
            "automargin": true,
            "type": "pie"
           }
          ],
          "scatter": [
           {
            "fillpattern": {
             "fillmode": "overlay",
             "size": 10,
             "solidity": 0.2
            },
            "type": "scatter"
           }
          ],
          "scatter3d": [
           {
            "line": {
             "colorbar": {
              "outlinewidth": 0,
              "ticks": ""
             }
            },
            "marker": {
             "colorbar": {
              "outlinewidth": 0,
              "ticks": ""
             }
            },
            "type": "scatter3d"
           }
          ],
          "scattercarpet": [
           {
            "marker": {
             "colorbar": {
              "outlinewidth": 0,
              "ticks": ""
             }
            },
            "type": "scattercarpet"
           }
          ],
          "scattergeo": [
           {
            "marker": {
             "colorbar": {
              "outlinewidth": 0,
              "ticks": ""
             }
            },
            "type": "scattergeo"
           }
          ],
          "scattergl": [
           {
            "marker": {
             "colorbar": {
              "outlinewidth": 0,
              "ticks": ""
             }
            },
            "type": "scattergl"
           }
          ],
          "scattermapbox": [
           {
            "marker": {
             "colorbar": {
              "outlinewidth": 0,
              "ticks": ""
             }
            },
            "type": "scattermapbox"
           }
          ],
          "scatterpolar": [
           {
            "marker": {
             "colorbar": {
              "outlinewidth": 0,
              "ticks": ""
             }
            },
            "type": "scatterpolar"
           }
          ],
          "scatterpolargl": [
           {
            "marker": {
             "colorbar": {
              "outlinewidth": 0,
              "ticks": ""
             }
            },
            "type": "scatterpolargl"
           }
          ],
          "scatterternary": [
           {
            "marker": {
             "colorbar": {
              "outlinewidth": 0,
              "ticks": ""
             }
            },
            "type": "scatterternary"
           }
          ],
          "surface": [
           {
            "colorbar": {
             "outlinewidth": 0,
             "ticks": ""
            },
            "colorscale": [
             [
              0,
              "#0d0887"
             ],
             [
              0.1111111111111111,
              "#46039f"
             ],
             [
              0.2222222222222222,
              "#7201a8"
             ],
             [
              0.3333333333333333,
              "#9c179e"
             ],
             [
              0.4444444444444444,
              "#bd3786"
             ],
             [
              0.5555555555555556,
              "#d8576b"
             ],
             [
              0.6666666666666666,
              "#ed7953"
             ],
             [
              0.7777777777777778,
              "#fb9f3a"
             ],
             [
              0.8888888888888888,
              "#fdca26"
             ],
             [
              1,
              "#f0f921"
             ]
            ],
            "type": "surface"
           }
          ],
          "table": [
           {
            "cells": {
             "fill": {
              "color": "#EBF0F8"
             },
             "line": {
              "color": "white"
             }
            },
            "header": {
             "fill": {
              "color": "#C8D4E3"
             },
             "line": {
              "color": "white"
             }
            },
            "type": "table"
           }
          ]
         },
         "layout": {
          "annotationdefaults": {
           "arrowcolor": "#2a3f5f",
           "arrowhead": 0,
           "arrowwidth": 1
          },
          "autotypenumbers": "strict",
          "coloraxis": {
           "colorbar": {
            "outlinewidth": 0,
            "ticks": ""
           }
          },
          "colorscale": {
           "diverging": [
            [
             0,
             "#8e0152"
            ],
            [
             0.1,
             "#c51b7d"
            ],
            [
             0.2,
             "#de77ae"
            ],
            [
             0.3,
             "#f1b6da"
            ],
            [
             0.4,
             "#fde0ef"
            ],
            [
             0.5,
             "#f7f7f7"
            ],
            [
             0.6,
             "#e6f5d0"
            ],
            [
             0.7,
             "#b8e186"
            ],
            [
             0.8,
             "#7fbc41"
            ],
            [
             0.9,
             "#4d9221"
            ],
            [
             1,
             "#276419"
            ]
           ],
           "sequential": [
            [
             0,
             "#0d0887"
            ],
            [
             0.1111111111111111,
             "#46039f"
            ],
            [
             0.2222222222222222,
             "#7201a8"
            ],
            [
             0.3333333333333333,
             "#9c179e"
            ],
            [
             0.4444444444444444,
             "#bd3786"
            ],
            [
             0.5555555555555556,
             "#d8576b"
            ],
            [
             0.6666666666666666,
             "#ed7953"
            ],
            [
             0.7777777777777778,
             "#fb9f3a"
            ],
            [
             0.8888888888888888,
             "#fdca26"
            ],
            [
             1,
             "#f0f921"
            ]
           ],
           "sequentialminus": [
            [
             0,
             "#0d0887"
            ],
            [
             0.1111111111111111,
             "#46039f"
            ],
            [
             0.2222222222222222,
             "#7201a8"
            ],
            [
             0.3333333333333333,
             "#9c179e"
            ],
            [
             0.4444444444444444,
             "#bd3786"
            ],
            [
             0.5555555555555556,
             "#d8576b"
            ],
            [
             0.6666666666666666,
             "#ed7953"
            ],
            [
             0.7777777777777778,
             "#fb9f3a"
            ],
            [
             0.8888888888888888,
             "#fdca26"
            ],
            [
             1,
             "#f0f921"
            ]
           ]
          },
          "colorway": [
           "#636efa",
           "#EF553B",
           "#00cc96",
           "#ab63fa",
           "#FFA15A",
           "#19d3f3",
           "#FF6692",
           "#B6E880",
           "#FF97FF",
           "#FECB52"
          ],
          "font": {
           "color": "#2a3f5f"
          },
          "geo": {
           "bgcolor": "white",
           "lakecolor": "white",
           "landcolor": "#E5ECF6",
           "showlakes": true,
           "showland": true,
           "subunitcolor": "white"
          },
          "hoverlabel": {
           "align": "left"
          },
          "hovermode": "closest",
          "mapbox": {
           "style": "light"
          },
          "paper_bgcolor": "white",
          "plot_bgcolor": "#E5ECF6",
          "polar": {
           "angularaxis": {
            "gridcolor": "white",
            "linecolor": "white",
            "ticks": ""
           },
           "bgcolor": "#E5ECF6",
           "radialaxis": {
            "gridcolor": "white",
            "linecolor": "white",
            "ticks": ""
           }
          },
          "scene": {
           "xaxis": {
            "backgroundcolor": "#E5ECF6",
            "gridcolor": "white",
            "gridwidth": 2,
            "linecolor": "white",
            "showbackground": true,
            "ticks": "",
            "zerolinecolor": "white"
           },
           "yaxis": {
            "backgroundcolor": "#E5ECF6",
            "gridcolor": "white",
            "gridwidth": 2,
            "linecolor": "white",
            "showbackground": true,
            "ticks": "",
            "zerolinecolor": "white"
           },
           "zaxis": {
            "backgroundcolor": "#E5ECF6",
            "gridcolor": "white",
            "gridwidth": 2,
            "linecolor": "white",
            "showbackground": true,
            "ticks": "",
            "zerolinecolor": "white"
           }
          },
          "shapedefaults": {
           "line": {
            "color": "#2a3f5f"
           }
          },
          "ternary": {
           "aaxis": {
            "gridcolor": "white",
            "linecolor": "white",
            "ticks": ""
           },
           "baxis": {
            "gridcolor": "white",
            "linecolor": "white",
            "ticks": ""
           },
           "bgcolor": "#E5ECF6",
           "caxis": {
            "gridcolor": "white",
            "linecolor": "white",
            "ticks": ""
           }
          },
          "title": {
           "x": 0.05
          },
          "xaxis": {
           "automargin": true,
           "gridcolor": "white",
           "linecolor": "white",
           "ticks": "",
           "title": {
            "standoff": 15
           },
           "zerolinecolor": "white",
           "zerolinewidth": 2
          },
          "yaxis": {
           "automargin": true,
           "gridcolor": "white",
           "linecolor": "white",
           "ticks": "",
           "title": {
            "standoff": 15
           },
           "zerolinecolor": "white",
           "zerolinewidth": 2
          }
         }
        },
        "title": {
         "font": {
          "size": 20
         },
         "text": "Literacy Rates in KERALA"
        },
        "width": 1000,
        "xaxis": {
         "anchor": "y",
         "domain": [
          0,
          1
         ],
         "title": {
          "text": "District Name"
         }
        },
        "xaxis2": {
         "anchor": "y2",
         "domain": [
          0,
          1
         ]
        },
        "yaxis": {
         "anchor": "x",
         "domain": [
          0.575,
          1
         ],
         "title": {
          "text": "Literacy Rate (%)"
         }
        },
        "yaxis2": {
         "anchor": "x2",
         "domain": [
          0,
          0.425
         ]
        }
       }
      }
     },
     "metadata": {},
     "output_type": "display_data"
    }
   ],
   "source": [
    "def maleFemaleLiteracyRate(state):\n",
    "    filter1 = NewDf[NewDf['State name'] == str(state)]\n",
    "\n",
    "    # Calculate literacy rates\n",
    "    filter1['Male_Literacy_Rate'] = ((filter1['Male_Literate'] / filter1['Male']) * 100).round()\n",
    "    filter1['Female_Literacy_Rate'] = ((filter1['Female_Literate'] / filter1['Female']) * 100).round()\n",
    "\n",
    "    # Create separate bar charts\n",
    "    fig1 = px.bar(filter1,\n",
    "                  x='District name',\n",
    "                  y='Male_Literacy_Rate',\n",
    "                  hover_name='District name',\n",
    "                  text_auto=True,\n",
    "                  title='Male Literacy Rate',\n",
    "                  color_discrete_sequence=['#1f77b4'])  # Blue for male literacy\n",
    "\n",
    "    fig2 = px.bar(filter1,\n",
    "                  x='District name',\n",
    "                  y='Female_Literacy_Rate',\n",
    "                  text_auto=True,\n",
    "                  hover_name='District name',\n",
    "                  title='Female Literacy Rate',\n",
    "                  color_discrete_sequence=['#ff7f0e'])  # Orange for female literacy\n",
    "\n",
    "    # Combine the charts into subplots\n",
    "    fig = make_subplots(\n",
    "        rows=2,\n",
    "        cols=1,\n",
    "        subplot_titles=[\n",
    "            'Male Literacy Rate by District',\n",
    "            'Female Literacy Rate by District'\n",
    "        ],\n",
    "        vertical_spacing=0.15  # Adjust spacing between subplots\n",
    "    )\n",
    "\n",
    "    # Add traces from individual figures\n",
    "    for trace in fig1.data:\n",
    "        fig.add_trace(trace, row=1, col=1)\n",
    "\n",
    "    for trace in fig2.data:\n",
    "        fig.add_trace(trace, row=2, col=1)\n",
    "\n",
    "    # Update layout for the combined figure\n",
    "    fig.update_layout(\n",
    "        height=800,\n",
    "        width=1000,\n",
    "        title_text=f'Literacy Rates in {state}',\n",
    "        showlegend=False,\n",
    "        xaxis_title='District Name',\n",
    "        yaxis_title='Literacy Rate (%)',\n",
    "        font=dict(family='Arial, sans-serif', size=12),\n",
    "        title_font=dict(size=20),\n",
    "        margin=dict(t=50, b=50),\n",
    "        plot_bgcolor='#f9f9f9',\n",
    "        paper_bgcolor='#f9f9f9',\n",
    "    )\n",
    "\n",
    "    # Add hover tooltips for better interactivity\n",
    "    fig.update_traces(\n",
    "        hovertemplate=\"<b>%{x}</b><br>Rate: %{y:.2f}%\"\n",
    "    )\n",
    "\n",
    "    # Show the combined graph\n",
    "    fig.show()\n",
    "\n",
    "\n",
    "\n",
    "maleFemaleLiteracyRate('KERALA')"
   ]
  }
 ],
 "metadata": {
  "kernelspec": {
   "display_name": "myenv",
   "language": "python",
   "name": "python3"
  },
  "language_info": {
   "codemirror_mode": {
    "name": "ipython",
    "version": 3
   },
   "file_extension": ".py",
   "mimetype": "text/x-python",
   "name": "python",
   "nbconvert_exporter": "python",
   "pygments_lexer": "ipython3",
   "version": "3.12.7"
  }
 },
 "nbformat": 4,
 "nbformat_minor": 2
}
